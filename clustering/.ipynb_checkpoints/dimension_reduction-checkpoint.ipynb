{
 "cells": [
  {
   "cell_type": "code",
   "execution_count": 2,
   "metadata": {},
   "outputs": [],
   "source": [
    "import pandas as pd\n",
    "import seaborn as sb\n",
    "import matplotlib.pyplot as plt\n",
    "from sklearn.feature_extraction.text import CountVectorizer\n",
    "from sklearn.feature_extraction.text import TfidfTransformer, TfidfVectorizer\n",
    "from sklearn.decomposition import TruncatedSVD\n",
    "from sklearn.manifold import TSNE\n",
    "pd.set_option('display.max_colwidth', 60)\n",
    "pd.set_option('display.min_rows', 10)\n",
    "pd.set_option('display.max_rows', 10)"
   ]
  },
  {
   "cell_type": "code",
   "execution_count": 4,
   "metadata": {},
   "outputs": [],
   "source": [
    "root = \"/home/lolodino77/Documents/projets_ia/projet_philo_pedobaptisme\"\n",
    "corpus = pd.read_parquet(root + \"/data.parquet\", engine=\"fastparquet\")\n",
    "corpus = corpus.sample(frac=1).reset_index(drop=True)"
   ]
  },
  {
   "cell_type": "code",
   "execution_count": 5,
   "metadata": {},
   "outputs": [
    {
     "data": {
      "text/html": [
       "<div>\n",
       "<style scoped>\n",
       "    .dataframe tbody tr th:only-of-type {\n",
       "        vertical-align: middle;\n",
       "    }\n",
       "\n",
       "    .dataframe tbody tr th {\n",
       "        vertical-align: top;\n",
       "    }\n",
       "\n",
       "    .dataframe thead th {\n",
       "        text-align: right;\n",
       "    }\n",
       "</style>\n",
       "<table border=\"1\" class=\"dataframe\">\n",
       "  <thead>\n",
       "    <tr style=\"text-align: right;\">\n",
       "      <th></th>\n",
       "      <th>id</th>\n",
       "      <th>message</th>\n",
       "      <th>message_preprocessed</th>\n",
       "      <th>category</th>\n",
       "      <th>length</th>\n",
       "    </tr>\n",
       "  </thead>\n",
       "  <tbody>\n",
       "    <tr>\n",
       "      <th>0</th>\n",
       "      <td>0</td>\n",
       "      <td>C’est un des articles fondamentaux de notre foi, celui q...</td>\n",
       "      <td>cest article fondamentaux foi celui sépare entre autre l...</td>\n",
       "      <td>philosophy</td>\n",
       "      <td>572</td>\n",
       "    </tr>\n",
       "    <tr>\n",
       "      <th>1</th>\n",
       "      <td>1</td>\n",
       "      <td>L’excellente recension de Joseph Minich : [Kingdom Throu...</td>\n",
       "      <td>lexcellente recension joseph minich kingdom through cove...</td>\n",
       "      <td>baptism</td>\n",
       "      <td>188</td>\n",
       "    </tr>\n",
       "    <tr>\n",
       "      <th>2</th>\n",
       "      <td>2</td>\n",
       "      <td>* ![Maxime N. Georgel](https://secure.gravatar.c...</td>\n",
       "      <td>maxime georgelhttpssecuregravatarcomavatarecbbeccefdedea...</td>\n",
       "      <td>baptism</td>\n",
       "      <td>113</td>\n",
       "    </tr>\n",
       "    <tr>\n",
       "      <th>3</th>\n",
       "      <td>3</td>\n",
       "      <td>Cyprien était un évêque nord-africain influent qui parti...</td>\n",
       "      <td>cyprien évêque nord-africain influent participa plusieur...</td>\n",
       "      <td>baptism</td>\n",
       "      <td>784</td>\n",
       "    </tr>\n",
       "    <tr>\n",
       "      <th>4</th>\n",
       "      <td>4</td>\n",
       "      <td>A ceci près que s’il y a effectivement des noms de Dieu ...</td>\n",
       "      <td>a ceci près a effectivement nom dieu pur métaphore lion ...</td>\n",
       "      <td>philosophy</td>\n",
       "      <td>523</td>\n",
       "    </tr>\n",
       "    <tr>\n",
       "      <th>...</th>\n",
       "      <td>...</td>\n",
       "      <td>...</td>\n",
       "      <td>...</td>\n",
       "      <td>...</td>\n",
       "      <td>...</td>\n",
       "    </tr>\n",
       "    <tr>\n",
       "      <th>8223</th>\n",
       "      <td>8223</td>\n",
       "      <td>8) « si le baptême des enfants étaient vraiment une chos...</td>\n",
       "      <td>« si baptême enfant vraiment chose institué christ pense...</td>\n",
       "      <td>baptism</td>\n",
       "      <td>631</td>\n",
       "    </tr>\n",
       "    <tr>\n",
       "      <th>8224</th>\n",
       "      <td>8224</td>\n",
       "      <td>### Une « synthèse monstrueuse » de l’idéalisme et du Ch...</td>\n",
       "      <td>« synthèse monstrueuse » idéalisme christ</td>\n",
       "      <td>philosophy</td>\n",
       "      <td>60</td>\n",
       "    </tr>\n",
       "    <tr>\n",
       "      <th>8225</th>\n",
       "      <td>8225</td>\n",
       "      <td>&gt; Il ne s’agit pas ici de contredire l’Ecriture, mais de...</td>\n",
       "      <td>agit ici contredire ecriture simplement affirmer limite ...</td>\n",
       "      <td>philosophy</td>\n",
       "      <td>218</td>\n",
       "    </tr>\n",
       "    <tr>\n",
       "      <th>8226</th>\n",
       "      <td>8226</td>\n",
       "      <td>Dieu ne peut pas annuler le passé et faire que cette cho...</td>\n",
       "      <td>dieu peut annuler passé faire cette chose peut faire que...</td>\n",
       "      <td>philosophy</td>\n",
       "      <td>330</td>\n",
       "    </tr>\n",
       "    <tr>\n",
       "      <th>8227</th>\n",
       "      <td>8227</td>\n",
       "      <td>&gt; Etant asservis au péché de par notre nature corrompue,...</td>\n",
       "      <td>etant asservis péché nature corrompue croyons cette foi ...</td>\n",
       "      <td>baptism</td>\n",
       "      <td>1092</td>\n",
       "    </tr>\n",
       "  </tbody>\n",
       "</table>\n",
       "<p>8228 rows × 5 columns</p>\n",
       "</div>"
      ],
      "text/plain": [
       "        id                                                      message  \\\n",
       "0        0  C’est un des articles fondamentaux de notre foi, celui q...   \n",
       "1        1  L’excellente recension de Joseph Minich : [Kingdom Throu...   \n",
       "2        2          * ![Maxime N. Georgel](https://secure.gravatar.c...   \n",
       "3        3  Cyprien était un évêque nord-africain influent qui parti...   \n",
       "4        4  A ceci près que s’il y a effectivement des noms de Dieu ...   \n",
       "...    ...                                                          ...   \n",
       "8223  8223  8) « si le baptême des enfants étaient vraiment une chos...   \n",
       "8224  8224  ### Une « synthèse monstrueuse » de l’idéalisme et du Ch...   \n",
       "8225  8225  > Il ne s’agit pas ici de contredire l’Ecriture, mais de...   \n",
       "8226  8226  Dieu ne peut pas annuler le passé et faire que cette cho...   \n",
       "8227  8227  > Etant asservis au péché de par notre nature corrompue,...   \n",
       "\n",
       "                                             message_preprocessed    category  \\\n",
       "0     cest article fondamentaux foi celui sépare entre autre l...  philosophy   \n",
       "1     lexcellente recension joseph minich kingdom through cove...     baptism   \n",
       "2     maxime georgelhttpssecuregravatarcomavatarecbbeccefdedea...     baptism   \n",
       "3     cyprien évêque nord-africain influent participa plusieur...     baptism   \n",
       "4     a ceci près a effectivement nom dieu pur métaphore lion ...  philosophy   \n",
       "...                                                           ...         ...   \n",
       "8223  « si baptême enfant vraiment chose institué christ pense...     baptism   \n",
       "8224                    « synthèse monstrueuse » idéalisme christ  philosophy   \n",
       "8225  agit ici contredire ecriture simplement affirmer limite ...  philosophy   \n",
       "8226  dieu peut annuler passé faire cette chose peut faire que...  philosophy   \n",
       "8227  etant asservis péché nature corrompue croyons cette foi ...     baptism   \n",
       "\n",
       "      length  \n",
       "0        572  \n",
       "1        188  \n",
       "2        113  \n",
       "3        784  \n",
       "4        523  \n",
       "...      ...  \n",
       "8223     631  \n",
       "8224      60  \n",
       "8225     218  \n",
       "8226     330  \n",
       "8227    1092  \n",
       "\n",
       "[8228 rows x 5 columns]"
      ]
     },
     "execution_count": 5,
     "metadata": {},
     "output_type": "execute_result"
    }
   ],
   "source": [
    "corpus[\"id\"] = list(range(len(corpus)))\n",
    "corpus = corpus.sort_values(\"id\")\n",
    "corpus"
   ]
  },
  {
   "cell_type": "code",
   "execution_count": null,
   "metadata": {},
   "outputs": [],
   "source": [
    "#Verifier qu'il n'y a pas d'id en doublon\n",
    "print(corpus.id.duplicated().any())\n",
    "print(corpus.index.duplicated().any())"
   ]
  },
  {
   "cell_type": "code",
   "execution_count": null,
   "metadata": {},
   "outputs": [],
   "source": [
    "sb.histplot(data=corpus, x=\"length\")\n",
    "plt.xlim(0, 600)"
   ]
  },
  {
   "cell_type": "code",
   "execution_count": 6,
   "metadata": {},
   "outputs": [],
   "source": [
    "X = corpus[\"message_preprocessed\"]\n",
    "y = corpus[\"category\"]"
   ]
  },
  {
   "cell_type": "code",
   "execution_count": 7,
   "metadata": {},
   "outputs": [],
   "source": [
    "count_vect = CountVectorizer()\n",
    "X_counts = count_vect.fit_transform(X)\n",
    "\n",
    "# transform a count matrix to a normalized tf-idf representation (tf-idf transformer)\n",
    "tfidf_transformer = TfidfTransformer()\n",
    "X_tfidf = tfidf_transformer.fit_transform(X_counts)"
   ]
  },
  {
   "cell_type": "code",
   "execution_count": null,
   "metadata": {},
   "outputs": [],
   "source": [
    "# Methode 2 : TfidfVectorizer (CountVectorizer + TfidfTransformer en meme temps)\n",
    "tfidf_vect = TfidfVectorizer()\n",
    "X_tfidf = tfidf_vect.fit_transform(X)\n",
    "tfidf_vect.get_feature_names_out()"
   ]
  },
  {
   "cell_type": "markdown",
   "metadata": {},
   "source": [
    "# Reduction de dimensions pour potentiellement observer des clusters"
   ]
  },
  {
   "cell_type": "code",
   "execution_count": null,
   "metadata": {
    "scrolled": true
   },
   "outputs": [],
   "source": [
    "print(\"number of dimensions at the beginninig =\", X_tfidf.shape)"
   ]
  },
  {
   "cell_type": "markdown",
   "metadata": {},
   "source": [
    "TruncatedSVD"
   ]
  },
  {
   "cell_type": "code",
   "execution_count": null,
   "metadata": {},
   "outputs": [],
   "source": [
    "svd = TruncatedSVD(n_components=50, n_iter=7, random_state=42)\n",
    "svd.fit(X_tfidf)"
   ]
  },
  {
   "cell_type": "code",
   "execution_count": null,
   "metadata": {},
   "outputs": [],
   "source": [
    "print(svd)"
   ]
  },
  {
   "cell_type": "code",
   "execution_count": null,
   "metadata": {},
   "outputs": [],
   "source": [
    "print(svd.explained_variance_ratio_)\n",
    "\n",
    "print(svd.explained_variance_ratio_.sum() * 100)\n",
    "\n",
    "print(svd.singular_values_)"
   ]
  },
  {
   "cell_type": "markdown",
   "metadata": {},
   "source": [
    "TSNE"
   ]
  },
  {
   "cell_type": "code",
   "execution_count": 18,
   "metadata": {},
   "outputs": [
    {
     "ename": "AttributeError",
     "evalue": "index not found",
     "output_type": "error",
     "traceback": [
      "\u001b[0;31m---------------------------------------------------------------------------\u001b[0m",
      "\u001b[0;31mAttributeError\u001b[0m                            Traceback (most recent call last)",
      "Input \u001b[0;32mIn [18]\u001b[0m, in \u001b[0;36m<cell line: 2>\u001b[0;34m()\u001b[0m\n\u001b[1;32m      1\u001b[0m X_tfidf\u001b[38;5;241m.\u001b[39mshape\n\u001b[0;32m----> 2\u001b[0m \u001b[43mX_tfidf\u001b[49m\u001b[43m[\u001b[49m\u001b[43m:\u001b[49m\u001b[38;5;241;43m100\u001b[39;49m\u001b[43m,\u001b[49m\u001b[43m:\u001b[49m\u001b[43m]\u001b[49m\u001b[38;5;241;43m.\u001b[39;49m\u001b[43mindex\u001b[49m\n",
      "File \u001b[0;32m~/.local/lib/python3.9/site-packages/scipy/sparse/base.py:687\u001b[0m, in \u001b[0;36mspmatrix.__getattr__\u001b[0;34m(self, attr)\u001b[0m\n\u001b[1;32m    685\u001b[0m     \u001b[38;5;28;01mreturn\u001b[39;00m \u001b[38;5;28mself\u001b[39m\u001b[38;5;241m.\u001b[39mgetnnz()\n\u001b[1;32m    686\u001b[0m \u001b[38;5;28;01melse\u001b[39;00m:\n\u001b[0;32m--> 687\u001b[0m     \u001b[38;5;28;01mraise\u001b[39;00m \u001b[38;5;167;01mAttributeError\u001b[39;00m(attr \u001b[38;5;241m+\u001b[39m \u001b[38;5;124m\"\u001b[39m\u001b[38;5;124m not found\u001b[39m\u001b[38;5;124m\"\u001b[39m)\n",
      "\u001b[0;31mAttributeError\u001b[0m: index not found"
     ]
    }
   ],
   "source": [
    "X_tfidf.shape\n",
    "X_tfidf[:100,:]"
   ]
  },
  {
   "cell_type": "code",
   "execution_count": 19,
   "metadata": {},
   "outputs": [
    {
     "name": "stdout",
     "output_type": "stream",
     "text": [
      "[t-SNE] Computing 91 nearest neighbors...\n",
      "[t-SNE] Indexed 100 samples in 0.001s...\n",
      "[t-SNE] Computed neighbors for 100 samples in 0.015s...\n",
      "[t-SNE] Computed conditional probabilities for sample 100 / 100\n",
      "[t-SNE] Mean sigma: 0.259875\n",
      "[t-SNE] KL divergence after 250 iterations with early exaggeration: 53.754280\n",
      "[t-SNE] KL divergence after 1000 iterations: 0.444062\n"
     ]
    }
   ],
   "source": [
    "tsne = TSNE(n_components=2, learning_rate='auto', init='random', perplexity=30, verbose=1)\n",
    "tsne_results = tsne.fit_transform(X_tfidf[:100,:])"
   ]
  },
  {
   "cell_type": "code",
   "execution_count": 22,
   "metadata": {},
   "outputs": [
    {
     "data": {
      "text/plain": [
       "numpy.ndarray"
      ]
     },
     "execution_count": 22,
     "metadata": {},
     "output_type": "execute_result"
    }
   ],
   "source": [
    "type(tsne_results)"
   ]
  },
  {
   "cell_type": "code",
   "execution_count": 23,
   "metadata": {},
   "outputs": [
    {
     "name": "stderr",
     "output_type": "stream",
     "text": [
      "/tmp/ipykernel_8132/2107626130.py:4: SettingWithCopyWarning: \n",
      "A value is trying to be set on a copy of a slice from a DataFrame.\n",
      "Try using .loc[row_indexer,col_indexer] = value instead\n",
      "\n",
      "See the caveats in the documentation: https://pandas.pydata.org/pandas-docs/stable/user_guide/indexing.html#returning-a-view-versus-a-copy\n",
      "  corpus_100[\"tsne_2d_x\"] = tsne_results[:,0]\n",
      "/tmp/ipykernel_8132/2107626130.py:5: SettingWithCopyWarning: \n",
      "A value is trying to be set on a copy of a slice from a DataFrame.\n",
      "Try using .loc[row_indexer,col_indexer] = value instead\n",
      "\n",
      "See the caveats in the documentation: https://pandas.pydata.org/pandas-docs/stable/user_guide/indexing.html#returning-a-view-versus-a-copy\n",
      "  corpus_100[\"tsne_2d_y\"] = tsne_results[:,1]\n"
     ]
    }
   ],
   "source": [
    "#corpus[\"tsne_2d_x\"] = tsne_results[:,0]\n",
    "#corpus[\"tsne_2d_y\"] = tsne_results[:,1]\n",
    "corpus_100 = corpus.iloc[0:100]\n",
    "corpus_100[\"tsne_2d_x\"] = tsne_results[:,0]\n",
    "corpus_100[\"tsne_2d_y\"] = tsne_results[:,1]"
   ]
  },
  {
   "cell_type": "code",
   "execution_count": null,
   "metadata": {},
   "outputs": [
    {
     "data": {
      "text/plain": [
       "<AxesSubplot:xlabel='tsne_2d_x', ylabel='tsne_2d_y'>"
      ]
     },
     "execution_count": 25,
     "metadata": {},
     "output_type": "execute_result"
    }
   ],
   "source": [
    "plt.figure(figsize=(16,10))\n",
    "sb.scatterplot(\n",
    "    x=\"tsne_2d_x\", y=\"tsne_2d_y\",\n",
    "    hue=\"category\",\n",
    "    palette=sb.color_palette(\"hls\", 2),\n",
    "    data=corpus_100,\n",
    ")"
   ]
  },
  {
   "cell_type": "code",
   "execution_count": null,
   "metadata": {},
   "outputs": [],
   "source": [
    "plt.show()"
   ]
  },
  {
   "cell_type": "code",
   "execution_count": null,
   "metadata": {},
   "outputs": [],
   "source": [
    "X_embedded"
   ]
  },
  {
   "cell_type": "code",
   "execution_count": null,
   "metadata": {},
   "outputs": [],
   "source": []
  },
  {
   "cell_type": "code",
   "execution_count": null,
   "metadata": {},
   "outputs": [],
   "source": [
    "# clustering\n",
    "# 1. K means\n",
    "from sklearn.cluster import KMeans\n",
    "kmeans = KMeans(n_clusters=2).fit(X_tfidf)\n"
   ]
  },
  {
   "cell_type": "code",
   "execution_count": null,
   "metadata": {},
   "outputs": [],
   "source": []
  }
 ],
 "metadata": {
  "kernelspec": {
   "display_name": "Python 3 (ipykernel)",
   "language": "python",
   "name": "python3"
  },
  "language_info": {
   "codemirror_mode": {
    "name": "ipython",
    "version": 3
   },
   "file_extension": ".py",
   "mimetype": "text/x-python",
   "name": "python",
   "nbconvert_exporter": "python",
   "pygments_lexer": "ipython3",
   "version": "3.9.2"
  },
  "vscode": {
   "interpreter": {
    "hash": "3e7035cb009caaa59ad2cfefe05d6f0df614ee59b6f1c56d32ef92625aa3dec5"
   }
  }
 },
 "nbformat": 4,
 "nbformat_minor": 2
}
