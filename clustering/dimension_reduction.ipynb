{
 "cells": [
  {
   "cell_type": "code",
   "execution_count": 1,
   "metadata": {},
   "outputs": [],
   "source": [
    "import pandas as pd\n",
    "import seaborn as sb\n",
    "import matplotlib.pyplot as plt\n",
    "from sklearn.feature_extraction.text import CountVectorizer\n",
    "from sklearn.feature_extraction.text import TfidfTransformer, TfidfVectorizer\n",
    "from sklearn.decomposition import TruncatedSVD\n",
    "from sklearn.manifold import TSNE\n",
    "pd.set_option('display.max_colwidth', 60)\n",
    "pd.set_option('display.min_rows', 10)\n",
    "pd.set_option('display.max_rows', 10)"
   ]
  },
  {
   "cell_type": "code",
   "execution_count": 2,
   "metadata": {},
   "outputs": [],
   "source": [
    "from pathlib import Path, PureWindowsPath\n",
    "path = PureWindowsPath(os.path.dirname(os.getcwd()) + \"\\\\data\\\\data.parquet\")\n",
    "path = path.as_posix()\n",
    "corpus = pd.read_parquet(path) #engine=\"fastparquet\"\n",
    "# corpus = pd.read_parquet(os.path.dirname(path), engine=\"fastparquet\")"
   ]
  },
  {
   "cell_type": "code",
   "execution_count": 3,
   "metadata": {},
   "outputs": [
    {
     "data": {
      "text/html": [
       "<div>\n",
       "<style scoped>\n",
       "    .dataframe tbody tr th:only-of-type {\n",
       "        vertical-align: middle;\n",
       "    }\n",
       "\n",
       "    .dataframe tbody tr th {\n",
       "        vertical-align: top;\n",
       "    }\n",
       "\n",
       "    .dataframe thead th {\n",
       "        text-align: right;\n",
       "    }\n",
       "</style>\n",
       "<table border=\"1\" class=\"dataframe\">\n",
       "  <thead>\n",
       "    <tr style=\"text-align: right;\">\n",
       "      <th></th>\n",
       "      <th>id</th>\n",
       "      <th>message</th>\n",
       "      <th>message_preprocessed</th>\n",
       "      <th>category</th>\n",
       "      <th>length</th>\n",
       "    </tr>\n",
       "    <tr>\n",
       "      <th>index</th>\n",
       "      <th></th>\n",
       "      <th></th>\n",
       "      <th></th>\n",
       "      <th></th>\n",
       "      <th></th>\n",
       "    </tr>\n",
       "  </thead>\n",
       "  <tbody>\n",
       "    <tr>\n",
       "      <th>0</th>\n",
       "      <td>0</td>\n",
       "      <td>Nous avons vu [quoi est Dieu](https://parlafoi.fr/2019/0...</td>\n",
       "      <td>vu quoi dieuhttpsparlafoifrles-cinq-voies- de-thomas-daq...</td>\n",
       "      <td>philosophy</td>\n",
       "      <td>667</td>\n",
       "    </tr>\n",
       "    <tr>\n",
       "      <th>1</th>\n",
       "      <td>1</td>\n",
       "      <td>Peut-il faire que les choses passées n’aient pas été ? Non.</td>\n",
       "      <td>peut-il faire chose passée non</td>\n",
       "      <td>philosophy</td>\n",
       "      <td>59</td>\n",
       "    </tr>\n",
       "    <tr>\n",
       "      <th>2</th>\n",
       "      <td>2</td>\n",
       "      <td>Peut-il faire les choses qu’il ne fait pas ou omettre ce...</td>\n",
       "      <td>peut-il faire chose fait omettre celles fait oui</td>\n",
       "      <td>philosophy</td>\n",
       "      <td>78</td>\n",
       "    </tr>\n",
       "    <tr>\n",
       "      <th>3</th>\n",
       "      <td>3</td>\n",
       "      <td>## Article 1 : Y-a-t-il en Dieu de la puissance ?</td>\n",
       "      <td>article y-a-t-il dieu puissance</td>\n",
       "      <td>philosophy</td>\n",
       "      <td>49</td>\n",
       "    </tr>\n",
       "    <tr>\n",
       "      <th>4</th>\n",
       "      <td>4</td>\n",
       "      <td>&gt; On dit dans le psaume 89.9 : « Tu es Puissant Seigneur...</td>\n",
       "      <td>dit psaume « puissant seigneur vérité entoure » thomas a...</td>\n",
       "      <td>philosophy</td>\n",
       "      <td>124</td>\n",
       "    </tr>\n",
       "    <tr>\n",
       "      <th>...</th>\n",
       "      <td>...</td>\n",
       "      <td>...</td>\n",
       "      <td>...</td>\n",
       "      <td>...</td>\n",
       "      <td>...</td>\n",
       "    </tr>\n",
       "    <tr>\n",
       "      <th>8223</th>\n",
       "      <td>8223</td>\n",
       "      <td>Le baptême ne peut être administré que par un pasteur ou...</td>\n",
       "      <td>baptême peut être administré pasteur a commission dès se...</td>\n",
       "      <td>baptism</td>\n",
       "      <td>832</td>\n",
       "    </tr>\n",
       "    <tr>\n",
       "      <th>8224</th>\n",
       "      <td>8224</td>\n",
       "      <td>[![Quand Dieu promet que nos enfants font partie de la N...</td>\n",
       "      <td>quand dieu promet enfant font partie nouvelle allianceht...</td>\n",
       "      <td>baptism</td>\n",
       "      <td>274</td>\n",
       "    </tr>\n",
       "    <tr>\n",
       "      <th>8225</th>\n",
       "      <td>8225</td>\n",
       "      <td>## [Quand Dieu promet que nos enfants font partie de la ...</td>\n",
       "      <td>quand dieu promet enfant font partie nouvelle allianceht...</td>\n",
       "      <td>baptism</td>\n",
       "      <td>178</td>\n",
       "    </tr>\n",
       "    <tr>\n",
       "      <th>8226</th>\n",
       "      <td>8226</td>\n",
       "      <td>1. [Une Défense Exégétique de la Loi Naturelle (2/6) :...</td>\n",
       "      <td>défense exégétique loi naturel ancien testament - foihtt...</td>\n",
       "      <td>baptism</td>\n",
       "      <td>308</td>\n",
       "    </tr>\n",
       "    <tr>\n",
       "      <th>8227</th>\n",
       "      <td>8227</td>\n",
       "      <td>Votre adresse e-mail ne sera pas publiée. Les champs obl...</td>\n",
       "      <td>adresse e-mail publiée champ obligatoires indiqués</td>\n",
       "      <td>baptism</td>\n",
       "      <td>86</td>\n",
       "    </tr>\n",
       "  </tbody>\n",
       "</table>\n",
       "<p>8228 rows × 5 columns</p>\n",
       "</div>"
      ],
      "text/plain": [
       "         id                                                      message  \\\n",
       "index                                                                      \n",
       "0         0  Nous avons vu [quoi est Dieu](https://parlafoi.fr/2019/0...   \n",
       "1         1  Peut-il faire que les choses passées n’aient pas été ? Non.   \n",
       "2         2  Peut-il faire les choses qu’il ne fait pas ou omettre ce...   \n",
       "3         3            ## Article 1 : Y-a-t-il en Dieu de la puissance ?   \n",
       "4         4  > On dit dans le psaume 89.9 : « Tu es Puissant Seigneur...   \n",
       "...     ...                                                          ...   \n",
       "8223   8223  Le baptême ne peut être administré que par un pasteur ou...   \n",
       "8224   8224  [![Quand Dieu promet que nos enfants font partie de la N...   \n",
       "8225   8225  ## [Quand Dieu promet que nos enfants font partie de la ...   \n",
       "8226   8226    1. [Une Défense Exégétique de la Loi Naturelle (2/6) :...   \n",
       "8227   8227  Votre adresse e-mail ne sera pas publiée. Les champs obl...   \n",
       "\n",
       "                                              message_preprocessed  \\\n",
       "index                                                                \n",
       "0      vu quoi dieuhttpsparlafoifrles-cinq-voies- de-thomas-daq...   \n",
       "1                                   peut-il faire chose passée non   \n",
       "2                 peut-il faire chose fait omettre celles fait oui   \n",
       "3                                  article y-a-t-il dieu puissance   \n",
       "4      dit psaume « puissant seigneur vérité entoure » thomas a...   \n",
       "...                                                            ...   \n",
       "8223   baptême peut être administré pasteur a commission dès se...   \n",
       "8224   quand dieu promet enfant font partie nouvelle allianceht...   \n",
       "8225   quand dieu promet enfant font partie nouvelle allianceht...   \n",
       "8226   défense exégétique loi naturel ancien testament - foihtt...   \n",
       "8227            adresse e-mail publiée champ obligatoires indiqués   \n",
       "\n",
       "         category  length  \n",
       "index                      \n",
       "0      philosophy     667  \n",
       "1      philosophy      59  \n",
       "2      philosophy      78  \n",
       "3      philosophy      49  \n",
       "4      philosophy     124  \n",
       "...           ...     ...  \n",
       "8223      baptism     832  \n",
       "8224      baptism     274  \n",
       "8225      baptism     178  \n",
       "8226      baptism     308  \n",
       "8227      baptism      86  \n",
       "\n",
       "[8228 rows x 5 columns]"
      ]
     },
     "execution_count": 3,
     "metadata": {},
     "output_type": "execute_result"
    }
   ],
   "source": [
    "corpus[\"id\"] = list(range(len(corpus)))\n",
    "corpus = corpus.sort_values(\"id\")\n",
    "corpus"
   ]
  },
  {
   "cell_type": "code",
   "execution_count": 5,
   "metadata": {},
   "outputs": [
    {
     "name": "stdout",
     "output_type": "stream",
     "text": [
      "False\n",
      "False\n"
     ]
    }
   ],
   "source": [
    "#Verifier qu'il n'y a pas d'id en doublon\n",
    "print(corpus.id.duplicated().any())\n",
    "print(corpus.index.duplicated().any())"
   ]
  },
  {
   "cell_type": "code",
   "execution_count": 5,
   "metadata": {},
   "outputs": [
    {
     "data": {
      "text/plain": [
       "(0.0, 600.0)"
      ]
     },
     "execution_count": 5,
     "metadata": {},
     "output_type": "execute_result"
    },
    {
     "data": {
      "image/png": "[encoded data removed]",
      "text/plain": [
       "<Figure size 432x288 with 1 Axes>"
      ]
     },
     "metadata": {
      "needs_background": "light"
     },
     "output_type": "display_data"
    }
   ],
   "source": [
    "sb.histplot(data=corpus, x=\"length\")\n",
    "plt.xlim(0, 600)"
   ]
  },
  {
   "cell_type": "code",
   "execution_count": 6,
   "metadata": {},
   "outputs": [],
   "source": [
    "X = corpus[\"message_preprocessed\"]\n",
    "y = corpus[\"category\"]"
   ]
  },
  {
   "cell_type": "code",
   "execution_count": 7,
   "metadata": {},
   "outputs": [],
   "source": [
    "count_vect = CountVectorizer()\n",
    "X_counts = count_vect.fit_transform(X)\n",
    "\n",
    "# transform a count matrix to a normalized tf-idf representation (tf-idf transformer)\n",
    "tfidf_transformer = TfidfTransformer()\n",
    "X_tfidf = tfidf_transformer.fit_transform(X_counts)"
   ]
  },
  {
   "cell_type": "code",
   "execution_count": 8,
   "metadata": {},
   "outputs": [
    {
     "data": {
      "text/plain": [
       "array(['aaaayaajpgpadqthechildofthecovenantorhowchristianparentsshouldtrainuptheirhouseholds',\n",
       "       'aaen', 'aaron', ..., 'טבל', 'יהוה', 'ἔθνη'], dtype=object)"
      ]
     },
     "execution_count": 8,
     "metadata": {},
     "output_type": "execute_result"
    }
   ],
   "source": [
    "# Methode 2 : TfidfVectorizer (CountVectorizer + TfidfTransformer en meme temps)\n",
    "tfidf_vect = TfidfVectorizer()\n",
    "X_tfidf = tfidf_vect.fit_transform(X)\n",
    "tfidf_vect.get_feature_names_out()"
   ]
  },
  {
   "cell_type": "markdown",
   "metadata": {},
   "source": [
    "# Reduction de dimensions pour potentiellement observer des clusters"
   ]
  },
  {
   "cell_type": "code",
   "execution_count": 9,
   "metadata": {
    "scrolled": true
   },
   "outputs": [
    {
     "name": "stdout",
     "output_type": "stream",
     "text": [
      "number of dimensions at the beginninig = (8228, 12950)\n"
     ]
    }
   ],
   "source": [
    "print(\"number of dimensions at the beginninig =\", X_tfidf.shape)"
   ]
  },
  {
   "cell_type": "markdown",
   "metadata": {},
   "source": [
    "TruncatedSVD"
   ]
  },
  {
   "cell_type": "code",
   "execution_count": 10,
   "metadata": {},
   "outputs": [
    {
     "data": {
      "text/plain": [
       "TruncatedSVD(n_components=50, n_iter=7, random_state=42)"
      ]
     },
     "execution_count": 10,
     "metadata": {},
     "output_type": "execute_result"
    }
   ],
   "source": [
    "svd = TruncatedSVD(n_components=50, n_iter=7, random_state=42)\n",
    "svd.fit(X_tfidf)"
   ]
  },
  {
   "cell_type": "code",
   "execution_count": 11,
   "metadata": {},
   "outputs": [
    {
     "name": "stdout",
     "output_type": "stream",
     "text": [
      "TruncatedSVD(n_components=50, n_iter=7, random_state=42)\n"
     ]
    }
   ],
   "source": [
    "print(svd)"
   ]
  },
  {
   "cell_type": "code",
   "execution_count": 12,
   "metadata": {},
   "outputs": [
    {
     "name": "stdout",
     "output_type": "stream",
     "text": [
      "[0.02214204 0.02849171 0.01336819 0.01472108 0.01406072 0.01338853\n",
      " 0.01105526 0.00972424 0.00990406 0.00944134 0.00910863 0.00894204\n",
      " 0.00857061 0.00832532 0.00776985 0.00756577 0.00754262 0.00751287\n",
      " 0.00739972 0.00718058 0.00702441 0.00674667 0.00657273 0.00644061\n",
      " 0.00639934 0.00629671 0.00613635 0.00595706 0.00596562 0.00576104\n",
      " 0.00563067 0.00552652 0.00550686 0.00535603 0.0051754  0.00505772\n",
      " 0.00498611 0.00478817 0.00473083 0.00444365 0.00424923 0.00403142\n",
      " 0.00391575 0.00356473 0.00344031 0.00327085 0.00322189 0.00321166\n",
      " 0.00312343 0.00286322]\n",
      "37.561015626925794\n",
      "[17.82468612 15.313556   11.66360612 10.88488949 10.72223222 10.40073305\n",
      "  9.50216317  9.12775189  8.9241919   8.73023252  8.62541223  8.49764184\n",
      "  8.30032523  8.19687033  7.90363219  7.89231657  7.80032949  7.77683297\n",
      "  7.73149305  7.59755524  7.51597253  7.36439978  7.26880877  7.19567908\n",
      "  7.17590934  7.11501974  7.02314316  6.93569973  6.92963247  6.80958314\n",
      "  6.73059326  6.7136569   6.656341    6.56142982  6.4509382   6.37625543\n",
      "  6.33590624  6.20576688  6.16711463  5.97653321  5.85133267  5.70201213\n",
      "  5.61677264  5.35731902  5.26377207  5.13934429  5.09004268  5.08187927\n",
      "  5.01644242  4.79837259]\n"
     ]
    }
   ],
   "source": [
    "print(svd.explained_variance_ratio_)\n",
    "\n",
    "print(svd.explained_variance_ratio_.sum() * 100)\n",
    "\n",
    "print(svd.singular_values_)"
   ]
  },
  {
   "cell_type": "markdown",
   "metadata": {},
   "source": [
    "TSNE"
   ]
  },
  {
   "cell_type": "code",
   "execution_count": 13,
   "metadata": {},
   "outputs": [
    {
     "data": {
      "text/plain": [
       "<100x12950 sparse matrix of type '<class 'numpy.float64'>'\n",
       "\twith 2053 stored elements in Compressed Sparse Row format>"
      ]
     },
     "execution_count": 13,
     "metadata": {},
     "output_type": "execute_result"
    }
   ],
   "source": [
    "X_tfidf.shape\n",
    "X_tfidf[:100,:]"
   ]
  },
  {
   "cell_type": "code",
   "execution_count": 14,
   "metadata": {},
   "outputs": [
    {
     "name": "stdout",
     "output_type": "stream",
     "text": [
      "[t-SNE] Computing 91 nearest neighbors...\n",
      "[t-SNE] Indexed 100 samples in 0.001s...\n",
      "[t-SNE] Computed neighbors for 100 samples in 0.022s...\n",
      "[t-SNE] Computed conditional probabilities for sample 100 / 100\n",
      "[t-SNE] Mean sigma: 0.264669\n",
      "[t-SNE] KL divergence after 250 iterations with early exaggeration: 51.122452\n",
      "[t-SNE] KL divergence after 1000 iterations: 0.522885\n"
     ]
    }
   ],
   "source": [
    "tsne = TSNE(n_components=2, learning_rate='auto', init='random', perplexity=30, verbose=1)\n",
    "tsne_results = tsne.fit_transform(X_tfidf[:100,:])"
   ]
  },
  {
   "cell_type": "code",
   "execution_count": 15,
   "metadata": {},
   "outputs": [
    {
     "data": {
      "text/plain": [
       "numpy.ndarray"
      ]
     },
     "execution_count": 15,
     "metadata": {},
     "output_type": "execute_result"
    }
   ],
   "source": [
    "type(tsne_results)"
   ]
  },
  {
   "cell_type": "code",
   "execution_count": 16,
   "metadata": {},
   "outputs": [
    {
     "name": "stderr",
     "output_type": "stream",
     "text": [
      "/tmp/ipykernel_17256/2107626130.py:4: SettingWithCopyWarning: \n",
      "A value is trying to be set on a copy of a slice from a DataFrame.\n",
      "Try using .loc[row_indexer,col_indexer] = value instead\n",
      "\n",
      "See the caveats in the documentation: https://pandas.pydata.org/pandas-docs/stable/user_guide/indexing.html#returning-a-view-versus-a-copy\n",
      "  corpus_100[\"tsne_2d_x\"] = tsne_results[:,0]\n",
      "/tmp/ipykernel_17256/2107626130.py:5: SettingWithCopyWarning: \n",
      "A value is trying to be set on a copy of a slice from a DataFrame.\n",
      "Try using .loc[row_indexer,col_indexer] = value instead\n",
      "\n",
      "See the caveats in the documentation: https://pandas.pydata.org/pandas-docs/stable/user_guide/indexing.html#returning-a-view-versus-a-copy\n",
      "  corpus_100[\"tsne_2d_y\"] = tsne_results[:,1]\n"
     ]
    }
   ],
   "source": [
    "#corpus[\"tsne_2d_x\"] = tsne_results[:,0]\n",
    "#corpus[\"tsne_2d_y\"] = tsne_results[:,1]\n",
    "corpus_100 = corpus.iloc[0:100]\n",
    "corpus_100[\"tsne_2d_x\"] = tsne_results[:,0]\n",
    "corpus_100[\"tsne_2d_y\"] = tsne_results[:,1]"
   ]
  },
  {
   "cell_type": "code",
   "execution_count": null,
   "metadata": {},
   "outputs": [
    {
     "data": {
      "text/plain": [
       "<AxesSubplot:xlabel='tsne_2d_x', ylabel='tsne_2d_y'>"
      ]
     },
     "execution_count": 17,
     "metadata": {},
     "output_type": "execute_result"
    }
   ],
   "source": [
    "plt.figure(figsize=(16,10))\n",
    "sb.scatterplot(\n",
    "    x=\"tsne_2d_x\", y=\"tsne_2d_y\",\n",
    "    hue=\"category\",\n",
    "    palette=sb.color_palette(\"hls\", 2),\n",
    "    data=corpus_100,\n",
    "    legend=\"auto\",\n",
    "    alpha=0.3\n",
    ")"
   ]
  },
  {
   "cell_type": "code",
   "execution_count": null,
   "metadata": {},
   "outputs": [],
   "source": [
    "plt.show()"
   ]
  },
  {
   "cell_type": "code",
   "execution_count": null,
   "metadata": {},
   "outputs": [],
   "source": [
    "X_embedded"
   ]
  },
  {
   "cell_type": "code",
   "execution_count": null,
   "metadata": {},
   "outputs": [],
   "source": []
  },
  {
   "cell_type": "code",
   "execution_count": null,
   "metadata": {},
   "outputs": [],
   "source": [
    "# clustering\n",
    "# 1. K means\n",
    "from sklearn.cluster import KMeans\n",
    "kmeans = KMeans(n_clusters=2).fit(X_tfidf)\n"
   ]
  },
  {
   "cell_type": "code",
   "execution_count": null,
   "metadata": {},
   "outputs": [],
   "source": []
  }
 ],
 "metadata": {
  "kernelspec": {
   "display_name": "Python 3.7.0 64-bit ('Miniconda3')",
   "language": "python",
   "name": "python3"
  },
  "language_info": {
   "codemirror_mode": {
    "name": "ipython",
    "version": 3
   },
   "file_extension": ".py",
   "mimetype": "text/x-python",
   "name": "python",
   "nbconvert_exporter": "python",
   "pygments_lexer": "ipython3",
   "version": "3.7.0"
  },
  "vscode": {
   "interpreter": {
    "hash": "6c11a99f7cfac4e8c225a1406496bfd60561a219f2182c6a0d1d98a41c340fb0"
   }
  }
 },
 "nbformat": 4,
 "nbformat_minor": 2
}
