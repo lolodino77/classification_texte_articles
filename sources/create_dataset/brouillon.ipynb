{
 "cells": [
  {
   "cell_type": "code",
   "execution_count": 1,
   "metadata": {},
   "outputs": [],
   "source": [
    "from lib_bibliography_creation import *"
   ]
  },
  {
   "cell_type": "code",
   "execution_count": 2,
   "metadata": {},
   "outputs": [
    {
     "name": "stdout",
     "output_type": "stream",
     "text": [
      "sitemap_contents = ['Sitemap: https://edwardfeser.blogspot.com/sitemap.xml']\n",
      "len(urls) = 1421\n"
     ]
    }
   ],
   "source": [
    "# blog_name = \"https://parlafoi.fr\"\n",
    "blog_name = \"https://edwardfeser.blogspot.com\"\n",
    "# blog_name = \"http://alexanderpruss.blogspot.com/\"\n",
    "sitemap_page = get_sitemap_page(blog_name)\n",
    "urls_sitemap = get_sitemap_from_main_sitemap(sitemap_page)\n",
    "urls = get_urls_from_all_sitemap_subpages(urls_sitemap)\n",
    "print(\"len(urls) =\", len(urls))\n",
    "# urls\n"
   ]
  },
  {
   "cell_type": "code",
   "execution_count": 3,
   "metadata": {},
   "outputs": [
    {
     "name": "stdout",
     "output_type": "stream",
     "text": [
      "os.getcwd() at root = C:\\Users\\eupho\\OneDrive\\Documents\\perso\\projets\\classification_texte_bapteme_philo\n"
     ]
    }
   ],
   "source": [
    "import sys\n",
    "from pathlib import Path, PureWindowsPath\n",
    "sys.path.append(PureWindowsPath(r\"C:\\Users\\eupho\\OneDrive\\Documents\\perso\\projets\\classification_texte_bapteme_philo\\sources\").as_posix())\n",
    "from lib_general import *\n",
    "\n",
    "set_current_directory_to_root(root = \"classification_texte_bapteme_philo\")\n",
    "print(\"os.getcwd() at root =\", os.getcwd())"
   ]
  },
  {
   "cell_type": "code",
   "execution_count": 4,
   "metadata": {},
   "outputs": [],
   "source": [
    "blog_name = \"https://edwardfeser.blogspot.com\"\n",
    "# blog_name = \"http://alexanderpruss.blogspot.com/\"\n",
    "blog_name = \"https://majestyofreason.wordpress.com/\"\n",
    "\n",
    "write_bibliography_of_an_entire_blog(blog_name, urls)\n",
    "\n",
    "# author = get_author_from_blog_name(blog_name)\n",
    "# # print(\"author_name =\", author_name)\n",
    "# bibliography_name = \"./data/input/bibliographies/bibliography_{}.txt\".format(author)\n",
    "# f = open(bibliography_name, \"w\")\n",
    "# for url in urls:\n",
    "#     f.write(url + \"\\n\")\n",
    "# f.close()\n"
   ]
  },
  {
   "cell_type": "code",
   "execution_count": 6,
   "metadata": {},
   "outputs": [
    {
     "name": "stdout",
     "output_type": "stream",
     "text": [
      "blog = https://edwardfeser.blogspot.com\n",
      "sitemap_contents = ['Sitemap: https://edwardfeser.blogspot.com/sitemap.xml']\n",
      "blog = http://alexanderpruss.blogspot.com\n",
      "sitemap_contents = ['Sitemap: http://alexanderpruss.blogspot.com/sitemap.xml']\n"
     ]
    }
   ],
   "source": [
    "blogs = open(\"./data/input/blogs/blogs_philosophy_eng.txt\")\n",
    "blogs = blogs.read().split(\"\\n\")\n",
    "for blog in blogs:\n",
    "    print(\"blog =\", blog)\n",
    "    sitemap_page = get_sitemap_page(blog)\n",
    "    urls_sitemap = get_sitemap_from_main_sitemap(sitemap_page) #marche jusquea la\n",
    "    urls = get_urls_from_all_sitemap_subpages(urls_sitemap)\n",
    "    write_bibliography_of_an_entire_blog(blog, urls)"
   ]
  },
  {
   "cell_type": "code",
   "execution_count": 11,
   "metadata": {},
   "outputs": [
    {
     "data": {
      "text/plain": [
       "'c:\\\\Users\\\\eupho\\\\OneDrive\\\\Documents\\\\perso\\\\projets\\\\classification_texte_bapteme_philo\\\\sources\\\\create_dataset'"
      ]
     },
     "execution_count": 11,
     "metadata": {},
     "output_type": "execute_result"
    }
   ],
   "source": [
    "os.getcwd()"
   ]
  }
 ],
 "metadata": {
  "kernelspec": {
   "display_name": "Python 3.9.7 ('base')",
   "language": "python",
   "name": "python3"
  },
  "language_info": {
   "codemirror_mode": {
    "name": "ipython",
    "version": 3
   },
   "file_extension": ".py",
   "mimetype": "text/x-python",
   "name": "python",
   "nbconvert_exporter": "python",
   "pygments_lexer": "ipython3",
   "version": "3.9.7"
  },
  "orig_nbformat": 4,
  "vscode": {
   "interpreter": {
    "hash": "3e7035cb009caaa59ad2cfefe05d6f0df614ee59b6f1c56d32ef92625aa3dec5"
   }
  }
 },
 "nbformat": 4,
 "nbformat_minor": 2
}
