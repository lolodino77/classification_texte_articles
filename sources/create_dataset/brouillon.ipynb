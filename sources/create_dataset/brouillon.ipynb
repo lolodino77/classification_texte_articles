{
 "cells": [
  {
   "cell_type": "code",
   "execution_count": 1,
   "metadata": {},
   "outputs": [
    {
     "name": "stdout",
     "output_type": "stream",
     "text": [
      "os.getcwd() at root = C:\\Users\\eupho\\OneDrive\\Documents\\perso\\projets\\classification_texte_bapteme_philo\n"
     ]
    }
   ],
   "source": [
    "from lib_create_articles_lists import *\n",
    "import sys\n",
    "from pathlib import Path, PureWindowsPath\n",
    "sys.path.append(PureWindowsPath(r\"C:\\Users\\eupho\\OneDrive\\Documents\\perso\\projets\\classification_texte_bapteme_philo\\sources\").as_posix())\n",
    "from lib_general import *\n",
    "\n",
    "set_current_directory_to_root(root = \"classification_texte_bapteme_philo\")\n",
    "print(\"os.getcwd() at root =\", os.getcwd())"
   ]
  },
  {
   "cell_type": "code",
   "execution_count": 2,
   "metadata": {},
   "outputs": [],
   "source": [
    "makedir_articles_lists()"
   ]
  },
  {
   "cell_type": "code",
   "execution_count": 3,
   "metadata": {},
   "outputs": [],
   "source": [
    "# file_list_of_blogs = \"blogs_philosophy_eng.txt\"\n",
    "# write_articles_lists_from_multiple_blogs(file_list_of_blogs)"
   ]
  },
  {
   "cell_type": "code",
   "execution_count": 4,
   "metadata": {},
   "outputs": [
    {
     "name": "stdout",
     "output_type": "stream",
     "text": [
      "bibliography_urls = ['https://parlafoi.fr/lire/series/commentaire-de-la-summa/', 'https://parlafoi.fr/lire/series/la-scolastique-protestante/']\n",
      "bibliography_url = https://parlafoi.fr/lire/series/commentaire-de-la-summa/\n",
      "bibliography_url = https://parlafoi.fr/lire/series/la-scolastique-protestante/\n"
     ]
    }
   ],
   "source": [
    "file_list_bibliographies = \"bibliography_middle_age_fr.txt\"\n",
    "# articles_list_filename = \"articles_list_philosophy.txt\"\n",
    "write_articles_list_from_multiple_webpages(file_list_bibliographies)"
   ]
  },
  {
   "cell_type": "code",
   "execution_count": 5,
   "metadata": {},
   "outputs": [
    {
     "name": "stdout",
     "output_type": "stream",
     "text": [
      "bibliography_files = ['bibliography_baptism_fr.txt', 'bibliography_middle_age_fr.txt', 'bibliography_philosophy_fr.txt']\n",
      "bibliography_urls = ['https://parlafoi.fr/lire/series/le-pedobapteme/']\n",
      "bibliography_url = https://parlafoi.fr/lire/series/le-pedobapteme/\n",
      "bibliography_urls = ['https://parlafoi.fr/lire/series/commentaire-de-la-summa/', 'https://parlafoi.fr/lire/series/la-scolastique-protestante/']\n",
      "bibliography_url = https://parlafoi.fr/lire/series/commentaire-de-la-summa/\n",
      "bibliography_url = https://parlafoi.fr/lire/series/la-scolastique-protestante/\n",
      "bibliography_urls = ['https://parlafoi.fr/lire/series/commentaire-de-la-summa/', 'https://parlafoi.fr/lire/series/notions-de-base-en-philosophie/', 'https://parlafoi.fr/lire/series/la-scolastique-protestante/', 'https://parlafoi.fr/lire/series/le-presuppositionnalisme/']\n",
      "bibliography_url = https://parlafoi.fr/lire/series/commentaire-de-la-summa/\n",
      "bibliography_url = https://parlafoi.fr/lire/series/notions-de-base-en-philosophie/\n",
      "bibliography_url = https://parlafoi.fr/lire/series/la-scolastique-protestante/\n",
      "bibliography_url = https://parlafoi.fr/lire/series/le-presuppositionnalisme/\n"
     ]
    }
   ],
   "source": [
    "write_multiple_articles_list_from_webpages()"
   ]
  }
 ],
 "metadata": {
  "kernelspec": {
   "display_name": "Python 3.9.7 ('base')",
   "language": "python",
   "name": "python3"
  },
  "language_info": {
   "codemirror_mode": {
    "name": "ipython",
    "version": 3
   },
   "file_extension": ".py",
   "mimetype": "text/x-python",
   "name": "python",
   "nbconvert_exporter": "python",
   "pygments_lexer": "ipython3",
   "version": "3.9.7"
  },
  "orig_nbformat": 4,
  "vscode": {
   "interpreter": {
    "hash": "3e7035cb009caaa59ad2cfefe05d6f0df614ee59b6f1c56d32ef92625aa3dec5"
   }
  }
 },
 "nbformat": 4,
 "nbformat_minor": 2
}
