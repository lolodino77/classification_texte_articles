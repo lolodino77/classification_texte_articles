{
 "cells": [
  {
   "cell_type": "code",
   "execution_count": 1,
   "metadata": {},
   "outputs": [
    {
     "name": "stdout",
     "output_type": "stream",
     "text": [
      "os.getcwd() at root = C:\\Users\\eupho\\OneDrive\\Documents\\perso\\projets\\classification_texte_bapteme_philo\n"
     ]
    }
   ],
   "source": [
    "from lib_bibliography_creation import *\n",
    "import sys\n",
    "from pathlib import Path, PureWindowsPath\n",
    "sys.path.append(PureWindowsPath(r\"C:\\Users\\eupho\\OneDrive\\Documents\\perso\\projets\\classification_texte_bapteme_philo\\sources\").as_posix())\n",
    "from lib_general import *\n",
    "\n",
    "set_current_directory_to_root(root = \"classification_texte_bapteme_philo\")\n",
    "print(\"os.getcwd() at root =\", os.getcwd())"
   ]
  },
  {
   "cell_type": "code",
   "execution_count": 2,
   "metadata": {},
   "outputs": [
    {
     "name": "stdout",
     "output_type": "stream",
     "text": [
      "blog = https://edwardfeser.blogspot.com\n",
      "sitemap_contents = ['Sitemap: https://edwardfeser.blogspot.com/sitemap.xml']\n",
      "blog = http://alexanderpruss.blogspot.com\n",
      "sitemap_contents = ['Sitemap: http://alexanderpruss.blogspot.com/sitemap.xml']\n"
     ]
    }
   ],
   "source": [
    "file_list_of_blogs = \"blogs_philosophy_eng.txt\"\n",
    "write_articles_lists_from_blog_main_url(file_list_of_blogs)"
   ]
  },
  {
   "cell_type": "code",
   "execution_count": 3,
   "metadata": {},
   "outputs": [],
   "source": [
    "# blogs = open(\"./data/input/blogs/blogs_philosophy_eng.txt\")\n",
    "# blogs = blogs.read().split(\"\\n\")\n",
    "# for blog in blogs:\n",
    "#     print(\"blog =\", blog)\n",
    "#     write_bibliography_from_blog_main_url(blog)"
   ]
  },
  {
   "cell_type": "code",
   "execution_count": null,
   "metadata": {},
   "outputs": [],
   "source": []
  }
 ],
 "metadata": {
  "kernelspec": {
   "display_name": "Python 3.9.7 ('base')",
   "language": "python",
   "name": "python3"
  },
  "language_info": {
   "codemirror_mode": {
    "name": "ipython",
    "version": 3
   },
   "file_extension": ".py",
   "mimetype": "text/x-python",
   "name": "python",
   "nbconvert_exporter": "python",
   "pygments_lexer": "ipython3",
   "version": "3.9.7"
  },
  "orig_nbformat": 4,
  "vscode": {
   "interpreter": {
    "hash": "3e7035cb009caaa59ad2cfefe05d6f0df614ee59b6f1c56d32ef92625aa3dec5"
   }
  }
 },
 "nbformat": 4,
 "nbformat_minor": 2
}
