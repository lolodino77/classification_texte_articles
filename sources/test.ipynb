{
 "cells": [
  {
   "cell_type": "code",
   "execution_count": 12,
   "metadata": {},
   "outputs": [
    {
     "data": {
      "text/plain": [
       "4"
      ]
     },
     "execution_count": 12,
     "metadata": {},
     "output_type": "execute_result"
    }
   ],
   "source": [
    "len(ab_list)"
   ]
  },
  {
   "cell_type": "code",
   "execution_count": 14,
   "metadata": {},
   "outputs": [
    {
     "name": "stdout",
     "output_type": "stream",
     "text": [
      "type(ab) = <class 'zip'>\n",
      "[(1, 1), (2, 2), (3, 3), (4, 150)]\n",
      "2 2\n",
      "3 3\n",
      "4 150\n",
      "1 1\n",
      "2 2\n",
      "3 3\n",
      "4 150\n"
     ]
    }
   ],
   "source": [
    "a = [1,2,3,4]\n",
    "b = [1,2,3,150]\n",
    "ab = zip(a, b)\n",
    "# print(\"zip(a, b)[0] =\", zip(a, b)[0])\n",
    "print(\"type(ab) =\", type(ab))\n",
    "ab_list = list(zip(a, b))\n",
    "print(ab_list)\n",
    "\n",
    "init = ab_list[0]\n",
    "for a, b in ab_list[1:]:\n",
    "    print(a, b)\n",
    "for i in range(len(ab_list)):\n",
    "    a, b = ab_list[i]\n",
    "    print(a, b)\n",
    "\n",
    "\n",
    "# print(\"list(zip(a, b)) =\", list(zip(a, b)))\n",
    "# for a, b in zip(a, b):\n",
    "#     print(a, b)"
   ]
  },
  {
   "cell_type": "code",
   "execution_count": 1,
   "metadata": {},
   "outputs": [
    {
     "data": {
      "image/png": "[encoded data removed]",
      "text/plain": [
       "<Figure size 432x288 with 1 Axes>"
      ]
     },
     "metadata": {
      "needs_background": "light"
     },
     "output_type": "display_data"
    }
   ],
   "source": [
    "import matplotlib.pyplot as plt\n",
    "import matplotlib.transforms as mtrans\n",
    "\n",
    "fig, ax = plt.subplots()\n",
    "ax.plot([1,2,3,4], label=\"up\")\n",
    "\n",
    "tr = mtrans.offset_copy(ax.transData, fig=fig, x=0.0, y=-1.5, units='points')\n",
    "ax.plot([1,2,3,2.5], label=\"down\", transform=tr)\n",
    "\n",
    "plt.show()"
   ]
  }
 ],
 "metadata": {
  "kernelspec": {
   "display_name": "base",
   "language": "python",
   "name": "python3"
  },
  "language_info": {
   "codemirror_mode": {
    "name": "ipython",
    "version": 3
   },
   "file_extension": ".py",
   "mimetype": "text/x-python",
   "name": "python",
   "nbconvert_exporter": "python",
   "pygments_lexer": "ipython3",
   "version": "3.9.7"
  },
  "orig_nbformat": 4,
  "vscode": {
   "interpreter": {
    "hash": "3e7035cb009caaa59ad2cfefe05d6f0df614ee59b6f1c56d32ef92625aa3dec5"
   }
  }
 },
 "nbformat": 4,
 "nbformat_minor": 2
}
