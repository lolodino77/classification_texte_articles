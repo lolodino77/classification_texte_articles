{
 "cells": [
  {
   "cell_type": "code",
   "execution_count": 2,
   "metadata": {},
   "outputs": [
    {
     "name": "stdout",
     "output_type": "stream",
     "text": [
      "c:\\Users\\eupho\\OneDrive\\Documents\\perso\\projets\\classification_texte_bapteme_philo\n"
     ]
    }
   ],
   "source": [
    "import sys\n",
    "from pathlib import Path, PureWindowsPath\n",
    "current_folder = PureWindowsPath(globals()['_dh'][0]).as_posix()\n",
    "path_root = \"/\".join(current_folder.split(\"/\")[:-3]) #remonter au dossier root du projet\n",
    "os.chdir(path_root)\n",
    "print(os.getcwd())\n",
    "sys.path.append(os.getcwd() + \"/sources/classification/\")"
   ]
  },
  {
   "cell_type": "code",
   "execution_count": 3,
   "metadata": {},
   "outputs": [],
   "source": [
    "import os\n",
    "import numpy as np\n",
    "import pandas as pd\n",
    "import seaborn as sb\n",
    "import matplotlib.pyplot as plt\n",
    "from sklearn.feature_extraction.text import CountVectorizer\n",
    "from sklearn.feature_extraction.text import TfidfTransformer, TfidfVectorizer\n",
    "from sklearn.naive_bayes import MultinomialNB\n",
    "from sklearn.pipeline import Pipeline\n",
    "from sklearn.model_selection import train_test_split\n",
    "from sklearn.metrics import classification_report, confusion_matrix\n",
    "from sklearn.naive_bayes import MultinomialNB\n",
    "from pathlib import Path, PureWindowsPath\n",
    "from lib_classification import *\n",
    "pd.set_option('display.max_colwidth', 30)\n",
    "pd.set_option('display.min_rows', 5)\n",
    "pd.set_option('display.max_rows', 5)\n",
    "pd.set_option('display.max_colwidth', None) #afficher texte entier dans dataframe"
   ]
  },
  {
   "cell_type": "code",
   "execution_count": 4,
   "metadata": {},
   "outputs": [],
   "source": [
    "path = PureWindowsPath(os.getcwd() + \"/data/input/data_middle_age_epistemology.parquet\")\n",
    "path = path.as_posix() #convertir en path linux (convertir les \\\\ en /)\n",
    "corpus = pd.read_parquet(path) #engine=\"fastparquet\"\n",
    "corpus = get_balanced_binary_dataset(corpus, class_col_name=\"category\")\n",
    "\n",
    "# print(corpus[\"category_bin\"].value_counts())\n",
    "# print(\"presence de doublons ?\")\n",
    "# print(corpus.id.duplicated().any())\n",
    "# print(corpus.index.duplicated().any())\n",
    "# corpus"
   ]
  },
  {
   "cell_type": "code",
   "execution_count": 20,
   "metadata": {},
   "outputs": [],
   "source": [
    "features_col_names = \"message_preprocessed\" \n",
    "# class_col_name = \"category\"\n",
    "class_col_name = \"category_bin\" \n",
    "id_col_name = \"id\"\n",
    "X_train, X_test, y_train, y_test, indices_train, indices_test = get_train_and_test(corpus, features_col_names, class_col_name, id_col_name)"
   ]
  },
  {
   "cell_type": "code",
   "execution_count": 21,
   "metadata": {},
   "outputs": [],
   "source": [
    "X_train_tfidf, X_test_tfidf = apply_tfidf_to_train_and_test(X_train, X_test)"
   ]
  },
  {
   "cell_type": "code",
   "execution_count": 22,
   "metadata": {},
   "outputs": [
    {
     "name": "stdout",
     "output_type": "stream",
     "text": [
      "[('test_accuracy', 0.9164), ('test_f1_macro', 0.9155)] (LR)\n",
      "[('test_accuracy', 0.9457), ('test_f1_macro', 0.9456)] (AdaBoostClassifier)\n",
      "[('test_accuracy', 0.9342), ('test_f1_macro', 0.934)] (KNN)\n",
      "[('test_accuracy', 0.9435), ('test_f1_macro', 0.9433)] (RandomForest)\n",
      "[('test_accuracy', 0.9478), ('test_f1_macro', 0.9476)] (SGDClassifier)\n",
      "[('test_accuracy', 0.9133), ('test_f1_macro', 0.9125)] (SVM)\n",
      "[('test_accuracy', 0.9445), ('test_f1_macro', 0.9443)] (DecisionTreeClassifier)\n"
     ]
    }
   ],
   "source": [
    "scoring = ['accuracy', 'f1_macro']\n",
    "num_iter = 2 #nombre de repetitions de la k-fold cross validation entiere\n",
    "k = 10 #k de la k-fold cross validation\n",
    "do_cross_validation(X_train_tfidf, y_train, scoring, num_iter, k)"
   ]
  },
  {
   "cell_type": "code",
   "execution_count": 23,
   "metadata": {},
   "outputs": [],
   "source": [
    "k = 10\n",
    "# kfold = StratifiedKFold(n_splits=k, random_state=None, shuffle=True) #n_splits = k de la k-fold cv, le nombre de fold\n",
    "kfold = RepeatedStratifiedKFold(n_splits=k, n_repeats=2, random_state=None)\n",
    "scoring = 'accuracy'\n",
    "cv_param = kfold\n",
    "num_experiences = 10\n",
    "train_sizes = np.linspace(0.1, 1.0, num_experiences)\n",
    "# train_sizes = np.linspace(0.001, 1.0, num_experiences)\n",
    "n_jobs = -1\n",
    "\n",
    "scorings = ['accuracy', 'precision', 'recall', 'f1']\n",
    "for scoring in scorings:\n",
    "        get_learning_curve(model, X_train_tfidf, y_train, cv_param, scoring, train_sizes, n_jobs=-1)"
   ]
  },
  {
   "cell_type": "code",
   "execution_count": null,
   "metadata": {},
   "outputs": [],
   "source": []
  }
 ],
 "metadata": {
  "kernelspec": {
   "display_name": "Python 3.9.7 ('base')",
   "language": "python",
   "name": "python3"
  },
  "language_info": {
   "codemirror_mode": {
    "name": "ipython",
    "version": 3
   },
   "file_extension": ".py",
   "mimetype": "text/x-python",
   "name": "python",
   "nbconvert_exporter": "python",
   "pygments_lexer": "ipython3",
   "version": "3.9.7"
  },
  "orig_nbformat": 4,
  "vscode": {
   "interpreter": {
    "hash": "3e7035cb009caaa59ad2cfefe05d6f0df614ee59b6f1c56d32ef92625aa3dec5"
   }
  }
 },
 "nbformat": 4,
 "nbformat_minor": 2
}
