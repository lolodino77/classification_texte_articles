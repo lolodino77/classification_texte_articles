{
 "cells": [
  {
   "cell_type": "code",
   "execution_count": 2,
   "metadata": {},
   "outputs": [
    {
     "name": "stdout",
     "output_type": "stream",
     "text": [
      "c:\\Users\\eupho\\OneDrive\\Documents\\perso\\projets\\classification_texte_bapteme_philo\n"
     ]
    }
   ],
   "source": [
    "import sys\n",
    "from pathlib import Path, PureWindowsPath\n",
    "current_folder = PureWindowsPath(globals()['_dh'][0]).as_posix()\n",
    "path_root = \"/\".join(current_folder.split(\"/\")[:-3]) #remonter au dossier root du projet\n",
    "os.chdir(path_root)\n",
    "print(os.getcwd())\n",
    "sys.path.append(os.getcwd() + \"/sources/classification/\")"
   ]
  },
  {
   "cell_type": "code",
   "execution_count": 3,
   "metadata": {},
   "outputs": [],
   "source": [
    "import os\n",
    "import numpy as np\n",
    "import pandas as pd\n",
    "import seaborn as sb\n",
    "import matplotlib.pyplot as plt\n",
    "from sklearn.feature_extraction.text import CountVectorizer\n",
    "from sklearn.feature_extraction.text import TfidfTransformer, TfidfVectorizer\n",
    "from sklearn.naive_bayes import MultinomialNB\n",
    "from sklearn.pipeline import Pipeline\n",
    "from sklearn.model_selection import train_test_split\n",
    "from sklearn.metrics import classification_report, confusion_matrix\n",
    "from sklearn.naive_bayes import MultinomialNB\n",
    "from lib_classification import *\n",
    "pd.set_option('display.max_colwidth', 30)\n",
    "pd.set_option('display.min_rows', 5)\n",
    "pd.set_option('display.max_rows', 5)\n",
    "pd.set_option('display.max_colwidth', None) #afficher texte entier dans dataframe"
   ]
  },
  {
   "cell_type": "code",
   "execution_count": 4,
   "metadata": {},
   "outputs": [
    {
     "name": "stdout",
     "output_type": "stream",
     "text": [
      "1    357\n",
      "0    357\n",
      "Name: category_bin, dtype: int64\n",
      "presence de doublons ?\n",
      "False\n",
      "False\n"
     ]
    },
    {
     "data": {
      "text/html": [
       "<div>\n",
       "<style scoped>\n",
       "    .dataframe tbody tr th:only-of-type {\n",
       "        vertical-align: middle;\n",
       "    }\n",
       "\n",
       "    .dataframe tbody tr th {\n",
       "        vertical-align: top;\n",
       "    }\n",
       "\n",
       "    .dataframe thead th {\n",
       "        text-align: right;\n",
       "    }\n",
       "</style>\n",
       "<table border=\"1\" class=\"dataframe\">\n",
       "  <thead>\n",
       "    <tr style=\"text-align: right;\">\n",
       "      <th></th>\n",
       "      <th>id</th>\n",
       "      <th>message</th>\n",
       "      <th>message_preprocessed</th>\n",
       "      <th>category</th>\n",
       "      <th>length</th>\n",
       "      <th>category_bin</th>\n",
       "    </tr>\n",
       "  </thead>\n",
       "  <tbody>\n",
       "    <tr>\n",
       "      <th>0</th>\n",
       "      <td>0</td>\n",
       "      <td>Dans sa propre solution, Frame suggère qu’il faut rejeter les déclarations les plus extrêmes de Van Til concernant l’antithèse11. Cette solution soulève néanmoins au moins deux problèmes. D’abord, Van Til a fait ces déclarations, et il les a faites fréquemment. Deuxièmement, l’antithèse est probablement la caractéristique la plus distinctive de la pensée de Van Til. Il est très difficile de se débarrasser des déclarations contradictoires de Van Til au sujet de l’antithèse sans détruire entièrement son système12. Dans la mesure où l’incroyant a une connaissance des choses de ce monde, la justification de Van Til pour le rejet de la méthode apologétique traditionnelle est sérieusement affaiblie13.</td>\n",
       "      <td>propre solution frame suggère faut rejeter déclaration plus extrême van til concernant antithèse cette solution soulève néanmoins moins deux problème abord van til a fait déclaration a faites fréquemment deuxièmement antithèse probablement caractéristique plus distinctive pensée van til très difficile débarrasser déclaration contradictoires van til sujet antithèse sans détruire entièrement système mesure où incroyant a connaissance chose monde justification van til rejet méthode apologétique traditionnelle sérieusement affaiblie</td>\n",
       "      <td>middle_age</td>\n",
       "      <td>704</td>\n",
       "      <td>1</td>\n",
       "    </tr>\n",
       "    <tr>\n",
       "      <th>1</th>\n",
       "      <td>1</td>\n",
       "      <td>La science infuse est celle que nous recevons directement de Dieu, comme celle des premiers principes que nous avons à la naissance, ou bien celle que nous recevons par révélation directe. La science _in fuse,_ c’est la science qui est « épanchée/répandue dans ».</td>\n",
       "      <td>science infuse celle recevons directement dieu comme celle premier principe naissance bien celle recevons révélation directe science in fuse science « épanchéerépandue »</td>\n",
       "      <td>epistemology</td>\n",
       "      <td>263</td>\n",
       "      <td>0</td>\n",
       "    </tr>\n",
       "    <tr>\n",
       "      <th>...</th>\n",
       "      <td>...</td>\n",
       "      <td>...</td>\n",
       "      <td>...</td>\n",
       "      <td>...</td>\n",
       "      <td>...</td>\n",
       "      <td>...</td>\n",
       "    </tr>\n",
       "    <tr>\n",
       "      <th>712</th>\n",
       "      <td>712</td>\n",
       "      <td>36. VAN TIL, _Introduction to Systematic Theology_ , 2e éd., p. 32, 164.[↩]</td>\n",
       "      <td>van til introduction to systematic theology e éd p ↩</td>\n",
       "      <td>middle_age</td>\n",
       "      <td>77</td>\n",
       "      <td>1</td>\n",
       "    </tr>\n",
       "    <tr>\n",
       "      <th>713</th>\n",
       "      <td>713</td>\n",
       "      <td>Mais il y a aussi une juste et bonne colère, appelée « colère provoquée par le vice », lorsque notre désir de corriger le mal correspond à un mal réel. Celui-là était en Christ.</td>\n",
       "      <td>a aussi juste bonne colère appelé « colère provoquée vice » lorsque désir corriger mal correspond mal réel celui-là christ</td>\n",
       "      <td>epistemology</td>\n",
       "      <td>177</td>\n",
       "      <td>0</td>\n",
       "    </tr>\n",
       "  </tbody>\n",
       "</table>\n",
       "<p>714 rows × 6 columns</p>\n",
       "</div>"
      ],
      "text/plain": [
       "      id  \\\n",
       "0      0   \n",
       "1      1   \n",
       "..   ...   \n",
       "712  712   \n",
       "713  713   \n",
       "\n",
       "                                                                                                                                                                                                                                                                                                                                                                                                                                                                                                                                                                                                                                                                                                                              message  \\\n",
       "0    Dans sa propre solution, Frame suggère qu’il faut rejeter les déclarations les plus extrêmes de Van Til concernant l’antithèse11. Cette solution soulève néanmoins au moins deux problèmes. D’abord, Van Til a fait ces déclarations, et il les a faites fréquemment. Deuxièmement, l’antithèse est probablement la caractéristique la plus distinctive de la pensée de Van Til. Il est très difficile de se débarrasser des déclarations contradictoires de Van Til au sujet de l’antithèse sans détruire entièrement son système12. Dans la mesure où l’incroyant a une connaissance des choses de ce monde, la justification de Van Til pour le rejet de la méthode apologétique traditionnelle est sérieusement affaiblie13.   \n",
       "1                                                                                                                                                                                                                                                                                                                                                                                                                                                             La science infuse est celle que nous recevons directement de Dieu, comme celle des premiers principes que nous avons à la naissance, ou bien celle que nous recevons par révélation directe. La science _in fuse,_ c’est la science qui est « épanchée/répandue dans ».   \n",
       "..                                                                                                                                                                                                                                                                                                                                                                                                                                                                                                                                                                                                                                                                                                                                ...   \n",
       "712                                                                                                                                                                                                                                                                                                                                                                                                                                                                                                                                                                                                                                                       36. VAN TIL, _Introduction to Systematic Theology_ , 2e éd., p. 32, 164.[↩]   \n",
       "713                                                                                                                                                                                                                                                                                                                                                                                                                                                                                                                                                 Mais il y a aussi une juste et bonne colère, appelée « colère provoquée par le vice », lorsque notre désir de corriger le mal correspond à un mal réel. Celui-là était en Christ.   \n",
       "\n",
       "                                                                                                                                                                                                                                                                                                                                                                                                                                                                                                                                       message_preprocessed  \\\n",
       "0    propre solution frame suggère faut rejeter déclaration plus extrême van til concernant antithèse cette solution soulève néanmoins moins deux problème abord van til a fait déclaration a faites fréquemment deuxièmement antithèse probablement caractéristique plus distinctive pensée van til très difficile débarrasser déclaration contradictoires van til sujet antithèse sans détruire entièrement système mesure où incroyant a connaissance chose monde justification van til rejet méthode apologétique traditionnelle sérieusement affaiblie   \n",
       "1                                                                                                                                                                                                                                                                                                                                                                                 science infuse celle recevons directement dieu comme celle premier principe naissance bien celle recevons révélation directe science in fuse science « épanchéerépandue »   \n",
       "..                                                                                                                                                                                                                                                                                                                                                                                                                                                                                                                                                      ...   \n",
       "712                                                                                                                                                                                                                                                                                                                                                                                                                                                                                                    van til introduction to systematic theology e éd p ↩   \n",
       "713                                                                                                                                                                                                                                                                                                                                                                                                                              a aussi juste bonne colère appelé « colère provoquée vice » lorsque désir corriger mal correspond mal réel celui-là christ   \n",
       "\n",
       "         category  length  category_bin  \n",
       "0      middle_age     704             1  \n",
       "1    epistemology     263             0  \n",
       "..            ...     ...           ...  \n",
       "712    middle_age      77             1  \n",
       "713  epistemology     177             0  \n",
       "\n",
       "[714 rows x 6 columns]"
      ]
     },
     "execution_count": 4,
     "metadata": {},
     "output_type": "execute_result"
    }
   ],
   "source": [
    "path = PureWindowsPath(os.getcwd() + \"/data/input/data_middle_age_epistemology.parquet\")\n",
    "path = path.as_posix() #convertir en path linux (convertir les \\\\ en /)\n",
    "corpus = pd.read_parquet(path) #engine=\"fastparquet\"\n",
    "corpus = get_balanced_binary_dataset(corpus, class_col_name=\"category\")\n",
    "\n",
    "print(corpus[\"category_bin\"].value_counts())\n",
    "print(\"presence de doublons ?\")\n",
    "print(corpus.id.duplicated().any())\n",
    "print(corpus.index.duplicated().any())\n",
    "corpus"
   ]
  },
  {
   "cell_type": "code",
   "execution_count": 9,
   "metadata": {},
   "outputs": [
    {
     "name": "stdout",
     "output_type": "stream",
     "text": [
      "120    120\n",
      "329    329\n",
      "      ... \n",
      "465    465\n",
      "83      83\n",
      "Name: id, Length: 236, dtype: int64\n",
      "[0 0 0 1 1 1 1 1 0 0 1 1 1 1 0 1 1 1 1 1 0 0 1 0 1 1 1 1 0 1 0 1 1 0 1 1 1\n",
      " 1 1 0 0 0 1 0 1 1 0 0 1 1 0 0 1 0 1 0 0 1 0 0 1 0 1 0 0 1 1 0 1 1 0 1 0 1\n",
      " 0 0 1 1 0 0 1 0 0 0 1 1 0 1 1 0 0 1 0 1 0 1 1 1 0 0 0 0 1 0 1 1 1 0 0 0 0\n",
      " 1 0 1 0 0 1 1 1 1 1 1 0 0 0 0 1 0 0 1 0 1 1 1 1 1 1 0 1 0 0 0 0 0 0 1 0 0\n",
      " 0 0 1 1 1 0 1 0 0 0 1 0 1 1 0 0 0 0 0 0 1 1 1 1 1 1 0 1 0 0 0 1 0 1 0 1 0\n",
      " 1 0 1 0 0 0 1 0 1 0 0 1 0 0 1 0 0 0 1 0 1 1 0 1 1 1 1 0 1 1 1 0 0 0 1 1 0\n",
      " 1 0 0 1 0 1 0 0 1 0 0 0 0 0]\n",
      "(236,)\n",
      "(236, 3429)\n"
     ]
    }
   ],
   "source": [
    "from sklearn.svm import SVC\n",
    "from sklearn.linear_model import SGDClassifier\n",
    "\n",
    "# model = SVC()\n",
    "model = SGDClassifier()\n",
    "X = corpus[\"message_preprocessed\"]\n",
    "y = corpus[\"category\"]\n",
    "y = corpus[\"category_bin\"]\n",
    "indices = corpus[\"id\"]\n",
    "# X_train, X_test, y_train, y_test = train_test_split(X, y, test_size=0.3, stratify=y)\n",
    "X_train, X_test, y_train, y_test, indices_train, indices_test = train_test_split(X, y, indices, test_size=0.33, random_state=42)\n",
    "print(indices_test)\n",
    "tfidf_vectorizer = TfidfVectorizer()\n",
    "X_train_tfidf = tfidf_vectorizer.fit_transform(X_train)\n",
    "model.fit(X_train_tfidf, y_train)\n",
    "\n",
    "# test du modele\n",
    "X_test_tfidf = tfidf_vectorizer.transform(X_test)\n",
    "y_pred = model.predict(X_test_tfidf)\n",
    "print(y_pred)\n",
    "print(X_test.shape)\n",
    "print(X_test_tfidf.shape)"
   ]
  },
  {
   "cell_type": "code",
   "execution_count": 10,
   "metadata": {},
   "outputs": [
    {
     "name": "stderr",
     "output_type": "stream",
     "text": [
      "C:\\Users\\eupho\\AppData\\Local\\Temp/ipykernel_17020/2510564835.py:19: MatplotlibDeprecationWarning: Case-insensitive properties were deprecated in 3.3 and support will be removed two minor releases later\n",
      "  ax.set_xticklabels([false_label, true_label], Fontsize=font_size + 3)\n",
      "C:\\Users\\eupho\\AppData\\Local\\Temp/ipykernel_17020/2510564835.py:20: MatplotlibDeprecationWarning: Case-insensitive properties were deprecated in 3.3 and support will be removed two minor releases later\n",
      "  ax.set_yticklabels([false_label, true_label], Fontsize=font_size + 3)\n"
     ]
    },
    {
     "data": {
      "text/plain": [
       "Text(69.0, 0.5, 'Catégories réelles')"
      ]
     },
     "execution_count": 10,
     "metadata": {},
     "output_type": "execute_result"
    },
    {
     "data": {
      "image/png": "[encoded data removed]",
      "text/plain": [
       "<Figure size 720x504 with 2 Axes>"
      ]
     },
     "metadata": {
      "needs_background": "light"
     },
     "output_type": "display_data"
    }
   ],
   "source": [
    "# Matrice de confusion\n",
    "false_label = \"0 : Bapteme\"\n",
    "true_label = \"1 : Philosophie\"\n",
    "confusion_matrix_var = confusion_matrix(y_test, y_pred, labels=model.classes_)\n",
    "group_names = [\"Vrais baptême\", \"Faux philosophie\", \"Faux baptême\", \"Vrais philosophie\"]\n",
    "group_counts = [\"{0:0.0f}\".format(value) for value in\n",
    "                confusion_matrix_var.flatten()]\n",
    "group_percentages = [\"{0:.2%}\".format(value) for value in\n",
    "                     confusion_matrix_var.flatten()/np.sum(confusion_matrix_var)]\n",
    "labels = [f\"{v1}\\n{v2}\\n{v3}\" for v1, v2, v3 in\n",
    "          zip(group_names, group_counts, group_percentages)]\n",
    "labels = np.asarray(labels).reshape(2,2)\n",
    "font_size = 15 #19\n",
    "plt.rcParams[\"figure.figsize\"] = (10, 7) #taille du graphique, taille du plot\n",
    "ax = sb.heatmap(confusion_matrix_var, \n",
    "                annot=labels, fmt=\"\", cmap='Blues',\n",
    "                annot_kws={\"size\": font_size}, \n",
    "                cbar_kws={'label': 'Nombre de sessions'})\n",
    "ax.set_xticklabels([false_label, true_label], Fontsize=font_size + 3)\n",
    "ax.set_yticklabels([false_label, true_label], Fontsize=font_size + 3)\n",
    "ax.figure.axes[-1].yaxis.label.set_size(font_size + 1)\n",
    "ax.figure.axes[-1].tick_params(labelsize=font_size - 2) \n",
    "plt.title(\"Matrice de confusion\", fontsize = font_size + 5)\n",
    "# xlabel = 'Catégories prédites\\n\\n Exactitude (bien classés) = {:0.2f} % ; Inexactitude (mal classés) = {:0.2f} %\\n Précision (bonnes prédictions de robots / qualité) = {:0.2f} %\\n Rappel (nombre de robots détectés / quantité) = {:0.2f} %\\n F1 (synthèse de précision + rappel) = {:0.2f} %'.format(accuracy, (100 - accuracy), precision, recall, f1_score)\n",
    "plt.xlabel(\"Catégories prédites\", fontsize=font_size + 3)\n",
    "plt.ylabel(\"Catégories réelles\", fontsize=font_size + 3)"
   ]
  },
  {
   "cell_type": "code",
   "execution_count": 11,
   "metadata": {},
   "outputs": [
    {
     "name": "stdout",
     "output_type": "stream",
     "text": [
      "              precision    recall  f1-score   support\n",
      "\n",
      "           0       0.94      0.98      0.96       115\n",
      "           1       0.98      0.94      0.96       121\n",
      "\n",
      "    accuracy                           0.96       236\n",
      "   macro avg       0.96      0.96      0.96       236\n",
      "weighted avg       0.96      0.96      0.96       236\n",
      "\n"
     ]
    }
   ],
   "source": [
    "# Metriques\n",
    "print(classification_report(y_test, y_pred))"
   ]
  },
  {
   "cell_type": "code",
   "execution_count": 12,
   "metadata": {},
   "outputs": [
    {
     "data": {
      "image/png": "[encoded data removed]",
      "text/plain": [
       "<Figure size 720x504 with 1 Axes>"
      ]
     },
     "metadata": {
      "needs_background": "light"
     },
     "output_type": "display_data"
    }
   ],
   "source": [
    "# Courbe ROC et AUC\n",
    "from sklearn import metrics\n",
    "\n",
    "fpr, tpr, thresholds = metrics.roc_curve(y_test, y_pred)\n",
    "auc = metrics.auc(fpr, tpr)\n",
    "plt.figure()\n",
    "lw = 2\n",
    "plt.plot(\n",
    "    fpr,\n",
    "    tpr,\n",
    "    color=\"darkorange\",\n",
    "    lw=lw,\n",
    "    label=\"ROC curve (area = %0.2f)\" % auc,\n",
    ")\n",
    "plt.plot([0, 1], [0, 1], color=\"navy\", lw=lw, linestyle=\"--\")\n",
    "plt.xlim([0.0, 1.0])\n",
    "plt.ylim([0.0, 1.05])\n",
    "plt.xlabel(\"False Positive Rate\")\n",
    "plt.ylabel(\"True Positive Rate\")\n",
    "plt.title(\"Receiver operating characteristic example\")\n",
    "plt.legend(loc=\"lower right\")\n",
    "plt.show()"
   ]
  },
  {
   "cell_type": "code",
   "execution_count": 13,
   "metadata": {},
   "outputs": [
    {
     "name": "stdout",
     "output_type": "stream",
     "text": [
      "(236, 4)\n",
      "(9, 4)\n",
      "Index(['id', 'message', 'truth', 'pred'], dtype='object')\n"
     ]
    }
   ],
   "source": [
    "# On affiche les documents a propos desquels le modele s'est trompe\n",
    "corpus_test = pd.DataFrame({\"id\":corpus.iloc[indices_test].id, \"message\": corpus.iloc[indices_test].message, \"truth\":y_test, \"pred\":y_pred})\n",
    "corpus_test_errors = corpus_test.query(\"truth != pred\")\n",
    "print(corpus_test.shape)\n",
    "print(corpus_test_errors.shape)\n",
    "# corpus_test_errors = corpus_test_errors[[\"truth\", \"pred\", \"message_preprocessed\"]]\n",
    "print(corpus_test_errors.columns)\n",
    "corpus_test_errors = corpus_test_errors[[\"id\", \"truth\", \"pred\", \"message\"]]\n",
    "# corpus_test_errors"
   ]
  },
  {
   "cell_type": "code",
   "execution_count": 14,
   "metadata": {},
   "outputs": [
    {
     "data": {
      "text/html": [
       "<div>\n",
       "<style scoped>\n",
       "    .dataframe tbody tr th:only-of-type {\n",
       "        vertical-align: middle;\n",
       "    }\n",
       "\n",
       "    .dataframe tbody tr th {\n",
       "        vertical-align: top;\n",
       "    }\n",
       "\n",
       "    .dataframe thead th {\n",
       "        text-align: right;\n",
       "    }\n",
       "</style>\n",
       "<table border=\"1\" class=\"dataframe\">\n",
       "  <thead>\n",
       "    <tr style=\"text-align: right;\">\n",
       "      <th></th>\n",
       "      <th>id</th>\n",
       "      <th>message</th>\n",
       "      <th>message_preprocessed</th>\n",
       "      <th>category</th>\n",
       "      <th>length</th>\n",
       "      <th>category_bin</th>\n",
       "    </tr>\n",
       "  </thead>\n",
       "  <tbody>\n",
       "    <tr>\n",
       "      <th>662</th>\n",
       "      <td>662</td>\n",
       "      <td>Dans les deux derniers cas, cela ne peut être donné qu’aux créatures rationnelles, c’est-à-dire les hommes et les anges.</td>\n",
       "      <td>deux dernier cas cela peut être donné créature rationnelles est-à-dire homme ange</td>\n",
       "      <td>epistemology</td>\n",
       "      <td>120</td>\n",
       "      <td>0</td>\n",
       "    </tr>\n",
       "    <tr>\n",
       "      <th>518</th>\n",
       "      <td>518</td>\n",
       "      <td>La scolastique réformée a été un grand don à l’Église qui a été largement sous-estimé ou ignoré dans notre contexte actuel. Ceux qui veulent embrasser la théologie réformée ont besoin de connaître quelque chose de notre histoire réformée. La lecture de l’Institution de Calvin est un bon début, mais c’est juste un début. Même une connaissance superficielle de la scolastique, que cette série ne vise qu’à résumer, ne peut que nous aider à éviter de faire de fausses suppositions sur la scolastique réformée.</td>\n",
       "      <td>scolastique réformée a grand don église a largement sous-estimé ignoré contexte actuel ceux veulent embrasser théologie réformée besoin connaître quelque chose histoire réformée lecture institution calvin bon début juste début connaissance superficielle scolastique cette série vise résumer peut aider éviter faire faux supposition scolastique réformée</td>\n",
       "      <td>epistemology</td>\n",
       "      <td>508</td>\n",
       "      <td>0</td>\n",
       "    </tr>\n",
       "  </tbody>\n",
       "</table>\n",
       "</div>"
      ],
      "text/plain": [
       "      id  \\\n",
       "662  662   \n",
       "518  518   \n",
       "\n",
       "                                                                                                                                                                                                                                                                                                                                                                                                                                                                                                                          message  \\\n",
       "662                                                                                                                                                                                                                                                                                                                                                                                                      Dans les deux derniers cas, cela ne peut être donné qu’aux créatures rationnelles, c’est-à-dire les hommes et les anges.   \n",
       "518  La scolastique réformée a été un grand don à l’Église qui a été largement sous-estimé ou ignoré dans notre contexte actuel. Ceux qui veulent embrasser la théologie réformée ont besoin de connaître quelque chose de notre histoire réformée. La lecture de l’Institution de Calvin est un bon début, mais c’est juste un début. Même une connaissance superficielle de la scolastique, que cette série ne vise qu’à résumer, ne peut que nous aider à éviter de faire de fausses suppositions sur la scolastique réformée.   \n",
       "\n",
       "                                                                                                                                                                                                                                                                                                                                                 message_preprocessed  \\\n",
       "662                                                                                                                                                                                                                                                                                 deux dernier cas cela peut être donné créature rationnelles est-à-dire homme ange   \n",
       "518  scolastique réformée a grand don église a largement sous-estimé ignoré contexte actuel ceux veulent embrasser théologie réformée besoin connaître quelque chose histoire réformée lecture institution calvin bon début juste début connaissance superficielle scolastique cette série vise résumer peut aider éviter faire faux supposition scolastique réformée   \n",
       "\n",
       "         category  length  category_bin  \n",
       "662  epistemology     120             0  \n",
       "518  epistemology     508             0  "
      ]
     },
     "metadata": {},
     "output_type": "display_data"
    }
   ],
   "source": [
    "with pd.option_context(\"display.max_rows\", 1000):\n",
    "    display(corpus.iloc[corpus_test_errors[corpus_test_errors[\"pred\"] == 1].id]) "
   ]
  },
  {
   "cell_type": "code",
   "execution_count": 15,
   "metadata": {},
   "outputs": [
    {
     "data": {
      "text/html": [
       "<div>\n",
       "<style scoped>\n",
       "    .dataframe tbody tr th:only-of-type {\n",
       "        vertical-align: middle;\n",
       "    }\n",
       "\n",
       "    .dataframe tbody tr th {\n",
       "        vertical-align: top;\n",
       "    }\n",
       "\n",
       "    .dataframe thead th {\n",
       "        text-align: right;\n",
       "    }\n",
       "</style>\n",
       "<table border=\"1\" class=\"dataframe\">\n",
       "  <thead>\n",
       "    <tr style=\"text-align: right;\">\n",
       "      <th></th>\n",
       "      <th>id</th>\n",
       "      <th>message</th>\n",
       "      <th>message_preprocessed</th>\n",
       "      <th>category</th>\n",
       "      <th>length</th>\n",
       "      <th>category_bin</th>\n",
       "    </tr>\n",
       "  </thead>\n",
       "  <tbody>\n",
       "    <tr>\n",
       "      <th>39</th>\n",
       "      <td>39</td>\n",
       "      <td>## [Une espérance en ces temps troublés — Timothy Keller — Recension](https://parlafoi.fr/2022/10/25/une-esperance-en-ces-temps-troubles- timothy-keller-recension/)</td>\n",
       "      <td>espérance temps troublés — timothy keller — recensionhttpsparlafoifrune-esperance-en-ces-temps-troubles- timothy-keller-recension</td>\n",
       "      <td>middle_age</td>\n",
       "      <td>164</td>\n",
       "      <td>1</td>\n",
       "    </tr>\n",
       "    <tr>\n",
       "      <th>208</th>\n",
       "      <td>208</td>\n",
       "      <td>Le point de vue de Van Til sur la scolastique a peut-être été influencé par la littérature secondaire dont il disposait au début et au milieu du XXe siècle. La compréhension de la scolastique que l’on trouve dans ces sources a cependant fait l’objet d’un examen approfondi au cours des dernières décennies et a été jugée insuffisante20. La scolastique n’est pas une doctrine particulière. [C’était une méthode](https://parlafoi.fr/la-scolastique- protestante/) conçue pour les écoles, d’où le nom de « scolastique. » Le terme scolastique « désigne donc avant tout une méthode et non un contenu particulier : la méthode pouvait (et était) appliquée à une grande variété de contenus théologiques et elle pouvait (et était) aussi applicable à d’autres disciplines universitaires21. »</td>\n",
       "      <td>point vue van til scolastique a peut-être influencé littérature secondaire dont disposait début milieu xxe siècle compréhension scolastique trouve source a cependant fait objet examen approfondi cour dernier décennie a jugée insuffisante scolastique doctrine particulière cétait méthodehttpsparlafoifrla-scolastique- protestant conçue école où nom « scolastique » terme scolastique « désigne donc avant tout méthode non contenu particulier méthode pouvait appliquée grand variété contenu théologiques pouvait aussi applicable autres discipline universitaire »</td>\n",
       "      <td>middle_age</td>\n",
       "      <td>780</td>\n",
       "      <td>1</td>\n",
       "    </tr>\n",
       "    <tr>\n",
       "      <th>86</th>\n",
       "      <td>86</td>\n",
       "      <td>14. D’AQUIN, Thomas, _On the Power of God_ , Q. 3, art. 1. Dans l’œuvre de Thomas d’Aquin, la distinction entre le Créateur et la créature est décrite de diverses manières. Dieu est acte pur alors que les créatures consistent en un assemblage d’acte de de puissance. Dieu est son propre être alors que les créatures reçoivent leur être de Dieu. Dieu est un être nécessaire alors que les créatures sont des êtres contingents. Dieu est le premier et la cause première et les créatures sont des effets.[↩]</td>\n",
       "      <td>aquin thomas the power of god q art œuvre thomas aquin distinction entre créateur créature décrite diverses manière dieu acte pur alors créature consistent assemblage acte puissance dieu propre être alors créature reçoivent être dieu dieu être nécessaire alors créature être contingent dieu premier cause première créature effets↩</td>\n",
       "      <td>middle_age</td>\n",
       "      <td>504</td>\n",
       "      <td>1</td>\n",
       "    </tr>\n",
       "    <tr>\n",
       "      <th>324</th>\n",
       "      <td>324</td>\n",
       "      <td>Votre adresse e-mail ne sera pas publiée. Les champs obligatoires sont indiqués avec *</td>\n",
       "      <td>adresse e-mail publiée champ obligatoires indiqués</td>\n",
       "      <td>middle_age</td>\n",
       "      <td>86</td>\n",
       "      <td>1</td>\n",
       "    </tr>\n",
       "    <tr>\n",
       "      <th>525</th>\n",
       "      <td>525</td>\n",
       "      <td>Enfant de Dieu, passionné par la théologie et la philosophie. S'il est enfant de Dieu, c'est exclusivement en vertu des mérites de Jésus-Christ et de la grâce de Dieu. Si Dieu le veut, il se fiancera bientôt !</td>\n",
       "      <td>enfant dieu passionné théologie philosophie enfant dieu exclusivement vertu mérite jésus-christ grâce dieu si dieu veut fiancera bientôt</td>\n",
       "      <td>middle_age</td>\n",
       "      <td>209</td>\n",
       "      <td>1</td>\n",
       "    </tr>\n",
       "    <tr>\n",
       "      <th>289</th>\n",
       "      <td>289</td>\n",
       "      <td>Ces derniers jours, j’ai lu ces deux articles sur la distinction et l’interaction entre la révélation générale et la révélation spéciale dans la perspective de l’apologétique classique sur le site web de Ligonier Ministries ; une bonne maîtrise de ces notions me semble incontournable en matière de défense de la foi chrétienne…</td>\n",
       "      <td>dernier jour lu deux article distinction interaction entre révélation générale révélation spéciale perspective apologétique classique site web ligonier ministries bonne maîtrise notion semble incontournable matière défense foi chrétienne…</td>\n",
       "      <td>middle_age</td>\n",
       "      <td>328</td>\n",
       "      <td>1</td>\n",
       "    </tr>\n",
       "    <tr>\n",
       "      <th>650</th>\n",
       "      <td>650</td>\n",
       "      <td>La façon logique de procéder me semble être d’établir, en ordre :   Théisme → Monothéisme → Trinitarisme → Protestantisme → Foi réformée.</td>\n",
       "      <td>façon logique procéder semble être établir ordre théisme → monothéisme → trinitarisme → protestantisme → foi réformée</td>\n",
       "      <td>middle_age</td>\n",
       "      <td>137</td>\n",
       "      <td>1</td>\n",
       "    </tr>\n",
       "  </tbody>\n",
       "</table>\n",
       "</div>"
      ],
      "text/plain": [
       "      id  \\\n",
       "39    39   \n",
       "208  208   \n",
       "86    86   \n",
       "324  324   \n",
       "525  525   \n",
       "289  289   \n",
       "650  650   \n",
       "\n",
       "                                                                                                                                                                                                                                                                                                                                                                                                                                                                                                                                                                                                                                                                                                                                                                                                          message  \\\n",
       "39                                                                                                                                                                                                                                                                                                                                                                                                                                                                                                                                                                                                                                           ## [Une espérance en ces temps troublés — Timothy Keller — Recension](https://parlafoi.fr/2022/10/25/une-esperance-en-ces-temps-troubles- timothy-keller-recension/)   \n",
       "208  Le point de vue de Van Til sur la scolastique a peut-être été influencé par la littérature secondaire dont il disposait au début et au milieu du XXe siècle. La compréhension de la scolastique que l’on trouve dans ces sources a cependant fait l’objet d’un examen approfondi au cours des dernières décennies et a été jugée insuffisante20. La scolastique n’est pas une doctrine particulière. [C’était une méthode](https://parlafoi.fr/la-scolastique- protestante/) conçue pour les écoles, d’où le nom de « scolastique. » Le terme scolastique « désigne donc avant tout une méthode et non un contenu particulier : la méthode pouvait (et était) appliquée à une grande variété de contenus théologiques et elle pouvait (et était) aussi applicable à d’autres disciplines universitaires21. »   \n",
       "86                                                                                                                                                                                                                                                                                         14. D’AQUIN, Thomas, _On the Power of God_ , Q. 3, art. 1. Dans l’œuvre de Thomas d’Aquin, la distinction entre le Créateur et la créature est décrite de diverses manières. Dieu est acte pur alors que les créatures consistent en un assemblage d’acte de de puissance. Dieu est son propre être alors que les créatures reçoivent leur être de Dieu. Dieu est un être nécessaire alors que les créatures sont des êtres contingents. Dieu est le premier et la cause première et les créatures sont des effets.[↩]   \n",
       "324                                                                                                                                                                                                                                                                                                                                                                                                                                                                                                                                                                                                                                                                                                                        Votre adresse e-mail ne sera pas publiée. Les champs obligatoires sont indiqués avec *   \n",
       "525                                                                                                                                                                                                                                                                                                                                                                                                                                                                                                                                                                                             Enfant de Dieu, passionné par la théologie et la philosophie. S'il est enfant de Dieu, c'est exclusivement en vertu des mérites de Jésus-Christ et de la grâce de Dieu. Si Dieu le veut, il se fiancera bientôt !   \n",
       "289                                                                                                                                                                                                                                                                                                                                                                                                                                                                      Ces derniers jours, j’ai lu ces deux articles sur la distinction et l’interaction entre la révélation générale et la révélation spéciale dans la perspective de l’apologétique classique sur le site web de Ligonier Ministries ; une bonne maîtrise de ces notions me semble incontournable en matière de défense de la foi chrétienne…   \n",
       "650                                                                                                                                                                                                                                                                                                                                                                                                                                                                                                                                                                                                                                                                     La façon logique de procéder me semble être d’établir, en ordre :   Théisme → Monothéisme → Trinitarisme → Protestantisme → Foi réformée.   \n",
       "\n",
       "                                                                                                                                                                                                                                                                                                                                                                                                                                                                                                                                                                message_preprocessed  \\\n",
       "39                                                                                                                                                                                                                                                                                                                                                                                                                                                 espérance temps troublés — timothy keller — recensionhttpsparlafoifrune-esperance-en-ces-temps-troubles- timothy-keller-recension   \n",
       "208  point vue van til scolastique a peut-être influencé littérature secondaire dont disposait début milieu xxe siècle compréhension scolastique trouve source a cependant fait objet examen approfondi cour dernier décennie a jugée insuffisante scolastique doctrine particulière cétait méthodehttpsparlafoifrla-scolastique- protestant conçue école où nom « scolastique » terme scolastique « désigne donc avant tout méthode non contenu particulier méthode pouvait appliquée grand variété contenu théologiques pouvait aussi applicable autres discipline universitaire »   \n",
       "86                                                                                                                                                                                                                                        aquin thomas the power of god q art œuvre thomas aquin distinction entre créateur créature décrite diverses manière dieu acte pur alors créature consistent assemblage acte puissance dieu propre être alors créature reçoivent être dieu dieu être nécessaire alors créature être contingent dieu premier cause première créature effets↩   \n",
       "324                                                                                                                                                                                                                                                                                                                                                                                                                                                                                                                               adresse e-mail publiée champ obligatoires indiqués   \n",
       "525                                                                                                                                                                                                                                                                                                                                                                                                                                         enfant dieu passionné théologie philosophie enfant dieu exclusivement vertu mérite jésus-christ grâce dieu si dieu veut fiancera bientôt   \n",
       "289                                                                                                                                                                                                                                                                                                                                   dernier jour lu deux article distinction interaction entre révélation générale révélation spéciale perspective apologétique classique site web ligonier ministries bonne maîtrise notion semble incontournable matière défense foi chrétienne…   \n",
       "650                                                                                                                                                                                                                                                                                                                                                                                                                                                            façon logique procéder semble être établir ordre théisme → monothéisme → trinitarisme → protestantisme → foi réformée   \n",
       "\n",
       "       category  length  category_bin  \n",
       "39   middle_age     164             1  \n",
       "208  middle_age     780             1  \n",
       "86   middle_age     504             1  \n",
       "324  middle_age      86             1  \n",
       "525  middle_age     209             1  \n",
       "289  middle_age     328             1  \n",
       "650  middle_age     137             1  "
      ]
     },
     "metadata": {},
     "output_type": "display_data"
    }
   ],
   "source": [
    "with pd.option_context(\"display.max_rows\", 1000):\n",
    "    display(corpus.iloc[corpus_test_errors[corpus_test_errors[\"pred\"] == 0].id]) #faux bapteme\n",
    "\n",
    "#faux exemples a enlever : commentaires, description auteur, texte anglais, references bibliographiques"
   ]
  },
  {
   "cell_type": "code",
   "execution_count": null,
   "metadata": {},
   "outputs": [],
   "source": []
  }
 ],
 "metadata": {
  "kernelspec": {
   "display_name": "Python 3.9.7 ('base')",
   "language": "python",
   "name": "python3"
  },
  "language_info": {
   "codemirror_mode": {
    "name": "ipython",
    "version": 3
   },
   "file_extension": ".py",
   "mimetype": "text/x-python",
   "name": "python",
   "nbconvert_exporter": "python",
   "pygments_lexer": "ipython3",
   "version": "3.9.7 (default, Sep 16 2021, 16:59:28) [MSC v.1916 64 bit (AMD64)]"
  },
  "orig_nbformat": 4,
  "vscode": {
   "interpreter": {
    "hash": "3e7035cb009caaa59ad2cfefe05d6f0df614ee59b6f1c56d32ef92625aa3dec5"
   }
  }
 },
 "nbformat": 4,
 "nbformat_minor": 2
}
