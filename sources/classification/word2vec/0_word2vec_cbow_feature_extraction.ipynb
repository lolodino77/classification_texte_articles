{
 "cells": [
  {
   "cell_type": "code",
   "execution_count": 1,
   "metadata": {},
   "outputs": [
    {
     "name": "stdout",
     "output_type": "stream",
     "text": [
      "c:\\Users\\eupho\\OneDrive\\Documents\\perso\\projets\\classification_texte_bapteme_philo\n"
     ]
    }
   ],
   "source": [
    "import sys\n",
    "from pathlib import Path, PureWindowsPath\n",
    "current_folder = PureWindowsPath(globals()['_dh'][0]).as_posix()\n",
    "path_root = \"/\".join(current_folder.split(\"/\")[:-3]) #remonter au dossier root du projet\n",
    "os.chdir(path_root)\n",
    "print(os.getcwd())\n",
    "sys.path.append(os.getcwd() + \"/sources/classification/\")\n",
    "sys.path.append(os.getcwd() + \"/sources/classification/word2vec\")"
   ]
  },
  {
   "cell_type": "code",
   "execution_count": 2,
   "metadata": {},
   "outputs": [],
   "source": [
    "import os\n",
    "import numpy as np\n",
    "import pandas as pd\n",
    "import seaborn as sb\n",
    "import matplotlib.pyplot as plt\n",
    "from sklearn.pipeline import Pipeline\n",
    "from sklearn.model_selection import train_test_split\n",
    "from sklearn.metrics import classification_report, confusion_matrix\n",
    "from sklearn.naive_bayes import MultinomialNB\n",
    "from sklearn.linear_model import LogisticRegression, SGDClassifier\n",
    "from sklearn.ensemble import RandomForestClassifier, AdaBoostClassifier\n",
    "from sklearn.neighbors import KNeighborsClassifier\n",
    "from sklearn.neural_network import MLPClassifier\n",
    "from sklearn.svm import SVC\n",
    "from sklearn.tree import DecisionTreeClassifier\n",
    "from sklearn.model_selection import RepeatedStratifiedKFold\n",
    "from sklearn.model_selection import KFold, StratifiedKFold, cross_validate, cross_val_score \n",
    "from gensim.utils import tokenize\n",
    "from gensim.models import Word2Vec\n",
    "from nltk.tokenize import word_tokenize\n",
    "from pathlib import Path, PureWindowsPath\n",
    "from lib_classification import *\n",
    "from lib_word2vec import *\n",
    "pd.set_option('display.max_colwidth', 30)\n",
    "pd.set_option('display.min_rows', 5)\n",
    "pd.set_option('display.max_rows', 5)\n",
    "pd.set_option('display.max_colwidth', None) #afficher texte entier dans dataframe"
   ]
  },
  {
   "cell_type": "code",
   "execution_count": 3,
   "metadata": {},
   "outputs": [
    {
     "name": "stdout",
     "output_type": "stream",
     "text": [
      "1    1833\n",
      "0    1833\n",
      "Name: category_bin, dtype: int64\n",
      "presence de doublons ?\n",
      "False\n",
      "False\n"
     ]
    },
    {
     "data": {
      "text/html": [
       "<div>\n",
       "<style scoped>\n",
       "    .dataframe tbody tr th:only-of-type {\n",
       "        vertical-align: middle;\n",
       "    }\n",
       "\n",
       "    .dataframe tbody tr th {\n",
       "        vertical-align: top;\n",
       "    }\n",
       "\n",
       "    .dataframe thead th {\n",
       "        text-align: right;\n",
       "    }\n",
       "</style>\n",
       "<table border=\"1\" class=\"dataframe\">\n",
       "  <thead>\n",
       "    <tr style=\"text-align: right;\">\n",
       "      <th></th>\n",
       "      <th>id</th>\n",
       "      <th>message</th>\n",
       "      <th>message_preprocessed</th>\n",
       "      <th>category</th>\n",
       "      <th>length</th>\n",
       "      <th>category_bin</th>\n",
       "    </tr>\n",
       "  </thead>\n",
       "  <tbody>\n",
       "    <tr>\n",
       "      <th>0</th>\n",
       "      <td>0</td>\n",
       "      <td>## Article 10 : La plénitude de la grâce est-elle propre au Christ ?</td>\n",
       "      <td>article plénitude grâce est-elle propre christ</td>\n",
       "      <td>philosophy</td>\n",
       "      <td>68</td>\n",
       "      <td>1</td>\n",
       "    </tr>\n",
       "    <tr>\n",
       "      <th>1</th>\n",
       "      <td>1</td>\n",
       "      <td>[« En Christ, vous avez été circoncis… » – Baptême et circoncision en Colossiens 2 – Donald Cobb](http://larevuereformee.net/articlerr/n277/en- christ-vous-avez-ete-circoncis-bapteme-et-circoncision-en-colossiens-2)</td>\n",
       "      <td>« christ circoncis… » – baptême circoncision colossiens – donald cobbhttplarevuereformeenetarticlerrnen- christ-vous-avez-ete-circoncis-bapteme-et-circoncision-en-colossiens-</td>\n",
       "      <td>baptism</td>\n",
       "      <td>215</td>\n",
       "      <td>0</td>\n",
       "    </tr>\n",
       "    <tr>\n",
       "      <th>...</th>\n",
       "      <td>...</td>\n",
       "      <td>...</td>\n",
       "      <td>...</td>\n",
       "      <td>...</td>\n",
       "      <td>...</td>\n",
       "      <td>...</td>\n",
       "    </tr>\n",
       "    <tr>\n",
       "      <th>3664</th>\n",
       "      <td>3664</td>\n",
       "      <td>Pour ce qui est de Pierre de Bruys et des vaudois, je conteste ce que vous rapportez. Nous n’avons pas d’écrits attestés de lui et le terme vaudois était utilisé largement pour désigner tous les hérétiques, y compris les sectateurs de Bruys.</td>\n",
       "      <td>pierre bruys vaudois conteste rapportez écrit attestés terme vaudois utilisé largement désigner tous hérétique compris sectateur bruys</td>\n",
       "      <td>baptism</td>\n",
       "      <td>241</td>\n",
       "      <td>0</td>\n",
       "    </tr>\n",
       "    <tr>\n",
       "      <th>3665</th>\n",
       "      <td>3665</td>\n",
       "      <td>« Charles Ingalls est un » ne rajoute rien à Charles Ingalls, ca ne le décrit pas plus. « Un » est synonyme en réalité de « Charles Ingalls n’est pas un nom collectif » : je parle bien d’un seul et même être. Donc « un » ne rajoute pas étant. C’est juste une façon de souligner:</td>\n",
       "      <td>« charles ingalls » rajoute rien charles ingalls ca décrit plus « » synonyme réalité « charles ingalls nom collectif » parle bien seul être donc « » rajoute juste façon souligner</td>\n",
       "      <td>philosophy</td>\n",
       "      <td>278</td>\n",
       "      <td>1</td>\n",
       "    </tr>\n",
       "  </tbody>\n",
       "</table>\n",
       "<p>3666 rows × 6 columns</p>\n",
       "</div>"
      ],
      "text/plain": [
       "        id  \\\n",
       "0        0   \n",
       "1        1   \n",
       "...    ...   \n",
       "3664  3664   \n",
       "3665  3665   \n",
       "\n",
       "                                                                                                                                                                                                                                                                                     message  \\\n",
       "0                                                                                                                                                                                                                       ## Article 10 : La plénitude de la grâce est-elle propre au Christ ?   \n",
       "1                                                                    [« En Christ, vous avez été circoncis… » – Baptême et circoncision en Colossiens 2 – Donald Cobb](http://larevuereformee.net/articlerr/n277/en- christ-vous-avez-ete-circoncis-bapteme-et-circoncision-en-colossiens-2)   \n",
       "...                                                                                                                                                                                                                                                                                      ...   \n",
       "3664                                       Pour ce qui est de Pierre de Bruys et des vaudois, je conteste ce que vous rapportez. Nous n’avons pas d’écrits attestés de lui et le terme vaudois était utilisé largement pour désigner tous les hérétiques, y compris les sectateurs de Bruys.   \n",
       "3665  « Charles Ingalls est un » ne rajoute rien à Charles Ingalls, ca ne le décrit pas plus. « Un » est synonyme en réalité de « Charles Ingalls n’est pas un nom collectif » : je parle bien d’un seul et même être. Donc « un » ne rajoute pas étant. C’est juste une façon de souligner:   \n",
       "\n",
       "                                                                                                                                                                    message_preprocessed  \\\n",
       "0                                                                                                                                         article plénitude grâce est-elle propre christ   \n",
       "1         « christ circoncis… » – baptême circoncision colossiens – donald cobbhttplarevuereformeenetarticlerrnen- christ-vous-avez-ete-circoncis-bapteme-et-circoncision-en-colossiens-   \n",
       "...                                                                                                                                                                                  ...   \n",
       "3664                                              pierre bruys vaudois conteste rapportez écrit attestés terme vaudois utilisé largement désigner tous hérétique compris sectateur bruys   \n",
       "3665  « charles ingalls » rajoute rien charles ingalls ca décrit plus « » synonyme réalité « charles ingalls nom collectif » parle bien seul être donc « » rajoute juste façon souligner   \n",
       "\n",
       "        category  length  category_bin  \n",
       "0     philosophy      68             1  \n",
       "1        baptism     215             0  \n",
       "...          ...     ...           ...  \n",
       "3664     baptism     241             0  \n",
       "3665  philosophy     278             1  \n",
       "\n",
       "[3666 rows x 6 columns]"
      ]
     },
     "execution_count": 3,
     "metadata": {},
     "output_type": "execute_result"
    }
   ],
   "source": [
    "path = PureWindowsPath(os.getcwd() + \"/data/input/data_philosophy_baptism.parquet\")\n",
    "path = path.as_posix() #convertir en path linux (convertir les \\\\ en /)\n",
    "corpus = pd.read_parquet(path) #engine=\"fastparquet\"\n",
    "corpus = get_balanced_binary_dataset(corpus, class_col_name=\"category\")\n",
    "\n",
    "print(corpus[\"category_bin\"].value_counts())\n",
    "print(\"presence de doublons ?\")\n",
    "print(corpus.id.duplicated().any())\n",
    "print(corpus.index.duplicated().any())\n",
    "corpus"
   ]
  },
  {
   "cell_type": "code",
   "execution_count": 4,
   "metadata": {},
   "outputs": [],
   "source": [
    "tokens = corpus[\"message_preprocessed\"].apply(word_tokenize)\n",
    "model_cbow = Word2Vec(sentences=tokens, vector_size=200,workers=-1, sg=0) #modele cbow\n",
    "words_vectors_cbow = model_cbow.wv"
   ]
  },
  {
   "cell_type": "code",
   "execution_count": 5,
   "metadata": {},
   "outputs": [],
   "source": [
    "model = model_cbow"
   ]
  },
  {
   "cell_type": "code",
   "execution_count": 6,
   "metadata": {},
   "outputs": [
    {
     "data": {
      "text/plain": [
       "[('incroyant', 0.26945075392723083),\n",
       " ('considérez', 0.24666087329387665),\n",
       " ('naturellement', 0.2434515357017517),\n",
       " ('gn', 0.23838600516319275),\n",
       " ('baptisé', 0.21530994772911072),\n",
       " ('ordonnée', 0.20073316991329193),\n",
       " ('croyait', 0.19895188510417938),\n",
       " ('personnelle', 0.19672322273254395),\n",
       " ('vont', 0.19669555127620697),\n",
       " ('avancé', 0.1961470991373062)]"
      ]
     },
     "execution_count": 6,
     "metadata": {},
     "output_type": "execute_result"
    }
   ],
   "source": [
    "model.wv.most_similar(\"maxime\", topn=10)"
   ]
  },
  {
   "cell_type": "code",
   "execution_count": 7,
   "metadata": {},
   "outputs": [
    {
     "name": "stdout",
     "output_type": "stream",
     "text": [
      "2924\n"
     ]
    }
   ],
   "source": [
    "vocab=list(model.wv.key_to_index.keys())\n",
    "print(len(vocab))"
   ]
  },
  {
   "cell_type": "code",
   "execution_count": 8,
   "metadata": {},
   "outputs": [
    {
     "data": {
      "text/plain": [
       "(200,)"
      ]
     },
     "execution_count": 8,
     "metadata": {},
     "output_type": "execute_result"
    }
   ],
   "source": [
    "type(model.wv)\n",
    "model.wv[0]\n",
    "model.wv[0].shape"
   ]
  },
  {
   "cell_type": "code",
   "execution_count": 9,
   "metadata": {},
   "outputs": [
    {
     "data": {
      "text/plain": [
       "'cas'"
      ]
     },
     "execution_count": 9,
     "metadata": {},
     "output_type": "execute_result"
    }
   ],
   "source": [
    "model.wv.key_to_index\n",
    "model.wv.index_to_key[100] #liste de mots\n",
    "# type(model.wv.index_to_key)"
   ]
  },
  {
   "cell_type": "code",
   "execution_count": 10,
   "metadata": {},
   "outputs": [
    {
     "data": {
      "text/plain": [
       "['dieu',\n",
       " '»',\n",
       " '«',\n",
       " 'a',\n",
       " 'baptême',\n",
       " 'comme',\n",
       " 'être',\n",
       " 'plus',\n",
       " 'alliance',\n",
       " 'cette',\n",
       " 'fait',\n",
       " 'enfant',\n",
       " 'si',\n",
       " 'donc',\n",
       " 'dit',\n",
       " 'tout',\n",
       " 'christ',\n",
       " '-',\n",
       " '–',\n",
       " 'foi',\n",
       " 'bien',\n",
       " 'chose',\n",
       " 'cela',\n",
       " 'peut',\n",
       " 'homme',\n",
       " 'non',\n",
       " 'van',\n",
       " 'aussi',\n",
       " 'til',\n",
       " 'dire',\n",
       " 'article',\n",
       " '…',\n",
       " 'tous',\n",
       " 'ainsi',\n",
       " 'entre',\n",
       " 'nature',\n",
       " 'raison',\n",
       " 'autre',\n",
       " 'question',\n",
       " 'parce',\n",
       " 'car',\n",
       " 'père',\n",
       " 'circoncision',\n",
       " 'faire',\n",
       " 'personne',\n",
       " 'grâce',\n",
       " 'sans',\n",
       " 'église',\n",
       " 'baptisé',\n",
       " 'deux',\n",
       " 'the',\n",
       " 'thomas',\n",
       " 'toute',\n",
       " 'famille',\n",
       " 'quand',\n",
       " 'promesse',\n",
       " 'autres',\n",
       " 'alors',\n",
       " 'baptiste',\n",
       " 'jésus',\n",
       " 'chrétien',\n",
       " 'théologie',\n",
       " 'sens',\n",
       " 'vie',\n",
       " 'selon',\n",
       " 'réformé',\n",
       " 'fil',\n",
       " 'of',\n",
       " 'cause',\n",
       " 'encore',\n",
       " 'effet',\n",
       " 'nouvelle',\n",
       " 'acte',\n",
       " 'testament',\n",
       " 'ceux',\n",
       " 'où',\n",
       " 'point',\n",
       " 'toutes',\n",
       " 'ici',\n",
       " 'péché',\n",
       " 'avoir',\n",
       " 'faut',\n",
       " 'exemple',\n",
       " 'façon',\n",
       " 'signe',\n",
       " 'lui-même',\n",
       " 'ancien',\n",
       " 'jean',\n",
       " 'humaine',\n",
       " 'esprit',\n",
       " 'après',\n",
       " 'volonté',\n",
       " 'or',\n",
       " 'doctrine',\n",
       " 'celui',\n",
       " 'nouveau',\n",
       " 'voir',\n",
       " 'p',\n",
       " 'grand',\n",
       " 'monde',\n",
       " 'cas',\n",
       " 'paul',\n",
       " 'cet',\n",
       " 'connaissance',\n",
       " 'parole',\n",
       " 'sujet',\n",
       " 'seigneur',\n",
       " 'bonne',\n",
       " 'oui',\n",
       " 'maison',\n",
       " 'très',\n",
       " 'corps',\n",
       " 'avant',\n",
       " 'certain',\n",
       " 'divine',\n",
       " 'pourquoi',\n",
       " 'eau',\n",
       " 'peuple',\n",
       " 'régénération',\n",
       " 'réponse',\n",
       " 'veut',\n",
       " 'déjà',\n",
       " 'argument',\n",
       " 'bible',\n",
       " 'écrit',\n",
       " '“',\n",
       " 'dont',\n",
       " 'savoir',\n",
       " 'ni',\n",
       " '”',\n",
       " 'rien',\n",
       " 'puisque',\n",
       " 'seulement',\n",
       " 'comment',\n",
       " 'béatitude',\n",
       " 'abraham',\n",
       " 'quelque',\n",
       " 'premier',\n",
       " 'bon',\n",
       " 'manière',\n",
       " 'réformée',\n",
       " 'partie',\n",
       " 'leurs',\n",
       " 'doit',\n",
       " 'texte',\n",
       " 'saint',\n",
       " 'aquin',\n",
       " 'temps',\n",
       " 'croyant',\n",
       " 'and',\n",
       " 'baptiser',\n",
       " 'sou',\n",
       " 'calvin',\n",
       " 'celle',\n",
       " 'naturel',\n",
       " 'chez',\n",
       " 'tant',\n",
       " 'nom',\n",
       " 'q',\n",
       " 'pédobaptême',\n",
       " 'pratique',\n",
       " 'mot',\n",
       " 'terme',\n",
       " 'mal',\n",
       " 'réalité',\n",
       " 'sacrement',\n",
       " 'existe',\n",
       " 'visible',\n",
       " 'contre',\n",
       " 'agit',\n",
       " 'livre',\n",
       " 'justice',\n",
       " 'vrai',\n",
       " 'propre',\n",
       " 'comprendre',\n",
       " 'seul',\n",
       " 'aucun',\n",
       " 'part',\n",
       " 'langage',\n",
       " 'augustin',\n",
       " 'débat',\n",
       " 'là',\n",
       " 'âme',\n",
       " 'salut',\n",
       " 'principe',\n",
       " 'apôtre',\n",
       " 'forme',\n",
       " 'pensée',\n",
       " 'vue',\n",
       " 'laquelle',\n",
       " 'idée',\n",
       " 'siècle',\n",
       " 'pédobaptiste',\n",
       " 'ver',\n",
       " 'nécessaire',\n",
       " 'créature',\n",
       " 'pierre',\n",
       " 'reçu',\n",
       " 'juif',\n",
       " 'tête',\n",
       " 'jour',\n",
       " 'administration',\n",
       " 'seule',\n",
       " 'jugement',\n",
       " 'ailleurs',\n",
       " 'toujours',\n",
       " 'semble',\n",
       " 'elles',\n",
       " 'souvent',\n",
       " 'rite',\n",
       " 'mort',\n",
       " 'position',\n",
       " 'première',\n",
       " 'beaucoup',\n",
       " 'définition',\n",
       " 'immersion',\n",
       " 'ia',\n",
       " 'plutôt',\n",
       " '↩',\n",
       " 'cène',\n",
       " 'femme',\n",
       " 'objet',\n",
       " 'distinction',\n",
       " 'eglise',\n",
       " 'donne',\n",
       " 'traité',\n",
       " 'peuvent',\n",
       " 'puissance',\n",
       " 'loi',\n",
       " 'aucune',\n",
       " 'existence',\n",
       " 'histoire',\n",
       " 'jamais',\n",
       " 'vérité',\n",
       " 'moins',\n",
       " 'membre',\n",
       " 'quoi',\n",
       " 'moyen',\n",
       " 'romain',\n",
       " 'pense',\n",
       " 'relation',\n",
       " 'simplement',\n",
       " 'maintenant',\n",
       " 'heure',\n",
       " 'possible',\n",
       " 'theology',\n",
       " 'contraire',\n",
       " 'est-à-dire',\n",
       " 'est-ce',\n",
       " 'juste',\n",
       " 'cœur',\n",
       " 'est-il',\n",
       " 'hui',\n",
       " 'union',\n",
       " 'parle',\n",
       " 'mise',\n",
       " 'problème',\n",
       " 'parallèle',\n",
       " 'jérémie',\n",
       " 'fin',\n",
       " 'vient',\n",
       " 'dernier',\n",
       " 'e',\n",
       " 'biblique',\n",
       " 'peu',\n",
       " 'science',\n",
       " 'puis',\n",
       " 'cf',\n",
       " 'genèse',\n",
       " 'autrement',\n",
       " 'in',\n",
       " 'vraiment',\n",
       " 'épreuve',\n",
       " 'élément',\n",
       " 'conscience',\n",
       " 'saint-esprit',\n",
       " 'dès',\n",
       " 'confession',\n",
       " 'nation',\n",
       " 'parent',\n",
       " 'trouve',\n",
       " 'hébreux',\n",
       " 'plusieurs',\n",
       " 'œuvres',\n",
       " 'min',\n",
       " 'lien',\n",
       " 'israël',\n",
       " 'telle',\n",
       " 'a-t-il',\n",
       " 'création',\n",
       " 'base',\n",
       " 'baptismale',\n",
       " 'critique',\n",
       " 'trois',\n",
       " 'covenant',\n",
       " 'pouvons',\n",
       " 'humain',\n",
       " 'simple',\n",
       " 'âge',\n",
       " 'terre',\n",
       " 'spirituel',\n",
       " 'quel',\n",
       " 'moment',\n",
       " 'cependant',\n",
       " 'appelle',\n",
       " 'lumière',\n",
       " 'particulier',\n",
       " 'amour',\n",
       " 'mieux',\n",
       " 'tel',\n",
       " 'théologien',\n",
       " 'signifie',\n",
       " 'naissance',\n",
       " 'lorsque',\n",
       " 'compréhension',\n",
       " 'vu',\n",
       " 'etc',\n",
       " 'différence',\n",
       " 'passage',\n",
       " '--',\n",
       " 'connaître',\n",
       " 'compris',\n",
       " 'tradition',\n",
       " 'objection',\n",
       " 'culte',\n",
       " 'nombre',\n",
       " 'reste',\n",
       " 'lieu',\n",
       " 'to',\n",
       " 'substance',\n",
       " 'circoncis',\n",
       " 'haut',\n",
       " 'écriture',\n",
       " 'an',\n",
       " 'changement',\n",
       " 'unique',\n",
       " 'contexte',\n",
       " 'essence',\n",
       " 'abord',\n",
       " 'disciple',\n",
       " 'parler',\n",
       " 'sorte',\n",
       " 'éd',\n",
       " 'voici',\n",
       " 'petit',\n",
       " 'suite',\n",
       " 'vision',\n",
       " 'donné',\n",
       " 'moïse',\n",
       " 'partir',\n",
       " 'scolastique',\n",
       " 'est-elle',\n",
       " 'ordre',\n",
       " 'pouvoir',\n",
       " 'concerne',\n",
       " 'corinthiens',\n",
       " 'connaît',\n",
       " 'utilise',\n",
       " 'chair',\n",
       " 'considérer',\n",
       " 'croire',\n",
       " 'vivant',\n",
       " 'loin',\n",
       " 'image',\n",
       " 'pouvait',\n",
       " 'maxime',\n",
       " 'depuis',\n",
       " 'individu',\n",
       " 'ensuite',\n",
       " 'quelques',\n",
       " 'perfection',\n",
       " 'sagesse',\n",
       " 'adulte',\n",
       " 'john',\n",
       " 'lors',\n",
       " 'pourtant',\n",
       " 'matière',\n",
       " 'païen',\n",
       " 'expression',\n",
       " 'roi',\n",
       " 'voyons',\n",
       " 'pourrait',\n",
       " 'voit',\n",
       " 'pu',\n",
       " 'précisément',\n",
       " 'kline',\n",
       " 'mauvais',\n",
       " 'devon',\n",
       " 'accord',\n",
       " 'but',\n",
       " 'classique',\n",
       " 'élu',\n",
       " 'évangélique',\n",
       " 'matthieu',\n",
       " 'afin',\n",
       " 'commentaire',\n",
       " 'communauté',\n",
       " 'bonté',\n",
       " 'étude',\n",
       " 'uniquement',\n",
       " 'quelle',\n",
       " 'faite',\n",
       " 'chaque',\n",
       " 'elle-même',\n",
       " 'clair',\n",
       " 'doivent',\n",
       " 'rapport',\n",
       " 'extérieur',\n",
       " 'impossible',\n",
       " 'luc',\n",
       " 'éternel',\n",
       " 'faux',\n",
       " 'parmi',\n",
       " 'certaine',\n",
       " 'apologétique',\n",
       " 'jésus-christ',\n",
       " 'appelé',\n",
       " 'sait',\n",
       " 'œuvre',\n",
       " 'oeuvre',\n",
       " 'penser',\n",
       " 'désigne',\n",
       " 'autorité',\n",
       " 'cest',\n",
       " 'incroyant',\n",
       " 'donnée',\n",
       " 'autant',\n",
       " 'quant',\n",
       " 'descendance',\n",
       " 'donner',\n",
       " 'ensemble',\n",
       " 'limite',\n",
       " 'enseignement',\n",
       " 'combat',\n",
       " 'époque',\n",
       " 'présupposé',\n",
       " 'considère',\n",
       " 'recevoir',\n",
       " 'toutefois',\n",
       " 'côté',\n",
       " 'mode',\n",
       " 'introduction',\n",
       " 'assez',\n",
       " 'créé',\n",
       " 'action',\n",
       " 'incarnation',\n",
       " 'intellect',\n",
       " 'catholique',\n",
       " 'répondre',\n",
       " 'grec',\n",
       " 'historique',\n",
       " 'gloire',\n",
       " 'suivant',\n",
       " 'coeur',\n",
       " 'affirme',\n",
       " 'bienheureux',\n",
       " 'guillaume',\n",
       " 'formule',\n",
       " 'véritable',\n",
       " 'nécessité',\n",
       " 'parfois',\n",
       " 'capacité',\n",
       " 'système',\n",
       " 'verset',\n",
       " 'ceci',\n",
       " 'frère',\n",
       " 'philosophie',\n",
       " 'certaines',\n",
       " 'genre',\n",
       " 'consiste',\n",
       " 'prière',\n",
       " 'va',\n",
       " 'converti',\n",
       " 'conversion',\n",
       " 'théologique',\n",
       " 'mosaïque',\n",
       " 'montrer',\n",
       " 'repentance',\n",
       " 'logique',\n",
       " 'explique',\n",
       " 'ça',\n",
       " 'montre',\n",
       " 'nécessairement',\n",
       " 'meredith',\n",
       " 'venir',\n",
       " 'lire',\n",
       " 'trinité',\n",
       " 'directement',\n",
       " 'main',\n",
       " 'nourrisson',\n",
       " 'implique',\n",
       " 'font',\n",
       " 'fort',\n",
       " 'différent',\n",
       " 'sang',\n",
       " 'divin',\n",
       " 'disant',\n",
       " 'unité',\n",
       " 'concernant',\n",
       " 'également',\n",
       " 'christian',\n",
       " 'début',\n",
       " 'tard',\n",
       " 'parfaite',\n",
       " 'révélation',\n",
       " 'preuve',\n",
       " 'état',\n",
       " 'religieux',\n",
       " 'pardon',\n",
       " 'interprétation',\n",
       " 'baptism',\n",
       " 'ange',\n",
       " 'cru',\n",
       " 'footnote',\n",
       " 'série',\n",
       " 'méthode',\n",
       " 'place',\n",
       " 'lequel',\n",
       " 'pédobaptistes',\n",
       " 'faites',\n",
       " 'lecture',\n",
       " 'référence',\n",
       " 'évangile',\n",
       " 'devait',\n",
       " 'physique',\n",
       " 'demande',\n",
       " 'allons',\n",
       " 'présente',\n",
       " 'erreur',\n",
       " 'rendre',\n",
       " 'enseigne',\n",
       " 'mère',\n",
       " 'cor',\n",
       " 'eternel',\n",
       " 'connu',\n",
       " 'puisse',\n",
       " 'prédestination',\n",
       " 'besoin',\n",
       " 'evangile',\n",
       " 'v',\n",
       " 'foihttpsparlafoiblogwordpresscom-bonnes-raisons-detre-pedobaptiste',\n",
       " 'dis',\n",
       " 'ex',\n",
       " 'deuxième',\n",
       " 'marie',\n",
       " 'auteur',\n",
       " 'surtout',\n",
       " 'symbole',\n",
       " 'continuité',\n",
       " 'éternelle',\n",
       " 'don',\n",
       " 'créateur',\n",
       " 'feu',\n",
       " 'sauvés',\n",
       " 'peut-être',\n",
       " 'partout',\n",
       " 'sauvé',\n",
       " 'différentes',\n",
       " 'condition',\n",
       " 'année',\n",
       " 'premièrement',\n",
       " 'élection',\n",
       " 'important',\n",
       " 'bibliques',\n",
       " 'pleinement',\n",
       " 'probable',\n",
       " 'force',\n",
       " 'aristote',\n",
       " 'prophète',\n",
       " 'compte',\n",
       " 'psaume',\n",
       " 'mouvement',\n",
       " 'détail',\n",
       " 'systematic',\n",
       " 'traduction',\n",
       " 'conclusion',\n",
       " 'propriété',\n",
       " 'pur',\n",
       " 'convient',\n",
       " 'chacun',\n",
       " 'affirmation',\n",
       " 'certainement',\n",
       " 'commun',\n",
       " 'mesure',\n",
       " 'long',\n",
       " 'différente',\n",
       " 'promis',\n",
       " 'infini',\n",
       " 'antique',\n",
       " 'samuel',\n",
       " 'accomplissement',\n",
       " 'répond',\n",
       " 'face',\n",
       " 'bénéfice',\n",
       " 'initiation',\n",
       " '‘',\n",
       " 'montré',\n",
       " 'tandis',\n",
       " 'vierge',\n",
       " 'disent',\n",
       " 'davantage',\n",
       " 'expérience',\n",
       " 'justification',\n",
       " 'néanmoins',\n",
       " 'jeune',\n",
       " 'westminster',\n",
       " 'né',\n",
       " 'turretin',\n",
       " 'envers',\n",
       " 'yeux',\n",
       " 'pédobaptisme',\n",
       " 'passé',\n",
       " 'prend',\n",
       " 'pris',\n",
       " 'mérite',\n",
       " 'traditionnelle',\n",
       " 'gen',\n",
       " 'rend',\n",
       " 'profession',\n",
       " 'sanctification',\n",
       " 'engagement',\n",
       " 'sceau',\n",
       " 'miséricorde',\n",
       " 'malédiction',\n",
       " 'raisonnement',\n",
       " 'irrégénérés',\n",
       " 'importe',\n",
       " 'témoignage',\n",
       " 'israélite',\n",
       " 'abrahamique',\n",
       " 'lecteur',\n",
       " 'conception',\n",
       " 'période',\n",
       " 'dehors',\n",
       " 'verrons',\n",
       " 'joseph',\n",
       " 'utilisé',\n",
       " 'structure',\n",
       " 'explicitement',\n",
       " 'clause',\n",
       " 'type',\n",
       " 'notion',\n",
       " 'faisant',\n",
       " 'réforme',\n",
       " 'décrit',\n",
       " 'présent',\n",
       " 'adam',\n",
       " 'pays',\n",
       " 'trop',\n",
       " 'faveur',\n",
       " 'enfin',\n",
       " 'vertu',\n",
       " 'manque',\n",
       " 'demander',\n",
       " 'claire',\n",
       " 'meilleur',\n",
       " 'commencé',\n",
       " 'régénérés',\n",
       " 'entière',\n",
       " 'prendre',\n",
       " 'métaphysique',\n",
       " 'voilà',\n",
       " 'capable',\n",
       " 'religion',\n",
       " 'verbe',\n",
       " 'utiliser',\n",
       " 'source',\n",
       " 'prédication',\n",
       " 'invisible',\n",
       " 'opération',\n",
       " 'modèle',\n",
       " 'adresse',\n",
       " 'autour',\n",
       " 'morale',\n",
       " 'sacrifice',\n",
       " 'defense',\n",
       " 'purification',\n",
       " 'arbre',\n",
       " 'mariage',\n",
       " 'attribut',\n",
       " 'sein',\n",
       " 'comprend',\n",
       " 'chef',\n",
       " 'colossiens',\n",
       " 'croit',\n",
       " 'matériel',\n",
       " 'change',\n",
       " 'assurance',\n",
       " 'parfait',\n",
       " 'cérémonie',\n",
       " 'david',\n",
       " 'lit',\n",
       " 'milieu',\n",
       " 'devant',\n",
       " 'droit',\n",
       " 'mis',\n",
       " 'conséquence',\n",
       " 'déclaration',\n",
       " 'sinon',\n",
       " 'divinité',\n",
       " 'baptisme',\n",
       " 'appel',\n",
       " 'soi',\n",
       " 'vaudois',\n",
       " 'plan',\n",
       " 'concept',\n",
       " 'sauver',\n",
       " 'génération',\n",
       " 'proche',\n",
       " 'expliquer',\n",
       " 'plénitude',\n",
       " 'aller',\n",
       " 'situation',\n",
       " 'uni',\n",
       " 'sûr',\n",
       " 'univers',\n",
       " 'influence',\n",
       " 'même',\n",
       " 'degré',\n",
       " 'usage',\n",
       " 'ultime',\n",
       " 'humains',\n",
       " 'prouver',\n",
       " 'déluge',\n",
       " 'originel',\n",
       " 'épître',\n",
       " 'lettre',\n",
       " 'pécheur',\n",
       " 'utile',\n",
       " 'avertissement',\n",
       " 'analogie',\n",
       " 'libre',\n",
       " 'permet',\n",
       " 'caractère',\n",
       " 'absolument',\n",
       " 'statut',\n",
       " 'noé',\n",
       " 'chaise',\n",
       " 'réformées',\n",
       " 'pendant',\n",
       " 'tôt',\n",
       " 'venu',\n",
       " 'sert',\n",
       " 'prédestiné',\n",
       " 'summa',\n",
       " 'pain',\n",
       " 'inverse',\n",
       " 'vraie',\n",
       " 'merci',\n",
       " 'considéré',\n",
       " 'bref',\n",
       " 'serviteur',\n",
       " 'précise',\n",
       " 'politique',\n",
       " 'parfaitement',\n",
       " 'conséquent',\n",
       " 'espérance',\n",
       " 'peut-il',\n",
       " 'bonheur',\n",
       " 'assemblée',\n",
       " 'fidèle',\n",
       " 'prêtre',\n",
       " 'verdict',\n",
       " 'objectif',\n",
       " 'lié',\n",
       " 'croix',\n",
       " 'éternité',\n",
       " 'coupe',\n",
       " 'discussion',\n",
       " 'seuls',\n",
       " 'moderne',\n",
       " 'suffit',\n",
       " 'résurrection',\n",
       " 'pouvaient',\n",
       " 'plupart',\n",
       " 'réellement',\n",
       " 'remarque',\n",
       " 'opinion',\n",
       " 'devrait',\n",
       " 'patristique',\n",
       " 'parlent',\n",
       " 'novembre',\n",
       " 'romaine',\n",
       " 'doute',\n",
       " 'technique',\n",
       " 'accident',\n",
       " 'affirmer',\n",
       " 'formulation',\n",
       " 'héritage',\n",
       " 'origine',\n",
       " 'reformed',\n",
       " 'pleine',\n",
       " 'faith',\n",
       " 'supérieur',\n",
       " 'catégorie',\n",
       " 'disons',\n",
       " 'reçoivent',\n",
       " 'confusion',\n",
       " 'cadre',\n",
       " 'particulière',\n",
       " 'chapitre',\n",
       " 'ciel',\n",
       " 'manifeste',\n",
       " 'niveau',\n",
       " 'commence',\n",
       " 'signification',\n",
       " 'deuxièmement',\n",
       " 'porte',\n",
       " 'reconnaître',\n",
       " 'apologetics',\n",
       " 'lesquelles',\n",
       " 'thomiste',\n",
       " 'passe',\n",
       " 'accompli',\n",
       " 'orthodoxe',\n",
       " 'utilisation',\n",
       " 'reçoit',\n",
       " 'mer',\n",
       " 'entrée',\n",
       " 'clairement',\n",
       " 'celui-ci',\n",
       " 'serment',\n",
       " 'troisième',\n",
       " 'aspect',\n",
       " 'philosophique',\n",
       " 'cour',\n",
       " 'évident',\n",
       " 'protestant',\n",
       " 'soumis',\n",
       " 'annonce',\n",
       " 'institution',\n",
       " 'disait',\n",
       " 'évidemment',\n",
       " 'ps',\n",
       " 'b',\n",
       " 'défense',\n",
       " 'habituelle',\n",
       " 'infant',\n",
       " 'trouver',\n",
       " 'celles',\n",
       " 'liturgie',\n",
       " 'crois',\n",
       " 'james',\n",
       " 'choix',\n",
       " 'sauf',\n",
       " 'certes',\n",
       " 'intelligence',\n",
       " 'établi',\n",
       " 'mettre',\n",
       " 'royaume',\n",
       " 'occasion',\n",
       " 'anabaptiste',\n",
       " 'new',\n",
       " 'promet',\n",
       " 'vouloir',\n",
       " 'soleil',\n",
       " 'deutéronome',\n",
       " 'efficacité',\n",
       " 'principale',\n",
       " 'rm',\n",
       " 'lisez',\n",
       " 'voie',\n",
       " 'particulièrement',\n",
       " 'venue',\n",
       " 'rédemption',\n",
       " 'commune',\n",
       " 'simplicité',\n",
       " 'agir',\n",
       " 'rom',\n",
       " 'joie',\n",
       " 'obéissance',\n",
       " 'possède',\n",
       " 'désormais',\n",
       " 'frame',\n",
       " 'croient',\n",
       " 'vassal',\n",
       " 'allait',\n",
       " 'cornelius',\n",
       " 'correspond',\n",
       " 'systématique',\n",
       " 'procession',\n",
       " 'intellectuel',\n",
       " 'crispus',\n",
       " 'complètement',\n",
       " 'véritablement',\n",
       " 'origène',\n",
       " 'seconde',\n",
       " 'liée',\n",
       " 'remarquer',\n",
       " 'médiévale',\n",
       " 'travail',\n",
       " 'régénéré',\n",
       " 'fallait',\n",
       " 'mentionné',\n",
       " 'blog',\n",
       " 'travers',\n",
       " 'orthodoxie',\n",
       " 'rendu',\n",
       " 'primitive',\n",
       " 'pourraient',\n",
       " 'nôtre',\n",
       " 'adoration',\n",
       " 'extrait',\n",
       " 'participer',\n",
       " 'rappelle',\n",
       " 'bibliographie',\n",
       " 'survey',\n",
       " 'responsabilité',\n",
       " 'prosélyte',\n",
       " 'hérétique',\n",
       " 'arrive',\n",
       " 'emphase',\n",
       " 'lc',\n",
       " 'tellement',\n",
       " 'probablement',\n",
       " 'jérusalem',\n",
       " 'désir',\n",
       " 'damascène',\n",
       " 'crainte',\n",
       " 'animal',\n",
       " 'mentionne',\n",
       " 'établit',\n",
       " 'discontinuité',\n",
       " 'aime',\n",
       " 'divers',\n",
       " 'crée',\n",
       " 'réformateur',\n",
       " 'mission',\n",
       " 'rome',\n",
       " 'chauny',\n",
       " 'composé',\n",
       " 'fais',\n",
       " 'antithèse',\n",
       " 'décrire',\n",
       " 'baptisant',\n",
       " 'diverses',\n",
       " 'propos',\n",
       " 'celle-ci',\n",
       " 'bas',\n",
       " 'pouvez',\n",
       " 'français',\n",
       " 'jai',\n",
       " 'descendant',\n",
       " 'dessus',\n",
       " 'confiance',\n",
       " 'malgré',\n",
       " 'général',\n",
       " 'foihttpparlafoilocal-bonnes-raisons-detre-pedobaptiste',\n",
       " 'explication',\n",
       " 'choisi',\n",
       " 'activité',\n",
       " 'vais',\n",
       " 'nouveauté',\n",
       " 'children',\n",
       " 'fera',\n",
       " 'messie',\n",
       " 'administré',\n",
       " 'pire',\n",
       " 'cite',\n",
       " 'fasse',\n",
       " 'procède',\n",
       " 'entendu',\n",
       " 'exister',\n",
       " 'peux',\n",
       " 'gens',\n",
       " 'discipline',\n",
       " 'humanité',\n",
       " 'exception',\n",
       " 'entier',\n",
       " 'communion',\n",
       " 'poser',\n",
       " 'prier',\n",
       " 'col',\n",
       " 'contient',\n",
       " 'rôle',\n",
       " 'soutient',\n",
       " 'faculté',\n",
       " 'bénédiction',\n",
       " 'processus',\n",
       " 'absence',\n",
       " 'valide',\n",
       " 'charles',\n",
       " 'nombreuses',\n",
       " 'pasteur',\n",
       " 'temple',\n",
       " 'publié',\n",
       " 'étudier',\n",
       " 'savent',\n",
       " 'note',\n",
       " 'grace',\n",
       " 'y-a-t-il',\n",
       " 'pose',\n",
       " 'epistemology',\n",
       " 'savon',\n",
       " 'william',\n",
       " 'dit-il',\n",
       " 'ecclésiologie',\n",
       " 'dû',\n",
       " 'totalement',\n",
       " 'suit',\n",
       " ...]"
      ]
     },
     "execution_count": 10,
     "metadata": {},
     "output_type": "execute_result"
    }
   ],
   "source": [
    "model.wv.index_to_key"
   ]
  },
  {
   "cell_type": "code",
   "execution_count": 11,
   "metadata": {},
   "outputs": [
    {
     "data": {
      "text/plain": [
       "2924"
      ]
     },
     "execution_count": 11,
     "metadata": {},
     "output_type": "execute_result"
    }
   ],
   "source": [
    "len(model.wv.index_to_key)"
   ]
  },
  {
   "cell_type": "code",
   "execution_count": 12,
   "metadata": {},
   "outputs": [
    {
     "data": {
      "text/plain": [
       "gensim.models.keyedvectors.KeyedVectors"
      ]
     },
     "execution_count": 12,
     "metadata": {},
     "output_type": "execute_result"
    }
   ],
   "source": [
    "type(model.wv)"
   ]
  },
  {
   "cell_type": "code",
   "execution_count": 13,
   "metadata": {},
   "outputs": [
    {
     "data": {
      "text/plain": [
       "(2924, 200)"
      ]
     },
     "execution_count": 13,
     "metadata": {},
     "output_type": "execute_result"
    }
   ],
   "source": [
    "len(words_vectors_cbow)\n",
    "len(words_vectors_cbow.index_to_key[:len(words_vectors_cbow)])\n",
    "type(words_vectors_cbow[words_vectors_cbow.index_to_key[:len(words_vectors_cbow)]])\n",
    "words_vectors_cbow[words_vectors_cbow.index_to_key[:len(words_vectors_cbow)]].shape"
   ]
  },
  {
   "cell_type": "code",
   "execution_count": 14,
   "metadata": {},
   "outputs": [
    {
     "data": {
      "text/plain": [
       "array([[-2.68113625e-04,  1.18215081e-04,  2.55167484e-03, ...,\n",
       "        -1.19575742e-03, -4.75504762e-03,  2.25293869e-03],\n",
       "       [ 4.72819811e-05,  1.53865933e-03, -3.40632326e-03, ...,\n",
       "        -3.72379413e-03, -1.25303748e-03, -2.77493242e-03],\n",
       "       [-3.56950751e-03,  6.20515319e-04, -3.58835817e-03, ...,\n",
       "        -4.34601074e-03,  1.48075819e-03, -3.33794951e-03],\n",
       "       ...,\n",
       "       [ 1.63632515e-03, -1.87310809e-03,  4.53326706e-04, ...,\n",
       "         5.80255990e-04, -2.01740023e-03,  1.26625178e-03],\n",
       "       [-4.64244140e-03, -1.38949152e-04, -2.22848775e-03, ...,\n",
       "         4.29207692e-03, -4.04914375e-03, -1.21603014e-04],\n",
       "       [-7.28440282e-05, -3.72289657e-03,  2.80575739e-04, ...,\n",
       "        -7.81719689e-04,  1.53545977e-03,  4.93388064e-03]], dtype=float32)"
      ]
     },
     "execution_count": 14,
     "metadata": {},
     "output_type": "execute_result"
    }
   ],
   "source": [
    "words_vectors_cbow[words_vectors_cbow.index_to_key[:len(words_vectors_cbow)]]"
   ]
  },
  {
   "cell_type": "code",
   "execution_count": 15,
   "metadata": {},
   "outputs": [
    {
     "name": "stdout",
     "output_type": "stream",
     "text": [
      "[t-SNE] Computing 91 nearest neighbors...\n",
      "[t-SNE] Indexed 2924 samples in 0.002s...\n",
      "[t-SNE] Computed neighbors for 2924 samples in 0.337s...\n",
      "[t-SNE] Computed conditional probabilities for sample 1000 / 2924\n",
      "[t-SNE] Computed conditional probabilities for sample 2000 / 2924\n",
      "[t-SNE] Computed conditional probabilities for sample 2924 / 2924\n",
      "[t-SNE] Mean sigma: 0.008756\n",
      "[t-SNE] KL divergence after 250 iterations with early exaggeration: 81.475098\n",
      "[t-SNE] KL divergence after 900 iterations: 3.743966\n"
     ]
    },
    {
     "data": {
      "text/plain": [
       "array([[ -5.639368  , -12.999123  ,   0.21317719],\n",
       "       [-33.801067  ,  17.313732  ,  26.034449  ],\n",
       "       [ 37.418076  ,  20.886913  ,  14.555915  ],\n",
       "       ...,\n",
       "       [ 38.96336   ,   5.580396  , -12.521668  ],\n",
       "       [  7.5503125 , -31.478245  ,   4.957889  ],\n",
       "       [ -7.6598134 ,   1.8249792 , -44.390057  ]], dtype=float32)"
      ]
     },
     "execution_count": 15,
     "metadata": {},
     "output_type": "execute_result"
    }
   ],
   "source": [
    "#TSNE en 2D apres reduction svd en 50 dimensions\n",
    "from sklearn.manifold import TSNE\n",
    "\n",
    "tsne = TSNE(n_components=3, learning_rate='auto', init='random', perplexity=30, verbose=1)\n",
    "tsne_results = tsne.fit_transform(words_vectors_cbow[words_vectors_cbow.index_to_key[:len(words_vectors_cbow)]])\n",
    "tsne_results"
   ]
  },
  {
   "cell_type": "code",
   "execution_count": 16,
   "metadata": {},
   "outputs": [
    {
     "data": {
      "application/vnd.plotly.v1+json": {
       "config": {
        "plotlyServerURL": "https://plot.ly"
       },
       "data": [
        {
         "hovertemplate": "x=%{x}<br>y=%{y}<br>z=%{z}<br>text=%{text}<extra></extra>",
         "legendgroup": "",
         "marker": {
          "color": "#636efa",
          "symbol": "circle"
         },
         "mode": "markers+text",
         "name": "",
         "scene": "scene",
         "showlegend": false,
         "text": [
          "dieu",
          "»",
          "«",
          "a",
          "baptême",
          "comme",
          "être",
          "plus",
          "alliance",
          "cette",
          "fait",
          "enfant",
          "si",
          "donc",
          "dit",
          "tout",
          "christ",
          "-",
          "–",
          "foi",
          "bien",
          "chose",
          "cela",
          "peut",
          "homme",
          "non",
          "van",
          "aussi",
          "til",
          "dire",
          "article",
          "…",
          "tous",
          "ainsi",
          "entre",
          "nature",
          "raison",
          "autre",
          "question",
          "parce",
          "car",
          "père",
          "circoncision",
          "faire",
          "personne",
          "grâce",
          "sans",
          "église",
          "baptisé",
          "deux",
          "the",
          "thomas",
          "toute",
          "famille",
          "quand",
          "promesse",
          "autres",
          "alors",
          "baptiste",
          "jésus",
          "chrétien",
          "théologie",
          "sens",
          "vie",
          "selon",
          "réformé",
          "fil",
          "of",
          "cause",
          "encore",
          "effet",
          "nouvelle",
          "acte",
          "testament",
          "ceux",
          "où",
          "point",
          "toutes",
          "ici",
          "péché",
          "avoir",
          "faut",
          "exemple",
          "façon",
          "signe",
          "lui-même",
          "ancien",
          "jean",
          "humaine",
          "esprit",
          "après",
          "volonté",
          "or",
          "doctrine",
          "celui",
          "nouveau",
          "voir",
          "p",
          "grand",
          "monde",
          "cas",
          "paul",
          "cet",
          "connaissance",
          "parole",
          "sujet",
          "seigneur",
          "bonne",
          "oui",
          "maison",
          "très",
          "corps",
          "avant",
          "certain",
          "divine",
          "pourquoi",
          "eau",
          "peuple",
          "régénération",
          "réponse",
          "veut",
          "déjà",
          "argument",
          "bible",
          "écrit",
          "“",
          "dont",
          "savoir",
          "ni",
          "”",
          "rien",
          "puisque",
          "seulement",
          "comment",
          "béatitude",
          "abraham",
          "quelque",
          "premier",
          "bon",
          "manière",
          "réformée",
          "partie",
          "leurs",
          "doit",
          "texte",
          "saint",
          "aquin",
          "temps",
          "croyant",
          "and"
         ],
         "type": "scatter3d",
         "x": [
          -5.639368057250977,
          -33.80106735229492,
          37.41807556152344,
          6.663186550140381,
          16.696151733398438,
          34.266761779785156,
          -6.680540084838867,
          28.12181282043457,
          -9.780218124389648,
          -35.45773696899414,
          -12.600288391113281,
          0.2462744414806366,
          -0.0031156642362475395,
          28.938209533691406,
          3.4498178958892822,
          1.337156057357788,
          0.6941147446632385,
          -10.0610990524292,
          -4.0147600173950195,
          2.348682165145874,
          10.31977653503418,
          27.773908615112305,
          36.73044967651367,
          -13.185717582702637,
          19.387304306030273,
          -19.80181312561035,
          18.81341552734375,
          29.347930908203125,
          3.9618947505950928,
          15.000368118286133,
          23.76827049255371,
          -8.088388442993164,
          19.663549423217773,
          44.61936569213867,
          -34.194923400878906,
          -30.37483787536621,
          -12.024405479431152,
          22.944360733032227,
          8.400527000427246,
          -37.42122268676758,
          -29.57735824584961,
          46.54310989379883,
          -19.51769256591797,
          -6.279133319854736,
          -16.064353942871094,
          24.811429977416992,
          -23.39482879638672,
          -16.653217315673828,
          -39.609683990478516,
          -27.18043327331543,
          -7.941165447235107,
          -20.734346389770508,
          22.0258731842041,
          1.3788355588912964,
          1.1805425882339478,
          7.74068021774292,
          -4.2234978675842285,
          0.24230124056339264,
          22.138431549072266,
          16.00452995300293,
          4.544551372528076,
          -41.335060119628906,
          18.54160499572754,
          12.764350891113281,
          12.53709602355957,
          -12.280728340148926,
          -39.827491760253906,
          -30.127323150634766,
          41.84974670410156,
          1.4306812286376953,
          -41.66936111450195,
          -4.686828136444092,
          6.584475994110107,
          6.215460300445557,
          12.643896102905273,
          -9.391128540039062,
          -1.4380556344985962,
          7.284847736358643,
          -35.552528381347656,
          29.981727600097656,
          -8.227103233337402,
          -8.548239707946777,
          -24.056665420532227,
          -6.202660083770752,
          -0.23693247139453888,
          5.15415096282959,
          6.781345367431641,
          25.879716873168945,
          -34.95258712768555,
          17.972681045532227,
          -1.3894462585449219,
          39.03982162475586,
          -2.5683979988098145,
          7.668702602386475,
          -2.7672016620635986,
          8.575600624084473,
          11.693719863891602,
          -10.7035493850708,
          -38.80538558959961,
          11.964280128479004,
          36.7385139465332,
          9.766875267028809,
          10.263802528381348,
          0.29991307854652405,
          -22.655166625976562,
          13.761929512023926,
          23.787796020507812,
          5.403162479400635,
          30.87139892578125,
          -1.5021060705184937,
          -14.88016414642334,
          -3.263503313064575,
          -8.00944995880127,
          -17.745656967163086,
          -25.480913162231445,
          18.499372482299805,
          -12.320439338684082,
          -12.755759239196777,
          -35.76091766357422,
          22.993656158447266,
          22.52227783203125,
          -39.714744567871094,
          -15.095876693725586,
          1.0697273015975952,
          11.698407173156738,
          7.977813720703125,
          -31.79201316833496,
          20.32473373413086,
          -29.76249122619629,
          38.913089752197266,
          1.7996747493743896,
          16.499385833740234,
          -1.7025811672210693,
          10.215651512145996,
          24.3227596282959,
          13.70534896850586,
          -8.516973495483398,
          34.38866424560547,
          10.288280487060547,
          24.060256958007812,
          -10.256134033203125,
          -7.858809471130371,
          -9.614073753356934,
          -4.107204914093018,
          19.5732479095459,
          -7.621649742126465,
          24.898691177368164,
          -11.330619812011719,
          13.988510131835938,
          21.90945053100586
         ],
         "y": [
          -12.999122619628906,
          17.313732147216797,
          20.886913299560547,
          -22.16135597229004,
          4.350323677062988,
          3.666184186935425,
          -10.659943580627441,
          -9.711265563964844,
          -14.714654922485352,
          -20.045330047607422,
          19.05335235595703,
          7.408439636230469,
          -40.62498474121094,
          -22.417491912841797,
          21.780410766601562,
          -8.118955612182617,
          -16.13292694091797,
          37.265403747558594,
          -39.24751663208008,
          -28.67355728149414,
          45.01361083984375,
          14.290194511413574,
          9.87736988067627,
          -6.278262138366699,
          6.601529121398926,
          15.545912742614746,
          6.978792667388916,
          35.36558532714844,
          -28.690431594848633,
          12.787565231323242,
          -35.00973129272461,
          -6.655086517333984,
          -10.263020515441895,
          -14.903412818908691,
          13.018434524536133,
          -4.336555004119873,
          9.506417274475098,
          -9.104723930358887,
          23.19173812866211,
          20.98514747619629,
          2.764636754989624,
          -1.8116239309310913,
          1.0274308919906616,
          -5.281389236450195,
          -14.70074462890625,
          3.4450912475585938,
          -27.983840942382812,
          -0.2982381582260132,
          -1.025724172592163,
          38.76785659790039,
          -14.595999717712402,
          -17.37087631225586,
          33.20017623901367,
          1.9050142765045166,
          40.78816223144531,
          -6.436948299407959,
          24.245555877685547,
          -33.41925048828125,
          25.115257263183594,
          -0.69817054271698,
          -23.13603401184082,
          -8.10230541229248,
          -37.629486083984375,
          6.606131553649902,
          11.162703514099121,
          11.540077209472656,
          -3.021451711654663,
          5.26194953918457,
          11.487696647644043,
          2.12937068939209,
          -10.507667541503906,
          24.340370178222656,
          -22.974258422851562,
          18.158262252807617,
          -19.99776268005371,
          19.389848709106445,
          18.185396194458008,
          37.23401641845703,
          17.09512710571289,
          27.666841506958008,
          15.997106552124023,
          22.026453018188477,
          -24.628618240356445,
          13.946462631225586,
          6.618069648742676,
          -34.35090255737305,
          16.523136138916016,
          16.798593521118164,
          -7.708919525146484,
          -21.447914123535156,
          -34.76411437988281,
          -27.36690902709961,
          38.919010162353516,
          8.715636253356934,
          1.93943452835083,
          -28.474538803100586,
          15.418170928955078,
          -5.6165642738342285,
          4.571717262268066,
          44.39529037475586,
          -4.231433391571045,
          -9.936075210571289,
          0.9092051386833191,
          -42.95783233642578,
          10.48924732208252,
          25.667095184326172,
          30.966630935668945,
          18.312660217285156,
          -14.412820816040039,
          -32.901058197021484,
          -8.791755676269531,
          -8.103859901428223,
          6.001613140106201,
          -25.42587661743164,
          -13.288209915161133,
          14.102953910827637,
          8.112918853759766,
          -17.490280151367188,
          5.700817108154297,
          2.2154812812805176,
          -11.481292724609375,
          4.592817306518555,
          -7.4370880126953125,
          -2.6672964096069336,
          -15.90003776550293,
          0.8148568868637085,
          0.6779809594154358,
          -15.427240371704102,
          19.547344207763672,
          -23.804094314575195,
          -31.613744735717773,
          -0.7178990840911865,
          17.515356063842773,
          28.595129013061523,
          9.905179977416992,
          14.935535430908203,
          -5.530081748962402,
          -25.324861526489258,
          6.485927104949951,
          42.91139602661133,
          -31.76083755493164,
          -26.574607849121094,
          -0.8344432711601257,
          -41.25667953491211,
          5.398583889007568,
          2.834804058074951,
          -7.4908881187438965,
          -13.563270568847656,
          3.338454484939575,
          -14.276570320129395
         ],
         "z": [
          0.21317718923091888,
          26.034448623657227,
          14.555914878845215,
          12.8175630569458,
          -24.045732498168945,
          -8.809464454650879,
          21.65643310546875,
          21.128190994262695,
          24.958560943603516,
          0.8259217143058777,
          3.1417877674102783,
          -33.55593490600586,
          22.88690757751465,
          7.422243118286133,
          -17.373159408569336,
          -38.68714141845703,
          -34.476715087890625,
          22.431007385253906,
          -3.3398728370666504,
          -16.40420913696289,
          -11.553412437438965,
          18.341617584228516,
          -7.14522123336792,
          -11.70439338684082,
          -16.824548721313477,
          9.798345565795898,
          -23.23076057434082,
          6.9595465660095215,
          13.580093383789062,
          30.701414108276367,
          -15.970925331115723,
          16.93210792541504,
          2.6426684856414795,
          5.723793983459473,
          22.602161407470703,
          6.71921968460083,
          26.93250274658203,
          -11.703039169311523,
          14.650385856628418,
          -22.311737060546875,
          -28.093177795410156,
          -4.008747577667236,
          -2.3711984157562256,
          -9.551736831665039,
          -8.875937461853027,
          -13.376002311706543,
          22.084373474121094,
          -2.675493001937866,
          12.313187599182129,
          -4.284594535827637,
          19.02224349975586,
          21.61197853088379,
          -9.341015815734863,
          5.551257133483887,
          17.56389617919922,
          -29.571575164794922,
          6.7721476554870605,
          16.461750030517578,
          -29.322799682617188,
          23.644929885864258,
          39.27449035644531,
          -14.312222480773926,
          -0.22819195687770844,
          21.717815399169922,
          -20.769424438476562,
          7.379746913909912,
          -1.3234429359436035,
          -14.304977416992188,
          4.667613506317139,
          -1.8979676961898804,
          -1.7491108179092407,
          -0.5826342105865479,
          6.187178134918213,
          6.696297645568848,
          -22.1340274810791,
          -37.846771240234375,
          -41.989013671875,
          -1.7298798561096191,
          4.401220798492432,
          10.074460983276367,
          3.398193120956421,
          10.066215515136719,
          -13.180238723754883,
          -16.542205810546875,
          -37.449710845947266,
          5.418135166168213,
          22.74020004272461,
          24.573347091674805,
          16.99360466003418,
          -17.194734573364258,
          28.669570922851562,
          -12.931674003601074,
          -15.74683952331543,
          -24.026060104370117,
          -13.958523750305176,
          15.274246215820312,
          -23.228525161743164,
          -28.334211349487305,
          22.761390686035156,
          -13.428779602050781,
          -6.297595977783203,
          -16.067462921142578,
          6.519989490509033,
          -10.470198631286621,
          -15.226760864257812,
          2.572516679763794,
          6.859488487243652,
          -24.625776290893555,
          -12.015753746032715,
          -0.8726290464401245,
          -24.05900764465332,
          -35.453250885009766,
          -40.450645446777344,
          25.680999755859375,
          1.8070576190948486,
          -18.738933563232422,
          -18.53220558166504,
          -13.363722801208496,
          -7.043765068054199,
          -21.959688186645508,
          -35.534793853759766,
          25.902896881103516,
          -5.216955184936523,
          16.683931350708008,
          -40.132625579833984,
          34.89667510986328,
          34.92532730102539,
          12.25777816772461,
          7.249456882476807,
          -4.210507869720459,
          -4.289691925048828,
          10.816039085388184,
          33.058128356933594,
          -34.399749755859375,
          29.201866149902344,
          5.329579830169678,
          11.685057640075684,
          12.304265975952148,
          2.151445150375366,
          1.9428197145462036,
          -21.113964080810547,
          -8.870750427246094,
          38.870521545410156,
          -5.485005855560303,
          17.48708152770996,
          21.909080505371094,
          9.423147201538086,
          -35.816017150878906,
          -6.418948173522949,
          28.757482528686523
         ]
        }
       ],
       "layout": {
        "legend": {
         "tracegroupgap": 0
        },
        "margin": {
         "t": 60
        },
        "scene": {
         "domain": {
          "x": [
           0,
           1
          ],
          "y": [
           0,
           1
          ]
         },
         "xaxis": {
          "title": {
           "text": "x"
          }
         },
         "yaxis": {
          "title": {
           "text": "y"
          }
         },
         "zaxis": {
          "title": {
           "text": "z"
          }
         }
        },
        "template": {
         "data": {
          "bar": [
           {
            "error_x": {
             "color": "#2a3f5f"
            },
            "error_y": {
             "color": "#2a3f5f"
            },
            "marker": {
             "line": {
              "color": "#E5ECF6",
              "width": 0.5
             },
             "pattern": {
              "fillmode": "overlay",
              "size": 10,
              "solidity": 0.2
             }
            },
            "type": "bar"
           }
          ],
          "barpolar": [
           {
            "marker": {
             "line": {
              "color": "#E5ECF6",
              "width": 0.5
             },
             "pattern": {
              "fillmode": "overlay",
              "size": 10,
              "solidity": 0.2
             }
            },
            "type": "barpolar"
           }
          ],
          "carpet": [
           {
            "aaxis": {
             "endlinecolor": "#2a3f5f",
             "gridcolor": "white",
             "linecolor": "white",
             "minorgridcolor": "white",
             "startlinecolor": "#2a3f5f"
            },
            "baxis": {
             "endlinecolor": "#2a3f5f",
             "gridcolor": "white",
             "linecolor": "white",
             "minorgridcolor": "white",
             "startlinecolor": "#2a3f5f"
            },
            "type": "carpet"
           }
          ],
          "choropleth": [
           {
            "colorbar": {
             "outlinewidth": 0,
             "ticks": ""
            },
            "type": "choropleth"
           }
          ],
          "contour": [
           {
            "colorbar": {
             "outlinewidth": 0,
             "ticks": ""
            },
            "colorscale": [
             [
              0,
              "#0d0887"
             ],
             [
              0.1111111111111111,
              "#46039f"
             ],
             [
              0.2222222222222222,
              "#7201a8"
             ],
             [
              0.3333333333333333,
              "#9c179e"
             ],
             [
              0.4444444444444444,
              "#bd3786"
             ],
             [
              0.5555555555555556,
              "#d8576b"
             ],
             [
              0.6666666666666666,
              "#ed7953"
             ],
             [
              0.7777777777777778,
              "#fb9f3a"
             ],
             [
              0.8888888888888888,
              "#fdca26"
             ],
             [
              1,
              "#f0f921"
             ]
            ],
            "type": "contour"
           }
          ],
          "contourcarpet": [
           {
            "colorbar": {
             "outlinewidth": 0,
             "ticks": ""
            },
            "type": "contourcarpet"
           }
          ],
          "heatmap": [
           {
            "colorbar": {
             "outlinewidth": 0,
             "ticks": ""
            },
            "colorscale": [
             [
              0,
              "#0d0887"
             ],
             [
              0.1111111111111111,
              "#46039f"
             ],
             [
              0.2222222222222222,
              "#7201a8"
             ],
             [
              0.3333333333333333,
              "#9c179e"
             ],
             [
              0.4444444444444444,
              "#bd3786"
             ],
             [
              0.5555555555555556,
              "#d8576b"
             ],
             [
              0.6666666666666666,
              "#ed7953"
             ],
             [
              0.7777777777777778,
              "#fb9f3a"
             ],
             [
              0.8888888888888888,
              "#fdca26"
             ],
             [
              1,
              "#f0f921"
             ]
            ],
            "type": "heatmap"
           }
          ],
          "heatmapgl": [
           {
            "colorbar": {
             "outlinewidth": 0,
             "ticks": ""
            },
            "colorscale": [
             [
              0,
              "#0d0887"
             ],
             [
              0.1111111111111111,
              "#46039f"
             ],
             [
              0.2222222222222222,
              "#7201a8"
             ],
             [
              0.3333333333333333,
              "#9c179e"
             ],
             [
              0.4444444444444444,
              "#bd3786"
             ],
             [
              0.5555555555555556,
              "#d8576b"
             ],
             [
              0.6666666666666666,
              "#ed7953"
             ],
             [
              0.7777777777777778,
              "#fb9f3a"
             ],
             [
              0.8888888888888888,
              "#fdca26"
             ],
             [
              1,
              "#f0f921"
             ]
            ],
            "type": "heatmapgl"
           }
          ],
          "histogram": [
           {
            "marker": {
             "pattern": {
              "fillmode": "overlay",
              "size": 10,
              "solidity": 0.2
             }
            },
            "type": "histogram"
           }
          ],
          "histogram2d": [
           {
            "colorbar": {
             "outlinewidth": 0,
             "ticks": ""
            },
            "colorscale": [
             [
              0,
              "#0d0887"
             ],
             [
              0.1111111111111111,
              "#46039f"
             ],
             [
              0.2222222222222222,
              "#7201a8"
             ],
             [
              0.3333333333333333,
              "#9c179e"
             ],
             [
              0.4444444444444444,
              "#bd3786"
             ],
             [
              0.5555555555555556,
              "#d8576b"
             ],
             [
              0.6666666666666666,
              "#ed7953"
             ],
             [
              0.7777777777777778,
              "#fb9f3a"
             ],
             [
              0.8888888888888888,
              "#fdca26"
             ],
             [
              1,
              "#f0f921"
             ]
            ],
            "type": "histogram2d"
           }
          ],
          "histogram2dcontour": [
           {
            "colorbar": {
             "outlinewidth": 0,
             "ticks": ""
            },
            "colorscale": [
             [
              0,
              "#0d0887"
             ],
             [
              0.1111111111111111,
              "#46039f"
             ],
             [
              0.2222222222222222,
              "#7201a8"
             ],
             [
              0.3333333333333333,
              "#9c179e"
             ],
             [
              0.4444444444444444,
              "#bd3786"
             ],
             [
              0.5555555555555556,
              "#d8576b"
             ],
             [
              0.6666666666666666,
              "#ed7953"
             ],
             [
              0.7777777777777778,
              "#fb9f3a"
             ],
             [
              0.8888888888888888,
              "#fdca26"
             ],
             [
              1,
              "#f0f921"
             ]
            ],
            "type": "histogram2dcontour"
           }
          ],
          "mesh3d": [
           {
            "colorbar": {
             "outlinewidth": 0,
             "ticks": ""
            },
            "type": "mesh3d"
           }
          ],
          "parcoords": [
           {
            "line": {
             "colorbar": {
              "outlinewidth": 0,
              "ticks": ""
             }
            },
            "type": "parcoords"
           }
          ],
          "pie": [
           {
            "automargin": true,
            "type": "pie"
           }
          ],
          "scatter": [
           {
            "fillpattern": {
             "fillmode": "overlay",
             "size": 10,
             "solidity": 0.2
            },
            "type": "scatter"
           }
          ],
          "scatter3d": [
           {
            "line": {
             "colorbar": {
              "outlinewidth": 0,
              "ticks": ""
             }
            },
            "marker": {
             "colorbar": {
              "outlinewidth": 0,
              "ticks": ""
             }
            },
            "type": "scatter3d"
           }
          ],
          "scattercarpet": [
           {
            "marker": {
             "colorbar": {
              "outlinewidth": 0,
              "ticks": ""
             }
            },
            "type": "scattercarpet"
           }
          ],
          "scattergeo": [
           {
            "marker": {
             "colorbar": {
              "outlinewidth": 0,
              "ticks": ""
             }
            },
            "type": "scattergeo"
           }
          ],
          "scattergl": [
           {
            "marker": {
             "colorbar": {
              "outlinewidth": 0,
              "ticks": ""
             }
            },
            "type": "scattergl"
           }
          ],
          "scattermapbox": [
           {
            "marker": {
             "colorbar": {
              "outlinewidth": 0,
              "ticks": ""
             }
            },
            "type": "scattermapbox"
           }
          ],
          "scatterpolar": [
           {
            "marker": {
             "colorbar": {
              "outlinewidth": 0,
              "ticks": ""
             }
            },
            "type": "scatterpolar"
           }
          ],
          "scatterpolargl": [
           {
            "marker": {
             "colorbar": {
              "outlinewidth": 0,
              "ticks": ""
             }
            },
            "type": "scatterpolargl"
           }
          ],
          "scatterternary": [
           {
            "marker": {
             "colorbar": {
              "outlinewidth": 0,
              "ticks": ""
             }
            },
            "type": "scatterternary"
           }
          ],
          "surface": [
           {
            "colorbar": {
             "outlinewidth": 0,
             "ticks": ""
            },
            "colorscale": [
             [
              0,
              "#0d0887"
             ],
             [
              0.1111111111111111,
              "#46039f"
             ],
             [
              0.2222222222222222,
              "#7201a8"
             ],
             [
              0.3333333333333333,
              "#9c179e"
             ],
             [
              0.4444444444444444,
              "#bd3786"
             ],
             [
              0.5555555555555556,
              "#d8576b"
             ],
             [
              0.6666666666666666,
              "#ed7953"
             ],
             [
              0.7777777777777778,
              "#fb9f3a"
             ],
             [
              0.8888888888888888,
              "#fdca26"
             ],
             [
              1,
              "#f0f921"
             ]
            ],
            "type": "surface"
           }
          ],
          "table": [
           {
            "cells": {
             "fill": {
              "color": "#EBF0F8"
             },
             "line": {
              "color": "white"
             }
            },
            "header": {
             "fill": {
              "color": "#C8D4E3"
             },
             "line": {
              "color": "white"
             }
            },
            "type": "table"
           }
          ]
         },
         "layout": {
          "annotationdefaults": {
           "arrowcolor": "#2a3f5f",
           "arrowhead": 0,
           "arrowwidth": 1
          },
          "autotypenumbers": "strict",
          "coloraxis": {
           "colorbar": {
            "outlinewidth": 0,
            "ticks": ""
           }
          },
          "colorscale": {
           "diverging": [
            [
             0,
             "#8e0152"
            ],
            [
             0.1,
             "#c51b7d"
            ],
            [
             0.2,
             "#de77ae"
            ],
            [
             0.3,
             "#f1b6da"
            ],
            [
             0.4,
             "#fde0ef"
            ],
            [
             0.5,
             "#f7f7f7"
            ],
            [
             0.6,
             "#e6f5d0"
            ],
            [
             0.7,
             "#b8e186"
            ],
            [
             0.8,
             "#7fbc41"
            ],
            [
             0.9,
             "#4d9221"
            ],
            [
             1,
             "#276419"
            ]
           ],
           "sequential": [
            [
             0,
             "#0d0887"
            ],
            [
             0.1111111111111111,
             "#46039f"
            ],
            [
             0.2222222222222222,
             "#7201a8"
            ],
            [
             0.3333333333333333,
             "#9c179e"
            ],
            [
             0.4444444444444444,
             "#bd3786"
            ],
            [
             0.5555555555555556,
             "#d8576b"
            ],
            [
             0.6666666666666666,
             "#ed7953"
            ],
            [
             0.7777777777777778,
             "#fb9f3a"
            ],
            [
             0.8888888888888888,
             "#fdca26"
            ],
            [
             1,
             "#f0f921"
            ]
           ],
           "sequentialminus": [
            [
             0,
             "#0d0887"
            ],
            [
             0.1111111111111111,
             "#46039f"
            ],
            [
             0.2222222222222222,
             "#7201a8"
            ],
            [
             0.3333333333333333,
             "#9c179e"
            ],
            [
             0.4444444444444444,
             "#bd3786"
            ],
            [
             0.5555555555555556,
             "#d8576b"
            ],
            [
             0.6666666666666666,
             "#ed7953"
            ],
            [
             0.7777777777777778,
             "#fb9f3a"
            ],
            [
             0.8888888888888888,
             "#fdca26"
            ],
            [
             1,
             "#f0f921"
            ]
           ]
          },
          "colorway": [
           "#636efa",
           "#EF553B",
           "#00cc96",
           "#ab63fa",
           "#FFA15A",
           "#19d3f3",
           "#FF6692",
           "#B6E880",
           "#FF97FF",
           "#FECB52"
          ],
          "font": {
           "color": "#2a3f5f"
          },
          "geo": {
           "bgcolor": "white",
           "lakecolor": "white",
           "landcolor": "#E5ECF6",
           "showlakes": true,
           "showland": true,
           "subunitcolor": "white"
          },
          "hoverlabel": {
           "align": "left"
          },
          "hovermode": "closest",
          "mapbox": {
           "style": "light"
          },
          "paper_bgcolor": "white",
          "plot_bgcolor": "#E5ECF6",
          "polar": {
           "angularaxis": {
            "gridcolor": "white",
            "linecolor": "white",
            "ticks": ""
           },
           "bgcolor": "#E5ECF6",
           "radialaxis": {
            "gridcolor": "white",
            "linecolor": "white",
            "ticks": ""
           }
          },
          "scene": {
           "xaxis": {
            "backgroundcolor": "#E5ECF6",
            "gridcolor": "white",
            "gridwidth": 2,
            "linecolor": "white",
            "showbackground": true,
            "ticks": "",
            "zerolinecolor": "white"
           },
           "yaxis": {
            "backgroundcolor": "#E5ECF6",
            "gridcolor": "white",
            "gridwidth": 2,
            "linecolor": "white",
            "showbackground": true,
            "ticks": "",
            "zerolinecolor": "white"
           },
           "zaxis": {
            "backgroundcolor": "#E5ECF6",
            "gridcolor": "white",
            "gridwidth": 2,
            "linecolor": "white",
            "showbackground": true,
            "ticks": "",
            "zerolinecolor": "white"
           }
          },
          "shapedefaults": {
           "line": {
            "color": "#2a3f5f"
           }
          },
          "ternary": {
           "aaxis": {
            "gridcolor": "white",
            "linecolor": "white",
            "ticks": ""
           },
           "baxis": {
            "gridcolor": "white",
            "linecolor": "white",
            "ticks": ""
           },
           "bgcolor": "#E5ECF6",
           "caxis": {
            "gridcolor": "white",
            "linecolor": "white",
            "ticks": ""
           }
          },
          "title": {
           "x": 0.05
          },
          "xaxis": {
           "automargin": true,
           "gridcolor": "white",
           "linecolor": "white",
           "ticks": "",
           "title": {
            "standoff": 15
           },
           "zerolinecolor": "white",
           "zerolinewidth": 2
          },
          "yaxis": {
           "automargin": true,
           "gridcolor": "white",
           "linecolor": "white",
           "ticks": "",
           "title": {
            "standoff": 15
           },
           "zerolinecolor": "white",
           "zerolinewidth": 2
          }
         }
        }
       }
      }
     },
     "metadata": {},
     "output_type": "display_data"
    }
   ],
   "source": [
    "#Plot 3D de certains mots (car impossible de tous les afficher sinon illisible)\n",
    "n_kept = 150\n",
    "plot_word_vectors_3d(tsne_results, words_vectors_cbow.index_to_key, n_kept)"
   ]
  },
  {
   "cell_type": "code",
   "execution_count": 21,
   "metadata": {},
   "outputs": [
    {
     "data": {
      "image/png": "[encoded data removed]",
      "text/plain": [
       "<Figure size 864x504 with 1 Axes>"
      ]
     },
     "metadata": {
      "needs_background": "light"
     },
     "output_type": "display_data"
    }
   ],
   "source": [
    "plot_word_vectors_2d(tsne_results, words_vectors_cbow.index_to_key, n_kept)"
   ]
  },
  {
   "cell_type": "code",
   "execution_count": 18,
   "metadata": {},
   "outputs": [
    {
     "name": "stdout",
     "output_type": "stream",
     "text": [
      "[-5.63936806e+00 -3.38010674e+01  3.74180756e+01  6.66318655e+00\n",
      "  1.66961517e+01  3.42667618e+01 -6.68054008e+00  2.81218128e+01\n",
      " -9.78021812e+00 -3.54577370e+01 -1.26002884e+01  2.46274441e-01\n",
      " -3.11566424e-03  2.89382095e+01  3.44981790e+00  1.33715606e+00\n",
      "  6.94114745e-01 -1.00610991e+01 -4.01476002e+00  2.34868217e+00\n",
      "  1.03197765e+01  2.77739086e+01  3.67304497e+01 -1.31857176e+01\n",
      "  1.93873043e+01 -1.98018131e+01  1.88134155e+01  2.93479309e+01\n",
      "  3.96189475e+00  1.50003681e+01  2.37682705e+01 -8.08838844e+00\n",
      "  1.96635494e+01  4.46193657e+01 -3.41949234e+01 -3.03748379e+01\n",
      " -1.20244055e+01  2.29443607e+01  8.40052700e+00 -3.74212227e+01\n",
      " -2.95773582e+01  4.65431099e+01 -1.95176926e+01 -6.27913332e+00\n",
      " -1.60643539e+01  2.48114300e+01 -2.33948288e+01 -1.66532173e+01\n",
      " -3.96096840e+01 -2.71804333e+01]\n"
     ]
    }
   ],
   "source": [
    "print(tsne_results[0:50:,0])"
   ]
  },
  {
   "cell_type": "markdown",
   "metadata": {},
   "source": [
    "Utilisation des features word2vec pour la classification"
   ]
  },
  {
   "cell_type": "markdown",
   "metadata": {},
   "source": [
    "Creation features du modele : moyenne des \"mots\" d'une phrase"
   ]
  },
  {
   "cell_type": "code",
   "execution_count": 19,
   "metadata": {},
   "outputs": [
    {
     "data": {
      "text/plain": [
       "list"
      ]
     },
     "execution_count": 19,
     "metadata": {},
     "output_type": "execute_result"
    }
   ],
   "source": [
    "vocab = model.wv.index_to_key\n",
    "# len(vocab)\n",
    "# type(vocab)\n",
    "# print(vocab)\n",
    "vocab=list(model.wv.key_to_index.keys())\n",
    "# vocab\n",
    "type(vocab)"
   ]
  },
  {
   "cell_type": "code",
   "execution_count": 20,
   "metadata": {},
   "outputs": [
    {
     "ename": "NameError",
     "evalue": "name 'words_vectors_cbow_cbow' is not defined",
     "output_type": "error",
     "traceback": [
      "\u001b[1;31m---------------------------------------------------------------------------\u001b[0m",
      "\u001b[1;31mNameError\u001b[0m                                 Traceback (most recent call last)",
      "\u001b[1;32m~\\AppData\\Local\\Temp/ipykernel_17248/3529965761.py\u001b[0m in \u001b[0;36m<module>\u001b[1;34m\u001b[0m\n\u001b[1;32m----> 1\u001b[1;33m \u001b[0mwords_vectors_cbow_cbow\u001b[0m\u001b[1;33m[\u001b[0m\u001b[1;34m\"alliance\"\u001b[0m\u001b[1;33m]\u001b[0m \u001b[1;31m# vecteur des mots, indice par mot (string)\u001b[0m\u001b[1;33m\u001b[0m\u001b[1;33m\u001b[0m\u001b[0m\n\u001b[0m",
      "\u001b[1;31mNameError\u001b[0m: name 'words_vectors_cbow_cbow' is not defined"
     ]
    }
   ],
   "source": [
    "words_vectors_cbow_cbow[\"alliance\"] # vecteur des mots, indice par mot (string)"
   ]
  },
  {
   "cell_type": "code",
   "execution_count": null,
   "metadata": {},
   "outputs": [
    {
     "name": "stdout",
     "output_type": "stream",
     "text": [
      "sentence = ['tortarolohttpssecuregravatarcomavatarbaddffbdfaefbsdmmrg']\n",
      "sentence_words = []\n"
     ]
    }
   ],
   "source": [
    "words_vectors_cbow_cbow = model_cbow.wv\n",
    "vocab = model_cbow.wv.index_to_key\n",
    "corpus_average_vectors = []\n",
    "sentence_average_vector = []\n",
    "sentence_vectors = []\n",
    "vector_space_dim = 200\n",
    "\n",
    "for i in range(len(tokens)):\n",
    "    sentence = tokens[i]\n",
    "    sentence_words = list(set(vocab) & set(sentence))\n",
    "    if(sentence_words != []):\n",
    "        sentence_average_vector = np.mean(words_vectors_cbow_cbow[sentence_words], axis=0)\n",
    "        # print(\"words_vectors_cbow_cbow[sentence_words] =\", words_vectors_cbow_cbow[sentence_words])\n",
    "    else:\n",
    "        print(\"sentence =\", sentence)\n",
    "        print(\"sentence_words =\", sentence_words)\n",
    "        sentence_average_vector = np.zeros(vector_space_dim)\n",
    "    corpus_average_vectors.append(sentence_average_vector)\n",
    "# print(\"len(sentence_vectors) =\", len(sentence_vectors))\n",
    "# print(\"sentence_vectors =\", sentence_vectors)\n",
    "# print(\"len(sentence_average_vector) =\", len(sentence_average_vector))\n",
    "# len(corpus_average_vectors)\n",
    "corpus_word2vec_sk = pd.DataFrame(corpus_average_vectors)\n",
    "corpus_word2vec_sk['id'] = corpus['id']\n",
    "corpus_word2vec_sk['message'] = corpus['message']\n",
    "corpus_word2vec_sk[\"category_bin\"] = corpus[\"category_bin\"]\n",
    "# corpus_word2vec_sk"
   ]
  }
 ],
 "metadata": {
  "kernelspec": {
   "display_name": "Python 3.9.7 ('base')",
   "language": "python",
   "name": "python3"
  },
  "language_info": {
   "codemirror_mode": {
    "name": "ipython",
    "version": 3
   },
   "file_extension": ".py",
   "mimetype": "text/x-python",
   "name": "python",
   "nbconvert_exporter": "python",
   "pygments_lexer": "ipython3",
   "version": "3.9.7"
  },
  "orig_nbformat": 4,
  "vscode": {
   "interpreter": {
    "hash": "3e7035cb009caaa59ad2cfefe05d6f0df614ee59b6f1c56d32ef92625aa3dec5"
   }
  }
 },
 "nbformat": 4,
 "nbformat_minor": 2
}
