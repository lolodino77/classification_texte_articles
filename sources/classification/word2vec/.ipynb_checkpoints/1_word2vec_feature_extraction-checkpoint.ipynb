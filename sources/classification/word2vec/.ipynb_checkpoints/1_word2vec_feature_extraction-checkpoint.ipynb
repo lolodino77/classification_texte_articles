{
 "cells": [
  {
   "cell_type": "code",
   "execution_count": 2,
   "metadata": {},
   "outputs": [
    {
     "name": "stdout",
     "output_type": "stream",
     "text": [
      "C:\\Users\\eupho\\OneDrive\\Documents\\perso\\projets\\classification_texte_bapteme_philo\n"
     ]
    }
   ],
   "source": [
    "import os\n",
    "import sys\n",
    "from pathlib import Path, PureWindowsPath\n",
    "current_folder = PureWindowsPath(globals()['_dh'][0]).as_posix()\n",
    "path_root = \"/\".join(current_folder.split(\"/\")[:-3]) #remonter au dossier root du projet\n",
    "os.chdir(path_root)\n",
    "print(os.getcwd())\n",
    "sys.path.append(os.getcwd() + \"/sources/classification/\")"
   ]
  },
  {
   "cell_type": "code",
   "execution_count": 3,
   "metadata": {},
   "outputs": [],
   "source": [
    "import os\n",
    "import numpy as np\n",
    "import pandas as pd\n",
    "import seaborn as sb\n",
    "import matplotlib.pyplot as plt\n",
    "from sklearn.pipeline import Pipeline\n",
    "from sklearn.model_selection import train_test_split\n",
    "from sklearn.metrics import classification_report, confusion_matrix\n",
    "from sklearn.naive_bayes import MultinomialNB\n",
    "from gensim.utils import tokenize\n",
    "from pathlib import Path, PureWindowsPath\n",
    "from lib_classification import *\n",
    "pd.set_option('display.max_colwidth', 30)\n",
    "pd.set_option('display.min_rows', 5)\n",
    "pd.set_option('display.max_rows', 5)\n",
    "pd.set_option('display.max_colwidth', None) #afficher texte entier dans dataframe"
   ]
  },
  {
   "cell_type": "code",
   "execution_count": 4,
   "metadata": {},
   "outputs": [
    {
     "name": "stdout",
     "output_type": "stream",
     "text": [
      "0    1833\n",
      "1    1833\n",
      "Name: category_bin, dtype: int64\n",
      "presence de doublons ?\n",
      "False\n",
      "False\n"
     ]
    },
    {
     "data": {
      "text/html": [
       "<div>\n",
       "<style scoped>\n",
       "    .dataframe tbody tr th:only-of-type {\n",
       "        vertical-align: middle;\n",
       "    }\n",
       "\n",
       "    .dataframe tbody tr th {\n",
       "        vertical-align: top;\n",
       "    }\n",
       "\n",
       "    .dataframe thead th {\n",
       "        text-align: right;\n",
       "    }\n",
       "</style>\n",
       "<table border=\"1\" class=\"dataframe\">\n",
       "  <thead>\n",
       "    <tr style=\"text-align: right;\">\n",
       "      <th></th>\n",
       "      <th>id</th>\n",
       "      <th>message</th>\n",
       "      <th>message_preprocessed</th>\n",
       "      <th>category</th>\n",
       "      <th>length</th>\n",
       "      <th>category_bin</th>\n",
       "    </tr>\n",
       "  </thead>\n",
       "  <tbody>\n",
       "    <tr>\n",
       "      <th>0</th>\n",
       "      <td>0</td>\n",
       "      <td>La troisième clause de l’alliance est celle de « connaître l’Eternel ». Dans le livre de Jérémie, cela signifie obéir à sa loi (4 :22, 5 :4-5, 9 :7,23, 22 :15,16). Alors que du plus petit jusqu’au plus grand, tous étaient âpre au gain (6 :13), il est promis maintenant que du plus petit au plus grand, tous connaîtront l’Eternel. Jérémie annonce donc un jour où la situation sera inversée, où il y aura une repentance et où le peuple sera ce qu’il aurait dû être : un peuple obéissant, du plus petit au plus grand.</td>\n",
       "      <td>troisième clause alliance celle « connaître eternel » livre jérémie cela signifie obéir loi - alors plus petit plus grand tous âpre gain promis maintenant plus petit plus grand tous connaîtront eternel jérémie annonce donc jour où situation inversée où repentance où peuple dû être peuple obéissant plus petit plus grand</td>\n",
       "      <td>baptism</td>\n",
       "      <td>514</td>\n",
       "      <td>0</td>\n",
       "    </tr>\n",
       "    <tr>\n",
       "      <th>1</th>\n",
       "      <td>1</td>\n",
       "      <td>## Article 2 : Est-ce que nous verrons Dieu ou une représentation de Dieu ?</td>\n",
       "      <td>article est-ce verrons dieu représentation dieu</td>\n",
       "      <td>philosophy</td>\n",
       "      <td>75</td>\n",
       "      <td>1</td>\n",
       "    </tr>\n",
       "    <tr>\n",
       "      <th>...</th>\n",
       "      <td>...</td>\n",
       "      <td>...</td>\n",
       "      <td>...</td>\n",
       "      <td>...</td>\n",
       "      <td>...</td>\n",
       "      <td>...</td>\n",
       "    </tr>\n",
       "    <tr>\n",
       "      <th>3664</th>\n",
       "      <td>3664</td>\n",
       "      <td>[Nous rentrons dans la partie la plus technique de la Troisième Partie](https://parlafoi.fr/2019/07/20/7457/), où l’on essaie de comprendre l’Incarnation, ou comment Jésus pouvait être à la fois vraiment Dieu, vraiment homme en une seule personne.</td>\n",
       "      <td>rentrons partie plus technique troisième partiehttpsparlafoifr où essaie comprendre incarnation comment jésus pouvait être foi vraiment dieu vraiment homme seule personne</td>\n",
       "      <td>philosophy</td>\n",
       "      <td>247</td>\n",
       "      <td>1</td>\n",
       "    </tr>\n",
       "    <tr>\n",
       "      <th>3665</th>\n",
       "      <td>3665</td>\n",
       "      <td>\"Baptiser un enfant, c'est lui imposer quelque chose qu'il n'a pas choisi\"</td>\n",
       "      <td>baptiser enfant imposer quelque chose a choisi</td>\n",
       "      <td>baptism</td>\n",
       "      <td>74</td>\n",
       "      <td>0</td>\n",
       "    </tr>\n",
       "  </tbody>\n",
       "</table>\n",
       "<p>3666 rows × 6 columns</p>\n",
       "</div>"
      ],
      "text/plain": [
       "        id  \\\n",
       "0        0   \n",
       "1        1   \n",
       "...    ...   \n",
       "3664  3664   \n",
       "3665  3665   \n",
       "\n",
       "                                                                                                                                                                                                                                                                                                                                                                                                                                                                                                                                 message  \\\n",
       "0     La troisième clause de l’alliance est celle de « connaître l’Eternel ». Dans le livre de Jérémie, cela signifie obéir à sa loi (4 :22, 5 :4-5, 9 :7,23, 22 :15,16). Alors que du plus petit jusqu’au plus grand, tous étaient âpre au gain (6 :13), il est promis maintenant que du plus petit au plus grand, tous connaîtront l’Eternel. Jérémie annonce donc un jour où la situation sera inversée, où il y aura une repentance et où le peuple sera ce qu’il aurait dû être : un peuple obéissant, du plus petit au plus grand.   \n",
       "1                                                                                                                                                                                                                                                                                                                                                                                                                                                            ## Article 2 : Est-ce que nous verrons Dieu ou une représentation de Dieu ?   \n",
       "...                                                                                                                                                                                                                                                                                                                                                                                                                                                                                                                                  ...   \n",
       "3664                                                                                                                                                                                                                                                                             [Nous rentrons dans la partie la plus technique de la Troisième Partie](https://parlafoi.fr/2019/07/20/7457/), où l’on essaie de comprendre l’Incarnation, ou comment Jésus pouvait être à la fois vraiment Dieu, vraiment homme en une seule personne.   \n",
       "3665                                                                                                                                                                                                                                                                                                                                                                                                                                                          \"Baptiser un enfant, c'est lui imposer quelque chose qu'il n'a pas choisi\"   \n",
       "\n",
       "                                                                                                                                                                                                                                                                                                                  message_preprocessed  \\\n",
       "0     troisième clause alliance celle « connaître eternel » livre jérémie cela signifie obéir loi - alors plus petit plus grand tous âpre gain promis maintenant plus petit plus grand tous connaîtront eternel jérémie annonce donc jour où situation inversée où repentance où peuple dû être peuple obéissant plus petit plus grand   \n",
       "1                                                                                                                                                                                                                                                                                      article est-ce verrons dieu représentation dieu   \n",
       "...                                                                                                                                                                                                                                                                                                                                ...   \n",
       "3664                                                                                                                                                        rentrons partie plus technique troisième partiehttpsparlafoifr où essaie comprendre incarnation comment jésus pouvait être foi vraiment dieu vraiment homme seule personne   \n",
       "3665                                                                                                                                                                                                                                                                                    baptiser enfant imposer quelque chose a choisi   \n",
       "\n",
       "        category  length  category_bin  \n",
       "0        baptism     514             0  \n",
       "1     philosophy      75             1  \n",
       "...          ...     ...           ...  \n",
       "3664  philosophy     247             1  \n",
       "3665     baptism      74             0  \n",
       "\n",
       "[3666 rows x 6 columns]"
      ]
     },
     "execution_count": 4,
     "metadata": {},
     "output_type": "execute_result"
    }
   ],
   "source": [
    "path = PureWindowsPath(os.getcwd() + \"/data/input/data_philosophy_baptism.parquet\")\n",
    "path = path.as_posix() #convertir en path linux (convertir les \\\\ en /)\n",
    "corpus = pd.read_parquet(path) #engine=\"fastparquet\"\n",
    "corpus = get_balanced_binary_dataset(corpus, class_col_name=\"category\")\n",
    "\n",
    "print(corpus[\"category_bin\"].value_counts())\n",
    "print(\"presence de doublons ?\")\n",
    "print(corpus.id.duplicated().any())\n",
    "print(corpus.index.duplicated().any())\n",
    "corpus"
   ]
  },
  {
   "cell_type": "code",
   "execution_count": 5,
   "metadata": {},
   "outputs": [],
   "source": [
    "X = corpus[\"message_preprocessed\"]\n",
    "y = corpus[\"category\"]\n",
    "# y = corpus[\"category_bin\"]\n",
    "indices = corpus[\"id\"]\n",
    "X_train, X_test, y_train, y_test, indices_train, indices_test = train_test_split(X, y, indices, test_size=0.33, random_state=42)"
   ]
  },
  {
   "cell_type": "code",
   "execution_count": 6,
   "metadata": {},
   "outputs": [],
   "source": [
    "from gensim.models import Word2Vec\n",
    "from nltk.tokenize import word_tokenize"
   ]
  },
  {
   "cell_type": "code",
   "execution_count": 7,
   "metadata": {},
   "outputs": [],
   "source": [
    "tokens = corpus[\"message_preprocessed\"].apply(word_tokenize)\n",
    "model = Word2Vec(sentences=tokens, vector_size=200,workers=-1, sg=0) #modele skip-gram"
   ]
  },
  {
   "cell_type": "code",
   "execution_count": 10,
   "metadata": {},
   "outputs": [
    {
     "data": {
      "text/plain": [
       "0       [troisième, clause, alliance, celle, «, connaître, eternel, », livre, jérémie, cela, signifie, obéir, loi, -, alors, plus, petit, plus, grand, tous, âpre, gain, promis, maintenant, plus, petit, plus, grand, tous, connaîtront, eternel, jérémie, annonce, donc, jour, où, situation, inversée, où, repentance, où, peuple, dû, être, peuple, obéissant, plus, petit, plus, grand]\n",
       "1                                                                                                                                                                                                                                                                                                                                     [article, est-ce, verrons, dieu, représentation, dieu]\n",
       "                                                                                                                                                                                                ...                                                                                                                                                                                         \n",
       "3664                                                                                                                                                                                        [rentrons, partie, plus, technique, troisième, partiehttpsparlafoifr, où, essaie, comprendre, incarnation, comment, jésus, pouvait, être, foi, vraiment, dieu, vraiment, homme, seule, personne]\n",
       "3665                                                                                                                                                                                                                                                                                                                                  [baptiser, enfant, imposer, quelque, chose, a, choisi]\n",
       "Name: message_preprocessed, Length: 3666, dtype: object"
      ]
     },
     "execution_count": 10,
     "metadata": {},
     "output_type": "execute_result"
    }
   ],
   "source": [
    "tokens"
   ]
  },
  {
   "cell_type": "code",
   "execution_count": 11,
   "metadata": {},
   "outputs": [],
   "source": [
    "words_vectors = model.wv"
   ]
  },
  {
   "cell_type": "code",
   "execution_count": 13,
   "metadata": {},
   "outputs": [
    {
     "data": {
      "text/plain": [
       "[('mémoire', 0.26893195509910583),\n",
       " ('perspective', 0.2568460702896118),\n",
       " ('comment', 0.2226698398590088),\n",
       " ('hypostatique', 0.21855299174785614),\n",
       " ('accomplissement', 0.21523335576057434),\n",
       " ('accessible', 0.2086881846189499),\n",
       " ('compréhension', 0.2060597687959671),\n",
       " ('relire', 0.20239178836345673),\n",
       " ('elles', 0.19563530385494232),\n",
       " ('départ', 0.18949609994888306)]"
      ]
     },
     "execution_count": 13,
     "metadata": {},
     "output_type": "execute_result"
    }
   ],
   "source": [
    "model.wv.most_similar(\"maxime\", topn=10)"
   ]
  },
  {
   "cell_type": "code",
   "execution_count": 8,
   "metadata": {},
   "outputs": [
    {
     "name": "stdout",
     "output_type": "stream",
     "text": [
      "2924\n"
     ]
    }
   ],
   "source": [
    "vocab=list(model.wv.key_to_index.keys())\n",
    "print(len(vocab))"
   ]
  },
  {
   "cell_type": "code",
   "execution_count": 81,
   "metadata": {},
   "outputs": [
    {
     "data": {
      "text/plain": [
       "(200,)"
      ]
     },
     "execution_count": 81,
     "metadata": {},
     "output_type": "execute_result"
    }
   ],
   "source": [
    "type(model.wv)\n",
    "model.wv[0]\n",
    "model.wv[0].shape"
   ]
  },
  {
   "cell_type": "code",
   "execution_count": 11,
   "metadata": {},
   "outputs": [
    {
     "data": {
      "text/plain": [
       "list"
      ]
     },
     "execution_count": 11,
     "metadata": {},
     "output_type": "execute_result"
    }
   ],
   "source": [
    "model.wv.key_to_index\n",
    "model.wv.index_to_key[100]\n",
    "type(model.wv.index_to_key)"
   ]
  },
  {
   "cell_type": "code",
   "execution_count": 123,
   "metadata": {},
   "outputs": [
    {
     "data": {
      "text/plain": [
       "2924"
      ]
     },
     "execution_count": 123,
     "metadata": {},
     "output_type": "execute_result"
    }
   ],
   "source": [
    "len(model.wv.index_to_key)"
   ]
  },
  {
   "cell_type": "code",
   "execution_count": 124,
   "metadata": {},
   "outputs": [
    {
     "data": {
      "text/plain": [
       "gensim.models.keyedvectors.KeyedVectors"
      ]
     },
     "execution_count": 124,
     "metadata": {},
     "output_type": "execute_result"
    }
   ],
   "source": [
    "type(model.wv)"
   ]
  },
  {
   "cell_type": "code",
   "execution_count": 12,
   "metadata": {},
   "outputs": [
    {
     "data": {
      "text/plain": [
       "(2924, 200)"
      ]
     },
     "execution_count": 12,
     "metadata": {},
     "output_type": "execute_result"
    }
   ],
   "source": [
    "len(words_vectors)\n",
    "len(words_vectors.index_to_key[:len(words_vectors)])\n",
    "type(words_vectors[words_vectors.index_to_key[:len(words_vectors)]])\n",
    "words_vectors[words_vectors.index_to_key[:len(words_vectors)]].shape"
   ]
  },
  {
   "cell_type": "code",
   "execution_count": 8,
   "metadata": {},
   "outputs": [
    {
     "data": {
      "text/plain": [
       "array([[-2.68113625e-04,  1.18215081e-04,  2.55167484e-03, ...,\n",
       "        -1.19575742e-03, -4.75504762e-03,  2.25293869e-03],\n",
       "       [ 4.72819811e-05,  1.53865933e-03, -3.40632326e-03, ...,\n",
       "        -3.72379413e-03, -1.25303748e-03, -2.77493242e-03],\n",
       "       [-3.56950751e-03,  6.20515319e-04, -3.58835817e-03, ...,\n",
       "        -4.34601074e-03,  1.48075819e-03, -3.33794951e-03],\n",
       "       ...,\n",
       "       [ 1.63632515e-03, -1.87310809e-03,  4.53326706e-04, ...,\n",
       "         5.80255990e-04, -2.01740023e-03,  1.26625178e-03],\n",
       "       [-4.64244140e-03, -1.38949152e-04, -2.22848775e-03, ...,\n",
       "         4.29207692e-03, -4.04914375e-03, -1.21603014e-04],\n",
       "       [-7.28440282e-05, -3.72289657e-03,  2.80575739e-04, ...,\n",
       "        -7.81719689e-04,  1.53545977e-03,  4.93388064e-03]], dtype=float32)"
      ]
     },
     "execution_count": 8,
     "metadata": {},
     "output_type": "execute_result"
    }
   ],
   "source": [
    "words_vectors[words_vectors.index_to_key[:len(words_vectors)]]"
   ]
  },
  {
   "cell_type": "code",
   "execution_count": 12,
   "metadata": {},
   "outputs": [
    {
     "name": "stdout",
     "output_type": "stream",
     "text": [
      "[t-SNE] Computing 91 nearest neighbors...\n",
      "[t-SNE] Indexed 2924 samples in 0.000s...\n",
      "[t-SNE] Computed neighbors for 2924 samples in 0.503s...\n",
      "[t-SNE] Computed conditional probabilities for sample 1000 / 2924\n",
      "[t-SNE] Computed conditional probabilities for sample 2000 / 2924\n",
      "[t-SNE] Computed conditional probabilities for sample 2924 / 2924\n",
      "[t-SNE] Mean sigma: 0.008756\n",
      "[t-SNE] KL divergence after 250 iterations with early exaggeration: 81.476959\n",
      "[t-SNE] KL divergence after 900 iterations: 3.733447\n"
     ]
    },
    {
     "data": {
      "text/plain": [
       "array([[  3.3896217, -29.17385  ,   5.4538083],\n",
       "       [-26.25864  ,  25.547321 ,   8.217736 ],\n",
       "       [-14.91467  , -17.515644 ,  -5.5133605],\n",
       "       ...,\n",
       "       [ 11.040351 , -12.027862 ,  25.286268 ],\n",
       "       [-45.37065  ,   6.457581 ,   7.1171656],\n",
       "       [-28.425766 ,  19.703972 ,   9.4459715]], dtype=float32)"
      ]
     },
     "execution_count": 12,
     "metadata": {},
     "output_type": "execute_result"
    }
   ],
   "source": [
    "#TSNE en 2D apres reduction svd en 50 dimensions\n",
    "from sklearn.manifold import TSNE\n",
    "\n",
    "tsne = TSNE(n_components=3, learning_rate='auto', init='random', perplexity=30, verbose=1)\n",
    "tsne_results = tsne.fit_transform(words_vectors[words_vectors.index_to_key[:len(words_vectors)]])\n",
    "tsne_results"
   ]
  },
  {
   "cell_type": "code",
   "execution_count": 28,
   "metadata": {},
   "outputs": [
    {
     "data": {
      "text/plain": [
       "(2924, 3)"
      ]
     },
     "execution_count": 28,
     "metadata": {},
     "output_type": "execute_result"
    }
   ],
   "source": [
    "tsne_results.shape\n",
    "# tsne_results[:,0].shape\n",
    "# tsne_results[:,1].shape"
   ]
  },
  {
   "cell_type": "code",
   "execution_count": 29,
   "metadata": {},
   "outputs": [
    {
     "data": {
      "text/plain": [
       "array([[  3.3896217, -29.17385  ,   5.4538083],\n",
       "       [-26.25864  ,  25.547321 ,   8.217736 ],\n",
       "       [-14.91467  , -17.515644 ,  -5.5133605],\n",
       "       ...,\n",
       "       [ 11.040351 , -12.027862 ,  25.286268 ],\n",
       "       [-45.37065  ,   6.457581 ,   7.1171656],\n",
       "       [-28.425766 ,  19.703972 ,   9.4459715]], dtype=float32)"
      ]
     },
     "execution_count": 29,
     "metadata": {},
     "output_type": "execute_result"
    }
   ],
   "source": [
    "tsne_results"
   ]
  },
  {
   "cell_type": "code",
   "execution_count": 37,
   "metadata": {},
   "outputs": [],
   "source": [
    "num_words = 200"
   ]
  },
  {
   "cell_type": "code",
   "execution_count": 22,
   "metadata": {},
   "outputs": [
    {
     "data": {
      "image/png": "[encoded data removed]",
      "text/plain": [
       "<Figure size 864x504 with 1 Axes>"
      ]
     },
     "metadata": {
      "needs_background": "light"
     },
     "output_type": "display_data"
    }
   ],
   "source": [
    "# Sans label\n",
    "plt.figure(figsize=(12, 7))\n",
    "sb.scatterplot(\n",
    "    x=tsne_results[0:num_words:,0], y=tsne_results[0:num_words:,1],\n",
    "    legend=\"auto\",\n",
    "    alpha=0.3,\n",
    "    s=10\n",
    ")\n",
    "for i in range(num_words):\n",
    "    plt.text(x=tsne_results[i,0], y=tsne_results[i,1], \n",
    "             s=words_vectors.index_to_key[i], fontsize=13)\n",
    "\n",
    "plt.xlabel(\"tsne_2d_x\", size=16)\n",
    "plt.ylabel(\"tsne_2d_y\", size=16)\n",
    "plt.title(\"Reduction tsne des dimensions en 2D\", size=17)\n",
    "plt.xticks(fontsize=15)\n",
    "plt.yticks(fontsize=15)\n",
    "plt.show()"
   ]
  },
  {
   "cell_type": "code",
   "execution_count": 35,
   "metadata": {},
   "outputs": [
    {
     "name": "stdout",
     "output_type": "stream",
     "text": [
      "(140,)\n",
      "(140,)\n",
      "(140,)\n"
     ]
    }
   ],
   "source": [
    "print(tsne_results[0:num_words:,0].shape)\n",
    "print(tsne_results[0:num_words:,1].shape)\n",
    "print(tsne_results[0:num_words:,2].shape)"
   ]
  },
  {
   "cell_type": "code",
   "execution_count": 38,
   "metadata": {},
   "outputs": [
    {
     "data": {
      "application/vnd.plotly.v1+json": {
       "config": {
        "plotlyServerURL": "https://plot.ly"
       },
       "data": [
        {
         "hovertemplate": "x=%{x}<br>y=%{y}<br>z=%{z}<br>text=%{text}<extra></extra>",
         "legendgroup": "",
         "marker": {
          "color": "#636efa",
          "symbol": "circle"
         },
         "mode": "markers+text",
         "name": "",
         "scene": "scene",
         "showlegend": false,
         "text": [
          "dieu",
          "»",
          "«",
          "a",
          "baptême",
          "comme",
          "être",
          "plus",
          "alliance",
          "cette",
          "fait",
          "enfant",
          "si",
          "donc",
          "dit",
          "tout",
          "christ",
          "-",
          "–",
          "foi",
          "bien",
          "chose",
          "cela",
          "peut",
          "homme",
          "non",
          "van",
          "aussi",
          "til",
          "dire",
          "article",
          "…",
          "tous",
          "ainsi",
          "entre",
          "nature",
          "raison",
          "autre",
          "parce",
          "question",
          "car",
          "père",
          "circoncision",
          "faire",
          "personne",
          "grâce",
          "sans",
          "église",
          "baptisé",
          "deux",
          "the",
          "thomas",
          "toute",
          "famille",
          "quand",
          "promesse",
          "autres",
          "alors",
          "baptiste",
          "jésus",
          "chrétien",
          "théologie",
          "sens",
          "vie",
          "selon",
          "réformé",
          "fil",
          "of",
          "cause",
          "encore"
         ],
         "type": "scatter3d",
         "x": [
          3.3896217346191406,
          -26.25864028930664,
          -14.91466999053955,
          -30.160402297973633,
          13.814679145812988,
          12.566062927246094,
          -12.408080101013184,
          31.775419235229492,
          16.853403091430664,
          -8.66128158569336,
          4.896695613861084,
          -31.677095413208008,
          -11.369058609008789,
          4.604191303253174,
          38.120548248291016,
          -26.959365844726562,
          46.52134704589844,
          32.10163879394531,
          33.09956359863281,
          20.65370750427246,
          -26.717653274536133,
          15.225290298461914,
          25.287860870361328,
          -31.70775604248047,
          21.98514175415039,
          -22.687366485595703,
          -23.124650955200195,
          -37.237361907958984,
          22.523902893066406,
          -24.3890438079834,
          -50.75199890136719,
          -18.797529220581055,
          -4.9857497215271,
          -3.734591484069824,
          -25.83946418762207,
          24.726694107055664,
          6.059924602508545,
          -4.760182857513428,
          1.8732175827026367,
          3.582608938217163,
          -26.977752685546875,
          -6.574387073516846,
          -28.08982276916504,
          -7.621524810791016,
          0.6450457572937012,
          26.428524017333984,
          -12.586530685424805,
          -8.646821022033691,
          11.363167762756348,
          32.29708480834961,
          -6.060426712036133,
          12.283713340759277,
          20.01984977722168,
          -1.7121562957763672,
          -40.72643280029297,
          1.0237948894500732,
          -2.1790263652801514,
          5.8416032791137695,
          30.728708267211914,
          -2.762192964553833,
          25.056049346923828,
          -31.792770385742188,
          -26.580326080322266,
          16.019630432128906,
          -4.792112350463867,
          -12.23003101348877,
          -15.333908081054688,
          -34.448116302490234,
          -35.27265930175781,
          -0.4149681329727173
         ],
         "y": [
          -29.17384910583496,
          25.547321319580078,
          -17.515644073486328,
          -15.80441951751709,
          23.646127700805664,
          -18.29730987548828,
          17.641374588012695,
          24.644113540649414,
          -8.774543762207031,
          16.885616302490234,
          5.870828628540039,
          14.248604774475098,
          38.31724548339844,
          -29.744422912597656,
          0.9243425130844116,
          -22.97001075744629,
          7.51272439956665,
          -7.43630313873291,
          22.171401977539062,
          0.5592913627624512,
          31.64837646484375,
          8.494902610778809,
          -22.292530059814453,
          -8.670722007751465,
          -4.8809919357299805,
          -17.222692489624023,
          -28.517961502075195,
          -19.30915069580078,
          17.46786880493164,
          32.44483184814453,
          6.958217620849609,
          16.2857608795166,
          -19.903146743774414,
          -24.911012649536133,
          18.49146842956543,
          -3.438598394393921,
          -36.41505813598633,
          -14.406291007995605,
          -21.122255325317383,
          -30.483388900756836,
          14.110913276672363,
          -15.522148132324219,
          -6.594490051269531,
          12.847553253173828,
          16.834882736206055,
          11.281558990478516,
          -28.369050979614258,
          7.890809059143066,
          16.38280487060547,
          -15.409265518188477,
          17.860523223876953,
          -4.695052623748779,
          -31.51172637939453,
          -16.34449005126953,
          14.874215126037598,
          -15.655417442321777,
          -3.2454254627227783,
          -29.151859283447266,
          1.7536829710006714,
          9.321452140808105,
          -8.8862886428833,
          -7.5462446212768555,
          6.164290428161621,
          4.377904891967773,
          35.7797966003418,
          25.60683822631836,
          -15.926116943359375,
          -3.339552164077759,
          19.33965301513672,
          0.8421099781990051
         ],
         "z": [
          5.453808307647705,
          8.21773624420166,
          -5.513360500335693,
          -1.7503962516784668,
          -18.437299728393555,
          24.614459991455078,
          -26.0615234375,
          -1.9014627933502197,
          -44.87478256225586,
          3.0299785137176514,
          -24.11150360107422,
          9.027487754821777,
          9.271611213684082,
          25.660017013549805,
          24.058937072753906,
          -0.3751460015773773,
          -5.8036346435546875,
          23.215404510498047,
          12.22376823425293,
          -8.385331153869629,
          21.911542892456055,
          39.417240142822266,
          25.456140518188477,
          -7.160362243652344,
          -2.9813921451568604,
          34.90690994262695,
          -28.49528694152832,
          -15.781779289245605,
          -13.10319709777832,
          5.8765997886657715,
          -0.9219887852668762,
          -9.944238662719727,
          -16.701669692993164,
          -12.35772705078125,
          -35.15670394897461,
          -15.330227851867676,
          3.910003662109375,
          -19.277565002441406,
          13.742019653320312,
          -6.1811442375183105,
          -5.888598442077637,
          -44.70674514770508,
          -28.0096435546875,
          -3.208357334136963,
          21.966182708740234,
          5.46185827255249,
          15.94569206237793,
          -3.6835405826568604,
          41.709632873535156,
          -12.050990104675293,
          -28.469608306884766,
          -32.33407211303711,
          5.136985778808594,
          -1.4176311492919922,
          -13.208544731140137,
          37.78788375854492,
          9.340851783752441,
          17.09606170654297,
          23.380260467529297,
          -3.27445387840271,
          -17.737308502197266,
          -14.012075424194336,
          -36.961204528808594,
          5.613237380981445,
          0.6541162729263306,
          -3.061483860015869,
          16.915246963500977,
          -7.678802967071533,
          -21.164831161499023,
          9.894731521606445
         ]
        }
       ],
       "layout": {
        "legend": {
         "tracegroupgap": 0
        },
        "margin": {
         "t": 60
        },
        "scene": {
         "domain": {
          "x": [
           0,
           1
          ],
          "y": [
           0,
           1
          ]
         },
         "xaxis": {
          "title": {
           "text": "x"
          }
         },
         "yaxis": {
          "title": {
           "text": "y"
          }
         },
         "zaxis": {
          "title": {
           "text": "z"
          }
         }
        },
        "template": {
         "data": {
          "bar": [
           {
            "error_x": {
             "color": "#2a3f5f"
            },
            "error_y": {
             "color": "#2a3f5f"
            },
            "marker": {
             "line": {
              "color": "#E5ECF6",
              "width": 0.5
             },
             "pattern": {
              "fillmode": "overlay",
              "size": 10,
              "solidity": 0.2
             }
            },
            "type": "bar"
           }
          ],
          "barpolar": [
           {
            "marker": {
             "line": {
              "color": "#E5ECF6",
              "width": 0.5
             },
             "pattern": {
              "fillmode": "overlay",
              "size": 10,
              "solidity": 0.2
             }
            },
            "type": "barpolar"
           }
          ],
          "carpet": [
           {
            "aaxis": {
             "endlinecolor": "#2a3f5f",
             "gridcolor": "white",
             "linecolor": "white",
             "minorgridcolor": "white",
             "startlinecolor": "#2a3f5f"
            },
            "baxis": {
             "endlinecolor": "#2a3f5f",
             "gridcolor": "white",
             "linecolor": "white",
             "minorgridcolor": "white",
             "startlinecolor": "#2a3f5f"
            },
            "type": "carpet"
           }
          ],
          "choropleth": [
           {
            "colorbar": {
             "outlinewidth": 0,
             "ticks": ""
            },
            "type": "choropleth"
           }
          ],
          "contour": [
           {
            "colorbar": {
             "outlinewidth": 0,
             "ticks": ""
            },
            "colorscale": [
             [
              0,
              "#0d0887"
             ],
             [
              0.1111111111111111,
              "#46039f"
             ],
             [
              0.2222222222222222,
              "#7201a8"
             ],
             [
              0.3333333333333333,
              "#9c179e"
             ],
             [
              0.4444444444444444,
              "#bd3786"
             ],
             [
              0.5555555555555556,
              "#d8576b"
             ],
             [
              0.6666666666666666,
              "#ed7953"
             ],
             [
              0.7777777777777778,
              "#fb9f3a"
             ],
             [
              0.8888888888888888,
              "#fdca26"
             ],
             [
              1,
              "#f0f921"
             ]
            ],
            "type": "contour"
           }
          ],
          "contourcarpet": [
           {
            "colorbar": {
             "outlinewidth": 0,
             "ticks": ""
            },
            "type": "contourcarpet"
           }
          ],
          "heatmap": [
           {
            "colorbar": {
             "outlinewidth": 0,
             "ticks": ""
            },
            "colorscale": [
             [
              0,
              "#0d0887"
             ],
             [
              0.1111111111111111,
              "#46039f"
             ],
             [
              0.2222222222222222,
              "#7201a8"
             ],
             [
              0.3333333333333333,
              "#9c179e"
             ],
             [
              0.4444444444444444,
              "#bd3786"
             ],
             [
              0.5555555555555556,
              "#d8576b"
             ],
             [
              0.6666666666666666,
              "#ed7953"
             ],
             [
              0.7777777777777778,
              "#fb9f3a"
             ],
             [
              0.8888888888888888,
              "#fdca26"
             ],
             [
              1,
              "#f0f921"
             ]
            ],
            "type": "heatmap"
           }
          ],
          "heatmapgl": [
           {
            "colorbar": {
             "outlinewidth": 0,
             "ticks": ""
            },
            "colorscale": [
             [
              0,
              "#0d0887"
             ],
             [
              0.1111111111111111,
              "#46039f"
             ],
             [
              0.2222222222222222,
              "#7201a8"
             ],
             [
              0.3333333333333333,
              "#9c179e"
             ],
             [
              0.4444444444444444,
              "#bd3786"
             ],
             [
              0.5555555555555556,
              "#d8576b"
             ],
             [
              0.6666666666666666,
              "#ed7953"
             ],
             [
              0.7777777777777778,
              "#fb9f3a"
             ],
             [
              0.8888888888888888,
              "#fdca26"
             ],
             [
              1,
              "#f0f921"
             ]
            ],
            "type": "heatmapgl"
           }
          ],
          "histogram": [
           {
            "marker": {
             "pattern": {
              "fillmode": "overlay",
              "size": 10,
              "solidity": 0.2
             }
            },
            "type": "histogram"
           }
          ],
          "histogram2d": [
           {
            "colorbar": {
             "outlinewidth": 0,
             "ticks": ""
            },
            "colorscale": [
             [
              0,
              "#0d0887"
             ],
             [
              0.1111111111111111,
              "#46039f"
             ],
             [
              0.2222222222222222,
              "#7201a8"
             ],
             [
              0.3333333333333333,
              "#9c179e"
             ],
             [
              0.4444444444444444,
              "#bd3786"
             ],
             [
              0.5555555555555556,
              "#d8576b"
             ],
             [
              0.6666666666666666,
              "#ed7953"
             ],
             [
              0.7777777777777778,
              "#fb9f3a"
             ],
             [
              0.8888888888888888,
              "#fdca26"
             ],
             [
              1,
              "#f0f921"
             ]
            ],
            "type": "histogram2d"
           }
          ],
          "histogram2dcontour": [
           {
            "colorbar": {
             "outlinewidth": 0,
             "ticks": ""
            },
            "colorscale": [
             [
              0,
              "#0d0887"
             ],
             [
              0.1111111111111111,
              "#46039f"
             ],
             [
              0.2222222222222222,
              "#7201a8"
             ],
             [
              0.3333333333333333,
              "#9c179e"
             ],
             [
              0.4444444444444444,
              "#bd3786"
             ],
             [
              0.5555555555555556,
              "#d8576b"
             ],
             [
              0.6666666666666666,
              "#ed7953"
             ],
             [
              0.7777777777777778,
              "#fb9f3a"
             ],
             [
              0.8888888888888888,
              "#fdca26"
             ],
             [
              1,
              "#f0f921"
             ]
            ],
            "type": "histogram2dcontour"
           }
          ],
          "mesh3d": [
           {
            "colorbar": {
             "outlinewidth": 0,
             "ticks": ""
            },
            "type": "mesh3d"
           }
          ],
          "parcoords": [
           {
            "line": {
             "colorbar": {
              "outlinewidth": 0,
              "ticks": ""
             }
            },
            "type": "parcoords"
           }
          ],
          "pie": [
           {
            "automargin": true,
            "type": "pie"
           }
          ],
          "scatter": [
           {
            "fillpattern": {
             "fillmode": "overlay",
             "size": 10,
             "solidity": 0.2
            },
            "type": "scatter"
           }
          ],
          "scatter3d": [
           {
            "line": {
             "colorbar": {
              "outlinewidth": 0,
              "ticks": ""
             }
            },
            "marker": {
             "colorbar": {
              "outlinewidth": 0,
              "ticks": ""
             }
            },
            "type": "scatter3d"
           }
          ],
          "scattercarpet": [
           {
            "marker": {
             "colorbar": {
              "outlinewidth": 0,
              "ticks": ""
             }
            },
            "type": "scattercarpet"
           }
          ],
          "scattergeo": [
           {
            "marker": {
             "colorbar": {
              "outlinewidth": 0,
              "ticks": ""
             }
            },
            "type": "scattergeo"
           }
          ],
          "scattergl": [
           {
            "marker": {
             "colorbar": {
              "outlinewidth": 0,
              "ticks": ""
             }
            },
            "type": "scattergl"
           }
          ],
          "scattermapbox": [
           {
            "marker": {
             "colorbar": {
              "outlinewidth": 0,
              "ticks": ""
             }
            },
            "type": "scattermapbox"
           }
          ],
          "scatterpolar": [
           {
            "marker": {
             "colorbar": {
              "outlinewidth": 0,
              "ticks": ""
             }
            },
            "type": "scatterpolar"
           }
          ],
          "scatterpolargl": [
           {
            "marker": {
             "colorbar": {
              "outlinewidth": 0,
              "ticks": ""
             }
            },
            "type": "scatterpolargl"
           }
          ],
          "scatterternary": [
           {
            "marker": {
             "colorbar": {
              "outlinewidth": 0,
              "ticks": ""
             }
            },
            "type": "scatterternary"
           }
          ],
          "surface": [
           {
            "colorbar": {
             "outlinewidth": 0,
             "ticks": ""
            },
            "colorscale": [
             [
              0,
              "#0d0887"
             ],
             [
              0.1111111111111111,
              "#46039f"
             ],
             [
              0.2222222222222222,
              "#7201a8"
             ],
             [
              0.3333333333333333,
              "#9c179e"
             ],
             [
              0.4444444444444444,
              "#bd3786"
             ],
             [
              0.5555555555555556,
              "#d8576b"
             ],
             [
              0.6666666666666666,
              "#ed7953"
             ],
             [
              0.7777777777777778,
              "#fb9f3a"
             ],
             [
              0.8888888888888888,
              "#fdca26"
             ],
             [
              1,
              "#f0f921"
             ]
            ],
            "type": "surface"
           }
          ],
          "table": [
           {
            "cells": {
             "fill": {
              "color": "#EBF0F8"
             },
             "line": {
              "color": "white"
             }
            },
            "header": {
             "fill": {
              "color": "#C8D4E3"
             },
             "line": {
              "color": "white"
             }
            },
            "type": "table"
           }
          ]
         },
         "layout": {
          "annotationdefaults": {
           "arrowcolor": "#2a3f5f",
           "arrowhead": 0,
           "arrowwidth": 1
          },
          "autotypenumbers": "strict",
          "coloraxis": {
           "colorbar": {
            "outlinewidth": 0,
            "ticks": ""
           }
          },
          "colorscale": {
           "diverging": [
            [
             0,
             "#8e0152"
            ],
            [
             0.1,
             "#c51b7d"
            ],
            [
             0.2,
             "#de77ae"
            ],
            [
             0.3,
             "#f1b6da"
            ],
            [
             0.4,
             "#fde0ef"
            ],
            [
             0.5,
             "#f7f7f7"
            ],
            [
             0.6,
             "#e6f5d0"
            ],
            [
             0.7,
             "#b8e186"
            ],
            [
             0.8,
             "#7fbc41"
            ],
            [
             0.9,
             "#4d9221"
            ],
            [
             1,
             "#276419"
            ]
           ],
           "sequential": [
            [
             0,
             "#0d0887"
            ],
            [
             0.1111111111111111,
             "#46039f"
            ],
            [
             0.2222222222222222,
             "#7201a8"
            ],
            [
             0.3333333333333333,
             "#9c179e"
            ],
            [
             0.4444444444444444,
             "#bd3786"
            ],
            [
             0.5555555555555556,
             "#d8576b"
            ],
            [
             0.6666666666666666,
             "#ed7953"
            ],
            [
             0.7777777777777778,
             "#fb9f3a"
            ],
            [
             0.8888888888888888,
             "#fdca26"
            ],
            [
             1,
             "#f0f921"
            ]
           ],
           "sequentialminus": [
            [
             0,
             "#0d0887"
            ],
            [
             0.1111111111111111,
             "#46039f"
            ],
            [
             0.2222222222222222,
             "#7201a8"
            ],
            [
             0.3333333333333333,
             "#9c179e"
            ],
            [
             0.4444444444444444,
             "#bd3786"
            ],
            [
             0.5555555555555556,
             "#d8576b"
            ],
            [
             0.6666666666666666,
             "#ed7953"
            ],
            [
             0.7777777777777778,
             "#fb9f3a"
            ],
            [
             0.8888888888888888,
             "#fdca26"
            ],
            [
             1,
             "#f0f921"
            ]
           ]
          },
          "colorway": [
           "#636efa",
           "#EF553B",
           "#00cc96",
           "#ab63fa",
           "#FFA15A",
           "#19d3f3",
           "#FF6692",
           "#B6E880",
           "#FF97FF",
           "#FECB52"
          ],
          "font": {
           "color": "#2a3f5f"
          },
          "geo": {
           "bgcolor": "white",
           "lakecolor": "white",
           "landcolor": "#E5ECF6",
           "showlakes": true,
           "showland": true,
           "subunitcolor": "white"
          },
          "hoverlabel": {
           "align": "left"
          },
          "hovermode": "closest",
          "mapbox": {
           "style": "light"
          },
          "paper_bgcolor": "white",
          "plot_bgcolor": "#E5ECF6",
          "polar": {
           "angularaxis": {
            "gridcolor": "white",
            "linecolor": "white",
            "ticks": ""
           },
           "bgcolor": "#E5ECF6",
           "radialaxis": {
            "gridcolor": "white",
            "linecolor": "white",
            "ticks": ""
           }
          },
          "scene": {
           "xaxis": {
            "backgroundcolor": "#E5ECF6",
            "gridcolor": "white",
            "gridwidth": 2,
            "linecolor": "white",
            "showbackground": true,
            "ticks": "",
            "zerolinecolor": "white"
           },
           "yaxis": {
            "backgroundcolor": "#E5ECF6",
            "gridcolor": "white",
            "gridwidth": 2,
            "linecolor": "white",
            "showbackground": true,
            "ticks": "",
            "zerolinecolor": "white"
           },
           "zaxis": {
            "backgroundcolor": "#E5ECF6",
            "gridcolor": "white",
            "gridwidth": 2,
            "linecolor": "white",
            "showbackground": true,
            "ticks": "",
            "zerolinecolor": "white"
           }
          },
          "shapedefaults": {
           "line": {
            "color": "#2a3f5f"
           }
          },
          "ternary": {
           "aaxis": {
            "gridcolor": "white",
            "linecolor": "white",
            "ticks": ""
           },
           "baxis": {
            "gridcolor": "white",
            "linecolor": "white",
            "ticks": ""
           },
           "bgcolor": "#E5ECF6",
           "caxis": {
            "gridcolor": "white",
            "linecolor": "white",
            "ticks": ""
           }
          },
          "title": {
           "x": 0.05
          },
          "xaxis": {
           "automargin": true,
           "gridcolor": "white",
           "linecolor": "white",
           "ticks": "",
           "title": {
            "standoff": 15
           },
           "zerolinecolor": "white",
           "zerolinewidth": 2
          },
          "yaxis": {
           "automargin": true,
           "gridcolor": "white",
           "linecolor": "white",
           "ticks": "",
           "title": {
            "standoff": 15
           },
           "zerolinecolor": "white",
           "zerolinewidth": 2
          }
         }
        }
       }
      },
      "text/html": [
       "<div>                            <div id=\"f52bbe23-3ed0-4394-8907-79285ba9965a\" class=\"plotly-graph-div\" style=\"height:525px; width:100%;\"></div>            <script type=\"text/javascript\">                require([\"plotly\"], function(Plotly) {                    window.PLOTLYENV=window.PLOTLYENV || {};                                    if (document.getElementById(\"f52bbe23-3ed0-4394-8907-79285ba9965a\")) {                    Plotly.newPlot(                        \"f52bbe23-3ed0-4394-8907-79285ba9965a\",                        [{\"hovertemplate\":\"x=%{x}<br>y=%{y}<br>z=%{z}<br>text=%{text}<extra></extra>\",\"legendgroup\":\"\",\"marker\":{\"color\":\"#636efa\",\"symbol\":\"circle\"},\"mode\":\"markers+text\",\"name\":\"\",\"scene\":\"scene\",\"showlegend\":false,\"text\":[\"dieu\",\"\\u00bb\",\"\\u00ab\",\"a\",\"bapt\\u00eame\",\"comme\",\"\\u00eatre\",\"plus\",\"alliance\",\"cette\",\"fait\",\"enfant\",\"si\",\"donc\",\"dit\",\"tout\",\"christ\",\"-\",\"\\u2013\",\"foi\",\"bien\",\"chose\",\"cela\",\"peut\",\"homme\",\"non\",\"van\",\"aussi\",\"til\",\"dire\",\"article\",\"\\u2026\",\"tous\",\"ainsi\",\"entre\",\"nature\",\"raison\",\"autre\",\"parce\",\"question\",\"car\",\"p\\u00e8re\",\"circoncision\",\"faire\",\"personne\",\"gr\\u00e2ce\",\"sans\",\"\\u00e9glise\",\"baptis\\u00e9\",\"deux\",\"the\",\"thomas\",\"toute\",\"famille\",\"quand\",\"promesse\",\"autres\",\"alors\",\"baptiste\",\"j\\u00e9sus\",\"chr\\u00e9tien\",\"th\\u00e9ologie\",\"sens\",\"vie\",\"selon\",\"r\\u00e9form\\u00e9\",\"fil\",\"of\",\"cause\",\"encore\"],\"x\":[3.3896217346191406,-26.25864028930664,-14.91466999053955,-30.160402297973633,13.814679145812988,12.566062927246094,-12.408080101013184,31.775419235229492,16.853403091430664,-8.66128158569336,4.896695613861084,-31.677095413208008,-11.369058609008789,4.604191303253174,38.120548248291016,-26.959365844726562,46.52134704589844,32.10163879394531,33.09956359863281,20.65370750427246,-26.717653274536133,15.225290298461914,25.287860870361328,-31.70775604248047,21.98514175415039,-22.687366485595703,-23.124650955200195,-37.237361907958984,22.523902893066406,-24.3890438079834,-50.75199890136719,-18.797529220581055,-4.9857497215271,-3.734591484069824,-25.83946418762207,24.726694107055664,6.059924602508545,-4.760182857513428,1.8732175827026367,3.582608938217163,-26.977752685546875,-6.574387073516846,-28.08982276916504,-7.621524810791016,0.6450457572937012,26.428524017333984,-12.586530685424805,-8.646821022033691,11.363167762756348,32.29708480834961,-6.060426712036133,12.283713340759277,20.01984977722168,-1.7121562957763672,-40.72643280029297,1.0237948894500732,-2.1790263652801514,5.8416032791137695,30.728708267211914,-2.762192964553833,25.056049346923828,-31.792770385742188,-26.580326080322266,16.019630432128906,-4.792112350463867,-12.23003101348877,-15.333908081054688,-34.448116302490234,-35.27265930175781,-0.4149681329727173],\"y\":[-29.17384910583496,25.547321319580078,-17.515644073486328,-15.80441951751709,23.646127700805664,-18.29730987548828,17.641374588012695,24.644113540649414,-8.774543762207031,16.885616302490234,5.870828628540039,14.248604774475098,38.31724548339844,-29.744422912597656,0.9243425130844116,-22.97001075744629,7.51272439956665,-7.43630313873291,22.171401977539062,0.5592913627624512,31.64837646484375,8.494902610778809,-22.292530059814453,-8.670722007751465,-4.8809919357299805,-17.222692489624023,-28.517961502075195,-19.30915069580078,17.46786880493164,32.44483184814453,6.958217620849609,16.2857608795166,-19.903146743774414,-24.911012649536133,18.49146842956543,-3.438598394393921,-36.41505813598633,-14.406291007995605,-21.122255325317383,-30.483388900756836,14.110913276672363,-15.522148132324219,-6.594490051269531,12.847553253173828,16.834882736206055,11.281558990478516,-28.369050979614258,7.890809059143066,16.38280487060547,-15.409265518188477,17.860523223876953,-4.695052623748779,-31.51172637939453,-16.34449005126953,14.874215126037598,-15.655417442321777,-3.2454254627227783,-29.151859283447266,1.7536829710006714,9.321452140808105,-8.8862886428833,-7.5462446212768555,6.164290428161621,4.377904891967773,35.7797966003418,25.60683822631836,-15.926116943359375,-3.339552164077759,19.33965301513672,0.8421099781990051],\"z\":[5.453808307647705,8.21773624420166,-5.513360500335693,-1.7503962516784668,-18.437299728393555,24.614459991455078,-26.0615234375,-1.9014627933502197,-44.87478256225586,3.0299785137176514,-24.11150360107422,9.027487754821777,9.271611213684082,25.660017013549805,24.058937072753906,-0.3751460015773773,-5.8036346435546875,23.215404510498047,12.22376823425293,-8.385331153869629,21.911542892456055,39.417240142822266,25.456140518188477,-7.160362243652344,-2.9813921451568604,34.90690994262695,-28.49528694152832,-15.781779289245605,-13.10319709777832,5.8765997886657715,-0.9219887852668762,-9.944238662719727,-16.701669692993164,-12.35772705078125,-35.15670394897461,-15.330227851867676,3.910003662109375,-19.277565002441406,13.742019653320312,-6.1811442375183105,-5.888598442077637,-44.70674514770508,-28.0096435546875,-3.208357334136963,21.966182708740234,5.46185827255249,15.94569206237793,-3.6835405826568604,41.709632873535156,-12.050990104675293,-28.469608306884766,-32.33407211303711,5.136985778808594,-1.4176311492919922,-13.208544731140137,37.78788375854492,9.340851783752441,17.09606170654297,23.380260467529297,-3.27445387840271,-17.737308502197266,-14.012075424194336,-36.961204528808594,5.613237380981445,0.6541162729263306,-3.061483860015869,16.915246963500977,-7.678802967071533,-21.164831161499023,9.894731521606445],\"type\":\"scatter3d\"}],                        {\"template\":{\"data\":{\"histogram2dcontour\":[{\"type\":\"histogram2dcontour\",\"colorbar\":{\"outlinewidth\":0,\"ticks\":\"\"},\"colorscale\":[[0.0,\"#0d0887\"],[0.1111111111111111,\"#46039f\"],[0.2222222222222222,\"#7201a8\"],[0.3333333333333333,\"#9c179e\"],[0.4444444444444444,\"#bd3786\"],[0.5555555555555556,\"#d8576b\"],[0.6666666666666666,\"#ed7953\"],[0.7777777777777778,\"#fb9f3a\"],[0.8888888888888888,\"#fdca26\"],[1.0,\"#f0f921\"]]}],\"choropleth\":[{\"type\":\"choropleth\",\"colorbar\":{\"outlinewidth\":0,\"ticks\":\"\"}}],\"histogram2d\":[{\"type\":\"histogram2d\",\"colorbar\":{\"outlinewidth\":0,\"ticks\":\"\"},\"colorscale\":[[0.0,\"#0d0887\"],[0.1111111111111111,\"#46039f\"],[0.2222222222222222,\"#7201a8\"],[0.3333333333333333,\"#9c179e\"],[0.4444444444444444,\"#bd3786\"],[0.5555555555555556,\"#d8576b\"],[0.6666666666666666,\"#ed7953\"],[0.7777777777777778,\"#fb9f3a\"],[0.8888888888888888,\"#fdca26\"],[1.0,\"#f0f921\"]]}],\"heatmap\":[{\"type\":\"heatmap\",\"colorbar\":{\"outlinewidth\":0,\"ticks\":\"\"},\"colorscale\":[[0.0,\"#0d0887\"],[0.1111111111111111,\"#46039f\"],[0.2222222222222222,\"#7201a8\"],[0.3333333333333333,\"#9c179e\"],[0.4444444444444444,\"#bd3786\"],[0.5555555555555556,\"#d8576b\"],[0.6666666666666666,\"#ed7953\"],[0.7777777777777778,\"#fb9f3a\"],[0.8888888888888888,\"#fdca26\"],[1.0,\"#f0f921\"]]}],\"heatmapgl\":[{\"type\":\"heatmapgl\",\"colorbar\":{\"outlinewidth\":0,\"ticks\":\"\"},\"colorscale\":[[0.0,\"#0d0887\"],[0.1111111111111111,\"#46039f\"],[0.2222222222222222,\"#7201a8\"],[0.3333333333333333,\"#9c179e\"],[0.4444444444444444,\"#bd3786\"],[0.5555555555555556,\"#d8576b\"],[0.6666666666666666,\"#ed7953\"],[0.7777777777777778,\"#fb9f3a\"],[0.8888888888888888,\"#fdca26\"],[1.0,\"#f0f921\"]]}],\"contourcarpet\":[{\"type\":\"contourcarpet\",\"colorbar\":{\"outlinewidth\":0,\"ticks\":\"\"}}],\"contour\":[{\"type\":\"contour\",\"colorbar\":{\"outlinewidth\":0,\"ticks\":\"\"},\"colorscale\":[[0.0,\"#0d0887\"],[0.1111111111111111,\"#46039f\"],[0.2222222222222222,\"#7201a8\"],[0.3333333333333333,\"#9c179e\"],[0.4444444444444444,\"#bd3786\"],[0.5555555555555556,\"#d8576b\"],[0.6666666666666666,\"#ed7953\"],[0.7777777777777778,\"#fb9f3a\"],[0.8888888888888888,\"#fdca26\"],[1.0,\"#f0f921\"]]}],\"surface\":[{\"type\":\"surface\",\"colorbar\":{\"outlinewidth\":0,\"ticks\":\"\"},\"colorscale\":[[0.0,\"#0d0887\"],[0.1111111111111111,\"#46039f\"],[0.2222222222222222,\"#7201a8\"],[0.3333333333333333,\"#9c179e\"],[0.4444444444444444,\"#bd3786\"],[0.5555555555555556,\"#d8576b\"],[0.6666666666666666,\"#ed7953\"],[0.7777777777777778,\"#fb9f3a\"],[0.8888888888888888,\"#fdca26\"],[1.0,\"#f0f921\"]]}],\"mesh3d\":[{\"type\":\"mesh3d\",\"colorbar\":{\"outlinewidth\":0,\"ticks\":\"\"}}],\"scatter\":[{\"fillpattern\":{\"fillmode\":\"overlay\",\"size\":10,\"solidity\":0.2},\"type\":\"scatter\"}],\"parcoords\":[{\"type\":\"parcoords\",\"line\":{\"colorbar\":{\"outlinewidth\":0,\"ticks\":\"\"}}}],\"scatterpolargl\":[{\"type\":\"scatterpolargl\",\"marker\":{\"colorbar\":{\"outlinewidth\":0,\"ticks\":\"\"}}}],\"bar\":[{\"error_x\":{\"color\":\"#2a3f5f\"},\"error_y\":{\"color\":\"#2a3f5f\"},\"marker\":{\"line\":{\"color\":\"#E5ECF6\",\"width\":0.5},\"pattern\":{\"fillmode\":\"overlay\",\"size\":10,\"solidity\":0.2}},\"type\":\"bar\"}],\"scattergeo\":[{\"type\":\"scattergeo\",\"marker\":{\"colorbar\":{\"outlinewidth\":0,\"ticks\":\"\"}}}],\"scatterpolar\":[{\"type\":\"scatterpolar\",\"marker\":{\"colorbar\":{\"outlinewidth\":0,\"ticks\":\"\"}}}],\"histogram\":[{\"marker\":{\"pattern\":{\"fillmode\":\"overlay\",\"size\":10,\"solidity\":0.2}},\"type\":\"histogram\"}],\"scattergl\":[{\"type\":\"scattergl\",\"marker\":{\"colorbar\":{\"outlinewidth\":0,\"ticks\":\"\"}}}],\"scatter3d\":[{\"type\":\"scatter3d\",\"line\":{\"colorbar\":{\"outlinewidth\":0,\"ticks\":\"\"}},\"marker\":{\"colorbar\":{\"outlinewidth\":0,\"ticks\":\"\"}}}],\"scattermapbox\":[{\"type\":\"scattermapbox\",\"marker\":{\"colorbar\":{\"outlinewidth\":0,\"ticks\":\"\"}}}],\"scatterternary\":[{\"type\":\"scatterternary\",\"marker\":{\"colorbar\":{\"outlinewidth\":0,\"ticks\":\"\"}}}],\"scattercarpet\":[{\"type\":\"scattercarpet\",\"marker\":{\"colorbar\":{\"outlinewidth\":0,\"ticks\":\"\"}}}],\"carpet\":[{\"aaxis\":{\"endlinecolor\":\"#2a3f5f\",\"gridcolor\":\"white\",\"linecolor\":\"white\",\"minorgridcolor\":\"white\",\"startlinecolor\":\"#2a3f5f\"},\"baxis\":{\"endlinecolor\":\"#2a3f5f\",\"gridcolor\":\"white\",\"linecolor\":\"white\",\"minorgridcolor\":\"white\",\"startlinecolor\":\"#2a3f5f\"},\"type\":\"carpet\"}],\"table\":[{\"cells\":{\"fill\":{\"color\":\"#EBF0F8\"},\"line\":{\"color\":\"white\"}},\"header\":{\"fill\":{\"color\":\"#C8D4E3\"},\"line\":{\"color\":\"white\"}},\"type\":\"table\"}],\"barpolar\":[{\"marker\":{\"line\":{\"color\":\"#E5ECF6\",\"width\":0.5},\"pattern\":{\"fillmode\":\"overlay\",\"size\":10,\"solidity\":0.2}},\"type\":\"barpolar\"}],\"pie\":[{\"automargin\":true,\"type\":\"pie\"}]},\"layout\":{\"autotypenumbers\":\"strict\",\"colorway\":[\"#636efa\",\"#EF553B\",\"#00cc96\",\"#ab63fa\",\"#FFA15A\",\"#19d3f3\",\"#FF6692\",\"#B6E880\",\"#FF97FF\",\"#FECB52\"],\"font\":{\"color\":\"#2a3f5f\"},\"hovermode\":\"closest\",\"hoverlabel\":{\"align\":\"left\"},\"paper_bgcolor\":\"white\",\"plot_bgcolor\":\"#E5ECF6\",\"polar\":{\"bgcolor\":\"#E5ECF6\",\"angularaxis\":{\"gridcolor\":\"white\",\"linecolor\":\"white\",\"ticks\":\"\"},\"radialaxis\":{\"gridcolor\":\"white\",\"linecolor\":\"white\",\"ticks\":\"\"}},\"ternary\":{\"bgcolor\":\"#E5ECF6\",\"aaxis\":{\"gridcolor\":\"white\",\"linecolor\":\"white\",\"ticks\":\"\"},\"baxis\":{\"gridcolor\":\"white\",\"linecolor\":\"white\",\"ticks\":\"\"},\"caxis\":{\"gridcolor\":\"white\",\"linecolor\":\"white\",\"ticks\":\"\"}},\"coloraxis\":{\"colorbar\":{\"outlinewidth\":0,\"ticks\":\"\"}},\"colorscale\":{\"sequential\":[[0.0,\"#0d0887\"],[0.1111111111111111,\"#46039f\"],[0.2222222222222222,\"#7201a8\"],[0.3333333333333333,\"#9c179e\"],[0.4444444444444444,\"#bd3786\"],[0.5555555555555556,\"#d8576b\"],[0.6666666666666666,\"#ed7953\"],[0.7777777777777778,\"#fb9f3a\"],[0.8888888888888888,\"#fdca26\"],[1.0,\"#f0f921\"]],\"sequentialminus\":[[0.0,\"#0d0887\"],[0.1111111111111111,\"#46039f\"],[0.2222222222222222,\"#7201a8\"],[0.3333333333333333,\"#9c179e\"],[0.4444444444444444,\"#bd3786\"],[0.5555555555555556,\"#d8576b\"],[0.6666666666666666,\"#ed7953\"],[0.7777777777777778,\"#fb9f3a\"],[0.8888888888888888,\"#fdca26\"],[1.0,\"#f0f921\"]],\"diverging\":[[0,\"#8e0152\"],[0.1,\"#c51b7d\"],[0.2,\"#de77ae\"],[0.3,\"#f1b6da\"],[0.4,\"#fde0ef\"],[0.5,\"#f7f7f7\"],[0.6,\"#e6f5d0\"],[0.7,\"#b8e186\"],[0.8,\"#7fbc41\"],[0.9,\"#4d9221\"],[1,\"#276419\"]]},\"xaxis\":{\"gridcolor\":\"white\",\"linecolor\":\"white\",\"ticks\":\"\",\"title\":{\"standoff\":15},\"zerolinecolor\":\"white\",\"automargin\":true,\"zerolinewidth\":2},\"yaxis\":{\"gridcolor\":\"white\",\"linecolor\":\"white\",\"ticks\":\"\",\"title\":{\"standoff\":15},\"zerolinecolor\":\"white\",\"automargin\":true,\"zerolinewidth\":2},\"scene\":{\"xaxis\":{\"backgroundcolor\":\"#E5ECF6\",\"gridcolor\":\"white\",\"linecolor\":\"white\",\"showbackground\":true,\"ticks\":\"\",\"zerolinecolor\":\"white\",\"gridwidth\":2},\"yaxis\":{\"backgroundcolor\":\"#E5ECF6\",\"gridcolor\":\"white\",\"linecolor\":\"white\",\"showbackground\":true,\"ticks\":\"\",\"zerolinecolor\":\"white\",\"gridwidth\":2},\"zaxis\":{\"backgroundcolor\":\"#E5ECF6\",\"gridcolor\":\"white\",\"linecolor\":\"white\",\"showbackground\":true,\"ticks\":\"\",\"zerolinecolor\":\"white\",\"gridwidth\":2}},\"shapedefaults\":{\"line\":{\"color\":\"#2a3f5f\"}},\"annotationdefaults\":{\"arrowcolor\":\"#2a3f5f\",\"arrowhead\":0,\"arrowwidth\":1},\"geo\":{\"bgcolor\":\"white\",\"landcolor\":\"#E5ECF6\",\"subunitcolor\":\"white\",\"showland\":true,\"showlakes\":true,\"lakecolor\":\"white\"},\"title\":{\"x\":0.05},\"mapbox\":{\"style\":\"light\"}}},\"scene\":{\"domain\":{\"x\":[0.0,1.0],\"y\":[0.0,1.0]},\"xaxis\":{\"title\":{\"text\":\"x\"}},\"yaxis\":{\"title\":{\"text\":\"y\"}},\"zaxis\":{\"title\":{\"text\":\"z\"}}},\"legend\":{\"tracegroupgap\":0},\"margin\":{\"t\":60}},                        {\"responsive\": true}                    ).then(function(){\n",
       "                            \n",
       "var gd = document.getElementById('f52bbe23-3ed0-4394-8907-79285ba9965a');\n",
       "var x = new MutationObserver(function (mutations, observer) {{\n",
       "        var display = window.getComputedStyle(gd).display;\n",
       "        if (!display || display === 'none') {{\n",
       "            console.log([gd, 'removed!']);\n",
       "            Plotly.purge(gd);\n",
       "            observer.disconnect();\n",
       "        }}\n",
       "}});\n",
       "\n",
       "// Listen for the removal of the full notebook cells\n",
       "var notebookContainer = gd.closest('#notebook-container');\n",
       "if (notebookContainer) {{\n",
       "    x.observe(notebookContainer, {childList: true});\n",
       "}}\n",
       "\n",
       "// Listen for the clearing of the current output cell\n",
       "var outputEl = gd.closest('.output');\n",
       "if (outputEl) {{\n",
       "    x.observe(outputEl, {childList: true});\n",
       "}}\n",
       "\n",
       "                        })                };                });            </script>        </div>"
      ]
     },
     "metadata": {},
     "output_type": "display_data"
    }
   ],
   "source": [
    "#Plot 3D\n",
    "import plotly.express as px\n",
    "fig = px.scatter_3d(x=tsne_results[0:num_words:,0], \n",
    "                    y=tsne_results[0:num_words:,1], \n",
    "                    z=tsne_results[0:num_words:,2],\n",
    "                  text=words_vectors.index_to_key[0:num_words:])\n",
    "fig.show()"
   ]
  },
  {
   "cell_type": "code",
   "execution_count": 16,
   "metadata": {},
   "outputs": [
    {
     "name": "stdout",
     "output_type": "stream",
     "text": [
      "[ 32.97364     27.86875      2.6578183   -6.156161    26.759222\n",
      "  26.850883    16.1331     -18.113335   -18.714615    22.738516\n",
      " -17.732666    30.788158   -21.100252    21.00191     40.18455\n",
      " -25.64658     11.441761    26.25866     -8.396498    24.155148\n",
      "   2.2062364  -35.837776   -31.808994    -3.1559381  -15.883595\n",
      "  11.889427     0.16937323 -17.269344    -4.664543     2.3588793\n",
      " -15.474083    14.938675    12.966424    36.691887    32.03494\n",
      " -28.764671    14.556421    -5.2187657  -16.172247    -2.6972094\n",
      " -24.54941     39.68088     -3.7747867   27.805323    16.432642\n",
      "  -5.650859    14.336708    -2.8012807   -1.4311023  -29.907084  ]\n"
     ]
    }
   ],
   "source": [
    "print(tsne_results[0:50:,0])"
   ]
  },
  {
   "cell_type": "markdown",
   "metadata": {},
   "source": [
    "sources :\n",
    "http://ethen8181.github.io/machine-learning/keras/text_classification/word2vec_text_classification.html"
   ]
  }
 ],
 "metadata": {
  "kernelspec": {
   "display_name": "Python 3 (ipykernel)",
   "language": "python",
   "name": "python3"
  },
  "language_info": {
   "codemirror_mode": {
    "name": "ipython",
    "version": 3
   },
   "file_extension": ".py",
   "mimetype": "text/x-python",
   "name": "python",
   "nbconvert_exporter": "python",
   "pygments_lexer": "ipython3",
   "version": "3.9.7"
  },
  "vscode": {
   "interpreter": {
    "hash": "3e7035cb009caaa59ad2cfefe05d6f0df614ee59b6f1c56d32ef92625aa3dec5"
   }
  }
 },
 "nbformat": 4,
 "nbformat_minor": 2
}
