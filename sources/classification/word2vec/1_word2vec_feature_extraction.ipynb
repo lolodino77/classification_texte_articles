{
 "cells": [
  {
   "cell_type": "code",
   "execution_count": 1,
   "metadata": {},
   "outputs": [
    {
     "name": "stdout",
     "output_type": "stream",
     "text": [
      "c:\\Users\\eupho\\OneDrive\\Documents\\perso\\projets\\classification_texte_bapteme_philo\n"
     ]
    }
   ],
   "source": [
    "import sys\n",
    "from pathlib import Path, PureWindowsPath\n",
    "current_folder = PureWindowsPath(globals()['_dh'][0]).as_posix()\n",
    "path_root = \"/\".join(current_folder.split(\"/\")[:-3]) #remonter au dossier root du projet\n",
    "os.chdir(path_root)\n",
    "print(os.getcwd())\n",
    "sys.path.append(os.getcwd() + \"/sources/classification/\")"
   ]
  },
  {
   "cell_type": "code",
   "execution_count": 22,
   "metadata": {},
   "outputs": [],
   "source": [
    "import os\n",
    "import numpy as np\n",
    "import pandas as pd\n",
    "import seaborn as sb\n",
    "import matplotlib.pyplot as plt\n",
    "from sklearn.pipeline import Pipeline\n",
    "from sklearn.model_selection import train_test_split\n",
    "from sklearn.metrics import classification_report, confusion_matrix\n",
    "from sklearn.naive_bayes import MultinomialNB\n",
    "from sklearn.linear_model import LogisticRegression, SGDClassifier\n",
    "from sklearn.ensemble import RandomForestClassifier, AdaBoostClassifier\n",
    "from sklearn.neighbors import KNeighborsClassifier\n",
    "from sklearn.neural_network import MLPClassifier\n",
    "from sklearn.svm import SVC\n",
    "from sklearn.tree import DecisionTreeClassifier\n",
    "from sklearn.model_selection import RepeatedStratifiedKFold\n",
    "from sklearn.model_selection import KFold, StratifiedKFold, cross_validate, cross_val_score \n",
    "from gensim.utils import tokenize\n",
    "from pathlib import Path, PureWindowsPath\n",
    "from lib_classification import *\n",
    "pd.set_option('display.max_colwidth', 30)\n",
    "pd.set_option('display.min_rows', 5)\n",
    "pd.set_option('display.max_rows', 5)\n",
    "pd.set_option('display.max_colwidth', None) #afficher texte entier dans dataframe"
   ]
  },
  {
   "cell_type": "code",
   "execution_count": 3,
   "metadata": {},
   "outputs": [
    {
     "name": "stdout",
     "output_type": "stream",
     "text": [
      "1    1833\n",
      "0    1833\n",
      "Name: category_bin, dtype: int64\n",
      "presence de doublons ?\n",
      "False\n",
      "False\n"
     ]
    },
    {
     "data": {
      "text/html": [
       "<div>\n",
       "<style scoped>\n",
       "    .dataframe tbody tr th:only-of-type {\n",
       "        vertical-align: middle;\n",
       "    }\n",
       "\n",
       "    .dataframe tbody tr th {\n",
       "        vertical-align: top;\n",
       "    }\n",
       "\n",
       "    .dataframe thead th {\n",
       "        text-align: right;\n",
       "    }\n",
       "</style>\n",
       "<table border=\"1\" class=\"dataframe\">\n",
       "  <thead>\n",
       "    <tr style=\"text-align: right;\">\n",
       "      <th></th>\n",
       "      <th>id</th>\n",
       "      <th>message</th>\n",
       "      <th>message_preprocessed</th>\n",
       "      <th>category</th>\n",
       "      <th>length</th>\n",
       "      <th>category_bin</th>\n",
       "    </tr>\n",
       "  </thead>\n",
       "  <tbody>\n",
       "    <tr>\n",
       "      <th>0</th>\n",
       "      <td>0</td>\n",
       "      <td>Il distingue trois façon de réaliser une unité de nature, toutes impossibles ou inadaptées pour l’Incarnation.</td>\n",
       "      <td>distingue trois façon réaliser unité nature toutes impossible inadaptées incarnation</td>\n",
       "      <td>philosophy</td>\n",
       "      <td>110</td>\n",
       "      <td>1</td>\n",
       "    </tr>\n",
       "    <tr>\n",
       "      <th>1</th>\n",
       "      <td>1</td>\n",
       "      <td>Ici, nous voyons qu’Augustin sait distinguer la substance de l’administration, pour parler en termes réformés, puisqu’il reconnait que tous les baptisés ne sont pas des nôtres. Il sait dire que parmi ceux qui reçoivent les sacrements (administration), certains sont « des nôtres » (de la substance) et d’autre non. Ils se comportent différemment des vrais croyants face à l’épreuve parce qu’ils sont de la paille et non du grain : leur nature différente explique leur réaction différente;</td>\n",
       "      <td>ici voyons augustin sait distinguer substance administration parler terme réformé reconnait tous baptisé nôtre sait dire parmi ceux reçoivent sacrement administration certain « nôtre » substance autre non comportent différemment vrai croyant face épreuve parce paille non grain nature différente explique réaction différente</td>\n",
       "      <td>baptism</td>\n",
       "      <td>488</td>\n",
       "      <td>0</td>\n",
       "    </tr>\n",
       "    <tr>\n",
       "      <th>...</th>\n",
       "      <td>...</td>\n",
       "      <td>...</td>\n",
       "      <td>...</td>\n",
       "      <td>...</td>\n",
       "      <td>...</td>\n",
       "      <td>...</td>\n",
       "    </tr>\n",
       "    <tr>\n",
       "      <th>3664</th>\n",
       "      <td>3664</td>\n",
       "      <td>C’est de cette deuxième façon que Dieu a en lui toutes les perfections. **Il n’a pas en lui la blancheur de la neige ou la dureté du roc, mais il a et il donne l’existence à la neige et au roc, qui ensuite ont leur perfections propres**. Sans Dieu pas de neige, pas de roc, et donc pas de blancheur ni de dureté ni le reste des perfections de la création.</td>\n",
       "      <td>cest cette deuxième façon dieu a toutes perfection a blancheur neige dureté roc a donne existence neige roc ensuite perfection propre sans dieu neige roc donc blancheur ni dureté ni reste perfection création</td>\n",
       "      <td>philosophy</td>\n",
       "      <td>355</td>\n",
       "      <td>1</td>\n",
       "    </tr>\n",
       "    <tr>\n",
       "      <th>3665</th>\n",
       "      <td>3665</td>\n",
       "      <td>## Article 4: Toute chose est-elle bonne de la Bonté Divine?</td>\n",
       "      <td>article toute chose est-elle bonne bonté divine</td>\n",
       "      <td>philosophy</td>\n",
       "      <td>60</td>\n",
       "      <td>1</td>\n",
       "    </tr>\n",
       "  </tbody>\n",
       "</table>\n",
       "<p>3666 rows × 6 columns</p>\n",
       "</div>"
      ],
      "text/plain": [
       "        id  \\\n",
       "0        0   \n",
       "1        1   \n",
       "...    ...   \n",
       "3664  3664   \n",
       "3665  3665   \n",
       "\n",
       "                                                                                                                                                                                                                                                                                                                                                                                                                                                                                                       message  \\\n",
       "0                                                                                                                                                                                                                                                                                                                                                                                               Il distingue trois façon de réaliser une unité de nature, toutes impossibles ou inadaptées pour l’Incarnation.   \n",
       "1     Ici, nous voyons qu’Augustin sait distinguer la substance de l’administration, pour parler en termes réformés, puisqu’il reconnait que tous les baptisés ne sont pas des nôtres. Il sait dire que parmi ceux qui reçoivent les sacrements (administration), certains sont « des nôtres » (de la substance) et d’autre non. Ils se comportent différemment des vrais croyants face à l’épreuve parce qu’ils sont de la paille et non du grain : leur nature différente explique leur réaction différente;   \n",
       "...                                                                                                                                                                                                                                                                                                                                                                                                                                                                                                        ...   \n",
       "3664                                                                                                                                       C’est de cette deuxième façon que Dieu a en lui toutes les perfections. **Il n’a pas en lui la blancheur de la neige ou la dureté du roc, mais il a et il donne l’existence à la neige et au roc, qui ensuite ont leur perfections propres**. Sans Dieu pas de neige, pas de roc, et donc pas de blancheur ni de dureté ni le reste des perfections de la création.   \n",
       "3665                                                                                                                                                                                                                                                                                                                                                                                                                                              ## Article 4: Toute chose est-elle bonne de la Bonté Divine?   \n",
       "\n",
       "                                                                                                                                                                                                                                                                                                                      message_preprocessed  \\\n",
       "0                                                                                                                                                                                                                                                     distingue trois façon réaliser unité nature toutes impossible inadaptées incarnation   \n",
       "1     ici voyons augustin sait distinguer substance administration parler terme réformé reconnait tous baptisé nôtre sait dire parmi ceux reçoivent sacrement administration certain « nôtre » substance autre non comportent différemment vrai croyant face épreuve parce paille non grain nature différente explique réaction différente   \n",
       "...                                                                                                                                                                                                                                                                                                                                    ...   \n",
       "3664                                                                                                                       cest cette deuxième façon dieu a toutes perfection a blancheur neige dureté roc a donne existence neige roc ensuite perfection propre sans dieu neige roc donc blancheur ni dureté ni reste perfection création   \n",
       "3665                                                                                                                                                                                                                                                                                       article toute chose est-elle bonne bonté divine   \n",
       "\n",
       "        category  length  category_bin  \n",
       "0     philosophy     110             1  \n",
       "1        baptism     488             0  \n",
       "...          ...     ...           ...  \n",
       "3664  philosophy     355             1  \n",
       "3665  philosophy      60             1  \n",
       "\n",
       "[3666 rows x 6 columns]"
      ]
     },
     "execution_count": 3,
     "metadata": {},
     "output_type": "execute_result"
    }
   ],
   "source": [
    "path = PureWindowsPath(os.getcwd() + \"/data/input/data_philosophy_baptism.parquet\")\n",
    "path = path.as_posix() #convertir en path linux (convertir les \\\\ en /)\n",
    "corpus = pd.read_parquet(path) #engine=\"fastparquet\"\n",
    "corpus = get_balanced_binary_dataset(corpus, class_col_name=\"category\")\n",
    "\n",
    "print(corpus[\"category_bin\"].value_counts())\n",
    "print(\"presence de doublons ?\")\n",
    "print(corpus.id.duplicated().any())\n",
    "print(corpus.index.duplicated().any())\n",
    "corpus"
   ]
  },
  {
   "cell_type": "code",
   "execution_count": 5,
   "metadata": {},
   "outputs": [],
   "source": [
    "from gensim.models import Word2Vec\n",
    "from nltk.tokenize import word_tokenize"
   ]
  },
  {
   "cell_type": "code",
   "execution_count": 6,
   "metadata": {},
   "outputs": [],
   "source": [
    "tokens = corpus[\"message_preprocessed\"].apply(word_tokenize)\n",
    "model_skip_gram = Word2Vec(sentences=tokens, vector_size=200,workers=-1, sg=1) #modele skip-gram\n",
    "model_cbow = Word2Vec(sentences=tokens, vector_size=200,workers=-1, sg=0) #modele CBOW"
   ]
  },
  {
   "cell_type": "code",
   "execution_count": 7,
   "metadata": {},
   "outputs": [],
   "source": [
    "model = model_skip_gram"
   ]
  },
  {
   "cell_type": "code",
   "execution_count": 8,
   "metadata": {},
   "outputs": [
    {
     "data": {
      "text/plain": [
       "[('mt', 0.25896257162094116),\n",
       " ('pédobaptisme', 0.20739637315273285),\n",
       " ('entendre', 0.20565080642700195),\n",
       " ('refuser', 0.20269954204559326),\n",
       " ('adoptif', 0.20209923386573792),\n",
       " ('répondre', 0.19285590946674347),\n",
       " ('sauve', 0.19237057864665985),\n",
       " ('intéresse', 0.19006812572479248),\n",
       " ('excellence', 0.1891028881072998),\n",
       " ('matthieu', 0.1874988079071045)]"
      ]
     },
     "execution_count": 8,
     "metadata": {},
     "output_type": "execute_result"
    }
   ],
   "source": [
    "model.wv.most_similar(\"maxime\", topn=10)"
   ]
  },
  {
   "cell_type": "code",
   "execution_count": 9,
   "metadata": {},
   "outputs": [
    {
     "name": "stdout",
     "output_type": "stream",
     "text": [
      "2924\n"
     ]
    }
   ],
   "source": [
    "vocab=list(model.wv.key_to_index.keys())\n",
    "print(len(vocab))"
   ]
  },
  {
   "cell_type": "code",
   "execution_count": 10,
   "metadata": {},
   "outputs": [
    {
     "data": {
      "text/plain": [
       "(200,)"
      ]
     },
     "execution_count": 10,
     "metadata": {},
     "output_type": "execute_result"
    }
   ],
   "source": [
    "type(model.wv)\n",
    "model.wv[0]\n",
    "model.wv[0].shape"
   ]
  },
  {
   "cell_type": "code",
   "execution_count": 11,
   "metadata": {},
   "outputs": [
    {
     "data": {
      "text/plain": [
       "'cas'"
      ]
     },
     "execution_count": 11,
     "metadata": {},
     "output_type": "execute_result"
    }
   ],
   "source": [
    "model.wv.key_to_index\n",
    "model.wv.index_to_key[100] #liste de mots\n",
    "# type(model.wv.index_to_key)"
   ]
  },
  {
   "cell_type": "code",
   "execution_count": 12,
   "metadata": {},
   "outputs": [
    {
     "data": {
      "text/plain": [
       "['dieu',\n",
       " '»',\n",
       " '«',\n",
       " 'a',\n",
       " 'baptême',\n",
       " 'comme',\n",
       " 'être',\n",
       " 'plus',\n",
       " 'alliance',\n",
       " 'cette',\n",
       " 'fait',\n",
       " 'enfant',\n",
       " 'si',\n",
       " 'donc',\n",
       " 'dit',\n",
       " 'tout',\n",
       " 'christ',\n",
       " '-',\n",
       " '–',\n",
       " 'foi',\n",
       " 'bien',\n",
       " 'chose',\n",
       " 'cela',\n",
       " 'peut',\n",
       " 'homme',\n",
       " 'non',\n",
       " 'van',\n",
       " 'aussi',\n",
       " 'til',\n",
       " 'dire',\n",
       " 'article',\n",
       " '…',\n",
       " 'tous',\n",
       " 'ainsi',\n",
       " 'entre',\n",
       " 'nature',\n",
       " 'raison',\n",
       " 'autre',\n",
       " 'question',\n",
       " 'parce',\n",
       " 'car',\n",
       " 'père',\n",
       " 'circoncision',\n",
       " 'faire',\n",
       " 'personne',\n",
       " 'sans',\n",
       " 'grâce',\n",
       " 'église',\n",
       " 'baptisé',\n",
       " 'deux',\n",
       " 'the',\n",
       " 'thomas',\n",
       " 'toute',\n",
       " 'famille',\n",
       " 'quand',\n",
       " 'promesse',\n",
       " 'autres',\n",
       " 'alors',\n",
       " 'baptiste',\n",
       " 'jésus',\n",
       " 'chrétien',\n",
       " 'théologie',\n",
       " 'sens',\n",
       " 'vie',\n",
       " 'selon',\n",
       " 'fil',\n",
       " 'réformé',\n",
       " 'cause',\n",
       " 'of',\n",
       " 'encore',\n",
       " 'effet',\n",
       " 'nouvelle',\n",
       " 'acte',\n",
       " 'testament',\n",
       " 'ceux',\n",
       " 'où',\n",
       " 'point',\n",
       " 'ici',\n",
       " 'toutes',\n",
       " 'péché',\n",
       " 'avoir',\n",
       " 'faut',\n",
       " 'exemple',\n",
       " 'signe',\n",
       " 'façon',\n",
       " 'ancien',\n",
       " 'lui-même',\n",
       " 'esprit',\n",
       " 'volonté',\n",
       " 'jean',\n",
       " 'humaine',\n",
       " 'après',\n",
       " 'or',\n",
       " 'doctrine',\n",
       " 'celui',\n",
       " 'nouveau',\n",
       " 'voir',\n",
       " 'p',\n",
       " 'grand',\n",
       " 'monde',\n",
       " 'cas',\n",
       " 'paul',\n",
       " 'cet',\n",
       " 'connaissance',\n",
       " 'parole',\n",
       " 'sujet',\n",
       " 'seigneur',\n",
       " 'bonne',\n",
       " 'oui',\n",
       " 'maison',\n",
       " 'très',\n",
       " 'avant',\n",
       " 'corps',\n",
       " 'certain',\n",
       " 'divine',\n",
       " 'pourquoi',\n",
       " 'eau',\n",
       " 'peuple',\n",
       " 'régénération',\n",
       " 'réponse',\n",
       " 'veut',\n",
       " '“',\n",
       " 'déjà',\n",
       " 'bible',\n",
       " 'argument',\n",
       " 'écrit',\n",
       " 'dont',\n",
       " 'savoir',\n",
       " 'ni',\n",
       " '”',\n",
       " 'rien',\n",
       " 'puisque',\n",
       " 'comment',\n",
       " 'seulement',\n",
       " 'béatitude',\n",
       " 'abraham',\n",
       " 'quelque',\n",
       " 'premier',\n",
       " 'bon',\n",
       " 'manière',\n",
       " 'leurs',\n",
       " 'réformée',\n",
       " 'partie',\n",
       " 'doit',\n",
       " 'texte',\n",
       " 'saint',\n",
       " 'aquin',\n",
       " 'temps',\n",
       " 'croyant',\n",
       " 'and',\n",
       " 'baptiser',\n",
       " 'sou',\n",
       " 'calvin',\n",
       " 'celle',\n",
       " 'naturel',\n",
       " 'chez',\n",
       " 'tant',\n",
       " 'nom',\n",
       " 'q',\n",
       " 'pédobaptême',\n",
       " 'pratique',\n",
       " 'mot',\n",
       " 'mal',\n",
       " 'terme',\n",
       " 'réalité',\n",
       " 'sacrement',\n",
       " 'existe',\n",
       " 'visible',\n",
       " 'justice',\n",
       " 'agit',\n",
       " 'livre',\n",
       " 'contre',\n",
       " 'vrai',\n",
       " 'propre',\n",
       " 'comprendre',\n",
       " 'aucun',\n",
       " 'seul',\n",
       " 'langage',\n",
       " 'augustin',\n",
       " 'part',\n",
       " 'débat',\n",
       " 'là',\n",
       " 'âme',\n",
       " 'salut',\n",
       " 'principe',\n",
       " 'apôtre',\n",
       " 'pensée',\n",
       " 'forme',\n",
       " 'laquelle',\n",
       " 'vue',\n",
       " 'ver',\n",
       " 'pédobaptiste',\n",
       " 'idée',\n",
       " 'siècle',\n",
       " 'nécessaire',\n",
       " 'créature',\n",
       " 'pierre',\n",
       " 'juif',\n",
       " 'reçu',\n",
       " 'tête',\n",
       " 'seule',\n",
       " 'administration',\n",
       " 'jour',\n",
       " 'jugement',\n",
       " 'ailleurs',\n",
       " 'toujours',\n",
       " 'première',\n",
       " 'position',\n",
       " 'souvent',\n",
       " 'rite',\n",
       " 'mort',\n",
       " 'semble',\n",
       " 'elles',\n",
       " 'beaucoup',\n",
       " 'définition',\n",
       " 'immersion',\n",
       " 'ia',\n",
       " 'plutôt',\n",
       " '↩',\n",
       " 'femme',\n",
       " 'cène',\n",
       " 'distinction',\n",
       " 'objet',\n",
       " 'peuvent',\n",
       " 'traité',\n",
       " 'donne',\n",
       " 'puissance',\n",
       " 'eglise',\n",
       " 'moins',\n",
       " 'aucune',\n",
       " 'existence',\n",
       " 'jamais',\n",
       " 'loi',\n",
       " 'vérité',\n",
       " 'histoire',\n",
       " 'membre',\n",
       " 'quoi',\n",
       " 'simplement',\n",
       " 'pense',\n",
       " 'relation',\n",
       " 'moyen',\n",
       " 'romain',\n",
       " 'maintenant',\n",
       " 'heure',\n",
       " 'possible',\n",
       " 'est-à-dire',\n",
       " 'theology',\n",
       " 'est-ce',\n",
       " 'contraire',\n",
       " 'juste',\n",
       " 'cœur',\n",
       " 'est-il',\n",
       " 'parle',\n",
       " 'hui',\n",
       " 'union',\n",
       " 'parallèle',\n",
       " 'vient',\n",
       " 'dernier',\n",
       " 'jérémie',\n",
       " 'fin',\n",
       " 'problème',\n",
       " 'e',\n",
       " 'mise',\n",
       " 'biblique',\n",
       " 'science',\n",
       " 'peu',\n",
       " 'puis',\n",
       " 'cf',\n",
       " 'genèse',\n",
       " 'vraiment',\n",
       " 'autrement',\n",
       " 'élément',\n",
       " 'dès',\n",
       " 'conscience',\n",
       " 'in',\n",
       " 'épreuve',\n",
       " 'saint-esprit',\n",
       " 'nation',\n",
       " 'parent',\n",
       " 'confession',\n",
       " 'trouve',\n",
       " 'œuvres',\n",
       " 'hébreux',\n",
       " 'plusieurs',\n",
       " 'a-t-il',\n",
       " 'baptismale',\n",
       " 'critique',\n",
       " 'israël',\n",
       " 'création',\n",
       " 'telle',\n",
       " 'min',\n",
       " 'lien',\n",
       " 'base',\n",
       " 'covenant',\n",
       " 'trois',\n",
       " 'pouvons',\n",
       " 'âge',\n",
       " 'humain',\n",
       " 'simple',\n",
       " 'cependant',\n",
       " 'quel',\n",
       " 'spirituel',\n",
       " 'moment',\n",
       " 'terre',\n",
       " 'particulier',\n",
       " 'mieux',\n",
       " 'amour',\n",
       " 'lumière',\n",
       " 'appelle',\n",
       " 'théologien',\n",
       " 'signifie',\n",
       " 'naissance',\n",
       " 'lorsque',\n",
       " 'tel',\n",
       " 'différence',\n",
       " '--',\n",
       " 'etc',\n",
       " 'compréhension',\n",
       " 'passage',\n",
       " 'vu',\n",
       " 'objection',\n",
       " 'substance',\n",
       " 'reste',\n",
       " 'tradition',\n",
       " 'connaître',\n",
       " 'nombre',\n",
       " 'compris',\n",
       " 'culte',\n",
       " 'lieu',\n",
       " 'to',\n",
       " 'écriture',\n",
       " 'changement',\n",
       " 'an',\n",
       " 'haut',\n",
       " 'circoncis',\n",
       " 'contexte',\n",
       " 'essence',\n",
       " 'unique',\n",
       " 'abord',\n",
       " 'sorte',\n",
       " 'disciple',\n",
       " 'parler',\n",
       " 'voici',\n",
       " 'éd',\n",
       " 'petit',\n",
       " 'donné',\n",
       " 'suite',\n",
       " 'vision',\n",
       " 'scolastique',\n",
       " 'est-elle',\n",
       " 'ordre',\n",
       " 'concerne',\n",
       " 'partir',\n",
       " 'pouvoir',\n",
       " 'moïse',\n",
       " 'utilise',\n",
       " 'chair',\n",
       " 'corinthiens',\n",
       " 'connaît',\n",
       " 'vivant',\n",
       " 'loin',\n",
       " 'perfection',\n",
       " 'considérer',\n",
       " 'croire',\n",
       " 'individu',\n",
       " 'pouvait',\n",
       " 'maxime',\n",
       " 'image',\n",
       " 'sagesse',\n",
       " 'quelques',\n",
       " 'depuis',\n",
       " 'ensuite',\n",
       " 'païen',\n",
       " 'matière',\n",
       " 'john',\n",
       " 'pourtant',\n",
       " 'expression',\n",
       " 'voyons',\n",
       " 'adulte',\n",
       " 'lors',\n",
       " 'roi',\n",
       " 'voit',\n",
       " 'pourrait',\n",
       " 'pu',\n",
       " 'kline',\n",
       " 'accord',\n",
       " 'élu',\n",
       " 'devon',\n",
       " 'mauvais',\n",
       " 'précisément',\n",
       " 'but',\n",
       " 'classique',\n",
       " 'afin',\n",
       " 'communauté',\n",
       " 'commentaire',\n",
       " 'étude',\n",
       " 'évangélique',\n",
       " 'matthieu',\n",
       " 'bonté',\n",
       " 'faite',\n",
       " 'chaque',\n",
       " 'quelle',\n",
       " 'uniquement',\n",
       " 'elle-même',\n",
       " 'rapport',\n",
       " 'clair',\n",
       " 'doivent',\n",
       " 'éternel',\n",
       " 'impossible',\n",
       " 'parmi',\n",
       " 'faux',\n",
       " 'luc',\n",
       " 'extérieur',\n",
       " 'certaine',\n",
       " 'appelé',\n",
       " 'autorité',\n",
       " 'apologétique',\n",
       " 'sait',\n",
       " 'jésus-christ',\n",
       " 'désigne',\n",
       " 'oeuvre',\n",
       " 'cest',\n",
       " 'œuvre',\n",
       " 'penser',\n",
       " 'autant',\n",
       " 'donnée',\n",
       " 'quant',\n",
       " 'incroyant',\n",
       " 'descendance',\n",
       " 'donner',\n",
       " 'présupposé',\n",
       " 'toutefois',\n",
       " 'combat',\n",
       " 'ensemble',\n",
       " 'enseignement',\n",
       " 'considère',\n",
       " 'recevoir',\n",
       " 'côté',\n",
       " 'introduction',\n",
       " 'époque',\n",
       " 'mode',\n",
       " 'limite',\n",
       " 'historique',\n",
       " 'action',\n",
       " 'assez',\n",
       " 'suivant',\n",
       " 'créé',\n",
       " 'guillaume',\n",
       " 'parfois',\n",
       " 'répondre',\n",
       " 'formule',\n",
       " 'grec',\n",
       " 'affirme',\n",
       " 'nécessité',\n",
       " 'gloire',\n",
       " 'capacité',\n",
       " 'incarnation',\n",
       " 'catholique',\n",
       " 'coeur',\n",
       " 'bienheureux',\n",
       " 'véritable',\n",
       " 'intellect',\n",
       " 'genre',\n",
       " 'frère',\n",
       " 'verset',\n",
       " 'certaines',\n",
       " 'prière',\n",
       " 'système',\n",
       " 'ceci',\n",
       " 'philosophie',\n",
       " 'consiste',\n",
       " 'conversion',\n",
       " 'montre',\n",
       " 'meredith',\n",
       " 'mosaïque',\n",
       " 'va',\n",
       " 'théologique',\n",
       " 'lire',\n",
       " 'ça',\n",
       " 'venir',\n",
       " 'explique',\n",
       " 'logique',\n",
       " 'nécessairement',\n",
       " 'montrer',\n",
       " 'converti',\n",
       " 'repentance',\n",
       " 'main',\n",
       " 'disant',\n",
       " 'fort',\n",
       " 'divin',\n",
       " 'nourrisson',\n",
       " 'différent',\n",
       " 'trinité',\n",
       " 'font',\n",
       " 'directement',\n",
       " 'sang',\n",
       " 'unité',\n",
       " 'implique',\n",
       " 'pardon',\n",
       " 'également',\n",
       " 'révélation',\n",
       " 'parfaite',\n",
       " 'début',\n",
       " 'tard',\n",
       " 'baptism',\n",
       " 'religieux',\n",
       " 'preuve',\n",
       " 'concernant',\n",
       " 'interprétation',\n",
       " 'état',\n",
       " 'ange',\n",
       " 'christian',\n",
       " 'devait',\n",
       " 'référence',\n",
       " 'évangile',\n",
       " 'lequel',\n",
       " 'footnote',\n",
       " 'méthode',\n",
       " 'lecture',\n",
       " 'série',\n",
       " 'pédobaptistes',\n",
       " 'faites',\n",
       " 'place',\n",
       " 'cru',\n",
       " 'allons',\n",
       " 'présente',\n",
       " 'physique',\n",
       " 'demande',\n",
       " 'erreur',\n",
       " 'puisse',\n",
       " 'cor',\n",
       " 'enseigne',\n",
       " 'evangile',\n",
       " 'v',\n",
       " 'besoin',\n",
       " 'mère',\n",
       " 'prédestination',\n",
       " 'eternel',\n",
       " 'rendre',\n",
       " 'connu',\n",
       " 'sauvés',\n",
       " 'foihttpsparlafoiblogwordpresscom-bonnes-raisons-detre-pedobaptiste',\n",
       " 'ex',\n",
       " 'éternelle',\n",
       " 'don',\n",
       " 'marie',\n",
       " 'créateur',\n",
       " 'auteur',\n",
       " 'continuité',\n",
       " 'deuxième',\n",
       " 'surtout',\n",
       " 'dis',\n",
       " 'feu',\n",
       " 'symbole',\n",
       " 'condition',\n",
       " 'différentes',\n",
       " 'peut-être',\n",
       " 'bibliques',\n",
       " 'pleinement',\n",
       " 'sauvé',\n",
       " 'année',\n",
       " 'partout',\n",
       " 'premièrement',\n",
       " 'élection',\n",
       " 'important',\n",
       " 'pur',\n",
       " 'détail',\n",
       " 'psaume',\n",
       " 'probable',\n",
       " 'force',\n",
       " 'systematic',\n",
       " 'traduction',\n",
       " 'convient',\n",
       " 'propriété',\n",
       " 'mouvement',\n",
       " 'conclusion',\n",
       " 'aristote',\n",
       " 'prophète',\n",
       " 'compte',\n",
       " 'samuel',\n",
       " 'différente',\n",
       " 'promis',\n",
       " 'long',\n",
       " 'commun',\n",
       " 'mesure',\n",
       " 'chacun',\n",
       " 'antique',\n",
       " 'infini',\n",
       " 'affirmation',\n",
       " 'certainement',\n",
       " 'davantage',\n",
       " 'tandis',\n",
       " 'jeune',\n",
       " 'disent',\n",
       " 'expérience',\n",
       " 'face',\n",
       " 'vierge',\n",
       " '‘',\n",
       " 'bénéfice',\n",
       " 'montré',\n",
       " 'accomplissement',\n",
       " 'initiation',\n",
       " 'justification',\n",
       " 'répond',\n",
       " 'néanmoins',\n",
       " 'malédiction',\n",
       " 'prend',\n",
       " 'turretin',\n",
       " 'traditionnelle',\n",
       " 'passé',\n",
       " 'sanctification',\n",
       " 'rend',\n",
       " 'sceau',\n",
       " 'pédobaptisme',\n",
       " 'pris',\n",
       " 'yeux',\n",
       " 'engagement',\n",
       " 'né',\n",
       " 'miséricorde',\n",
       " 'gen',\n",
       " 'profession',\n",
       " 'envers',\n",
       " 'mérite',\n",
       " 'westminster',\n",
       " 'structure',\n",
       " 'témoignage',\n",
       " 'faveur',\n",
       " 'importe',\n",
       " 'joseph',\n",
       " 'période',\n",
       " 'lecteur',\n",
       " 'réforme',\n",
       " 'type',\n",
       " 'enfin',\n",
       " 'verrons',\n",
       " 'utilisé',\n",
       " 'clause',\n",
       " 'irrégénérés',\n",
       " 'dehors',\n",
       " 'présent',\n",
       " 'faisant',\n",
       " 'conception',\n",
       " 'explicitement',\n",
       " 'pays',\n",
       " 'raisonnement',\n",
       " 'trop',\n",
       " 'notion',\n",
       " 'décrit',\n",
       " 'israélite',\n",
       " 'adam',\n",
       " 'abrahamique',\n",
       " 'manque',\n",
       " 'prendre',\n",
       " 'invisible',\n",
       " 'autour',\n",
       " 'morale',\n",
       " 'métaphysique',\n",
       " 'vertu',\n",
       " 'adresse',\n",
       " 'arbre',\n",
       " 'religion',\n",
       " 'meilleur',\n",
       " 'claire',\n",
       " 'opération',\n",
       " 'entière',\n",
       " 'utiliser',\n",
       " 'régénérés',\n",
       " 'demander',\n",
       " 'source',\n",
       " 'mariage',\n",
       " 'sacrifice',\n",
       " 'commencé',\n",
       " 'verbe',\n",
       " 'purification',\n",
       " 'modèle',\n",
       " 'capable',\n",
       " 'voilà',\n",
       " 'prédication',\n",
       " 'defense',\n",
       " 'assurance',\n",
       " 'conséquence',\n",
       " 'change',\n",
       " 'david',\n",
       " 'matériel',\n",
       " 'divinité',\n",
       " 'chef',\n",
       " 'devant',\n",
       " 'mis',\n",
       " 'déclaration',\n",
       " 'croit',\n",
       " 'droit',\n",
       " 'parfait',\n",
       " 'comprend',\n",
       " 'cérémonie',\n",
       " 'attribut',\n",
       " 'lit',\n",
       " 'appel',\n",
       " 'milieu',\n",
       " 'sinon',\n",
       " 'baptisme',\n",
       " 'colossiens',\n",
       " 'sein',\n",
       " 'sauver',\n",
       " 'lettre',\n",
       " 'usage',\n",
       " 'aller',\n",
       " 'ultime',\n",
       " 'génération',\n",
       " 'expliquer',\n",
       " 'proche',\n",
       " 'univers',\n",
       " 'concept',\n",
       " 'originel',\n",
       " 'soi',\n",
       " 'sûr',\n",
       " 'même',\n",
       " 'humains',\n",
       " 'prouver',\n",
       " 'situation',\n",
       " 'vaudois',\n",
       " 'degré',\n",
       " 'uni',\n",
       " 'plénitude',\n",
       " 'plan',\n",
       " 'déluge',\n",
       " 'épître',\n",
       " 'influence',\n",
       " 'réformées',\n",
       " 'absolument',\n",
       " 'libre',\n",
       " 'pécheur',\n",
       " 'pendant',\n",
       " 'caractère',\n",
       " 'permet',\n",
       " 'noé',\n",
       " 'statut',\n",
       " 'tôt',\n",
       " 'chaise',\n",
       " 'analogie',\n",
       " 'venu',\n",
       " 'avertissement',\n",
       " 'utile',\n",
       " 'pouvaient',\n",
       " 'conséquent',\n",
       " 'parfaitement',\n",
       " 'croix',\n",
       " 'remarque',\n",
       " 'inverse',\n",
       " 'réellement',\n",
       " 'résurrection',\n",
       " 'bonheur',\n",
       " 'sert',\n",
       " 'serviteur',\n",
       " 'peut-il',\n",
       " 'suffit',\n",
       " 'objectif',\n",
       " 'prêtre',\n",
       " 'verdict',\n",
       " 'pain',\n",
       " 'fidèle',\n",
       " 'coupe',\n",
       " 'vraie',\n",
       " 'assemblée',\n",
       " 'considéré',\n",
       " 'espérance',\n",
       " 'seuls',\n",
       " 'précise',\n",
       " 'discussion',\n",
       " 'merci',\n",
       " 'bref',\n",
       " 'lié',\n",
       " 'éternité',\n",
       " 'plupart',\n",
       " 'prédestiné',\n",
       " 'moderne',\n",
       " 'opinion',\n",
       " 'summa',\n",
       " 'devrait',\n",
       " 'politique',\n",
       " 'confusion',\n",
       " 'patristique',\n",
       " 'accident',\n",
       " 'disons',\n",
       " 'affirmer',\n",
       " 'commence',\n",
       " 'technique',\n",
       " 'faith',\n",
       " 'héritage',\n",
       " 'pleine',\n",
       " 'origine',\n",
       " 'reçoivent',\n",
       " 'catégorie',\n",
       " 'particulière',\n",
       " 'novembre',\n",
       " 'parlent',\n",
       " 'reformed',\n",
       " 'formulation',\n",
       " 'supérieur',\n",
       " 'romaine',\n",
       " 'ciel',\n",
       " 'doute',\n",
       " 'manifeste',\n",
       " 'chapitre',\n",
       " 'cadre',\n",
       " 'niveau',\n",
       " 'deuxièmement',\n",
       " 'philosophique',\n",
       " 'lesquelles',\n",
       " 'accompli',\n",
       " 'passe',\n",
       " 'aspect',\n",
       " 'porte',\n",
       " 'entrée',\n",
       " 'reconnaître',\n",
       " 'troisième',\n",
       " 'protestant',\n",
       " 'annonce',\n",
       " 'soumis',\n",
       " 'celui-ci',\n",
       " 'thomiste',\n",
       " 'reçoit',\n",
       " 'évident',\n",
       " 'apologetics',\n",
       " 'cour',\n",
       " 'orthodoxe',\n",
       " 'serment',\n",
       " 'clairement',\n",
       " 'institution',\n",
       " 'mer',\n",
       " 'signification',\n",
       " 'utilisation',\n",
       " 'efficacité',\n",
       " 'certes',\n",
       " 'rédemption',\n",
       " 'royaume',\n",
       " 'rm',\n",
       " 'disait',\n",
       " 'principale',\n",
       " 'établi',\n",
       " 'new',\n",
       " 'trouver',\n",
       " 'sauf',\n",
       " 'infant',\n",
       " 'liturgie',\n",
       " 'évidemment',\n",
       " 'particulièrement',\n",
       " 'intelligence',\n",
       " 'anabaptiste',\n",
       " 'ps',\n",
       " 'venue',\n",
       " 'soleil',\n",
       " 'promet',\n",
       " 'mettre',\n",
       " 'occasion',\n",
       " 'deutéronome',\n",
       " 'choix',\n",
       " 'lisez',\n",
       " 'james',\n",
       " 'habituelle',\n",
       " 'crois',\n",
       " 'commune',\n",
       " 'b',\n",
       " 'voie',\n",
       " 'simplicité',\n",
       " 'défense',\n",
       " 'vouloir',\n",
       " 'celles',\n",
       " 'intellectuel',\n",
       " 'joie',\n",
       " 'liée',\n",
       " 'travail',\n",
       " 'fallait',\n",
       " 'complètement',\n",
       " 'médiévale',\n",
       " 'orthodoxie',\n",
       " 'croient',\n",
       " 'travers',\n",
       " 'adoration',\n",
       " 'primitive',\n",
       " 'mentionné',\n",
       " 'cornelius',\n",
       " 'rendu',\n",
       " 'allait',\n",
       " 'agir',\n",
       " 'régénéré',\n",
       " 'possède',\n",
       " 'frame',\n",
       " 'systématique',\n",
       " 'correspond',\n",
       " 'désormais',\n",
       " 'origène',\n",
       " 'véritablement',\n",
       " 'crispus',\n",
       " 'seconde',\n",
       " 'procession',\n",
       " 'pourraient',\n",
       " 'nôtre',\n",
       " 'rom',\n",
       " 'obéissance',\n",
       " 'vassal',\n",
       " 'remarquer',\n",
       " 'blog',\n",
       " 'damascène',\n",
       " 'rome',\n",
       " 'dessus',\n",
       " 'malgré',\n",
       " 'animal',\n",
       " 'foihttpparlafoilocal-bonnes-raisons-detre-pedobaptiste',\n",
       " 'nouveauté',\n",
       " 'bas',\n",
       " 'emphase',\n",
       " 'antithèse',\n",
       " 'pouvez',\n",
       " 'mentionne',\n",
       " 'jai',\n",
       " 'diverses',\n",
       " 'désir',\n",
       " 'français',\n",
       " 'bibliographie',\n",
       " 'choisi',\n",
       " 'hérétique',\n",
       " 'survey',\n",
       " 'probablement',\n",
       " 'children',\n",
       " 'établit',\n",
       " 'descendant',\n",
       " 'jérusalem',\n",
       " 'arrive',\n",
       " 'discontinuité',\n",
       " 'crainte',\n",
       " 'activité',\n",
       " 'crée',\n",
       " 'baptisant',\n",
       " 'fais',\n",
       " 'celle-ci',\n",
       " 'décrire',\n",
       " 'confiance',\n",
       " 'prosélyte',\n",
       " 'réformateur',\n",
       " 'rappelle',\n",
       " 'divers',\n",
       " 'vais',\n",
       " 'général',\n",
       " 'explication',\n",
       " 'participer',\n",
       " 'chauny',\n",
       " 'extrait',\n",
       " 'tellement',\n",
       " 'mission',\n",
       " 'aime',\n",
       " 'propos',\n",
       " 'composé',\n",
       " 'lc',\n",
       " 'responsabilité',\n",
       " 'soutient',\n",
       " 'rôle',\n",
       " 'charles',\n",
       " 'savent',\n",
       " 'valide',\n",
       " 'communion',\n",
       " 'contient',\n",
       " 'col',\n",
       " 'faculté',\n",
       " 'entendu',\n",
       " 'discipline',\n",
       " 'humanité',\n",
       " 'note',\n",
       " 'processus',\n",
       " 'cite',\n",
       " 'absence',\n",
       " 'exception',\n",
       " 'entier',\n",
       " 'fasse',\n",
       " 'pose',\n",
       " 'pasteur',\n",
       " 'grace',\n",
       " 'y-a-t-il',\n",
       " 'epistemology',\n",
       " 'procède',\n",
       " 'messie',\n",
       " 'temple',\n",
       " 'fera',\n",
       " 'peux',\n",
       " 'publié',\n",
       " 'administré',\n",
       " 'gens',\n",
       " 'nombreuses',\n",
       " 'pire',\n",
       " 'poser',\n",
       " 'étudier',\n",
       " 'exister',\n",
       " 'prier',\n",
       " 'bénédiction',\n",
       " 'a-t-elle',\n",
       " 'composition',\n",
       " 'bébé',\n",
       " 'semaine',\n",
       " 'faisait',\n",
       " 'jourdain',\n",
       " 'parvenir',\n",
       " ...]"
      ]
     },
     "execution_count": 12,
     "metadata": {},
     "output_type": "execute_result"
    }
   ],
   "source": [
    "model.wv.index_to_key"
   ]
  },
  {
   "cell_type": "code",
   "execution_count": 13,
   "metadata": {},
   "outputs": [
    {
     "data": {
      "text/plain": [
       "2924"
      ]
     },
     "execution_count": 13,
     "metadata": {},
     "output_type": "execute_result"
    }
   ],
   "source": [
    "len(model.wv.index_to_key)"
   ]
  },
  {
   "cell_type": "code",
   "execution_count": 14,
   "metadata": {},
   "outputs": [
    {
     "data": {
      "text/plain": [
       "gensim.models.keyedvectors.KeyedVectors"
      ]
     },
     "execution_count": 14,
     "metadata": {},
     "output_type": "execute_result"
    }
   ],
   "source": [
    "type(model.wv)"
   ]
  },
  {
   "cell_type": "code",
   "execution_count": 15,
   "metadata": {},
   "outputs": [
    {
     "ename": "NameError",
     "evalue": "name 'words_vectors' is not defined",
     "output_type": "error",
     "traceback": [
      "\u001b[1;31m---------------------------------------------------------------------------\u001b[0m",
      "\u001b[1;31mNameError\u001b[0m                                 Traceback (most recent call last)",
      "\u001b[1;32m~\\AppData\\Local\\Temp/ipykernel_20596/4184102195.py\u001b[0m in \u001b[0;36m<module>\u001b[1;34m\u001b[0m\n\u001b[1;32m----> 1\u001b[1;33m \u001b[0mlen\u001b[0m\u001b[1;33m(\u001b[0m\u001b[0mwords_vectors\u001b[0m\u001b[1;33m)\u001b[0m\u001b[1;33m\u001b[0m\u001b[1;33m\u001b[0m\u001b[0m\n\u001b[0m\u001b[0;32m      2\u001b[0m \u001b[0mlen\u001b[0m\u001b[1;33m(\u001b[0m\u001b[0mwords_vectors\u001b[0m\u001b[1;33m.\u001b[0m\u001b[0mindex_to_key\u001b[0m\u001b[1;33m[\u001b[0m\u001b[1;33m:\u001b[0m\u001b[0mlen\u001b[0m\u001b[1;33m(\u001b[0m\u001b[0mwords_vectors\u001b[0m\u001b[1;33m)\u001b[0m\u001b[1;33m]\u001b[0m\u001b[1;33m)\u001b[0m\u001b[1;33m\u001b[0m\u001b[1;33m\u001b[0m\u001b[0m\n\u001b[0;32m      3\u001b[0m \u001b[0mtype\u001b[0m\u001b[1;33m(\u001b[0m\u001b[0mwords_vectors\u001b[0m\u001b[1;33m[\u001b[0m\u001b[0mwords_vectors\u001b[0m\u001b[1;33m.\u001b[0m\u001b[0mindex_to_key\u001b[0m\u001b[1;33m[\u001b[0m\u001b[1;33m:\u001b[0m\u001b[0mlen\u001b[0m\u001b[1;33m(\u001b[0m\u001b[0mwords_vectors\u001b[0m\u001b[1;33m)\u001b[0m\u001b[1;33m]\u001b[0m\u001b[1;33m]\u001b[0m\u001b[1;33m)\u001b[0m\u001b[1;33m\u001b[0m\u001b[1;33m\u001b[0m\u001b[0m\n\u001b[0;32m      4\u001b[0m \u001b[0mwords_vectors\u001b[0m\u001b[1;33m[\u001b[0m\u001b[0mwords_vectors\u001b[0m\u001b[1;33m.\u001b[0m\u001b[0mindex_to_key\u001b[0m\u001b[1;33m[\u001b[0m\u001b[1;33m:\u001b[0m\u001b[0mlen\u001b[0m\u001b[1;33m(\u001b[0m\u001b[0mwords_vectors\u001b[0m\u001b[1;33m)\u001b[0m\u001b[1;33m]\u001b[0m\u001b[1;33m]\u001b[0m\u001b[1;33m.\u001b[0m\u001b[0mshape\u001b[0m\u001b[1;33m\u001b[0m\u001b[1;33m\u001b[0m\u001b[0m\n",
      "\u001b[1;31mNameError\u001b[0m: name 'words_vectors' is not defined"
     ]
    }
   ],
   "source": [
    "len(words_vectors)\n",
    "len(words_vectors.index_to_key[:len(words_vectors)])\n",
    "type(words_vectors[words_vectors.index_to_key[:len(words_vectors)]])\n",
    "words_vectors[words_vectors.index_to_key[:len(words_vectors)]].shape"
   ]
  },
  {
   "cell_type": "code",
   "execution_count": 16,
   "metadata": {},
   "outputs": [
    {
     "ename": "NameError",
     "evalue": "name 'words_vectors' is not defined",
     "output_type": "error",
     "traceback": [
      "\u001b[1;31m---------------------------------------------------------------------------\u001b[0m",
      "\u001b[1;31mNameError\u001b[0m                                 Traceback (most recent call last)",
      "\u001b[1;32m~\\AppData\\Local\\Temp/ipykernel_20596/2367415476.py\u001b[0m in \u001b[0;36m<module>\u001b[1;34m\u001b[0m\n\u001b[1;32m----> 1\u001b[1;33m \u001b[0mwords_vectors\u001b[0m\u001b[1;33m[\u001b[0m\u001b[0mwords_vectors\u001b[0m\u001b[1;33m.\u001b[0m\u001b[0mindex_to_key\u001b[0m\u001b[1;33m[\u001b[0m\u001b[1;33m:\u001b[0m\u001b[0mlen\u001b[0m\u001b[1;33m(\u001b[0m\u001b[0mwords_vectors\u001b[0m\u001b[1;33m)\u001b[0m\u001b[1;33m]\u001b[0m\u001b[1;33m]\u001b[0m\u001b[1;33m\u001b[0m\u001b[1;33m\u001b[0m\u001b[0m\n\u001b[0m",
      "\u001b[1;31mNameError\u001b[0m: name 'words_vectors' is not defined"
     ]
    }
   ],
   "source": [
    "words_vectors[words_vectors.index_to_key[:len(words_vectors)]]"
   ]
  },
  {
   "cell_type": "code",
   "execution_count": 18,
   "metadata": {},
   "outputs": [
    {
     "name": "stdout",
     "output_type": "stream",
     "text": [
      "[t-SNE] Computing 91 nearest neighbors...\n",
      "[t-SNE] Indexed 2924 samples in 0.002s...\n",
      "[t-SNE] Computed neighbors for 2924 samples in 0.267s...\n",
      "[t-SNE] Computed conditional probabilities for sample 1000 / 2924\n",
      "[t-SNE] Computed conditional probabilities for sample 2000 / 2924\n",
      "[t-SNE] Computed conditional probabilities for sample 2924 / 2924\n",
      "[t-SNE] Mean sigma: 0.008756\n",
      "[t-SNE] KL divergence after 250 iterations with early exaggeration: 81.476357\n",
      "[t-SNE] KL divergence after 900 iterations: 3.738301\n"
     ]
    },
    {
     "data": {
      "text/plain": [
       "array([[  7.9785223 , -13.49791   ,   1.2470512 ],\n",
       "       [-39.20902   ,  17.576405  ,  -7.868293  ],\n",
       "       [ 38.465553  ,  14.647138  ,   7.6627    ],\n",
       "       ...,\n",
       "       [ 27.366573  ,  -0.49108687,   0.6454885 ],\n",
       "       [-38.73966   ,   9.480808  ,  12.716627  ],\n",
       "       [-42.971085  ,  13.650212  , -10.092126  ]], dtype=float32)"
      ]
     },
     "execution_count": 18,
     "metadata": {},
     "output_type": "execute_result"
    }
   ],
   "source": [
    "#TSNE en 2D apres reduction svd en 50 dimensions\n",
    "from sklearn.manifold import TSNE\n",
    "\n",
    "tsne = TSNE(n_components=3, learning_rate='auto', init='random', perplexity=30, verbose=1)\n",
    "tsne_results = tsne.fit_transform(words_vectors_skip_gram[words_vectors_skip_gram.index_to_key[:len(words_vectors_skip_gram)]])\n",
    "tsne_results"
   ]
  },
  {
   "cell_type": "code",
   "execution_count": 26,
   "metadata": {},
   "outputs": [
    {
     "data": {
      "application/vnd.plotly.v1+json": {
       "config": {
        "plotlyServerURL": "https://plot.ly"
       },
       "data": [
        {
         "hovertemplate": "x=%{x}<br>y=%{y}<br>z=%{z}<br>text=%{text}<extra></extra>",
         "legendgroup": "",
         "marker": {
          "color": "#636efa",
          "symbol": "circle"
         },
         "mode": "markers+text",
         "name": "",
         "scene": "scene",
         "showlegend": false,
         "text": [
          "dieu",
          "»",
          "«",
          "a",
          "baptême",
          "comme",
          "être",
          "plus",
          "alliance",
          "cette",
          "fait",
          "enfant",
          "si",
          "donc",
          "dit",
          "tout",
          "christ",
          "-",
          "–",
          "foi",
          "bien",
          "chose",
          "cela",
          "peut",
          "homme",
          "non",
          "van",
          "aussi",
          "til",
          "dire",
          "article",
          "…",
          "tous",
          "ainsi",
          "entre",
          "nature",
          "raison",
          "autre",
          "question",
          "parce",
          "car",
          "père",
          "circoncision",
          "faire",
          "personne",
          "sans",
          "grâce",
          "église",
          "baptisé",
          "deux",
          "the",
          "thomas",
          "toute",
          "famille",
          "quand",
          "promesse",
          "autres",
          "alors",
          "baptiste",
          "jésus",
          "théologie",
          "chrétien",
          "sens",
          "vie",
          "selon",
          "fil",
          "réformé",
          "cause",
          "of",
          "encore",
          "effet",
          "nouvelle",
          "acte",
          "testament",
          "ceux",
          "point",
          "où",
          "toutes",
          "ici",
          "avoir",
          "péché",
          "faut",
          "exemple",
          "signe",
          "façon",
          "lui-même",
          "ancien",
          "humaine",
          "après",
          "esprit",
          "volonté",
          "jean",
          "or",
          "doctrine",
          "celui",
          "nouveau",
          "voir",
          "p",
          "grand",
          "monde",
          "paul",
          "cas",
          "cet",
          "connaissance",
          "parole",
          "sujet",
          "seigneur",
          "bonne",
          "oui",
          "maison",
          "très",
          "corps",
          "avant",
          "certain",
          "divine",
          "pourquoi",
          "eau",
          "peuple",
          "régénération",
          "veut",
          "réponse",
          "argument",
          "déjà",
          "“",
          "écrit",
          "bible",
          "dont",
          "savoir",
          "ni",
          "”",
          "puisque",
          "rien",
          "comment",
          "seulement",
          "béatitude",
          "abraham",
          "quelque",
          "premier",
          "bon",
          "manière",
          "réformée",
          "partie",
          "leurs",
          "doit",
          "saint",
          "texte",
          "aquin",
          "temps",
          "croyant",
          "and"
         ],
         "type": "scatter3d",
         "x": [
          7.978522300720215,
          -39.20901870727539,
          38.465553283691406,
          -15.327183723449707,
          -29.269500732421875,
          32.25522232055664,
          39.17351531982422,
          -38.228729248046875,
          40.89070129394531,
          -32.52667999267578,
          -1.4385156631469727,
          -1.906917691230774,
          -10.251873970031738,
          18.360836029052734,
          -7.981463432312012,
          0.6733720898628235,
          -20.919397354125977,
          -40.29990768432617,
          0.03670349344611168,
          19.734210968017578,
          36.107139587402344,
          -46.64248275756836,
          32.700660705566406,
          -10.269644737243652,
          -19.725906372070312,
          14.667633056640625,
          -27.64412498474121,
          -23.1409969329834,
          -5.175853729248047,
          -17.30244255065918,
          37.49010467529297,
          8.137033462524414,
          -23.056541442871094,
          43.282466888427734,
          -39.713951110839844,
          -4.292976379394531,
          32.87449645996094,
          -24.48076820373535,
          -15.614166259765625,
          18.21152114868164,
          21.218425750732422,
          17.756019592285156,
          -36.206085205078125,
          -1.7534384727478027,
          28.109397888183594,
          -16.727012634277344,
          17.298782348632812,
          -1.993162751197815,
          -24.239038467407227,
          -3.1768040657043457,
          2.985046148300171,
          -20.38729476928711,
          29.00338363647461,
          9.73891544342041,
          -11.233120918273926,
          45.06377410888672,
          2.0996241569519043,
          5.285945892333984,
          -10.202128410339355,
          10.584752082824707,
          18.303693771362305,
          -31.946422576904297,
          10.378754615783691,
          14.718222618103027,
          16.010713577270508,
          6.7986226081848145,
          37.62190246582031,
          34.05196762084961,
          27.457040786743164,
          -11.859892845153809,
          30.13903045654297,
          14.312641143798828,
          1.2658966779708862,
          -3.4267776012420654,
          7.775981903076172,
          -38.71623611450195,
          0.9552257657051086,
          12.605131149291992,
          26.176025390625,
          6.401055335998535,
          0.30466073751449585,
          -23.649608612060547,
          -4.419864177703857,
          21.777910232543945,
          -2.8351552486419678,
          -31.369184494018555,
          -13.956744194030762,
          -34.73094177246094,
          -7.10091495513916,
          16.593942642211914,
          -20.375228881835938,
          -9.760129928588867,
          27.253631591796875,
          -8.293294906616211,
          14.477947235107422,
          -5.0477118492126465,
          13.937509536743164,
          -12.733750343322754,
          -34.50038528442383,
          35.974639892578125,
          20.954914093017578,
          -14.136296272277832,
          1.7554025650024414,
          -15.274762153625488,
          -22.903093338012695,
          -4.791770935058594,
          -6.768875598907471,
          -17.4257869720459,
          -30.594255447387695,
          -16.575637817382812,
          6.414228916168213,
          6.415223121643066,
          -12.153389930725098,
          11.3814697265625,
          9.885771751403809,
          33.19388961791992,
          -13.27492904663086,
          -11.255109786987305,
          -15.800877571105957,
          -2.0661709308624268,
          -12.784234046936035,
          -33.407752990722656,
          14.588004112243652,
          -23.650501251220703,
          7.899008274078369,
          -18.151512145996094,
          11.542387008666992,
          -19.865304946899414,
          5.059969902038574,
          -33.88076400756836,
          -24.88209342956543,
          -9.398728370666504,
          24.712039947509766,
          6.359619140625,
          11.293293952941895,
          29.290019989013672,
          22.02440643310547,
          22.535903930664062,
          -22.494544982910156,
          -22.75663185119629,
          -5.424701690673828,
          -17.209630966186523,
          -13.40782642364502,
          1.8158284425735474,
          1.321897029876709,
          -4.950276851654053,
          -30.188343048095703,
          -35.92557144165039,
          -16.738534927368164,
          24.317167282104492
         ],
         "y": [
          -13.497909545898438,
          17.576404571533203,
          14.647137641906738,
          12.56192684173584,
          9.577171325683594,
          -3.101292371749878,
          10.356629371643066,
          -11.630074501037598,
          25.2249813079834,
          -8.004919052124023,
          -19.924745559692383,
          37.45478057861328,
          45.77722930908203,
          1.4919331073760986,
          24.68354034423828,
          -10.867456436157227,
          22.671302795410156,
          -3.111003875732422,
          21.120697021484375,
          9.51284122467041,
          -28.882808685302734,
          -14.41600513458252,
          -3.037846803665161,
          14.045517921447754,
          -23.049945831298828,
          34.28398513793945,
          11.028183937072754,
          36.34778594970703,
          -7.843914031982422,
          -36.80601501464844,
          22.623544692993164,
          7.092927932739258,
          20.333173751831055,
          0.17048996686935425,
          19.376996994018555,
          24.898025512695312,
          9.077791213989258,
          -3.4029481410980225,
          14.311013221740723,
          8.597846031188965,
          25.45347023010254,
          -15.164841651916504,
          13.257695198059082,
          1.393102765083313,
          21.192588806152344,
          -14.47068977355957,
          39.06733322143555,
          -3.691467523574829,
          29.010770797729492,
          16.9747257232666,
          10.966065406799316,
          3.9381349086761475,
          19.293621063232422,
          -8.636474609375,
          44.773193359375,
          15.46143627166748,
          -14.112804412841797,
          -10.315359115600586,
          18.421327590942383,
          10.728958129882812,
          -12.104278564453125,
          17.70042610168457,
          -30.27100944519043,
          -14.512950897216797,
          -30.841785430908203,
          22.89222526550293,
          -21.418750762939453,
          3.671778678894043,
          -29.918062210083008,
          -5.756637096405029,
          16.331302642822266,
          -11.903685569763184,
          11.920963287353516,
          26.643016815185547,
          5.1686110496521,
          -13.141541481018066,
          27.599822998046875,
          -14.828323364257812,
          9.58658218383789,
          -32.50132369995117,
          -14.642943382263184,
          6.749239921569824,
          -34.34535598754883,
          -10.760947227478027,
          35.0372314453125,
          -13.334686279296875,
          -0.6257355809211731,
          22.587499618530273,
          16.96875762939453,
          27.120498657226562,
          -40.418556213378906,
          13.60703182220459,
          2.439649820327759,
          -42.40117263793945,
          -2.7346298694610596,
          -3.063263177871704,
          -28.776561737060547,
          -4.776031970977783,
          11.628829956054688,
          -29.640789031982422,
          -39.35891342163086,
          -7.158670902252197,
          -2.7586874961853027,
          11.783590316772461,
          -4.253843307495117,
          -0.5624184608459473,
          39.24503707885742,
          1.0475434064865112,
          -10.134588241577148,
          -5.257988452911377,
          5.287095546722412,
          9.357375144958496,
          -6.519868850708008,
          -44.23746109008789,
          -5.606597900390625,
          1.1263569593429565,
          -10.87012004852295,
          23.57111358642578,
          3.6949069499969482,
          -12.57334041595459,
          -36.09288787841797,
          13.804154396057129,
          6.1804070472717285,
          12.678824424743652,
          -40.2618522644043,
          17.288911819458008,
          -12.038601875305176,
          -8.260571479797363,
          -24.104780197143555,
          2.29233455657959,
          0.24579228460788727,
          8.912379264831543,
          -16.14080047607422,
          -21.22627067565918,
          28.308349609375,
          -12.440742492675781,
          -8.591253280639648,
          34.38908386230469,
          22.493141174316406,
          29.705106735229492,
          -21.86740493774414,
          20.178800582885742,
          -14.577991485595703,
          22.385028839111328,
          -4.341731071472168,
          16.850372314453125,
          -28.586776733398438,
          11.54814624786377,
          6.079189777374268,
          -13.84679889678955
         ],
         "z": [
          1.2470512390136719,
          -7.868292808532715,
          7.662700176239014,
          -18.595869064331055,
          32.46641159057617,
          2.2753608226776123,
          24.153827667236328,
          9.511052131652832,
          1.2972606420516968,
          -1.248979091644287,
          -10.524214744567871,
          -28.918407440185547,
          -11.091235160827637,
          27.60411262512207,
          39.73268508911133,
          -11.242058753967285,
          -22.753402709960938,
          -9.84843921661377,
          23.80791473388672,
          10.864837646484375,
          -2.995018720626831,
          -5.277129650115967,
          21.644418716430664,
          -13.794307708740234,
          16.640640258789062,
          3.3159847259521484,
          35.56034851074219,
          -17.703523635864258,
          -25.270774841308594,
          -2.254765748977661,
          20.333234786987305,
          10.315862655639648,
          3.382939338684082,
          23.965923309326172,
          -12.926197052001953,
          -17.99846076965332,
          -4.651739597320557,
          -6.068220138549805,
          8.850349426269531,
          29.10175132751465,
          20.684690475463867,
          -37.12991714477539,
          -2.721970319747925,
          -10.191751480102539,
          9.310248374938965,
          4.15969181060791,
          -19.642526626586914,
          -7.80769157409668,
          28.38207244873047,
          35.691688537597656,
          9.719365119934082,
          -32.81594467163086,
          30.916820526123047,
          -2.2539122104644775,
          9.872336387634277,
          1.5098788738250732,
          22.790390014648438,
          -32.26838684082031,
          37.86441421508789,
          -0.4820811450481415,
          34.304542541503906,
          -14.112082481384277,
          30.464208602905273,
          22.32364845275879,
          -12.320652961730957,
          7.225124835968018,
          -8.348477363586426,
          4.005123138427734,
          19.56649398803711,
          12.25786304473877,
          17.267864227294922,
          12.803165435791016,
          -9.496143341064453,
          25.342876434326172,
          -24.759387969970703,
          17.240201950073242,
          26.75556182861328,
          30.12528419494629,
          25.417566299438477,
          -20.740631103515625,
          -7.783267021179199,
          19.260141372680664,
          -21.719722747802734,
          -16.42141342163086,
          -25.7016544342041,
          -8.83809757232666,
          -38.11685562133789,
          10.41652774810791,
          -0.05424462631344795,
          31.069805145263672,
          -2.8922364711761475,
          -25.08634376525879,
          -33.32271957397461,
          20.061647415161133,
          9.974023818969727,
          -26.860393524169922,
          -7.8111701011657715,
          -13.7442626953125,
          -10.18738079071045,
          -5.416325092315674,
          -11.08454418182373,
          21.023950576782227,
          9.245417594909668,
          34.91063690185547,
          -24.76299476623535,
          30.69927406311035,
          16.503704071044922,
          -14.858078002929688,
          -17.168010711669922,
          -24.923952102661133,
          22.849777221679688,
          -17.000534057617188,
          46.34694290161133,
          -1.8145740032196045,
          -18.1477108001709,
          15.766999244689941,
          -20.325611114501953,
          -4.867179870605469,
          -0.734671950340271,
          -0.6385926008224487,
          -12.334592819213867,
          -8.170289039611816,
          6.765015602111816,
          19.9688663482666,
          -9.670058250427246,
          -0.922487199306488,
          -17.896041870117188,
          -32.778255462646484,
          24.729598999023438,
          21.57256317138672,
          -14.888019561767578,
          19.769546508789062,
          0.06841953843832016,
          -39.48275375366211,
          17.965919494628906,
          11.541703224182129,
          3.605656385421753,
          -26.336162567138672,
          17.975839614868164,
          -24.600717544555664,
          -30.824724197387695,
          -25.11415672302246,
          -44.98958206176758,
          21.921010971069336,
          -21.13021469116211,
          -32.326759338378906,
          10.153679847717285,
          3.786620855331421,
          -10.179301261901855,
          -23.01405906677246
         ]
        }
       ],
       "layout": {
        "legend": {
         "tracegroupgap": 0
        },
        "margin": {
         "t": 60
        },
        "scene": {
         "domain": {
          "x": [
           0,
           1
          ],
          "y": [
           0,
           1
          ]
         },
         "xaxis": {
          "title": {
           "text": "x"
          }
         },
         "yaxis": {
          "title": {
           "text": "y"
          }
         },
         "zaxis": {
          "title": {
           "text": "z"
          }
         }
        },
        "template": {
         "data": {
          "bar": [
           {
            "error_x": {
             "color": "#2a3f5f"
            },
            "error_y": {
             "color": "#2a3f5f"
            },
            "marker": {
             "line": {
              "color": "#E5ECF6",
              "width": 0.5
             },
             "pattern": {
              "fillmode": "overlay",
              "size": 10,
              "solidity": 0.2
             }
            },
            "type": "bar"
           }
          ],
          "barpolar": [
           {
            "marker": {
             "line": {
              "color": "#E5ECF6",
              "width": 0.5
             },
             "pattern": {
              "fillmode": "overlay",
              "size": 10,
              "solidity": 0.2
             }
            },
            "type": "barpolar"
           }
          ],
          "carpet": [
           {
            "aaxis": {
             "endlinecolor": "#2a3f5f",
             "gridcolor": "white",
             "linecolor": "white",
             "minorgridcolor": "white",
             "startlinecolor": "#2a3f5f"
            },
            "baxis": {
             "endlinecolor": "#2a3f5f",
             "gridcolor": "white",
             "linecolor": "white",
             "minorgridcolor": "white",
             "startlinecolor": "#2a3f5f"
            },
            "type": "carpet"
           }
          ],
          "choropleth": [
           {
            "colorbar": {
             "outlinewidth": 0,
             "ticks": ""
            },
            "type": "choropleth"
           }
          ],
          "contour": [
           {
            "colorbar": {
             "outlinewidth": 0,
             "ticks": ""
            },
            "colorscale": [
             [
              0,
              "#0d0887"
             ],
             [
              0.1111111111111111,
              "#46039f"
             ],
             [
              0.2222222222222222,
              "#7201a8"
             ],
             [
              0.3333333333333333,
              "#9c179e"
             ],
             [
              0.4444444444444444,
              "#bd3786"
             ],
             [
              0.5555555555555556,
              "#d8576b"
             ],
             [
              0.6666666666666666,
              "#ed7953"
             ],
             [
              0.7777777777777778,
              "#fb9f3a"
             ],
             [
              0.8888888888888888,
              "#fdca26"
             ],
             [
              1,
              "#f0f921"
             ]
            ],
            "type": "contour"
           }
          ],
          "contourcarpet": [
           {
            "colorbar": {
             "outlinewidth": 0,
             "ticks": ""
            },
            "type": "contourcarpet"
           }
          ],
          "heatmap": [
           {
            "colorbar": {
             "outlinewidth": 0,
             "ticks": ""
            },
            "colorscale": [
             [
              0,
              "#0d0887"
             ],
             [
              0.1111111111111111,
              "#46039f"
             ],
             [
              0.2222222222222222,
              "#7201a8"
             ],
             [
              0.3333333333333333,
              "#9c179e"
             ],
             [
              0.4444444444444444,
              "#bd3786"
             ],
             [
              0.5555555555555556,
              "#d8576b"
             ],
             [
              0.6666666666666666,
              "#ed7953"
             ],
             [
              0.7777777777777778,
              "#fb9f3a"
             ],
             [
              0.8888888888888888,
              "#fdca26"
             ],
             [
              1,
              "#f0f921"
             ]
            ],
            "type": "heatmap"
           }
          ],
          "heatmapgl": [
           {
            "colorbar": {
             "outlinewidth": 0,
             "ticks": ""
            },
            "colorscale": [
             [
              0,
              "#0d0887"
             ],
             [
              0.1111111111111111,
              "#46039f"
             ],
             [
              0.2222222222222222,
              "#7201a8"
             ],
             [
              0.3333333333333333,
              "#9c179e"
             ],
             [
              0.4444444444444444,
              "#bd3786"
             ],
             [
              0.5555555555555556,
              "#d8576b"
             ],
             [
              0.6666666666666666,
              "#ed7953"
             ],
             [
              0.7777777777777778,
              "#fb9f3a"
             ],
             [
              0.8888888888888888,
              "#fdca26"
             ],
             [
              1,
              "#f0f921"
             ]
            ],
            "type": "heatmapgl"
           }
          ],
          "histogram": [
           {
            "marker": {
             "pattern": {
              "fillmode": "overlay",
              "size": 10,
              "solidity": 0.2
             }
            },
            "type": "histogram"
           }
          ],
          "histogram2d": [
           {
            "colorbar": {
             "outlinewidth": 0,
             "ticks": ""
            },
            "colorscale": [
             [
              0,
              "#0d0887"
             ],
             [
              0.1111111111111111,
              "#46039f"
             ],
             [
              0.2222222222222222,
              "#7201a8"
             ],
             [
              0.3333333333333333,
              "#9c179e"
             ],
             [
              0.4444444444444444,
              "#bd3786"
             ],
             [
              0.5555555555555556,
              "#d8576b"
             ],
             [
              0.6666666666666666,
              "#ed7953"
             ],
             [
              0.7777777777777778,
              "#fb9f3a"
             ],
             [
              0.8888888888888888,
              "#fdca26"
             ],
             [
              1,
              "#f0f921"
             ]
            ],
            "type": "histogram2d"
           }
          ],
          "histogram2dcontour": [
           {
            "colorbar": {
             "outlinewidth": 0,
             "ticks": ""
            },
            "colorscale": [
             [
              0,
              "#0d0887"
             ],
             [
              0.1111111111111111,
              "#46039f"
             ],
             [
              0.2222222222222222,
              "#7201a8"
             ],
             [
              0.3333333333333333,
              "#9c179e"
             ],
             [
              0.4444444444444444,
              "#bd3786"
             ],
             [
              0.5555555555555556,
              "#d8576b"
             ],
             [
              0.6666666666666666,
              "#ed7953"
             ],
             [
              0.7777777777777778,
              "#fb9f3a"
             ],
             [
              0.8888888888888888,
              "#fdca26"
             ],
             [
              1,
              "#f0f921"
             ]
            ],
            "type": "histogram2dcontour"
           }
          ],
          "mesh3d": [
           {
            "colorbar": {
             "outlinewidth": 0,
             "ticks": ""
            },
            "type": "mesh3d"
           }
          ],
          "parcoords": [
           {
            "line": {
             "colorbar": {
              "outlinewidth": 0,
              "ticks": ""
             }
            },
            "type": "parcoords"
           }
          ],
          "pie": [
           {
            "automargin": true,
            "type": "pie"
           }
          ],
          "scatter": [
           {
            "fillpattern": {
             "fillmode": "overlay",
             "size": 10,
             "solidity": 0.2
            },
            "type": "scatter"
           }
          ],
          "scatter3d": [
           {
            "line": {
             "colorbar": {
              "outlinewidth": 0,
              "ticks": ""
             }
            },
            "marker": {
             "colorbar": {
              "outlinewidth": 0,
              "ticks": ""
             }
            },
            "type": "scatter3d"
           }
          ],
          "scattercarpet": [
           {
            "marker": {
             "colorbar": {
              "outlinewidth": 0,
              "ticks": ""
             }
            },
            "type": "scattercarpet"
           }
          ],
          "scattergeo": [
           {
            "marker": {
             "colorbar": {
              "outlinewidth": 0,
              "ticks": ""
             }
            },
            "type": "scattergeo"
           }
          ],
          "scattergl": [
           {
            "marker": {
             "colorbar": {
              "outlinewidth": 0,
              "ticks": ""
             }
            },
            "type": "scattergl"
           }
          ],
          "scattermapbox": [
           {
            "marker": {
             "colorbar": {
              "outlinewidth": 0,
              "ticks": ""
             }
            },
            "type": "scattermapbox"
           }
          ],
          "scatterpolar": [
           {
            "marker": {
             "colorbar": {
              "outlinewidth": 0,
              "ticks": ""
             }
            },
            "type": "scatterpolar"
           }
          ],
          "scatterpolargl": [
           {
            "marker": {
             "colorbar": {
              "outlinewidth": 0,
              "ticks": ""
             }
            },
            "type": "scatterpolargl"
           }
          ],
          "scatterternary": [
           {
            "marker": {
             "colorbar": {
              "outlinewidth": 0,
              "ticks": ""
             }
            },
            "type": "scatterternary"
           }
          ],
          "surface": [
           {
            "colorbar": {
             "outlinewidth": 0,
             "ticks": ""
            },
            "colorscale": [
             [
              0,
              "#0d0887"
             ],
             [
              0.1111111111111111,
              "#46039f"
             ],
             [
              0.2222222222222222,
              "#7201a8"
             ],
             [
              0.3333333333333333,
              "#9c179e"
             ],
             [
              0.4444444444444444,
              "#bd3786"
             ],
             [
              0.5555555555555556,
              "#d8576b"
             ],
             [
              0.6666666666666666,
              "#ed7953"
             ],
             [
              0.7777777777777778,
              "#fb9f3a"
             ],
             [
              0.8888888888888888,
              "#fdca26"
             ],
             [
              1,
              "#f0f921"
             ]
            ],
            "type": "surface"
           }
          ],
          "table": [
           {
            "cells": {
             "fill": {
              "color": "#EBF0F8"
             },
             "line": {
              "color": "white"
             }
            },
            "header": {
             "fill": {
              "color": "#C8D4E3"
             },
             "line": {
              "color": "white"
             }
            },
            "type": "table"
           }
          ]
         },
         "layout": {
          "annotationdefaults": {
           "arrowcolor": "#2a3f5f",
           "arrowhead": 0,
           "arrowwidth": 1
          },
          "autotypenumbers": "strict",
          "coloraxis": {
           "colorbar": {
            "outlinewidth": 0,
            "ticks": ""
           }
          },
          "colorscale": {
           "diverging": [
            [
             0,
             "#8e0152"
            ],
            [
             0.1,
             "#c51b7d"
            ],
            [
             0.2,
             "#de77ae"
            ],
            [
             0.3,
             "#f1b6da"
            ],
            [
             0.4,
             "#fde0ef"
            ],
            [
             0.5,
             "#f7f7f7"
            ],
            [
             0.6,
             "#e6f5d0"
            ],
            [
             0.7,
             "#b8e186"
            ],
            [
             0.8,
             "#7fbc41"
            ],
            [
             0.9,
             "#4d9221"
            ],
            [
             1,
             "#276419"
            ]
           ],
           "sequential": [
            [
             0,
             "#0d0887"
            ],
            [
             0.1111111111111111,
             "#46039f"
            ],
            [
             0.2222222222222222,
             "#7201a8"
            ],
            [
             0.3333333333333333,
             "#9c179e"
            ],
            [
             0.4444444444444444,
             "#bd3786"
            ],
            [
             0.5555555555555556,
             "#d8576b"
            ],
            [
             0.6666666666666666,
             "#ed7953"
            ],
            [
             0.7777777777777778,
             "#fb9f3a"
            ],
            [
             0.8888888888888888,
             "#fdca26"
            ],
            [
             1,
             "#f0f921"
            ]
           ],
           "sequentialminus": [
            [
             0,
             "#0d0887"
            ],
            [
             0.1111111111111111,
             "#46039f"
            ],
            [
             0.2222222222222222,
             "#7201a8"
            ],
            [
             0.3333333333333333,
             "#9c179e"
            ],
            [
             0.4444444444444444,
             "#bd3786"
            ],
            [
             0.5555555555555556,
             "#d8576b"
            ],
            [
             0.6666666666666666,
             "#ed7953"
            ],
            [
             0.7777777777777778,
             "#fb9f3a"
            ],
            [
             0.8888888888888888,
             "#fdca26"
            ],
            [
             1,
             "#f0f921"
            ]
           ]
          },
          "colorway": [
           "#636efa",
           "#EF553B",
           "#00cc96",
           "#ab63fa",
           "#FFA15A",
           "#19d3f3",
           "#FF6692",
           "#B6E880",
           "#FF97FF",
           "#FECB52"
          ],
          "font": {
           "color": "#2a3f5f"
          },
          "geo": {
           "bgcolor": "white",
           "lakecolor": "white",
           "landcolor": "#E5ECF6",
           "showlakes": true,
           "showland": true,
           "subunitcolor": "white"
          },
          "hoverlabel": {
           "align": "left"
          },
          "hovermode": "closest",
          "mapbox": {
           "style": "light"
          },
          "paper_bgcolor": "white",
          "plot_bgcolor": "#E5ECF6",
          "polar": {
           "angularaxis": {
            "gridcolor": "white",
            "linecolor": "white",
            "ticks": ""
           },
           "bgcolor": "#E5ECF6",
           "radialaxis": {
            "gridcolor": "white",
            "linecolor": "white",
            "ticks": ""
           }
          },
          "scene": {
           "xaxis": {
            "backgroundcolor": "#E5ECF6",
            "gridcolor": "white",
            "gridwidth": 2,
            "linecolor": "white",
            "showbackground": true,
            "ticks": "",
            "zerolinecolor": "white"
           },
           "yaxis": {
            "backgroundcolor": "#E5ECF6",
            "gridcolor": "white",
            "gridwidth": 2,
            "linecolor": "white",
            "showbackground": true,
            "ticks": "",
            "zerolinecolor": "white"
           },
           "zaxis": {
            "backgroundcolor": "#E5ECF6",
            "gridcolor": "white",
            "gridwidth": 2,
            "linecolor": "white",
            "showbackground": true,
            "ticks": "",
            "zerolinecolor": "white"
           }
          },
          "shapedefaults": {
           "line": {
            "color": "#2a3f5f"
           }
          },
          "ternary": {
           "aaxis": {
            "gridcolor": "white",
            "linecolor": "white",
            "ticks": ""
           },
           "baxis": {
            "gridcolor": "white",
            "linecolor": "white",
            "ticks": ""
           },
           "bgcolor": "#E5ECF6",
           "caxis": {
            "gridcolor": "white",
            "linecolor": "white",
            "ticks": ""
           }
          },
          "title": {
           "x": 0.05
          },
          "xaxis": {
           "automargin": true,
           "gridcolor": "white",
           "linecolor": "white",
           "ticks": "",
           "title": {
            "standoff": 15
           },
           "zerolinecolor": "white",
           "zerolinewidth": 2
          },
          "yaxis": {
           "automargin": true,
           "gridcolor": "white",
           "linecolor": "white",
           "ticks": "",
           "title": {
            "standoff": 15
           },
           "zerolinecolor": "white",
           "zerolinewidth": 2
          }
         }
        }
       }
      }
     },
     "metadata": {},
     "output_type": "display_data"
    }
   ],
   "source": [
    "#Plot 3D de certains mots (car impossible de tous les afficher sinon illisible)\n",
    "n_kept = 150\n",
    "import plotly.express as px\n",
    "fig = px.scatter_3d(corpus, x=tsne_results[0:n_kept,0], y=tsne_results[0:n_kept,1], z=tsne_results[0:n_kept,2],\n",
    "              text=words_vectors_skip_gram.index_to_key[0:n_kept])\n",
    "fig.show()"
   ]
  },
  {
   "cell_type": "code",
   "execution_count": 27,
   "metadata": {},
   "outputs": [
    {
     "data": {
      "image/png": "[encoded data removed]",
      "text/plain": [
       "<Figure size 864x504 with 1 Axes>"
      ]
     },
     "metadata": {
      "needs_background": "light"
     },
     "output_type": "display_data"
    }
   ],
   "source": [
    "# Sans label\n",
    "plt.figure(figsize=(12, 7))\n",
    "sb.scatterplot(\n",
    "    x=tsne_results[0:n_kept,0], y=tsne_results[0:n_kept,1],\n",
    "    legend=\"auto\",\n",
    "    alpha=0.3,\n",
    "    s=10\n",
    ")\n",
    "for i in range(n_kept):\n",
    "    plt.text(x=tsne_results[i,0], y=tsne_results[i,1], s=words_vectors.index_to_key[i])\n",
    "\n",
    "plt.xlabel(\"tsne_2d_x\", size=16)\n",
    "plt.ylabel(\"tsne_2d_y\", size=16)\n",
    "plt.title(\"Reduction tsne des dimensions en 2D\", size=17)\n",
    "plt.xticks(fontsize=15)\n",
    "plt.yticks(fontsize=15)\n",
    "plt.show()"
   ]
  },
  {
   "cell_type": "code",
   "execution_count": 16,
   "metadata": {},
   "outputs": [
    {
     "name": "stdout",
     "output_type": "stream",
     "text": [
      "[ 32.97364     27.86875      2.6578183   -6.156161    26.759222\n",
      "  26.850883    16.1331     -18.113335   -18.714615    22.738516\n",
      " -17.732666    30.788158   -21.100252    21.00191     40.18455\n",
      " -25.64658     11.441761    26.25866     -8.396498    24.155148\n",
      "   2.2062364  -35.837776   -31.808994    -3.1559381  -15.883595\n",
      "  11.889427     0.16937323 -17.269344    -4.664543     2.3588793\n",
      " -15.474083    14.938675    12.966424    36.691887    32.03494\n",
      " -28.764671    14.556421    -5.2187657  -16.172247    -2.6972094\n",
      " -24.54941     39.68088     -3.7747867   27.805323    16.432642\n",
      "  -5.650859    14.336708    -2.8012807   -1.4311023  -29.907084  ]\n"
     ]
    }
   ],
   "source": [
    "print(tsne_results[0:50:,0])"
   ]
  },
  {
   "cell_type": "markdown",
   "metadata": {},
   "source": [
    "Utilisation des features word2vec pour la classification"
   ]
  },
  {
   "cell_type": "markdown",
   "metadata": {},
   "source": [
    "Creation features du modele : moyenne des \"mots\" d'une phrase"
   ]
  },
  {
   "cell_type": "code",
   "execution_count": 68,
   "metadata": {},
   "outputs": [
    {
     "data": {
      "text/plain": [
       "list"
      ]
     },
     "execution_count": 68,
     "metadata": {},
     "output_type": "execute_result"
    }
   ],
   "source": [
    "vocab = model.wv.index_to_key\n",
    "# len(vocab)\n",
    "# type(vocab)\n",
    "# print(vocab)\n",
    "vocab=list(model.wv.key_to_index.keys())\n",
    "# vocab\n",
    "type(vocab)"
   ]
  },
  {
   "cell_type": "code",
   "execution_count": 17,
   "metadata": {},
   "outputs": [
    {
     "ename": "NameError",
     "evalue": "name 'words_vectors_skip_gram' is not defined",
     "output_type": "error",
     "traceback": [
      "\u001b[1;31m---------------------------------------------------------------------------\u001b[0m",
      "\u001b[1;31mNameError\u001b[0m                                 Traceback (most recent call last)",
      "\u001b[1;32m~\\AppData\\Local\\Temp/ipykernel_20596/2980421592.py\u001b[0m in \u001b[0;36m<module>\u001b[1;34m\u001b[0m\n\u001b[1;32m----> 1\u001b[1;33m \u001b[0mwords_vectors_skip_gram\u001b[0m\u001b[1;33m[\u001b[0m\u001b[1;34m\"alliance\"\u001b[0m\u001b[1;33m]\u001b[0m \u001b[1;31m# vecteur des mots, indice par mot (string)\u001b[0m\u001b[1;33m\u001b[0m\u001b[1;33m\u001b[0m\u001b[0m\n\u001b[0m",
      "\u001b[1;31mNameError\u001b[0m: name 'words_vectors_skip_gram' is not defined"
     ]
    }
   ],
   "source": [
    "words_vectors_skip_gram[\"alliance\"] # vecteur des mots, indice par mot (string)"
   ]
  },
  {
   "cell_type": "code",
   "execution_count": 18,
   "metadata": {},
   "outputs": [
    {
     "name": "stdout",
     "output_type": "stream",
     "text": [
      "sentence = ['tortarolohttpssecuregravatarcomavatarbaddffbdfaefbsdmmrg']\n",
      "sentence_words = []\n"
     ]
    }
   ],
   "source": [
    "words_vectors_skip_gram = model_skip_gram.wv\n",
    "vocab = model_skip_gram.wv.index_to_key\n",
    "corpus_average_vectors = []\n",
    "sentence_average_vector = []\n",
    "sentence_vectors = []\n",
    "vector_space_dim = 200\n",
    "\n",
    "for i in range(len(tokens)):\n",
    "    sentence = tokens[i]\n",
    "    sentence_words = list(set(vocab) & set(sentence))\n",
    "    if(sentence_words != []):\n",
    "        sentence_average_vector = np.mean(words_vectors_skip_gram[sentence_words], axis=0)\n",
    "        # print(\"words_vectors_skip_gram[sentence_words] =\", words_vectors_skip_gram[sentence_words])\n",
    "    else:\n",
    "        print(\"sentence =\", sentence)\n",
    "        print(\"sentence_words =\", sentence_words)\n",
    "        sentence_average_vector = np.zeros(vector_space_dim)\n",
    "    corpus_average_vectors.append(sentence_average_vector)\n",
    "# print(\"len(sentence_vectors) =\", len(sentence_vectors))\n",
    "# print(\"sentence_vectors =\", sentence_vectors)\n",
    "# print(\"len(sentence_average_vector) =\", len(sentence_average_vector))\n",
    "# len(corpus_average_vectors)\n",
    "corpus_word2vec_sk = pd.DataFrame(corpus_average_vectors)\n",
    "corpus_word2vec_sk['id'] = corpus['id']\n",
    "corpus_word2vec_sk['message'] = corpus['message']\n",
    "corpus_word2vec_sk[\"category_bin\"] = corpus[\"category_bin\"]\n",
    "# corpus_word2vec_sk"
   ]
  },
  {
   "cell_type": "code",
   "execution_count": 19,
   "metadata": {},
   "outputs": [],
   "source": [
    "X = corpus_word2vec_sk.iloc[:, np.r_[0:200]]\n",
    "y = corpus_word2vec_sk[\"category_bin\"]\n",
    "indices = corpus[\"id\"]\n",
    "X_train, X_test, y_train, y_test, indices_train, indices_test = train_test_split(X, y, indices, test_size=0.33, random_state=42)"
   ]
  },
  {
   "cell_type": "code",
   "execution_count": 14,
   "metadata": {},
   "outputs": [
    {
     "name": "stdout",
     "output_type": "stream",
     "text": [
      "[('test_f1_macro', 0.3355), ('test_f1_micro', 0.5033)] (LR)\n",
      "[('test_f1_macro', 0.7444), ('test_f1_micro', 0.7446)] (AdaBoostClassifier)\n",
      "[('test_f1_macro', 0.6293), ('test_f1_micro', 0.6621)] (KNN)\n",
      "[('test_f1_macro', 0.7857), ('test_f1_micro', 0.7858)] (RandomForest)\n",
      "[('test_f1_macro', 0.3343), ('test_f1_micro', 0.5008)] (SGDClassifier)\n",
      "[('test_f1_macro', 0.8492), ('test_f1_micro', 0.8493)] (SVM)\n",
      "[('test_f1_macro', 0.6298), ('test_f1_micro', 0.6302)] (DecisionTreeClassifier)\n"
     ]
    }
   ],
   "source": [
    "# Cross validation\n",
    "#Methode version automatisee facile grace a la fonction RepeatedStratifiedKFold de sklearn\n",
    "#Selection de modeles avec la k cross validation pour determiner le meilleur\n",
    "#Modeles utilisés dans les papiers :\n",
    "# LogisticRegression, MultinomialNB (= naive bayes), SVC (SVD petit data), SGDClassifier (SVD grand data)\n",
    "# DecisionTreeClassifier, RandomForestClassifier\n",
    "# AdaBoostClassifier, MLPClassifier\n",
    "pd.set_option(\"display.precision\", 2)\n",
    "# scoring = ['accuracy', 'precision', 'recall', 'f1', 'f1_macro']\n",
    "scoring = ['f1_macro', 'f1_micro']\n",
    "models = []\n",
    "models.append(('LR', LogisticRegression(solver='liblinear', multi_class='ovr')))\n",
    "models.append(('AdaBoostClassifier', AdaBoostClassifier()))\n",
    "models.append(('KNN', KNeighborsClassifier()))\n",
    "models.append(('RandomForest', RandomForestClassifier()))\n",
    "# models.append(('MLPClassifier', MLPClassifier(max_iter=500))) car diverge donc trop long\n",
    "models.append(('SGDClassifier', SGDClassifier()))\n",
    "models.append(('SVM', SVC()))\n",
    "models.append(('DecisionTreeClassifier', DecisionTreeClassifier()))\n",
    " \n",
    "# evaluate each model in turn\n",
    "results = []\n",
    "names = []\n",
    "num_iter = 6\n",
    "for name, model in models:\n",
    "    kfold = RepeatedStratifiedKFold(n_splits=10, n_repeats=num_iter, random_state=None)\n",
    "    cv_results = cross_validate(model, X_train, y_train, cv=kfold, scoring=scoring)\n",
    "    for k, scores in cv_results.items():\n",
    "        cv_results[k] = round(np.mean(scores), 4) #on fait la moyenne de chaque score (rappel, precision, etc.) pour les k experiences\n",
    "    print((str(list(cv_results.items())[2:])+\" ({0})\").format(name)) #2: pour ignorer les info inutiles"
   ]
  },
  {
   "cell_type": "code",
   "execution_count": 23,
   "metadata": {},
   "outputs": [
    {
     "name": "stderr",
     "output_type": "stream",
     "text": [
      "c:\\Users\\eupho\\OneDrive\\Documents\\perso\\projets\\classification_texte_bapteme_philo/sources/classification\\lib_classification.py:63: MatplotlibDeprecationWarning: Case-insensitive properties were deprecated in 3.3 and support will be removed two minor releases later\n",
      "  ax.set_xticklabels([false_label, true_label], Fontsize=font_size + 3)\n",
      "c:\\Users\\eupho\\OneDrive\\Documents\\perso\\projets\\classification_texte_bapteme_philo/sources/classification\\lib_classification.py:64: MatplotlibDeprecationWarning: Case-insensitive properties were deprecated in 3.3 and support will be removed two minor releases later\n",
      "  ax.set_yticklabels([false_label, true_label], Fontsize=font_size + 3)\n"
     ]
    },
    {
     "data": {
      "image/png": "[encoded data removed]",
      "text/plain": [
       "<Figure size 720x504 with 2 Axes>"
      ]
     },
     "metadata": {
      "needs_background": "light"
     },
     "output_type": "display_data"
    }
   ],
   "source": [
    "from sklearn.ensemble import RandomForestClassifier\n",
    "from sklearn.metrics import classification_report, confusion_matrix\n",
    "\n",
    "# model_cbow\n",
    "model = SVC()\n",
    "model.fit(X_train, y_train)\n",
    "y_pred = model.predict(X_test)\n",
    "get_confusion_matrix(y_test, y_pred, model)"
   ]
  },
  {
   "cell_type": "code",
   "execution_count": 24,
   "metadata": {},
   "outputs": [
    {
     "name": "stdout",
     "output_type": "stream",
     "text": [
      "              precision    recall  f1-score   support\n",
      "\n",
      "           0       0.89      0.87      0.88       603\n",
      "           1       0.87      0.90      0.89       607\n",
      "\n",
      "    accuracy                           0.88      1210\n",
      "   macro avg       0.88      0.88      0.88      1210\n",
      "weighted avg       0.88      0.88      0.88      1210\n",
      "\n"
     ]
    }
   ],
   "source": [
    "# Metriques\n",
    "print(classification_report(y_test, y_pred))"
   ]
  },
  {
   "cell_type": "code",
   "execution_count": 25,
   "metadata": {},
   "outputs": [
    {
     "data": {
      "image/png": "[encoded data removed]",
      "text/plain": [
       "<Figure size 720x504 with 1 Axes>"
      ]
     },
     "metadata": {
      "needs_background": "light"
     },
     "output_type": "display_data"
    }
   ],
   "source": [
    "# Courbe ROC et AUC\n",
    "from sklearn import metrics\n",
    "\n",
    "fpr, tpr, thresholds = metrics.roc_curve(y_test, y_pred)\n",
    "auc = metrics.auc(fpr, tpr)\n",
    "plt.figure()\n",
    "lw = 2\n",
    "plt.plot(\n",
    "    fpr,\n",
    "    tpr,\n",
    "    color=\"darkorange\",\n",
    "    lw=lw,\n",
    "    label=\"ROC curve (area = %0.2f)\" % auc,\n",
    ")\n",
    "plt.plot([0, 1], [0, 1], color=\"navy\", lw=lw, linestyle=\"--\")\n",
    "plt.xlim([0.0, 1.0])\n",
    "plt.ylim([0.0, 1.05])\n",
    "plt.xlabel(\"False Positive Rate\")\n",
    "plt.ylabel(\"True Positive Rate\")\n",
    "plt.title(\"Receiver operating characteristic example\")\n",
    "plt.legend(loc=\"lower right\")\n",
    "plt.show()"
   ]
  },
  {
   "cell_type": "markdown",
   "metadata": {},
   "source": [
    "sources :\n",
    "http://ethen8181.github.io/machine-learning/keras/text_classification/word2vec_text_classification.html"
   ]
  },
  {
   "cell_type": "code",
   "execution_count": 26,
   "metadata": {},
   "outputs": [],
   "source": [
    "k = 10\n",
    "# kfold = StratifiedKFold(n_splits=k, random_state=None, shuffle=True) #n_splits = k de la k-fold cv, le nombre de fold\n",
    "kfold = RepeatedStratifiedKFold(n_splits=k, n_repeats=2, random_state=None)\n",
    "scoring = 'accuracy'\n",
    "cv_param = kfold\n",
    "num_experiences = 10\n",
    "train_sizes = np.linspace(0.1, 1.0, num_experiences)\n",
    "# train_sizes = np.linspace(0.001, 1.0, num_experiences)\n",
    "n_jobs = -1"
   ]
  },
  {
   "cell_type": "code",
   "execution_count": 28,
   "metadata": {},
   "outputs": [
    {
     "data": {
      "image/png": "[encoded data removed]",
      "text/plain": [
       "<Figure size 720x504 with 1 Axes>"
      ]
     },
     "metadata": {
      "needs_background": "light"
     },
     "output_type": "display_data"
    }
   ],
   "source": [
    "model = SVC() #le meilleur modele garde apres cross validation \n",
    "get_learning_curve(model, X_train, y_train, cv_param, \"recall\", train_sizes, n_jobs)"
   ]
  },
  {
   "cell_type": "code",
   "execution_count": 29,
   "metadata": {},
   "outputs": [
    {
     "data": {
      "image/png": "[encoded data removed]",
      "text/plain": [
       "<Figure size 720x504 with 1 Axes>"
      ]
     },
     "metadata": {
      "needs_background": "light"
     },
     "output_type": "display_data"
    }
   ],
   "source": [
    "get_learning_curve(model, X_train, y_train, cv_param, \"accuracy\", train_sizes, n_jobs)"
   ]
  },
  {
   "cell_type": "code",
   "execution_count": 30,
   "metadata": {},
   "outputs": [
    {
     "data": {
      "image/png": "[encoded data removed]",
      "text/plain": [
       "<Figure size 720x504 with 1 Axes>"
      ]
     },
     "metadata": {
      "needs_background": "light"
     },
     "output_type": "display_data"
    }
   ],
   "source": [
    "get_learning_curve(model, X_train, y_train, cv_param, \"f1\", train_sizes, n_jobs)"
   ]
  },
  {
   "cell_type": "code",
   "execution_count": 31,
   "metadata": {},
   "outputs": [
    {
     "data": {
      "image/png": "[encoded data removed]",
      "text/plain": [
       "<Figure size 720x504 with 1 Axes>"
      ]
     },
     "metadata": {
      "needs_background": "light"
     },
     "output_type": "display_data"
    }
   ],
   "source": [
    "get_learning_curve(model, X_train, y_train, cv_param, \"f1_macro\", train_sizes, n_jobs)"
   ]
  },
  {
   "cell_type": "code",
   "execution_count": 32,
   "metadata": {},
   "outputs": [
    {
     "data": {
      "image/png": "[encoded data removed]",
      "text/plain": [
       "<Figure size 720x504 with 1 Axes>"
      ]
     },
     "metadata": {
      "needs_background": "light"
     },
     "output_type": "display_data"
    }
   ],
   "source": [
    "get_learning_curve(model, X_train, y_train, cv_param, \"precision\", train_sizes, n_jobs)"
   ]
  },
  {
   "cell_type": "code",
   "execution_count": null,
   "metadata": {},
   "outputs": [],
   "source": []
  }
 ],
 "metadata": {
  "kernelspec": {
   "display_name": "Python 3.9.7 ('base')",
   "language": "python",
   "name": "python3"
  },
  "language_info": {
   "codemirror_mode": {
    "name": "ipython",
    "version": 3
   },
   "file_extension": ".py",
   "mimetype": "text/x-python",
   "name": "python",
   "nbconvert_exporter": "python",
   "pygments_lexer": "ipython3",
   "version": "3.9.7"
  },
  "orig_nbformat": 4,
  "vscode": {
   "interpreter": {
    "hash": "3e7035cb009caaa59ad2cfefe05d6f0df614ee59b6f1c56d32ef92625aa3dec5"
   }
  }
 },
 "nbformat": 4,
 "nbformat_minor": 2
}
