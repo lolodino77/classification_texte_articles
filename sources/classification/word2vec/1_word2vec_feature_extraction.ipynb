{
 "cells": [
  {
   "cell_type": "code",
   "execution_count": 7,
   "metadata": {},
   "outputs": [
    {
     "name": "stdout",
     "output_type": "stream",
     "text": [
      "c:\\Users\\eupho\\OneDrive\\Documents\\perso\\projets\\classification_texte_bapteme_philo\n"
     ]
    }
   ],
   "source": [
    "import sys\n",
    "from pathlib import Path, PureWindowsPath\n",
    "current_folder = PureWindowsPath(globals()['_dh'][0]).as_posix()\n",
    "path_root = \"/\".join(current_folder.split(\"/\")[:-3]) #remonter au dossier root du projet\n",
    "os.chdir(path_root)\n",
    "print(os.getcwd())\n",
    "sys.path.append(os.getcwd() + \"/sources/classification/\")"
   ]
  },
  {
   "cell_type": "code",
   "execution_count": 8,
   "metadata": {},
   "outputs": [],
   "source": [
    "import os\n",
    "import numpy as np\n",
    "import pandas as pd\n",
    "import seaborn as sb\n",
    "import matplotlib.pyplot as plt\n",
    "from sklearn.pipeline import Pipeline\n",
    "from sklearn.model_selection import train_test_split\n",
    "from sklearn.metrics import classification_report, confusion_matrix\n",
    "from sklearn.naive_bayes import MultinomialNB\n",
    "from gensim.utils import tokenize\n",
    "from pathlib import Path, PureWindowsPath\n",
    "from lib_classification import *\n",
    "pd.set_option('display.max_colwidth', 30)\n",
    "pd.set_option('display.min_rows', 5)\n",
    "pd.set_option('display.max_rows', 5)\n",
    "pd.set_option('display.max_colwidth', None) #afficher texte entier dans dataframe"
   ]
  },
  {
   "cell_type": "code",
   "execution_count": 9,
   "metadata": {},
   "outputs": [
    {
     "name": "stdout",
     "output_type": "stream",
     "text": [
      "1    1833\n",
      "0    1833\n",
      "Name: category_bin, dtype: int64\n",
      "presence de doublons ?\n",
      "False\n",
      "False\n"
     ]
    },
    {
     "data": {
      "text/html": [
       "<div>\n",
       "<style scoped>\n",
       "    .dataframe tbody tr th:only-of-type {\n",
       "        vertical-align: middle;\n",
       "    }\n",
       "\n",
       "    .dataframe tbody tr th {\n",
       "        vertical-align: top;\n",
       "    }\n",
       "\n",
       "    .dataframe thead th {\n",
       "        text-align: right;\n",
       "    }\n",
       "</style>\n",
       "<table border=\"1\" class=\"dataframe\">\n",
       "  <thead>\n",
       "    <tr style=\"text-align: right;\">\n",
       "      <th></th>\n",
       "      <th>id</th>\n",
       "      <th>message</th>\n",
       "      <th>message_preprocessed</th>\n",
       "      <th>category</th>\n",
       "      <th>length</th>\n",
       "      <th>category_bin</th>\n",
       "    </tr>\n",
       "  </thead>\n",
       "  <tbody>\n",
       "    <tr>\n",
       "      <th>0</th>\n",
       "      <td>0</td>\n",
       "      <td>[1] Chaque théologien devrait être à l’aise avec les notions suivantes :</td>\n",
       "      <td>chaque théologien devrait être aise notion suivant</td>\n",
       "      <td>philosophy</td>\n",
       "      <td>72</td>\n",
       "      <td>1</td>\n",
       "    </tr>\n",
       "    <tr>\n",
       "      <th>1</th>\n",
       "      <td>1</td>\n",
       "      <td>Article intéressant, mais je ne vois pas à quel moment intervient le libre arbitre s’il y a prédestination. Qu’elle soit première ou seconde. De toute manière, la science d’aujourd’hui t’émet sérieusement en cause le libre arbitre, mais c’est un autre sujet.</td>\n",
       "      <td>article intéressant vois quel moment intervient libre arbitre a prédestination première seconde toute manière science aujourdhui émet sérieusement cause libre arbitre autre sujet</td>\n",
       "      <td>philosophy</td>\n",
       "      <td>258</td>\n",
       "      <td>1</td>\n",
       "    </tr>\n",
       "    <tr>\n",
       "      <th>...</th>\n",
       "      <td>...</td>\n",
       "      <td>...</td>\n",
       "      <td>...</td>\n",
       "      <td>...</td>\n",
       "      <td>...</td>\n",
       "      <td>...</td>\n",
       "    </tr>\n",
       "    <tr>\n",
       "      <th>3664</th>\n",
       "      <td>3664</td>\n",
       "      <td>L’erreur de cette objection est de se concentrer sur un mal particulier en oubliant qu’ils sont tous connectés à un plan général (le plan de Dieu, ou la Providence), et que Dieu travaille chacun de ces détails non en eux-même, mais par rapport au plan plus global. Ainsi, Thomas d’Aquin dit :</td>\n",
       "      <td>lerreur cette objection concentrer mal particulier oubliant tous connectés plan général plan dieu providence dieu travaille chacun détail non eux-même rapport plan plus global ainsi thomas aquin dit</td>\n",
       "      <td>philosophy</td>\n",
       "      <td>292</td>\n",
       "      <td>1</td>\n",
       "    </tr>\n",
       "    <tr>\n",
       "      <th>3665</th>\n",
       "      <td>3665</td>\n",
       "      <td>A ceci près que nos traductions et la critique textuelle ont évolué depuis la vulgate. En réalité il est écrit: « Toutes choses ont été faites par elle, et **rien de ce qui a été fait n’a été fait sans elle.** **En elle était la vie** , et la vie était la lumière des hommes. » 1 Jean 1.3-4. Cette différence de traduction ne remet pas en cause l’enseignement de Thomas. Voici le raisonnement, très court, très digeste:</td>\n",
       "      <td>a ceci près traduction critique textuelle évolué depuis vulgate réalité écrit « toutes chose faites rien a fait a fait sans vie vie lumière homme » jean - cette différence traduction remet cause enseignement thomas voici raisonnement très court très digeste</td>\n",
       "      <td>philosophy</td>\n",
       "      <td>419</td>\n",
       "      <td>1</td>\n",
       "    </tr>\n",
       "  </tbody>\n",
       "</table>\n",
       "<p>3666 rows × 6 columns</p>\n",
       "</div>"
      ],
      "text/plain": [
       "        id  \\\n",
       "0        0   \n",
       "1        1   \n",
       "...    ...   \n",
       "3664  3664   \n",
       "3665  3665   \n",
       "\n",
       "                                                                                                                                                                                                                                                                                                                                                                                                                                  message  \\\n",
       "0                                                                                                                                                                                                                                                                                                                                                                [1] Chaque théologien devrait être à l’aise avec les notions suivantes :   \n",
       "1                                                                                                                                                                      Article intéressant, mais je ne vois pas à quel moment intervient le libre arbitre s’il y a prédestination. Qu’elle soit première ou seconde. De toute manière, la science d’aujourd’hui t’émet sérieusement en cause le libre arbitre, mais c’est un autre sujet.   \n",
       "...                                                                                                                                                                                                                                                                                                                                                                                                                                   ...   \n",
       "3664                                                                                                                                 L’erreur de cette objection est de se concentrer sur un mal particulier en oubliant qu’ils sont tous connectés à un plan général (le plan de Dieu, ou la Providence), et que Dieu travaille chacun de ces détails non en eux-même, mais par rapport au plan plus global. Ainsi, Thomas d’Aquin dit :   \n",
       "3665  A ceci près que nos traductions et la critique textuelle ont évolué depuis la vulgate. En réalité il est écrit: « Toutes choses ont été faites par elle, et **rien de ce qui a été fait n’a été fait sans elle.** **En elle était la vie** , et la vie était la lumière des hommes. » 1 Jean 1.3-4. Cette différence de traduction ne remet pas en cause l’enseignement de Thomas. Voici le raisonnement, très court, très digeste:   \n",
       "\n",
       "                                                                                                                                                                                                                                                   message_preprocessed  \\\n",
       "0                                                                                                                                                                                                                    chaque théologien devrait être aise notion suivant   \n",
       "1                                                                                    article intéressant vois quel moment intervient libre arbitre a prédestination première seconde toute manière science aujourdhui émet sérieusement cause libre arbitre autre sujet   \n",
       "...                                                                                                                                                                                                                                                                 ...   \n",
       "3664                                                             lerreur cette objection concentrer mal particulier oubliant tous connectés plan général plan dieu providence dieu travaille chacun détail non eux-même rapport plan plus global ainsi thomas aquin dit   \n",
       "3665  a ceci près traduction critique textuelle évolué depuis vulgate réalité écrit « toutes chose faites rien a fait a fait sans vie vie lumière homme » jean - cette différence traduction remet cause enseignement thomas voici raisonnement très court très digeste   \n",
       "\n",
       "        category  length  category_bin  \n",
       "0     philosophy      72             1  \n",
       "1     philosophy     258             1  \n",
       "...          ...     ...           ...  \n",
       "3664  philosophy     292             1  \n",
       "3665  philosophy     419             1  \n",
       "\n",
       "[3666 rows x 6 columns]"
      ]
     },
     "execution_count": 9,
     "metadata": {},
     "output_type": "execute_result"
    }
   ],
   "source": [
    "path = PureWindowsPath(os.getcwd() + \"/data/input/data_philosophy_baptism.parquet\")\n",
    "path = path.as_posix() #convertir en path linux (convertir les \\\\ en /)\n",
    "corpus = pd.read_parquet(path) #engine=\"fastparquet\"\n",
    "corpus = get_balanced_binary_dataset(corpus, class_col_name=\"category\")\n",
    "\n",
    "print(corpus[\"category_bin\"].value_counts())\n",
    "print(\"presence de doublons ?\")\n",
    "print(corpus.id.duplicated().any())\n",
    "print(corpus.index.duplicated().any())\n",
    "corpus"
   ]
  },
  {
   "cell_type": "code",
   "execution_count": 10,
   "metadata": {},
   "outputs": [],
   "source": [
    "X = corpus[\"message_preprocessed\"]\n",
    "y = corpus[\"category\"]\n",
    "# y = corpus[\"category_bin\"]\n",
    "indices = corpus[\"id\"]\n",
    "X_train, X_test, y_train, y_test, indices_train, indices_test = train_test_split(X, y, indices, test_size=0.33, random_state=42)"
   ]
  },
  {
   "cell_type": "code",
   "execution_count": 11,
   "metadata": {},
   "outputs": [],
   "source": [
    "from gensim.models import Word2Vec\n",
    "from nltk.tokenize import word_tokenize"
   ]
  },
  {
   "cell_type": "code",
   "execution_count": 23,
   "metadata": {},
   "outputs": [],
   "source": [
    "tokens = corpus[\"message_preprocessed\"].apply(word_tokenize)\n",
    "model_skip_gram = Word2Vec(sentences=tokens, vector_size=200,workers=-1, sg=1) #modele skip-gram\n",
    "model_cbow = Word2Vec(sentences=tokens, vector_size=200,workers=-1, sg=0) #modele CBOW"
   ]
  },
  {
   "cell_type": "code",
   "execution_count": 13,
   "metadata": {},
   "outputs": [
    {
     "data": {
      "text/plain": [
       "0                                                                                                                                                                                                                                                        [chaque, théologien, devrait, être, aise, notion, suivant]\n",
       "1                                                                                                        [article, intéressant, vois, quel, moment, intervient, libre, arbitre, a, prédestination, première, seconde, toute, manière, science, aujourdhui, émet, sérieusement, cause, libre, arbitre, autre, sujet]\n",
       "                                                                                                                                                           ...                                                                                                                                                     \n",
       "3664                                                                            [lerreur, cette, objection, concentrer, mal, particulier, oubliant, tous, connectés, plan, général, plan, dieu, providence, dieu, travaille, chacun, détail, non, eux-même, rapport, plan, plus, global, ainsi, thomas, aquin, dit]\n",
       "3665    [a, ceci, près, traduction, critique, textuelle, évolué, depuis, vulgate, réalité, écrit, «, toutes, chose, faites, rien, a, fait, a, fait, sans, vie, vie, lumière, homme, », jean, -, cette, différence, traduction, remet, cause, enseignement, thomas, voici, raisonnement, très, court, très, digeste]\n",
       "Name: message_preprocessed, Length: 3666, dtype: object"
      ]
     },
     "execution_count": 13,
     "metadata": {},
     "output_type": "execute_result"
    }
   ],
   "source": [
    "tokens"
   ]
  },
  {
   "cell_type": "code",
   "execution_count": 24,
   "metadata": {},
   "outputs": [],
   "source": [
    "words_vectors_skip_gram = model_skip_gram.wv"
   ]
  },
  {
   "cell_type": "code",
   "execution_count": 13,
   "metadata": {},
   "outputs": [
    {
     "data": {
      "text/plain": [
       "[('mémoire', 0.26893195509910583),\n",
       " ('perspective', 0.2568460702896118),\n",
       " ('comment', 0.2226698398590088),\n",
       " ('hypostatique', 0.21855299174785614),\n",
       " ('accomplissement', 0.21523335576057434),\n",
       " ('accessible', 0.2086881846189499),\n",
       " ('compréhension', 0.2060597687959671),\n",
       " ('relire', 0.20239178836345673),\n",
       " ('elles', 0.19563530385494232),\n",
       " ('départ', 0.18949609994888306)]"
      ]
     },
     "execution_count": 13,
     "metadata": {},
     "output_type": "execute_result"
    }
   ],
   "source": [
    "model.wv.most_similar(\"maxime\", topn=10)"
   ]
  },
  {
   "cell_type": "code",
   "execution_count": 8,
   "metadata": {},
   "outputs": [
    {
     "name": "stdout",
     "output_type": "stream",
     "text": [
      "2924\n"
     ]
    }
   ],
   "source": [
    "vocab=list(model.wv.key_to_index.keys())\n",
    "print(len(vocab))"
   ]
  },
  {
   "cell_type": "code",
   "execution_count": 81,
   "metadata": {},
   "outputs": [
    {
     "data": {
      "text/plain": [
       "(200,)"
      ]
     },
     "execution_count": 81,
     "metadata": {},
     "output_type": "execute_result"
    }
   ],
   "source": [
    "type(model.wv)\n",
    "model.wv[0]\n",
    "model.wv[0].shape"
   ]
  },
  {
   "cell_type": "code",
   "execution_count": 11,
   "metadata": {},
   "outputs": [
    {
     "data": {
      "text/plain": [
       "list"
      ]
     },
     "execution_count": 11,
     "metadata": {},
     "output_type": "execute_result"
    }
   ],
   "source": [
    "model.wv.key_to_index\n",
    "model.wv.index_to_key[100]\n",
    "type(model.wv.index_to_key)"
   ]
  },
  {
   "cell_type": "code",
   "execution_count": 123,
   "metadata": {},
   "outputs": [
    {
     "data": {
      "text/plain": [
       "2924"
      ]
     },
     "execution_count": 123,
     "metadata": {},
     "output_type": "execute_result"
    }
   ],
   "source": [
    "len(model.wv.index_to_key)"
   ]
  },
  {
   "cell_type": "code",
   "execution_count": 124,
   "metadata": {},
   "outputs": [
    {
     "data": {
      "text/plain": [
       "gensim.models.keyedvectors.KeyedVectors"
      ]
     },
     "execution_count": 124,
     "metadata": {},
     "output_type": "execute_result"
    }
   ],
   "source": [
    "type(model.wv)"
   ]
  },
  {
   "cell_type": "code",
   "execution_count": 12,
   "metadata": {},
   "outputs": [
    {
     "data": {
      "text/plain": [
       "(2924, 200)"
      ]
     },
     "execution_count": 12,
     "metadata": {},
     "output_type": "execute_result"
    }
   ],
   "source": [
    "len(words_vectors)\n",
    "len(words_vectors.index_to_key[:len(words_vectors)])\n",
    "type(words_vectors[words_vectors.index_to_key[:len(words_vectors)]])\n",
    "words_vectors[words_vectors.index_to_key[:len(words_vectors)]].shape"
   ]
  },
  {
   "cell_type": "code",
   "execution_count": 8,
   "metadata": {},
   "outputs": [
    {
     "data": {
      "text/plain": [
       "array([[-2.68113625e-04,  1.18215081e-04,  2.55167484e-03, ...,\n",
       "        -1.19575742e-03, -4.75504762e-03,  2.25293869e-03],\n",
       "       [ 4.72819811e-05,  1.53865933e-03, -3.40632326e-03, ...,\n",
       "        -3.72379413e-03, -1.25303748e-03, -2.77493242e-03],\n",
       "       [-3.56950751e-03,  6.20515319e-04, -3.58835817e-03, ...,\n",
       "        -4.34601074e-03,  1.48075819e-03, -3.33794951e-03],\n",
       "       ...,\n",
       "       [ 1.63632515e-03, -1.87310809e-03,  4.53326706e-04, ...,\n",
       "         5.80255990e-04, -2.01740023e-03,  1.26625178e-03],\n",
       "       [-4.64244140e-03, -1.38949152e-04, -2.22848775e-03, ...,\n",
       "         4.29207692e-03, -4.04914375e-03, -1.21603014e-04],\n",
       "       [-7.28440282e-05, -3.72289657e-03,  2.80575739e-04, ...,\n",
       "        -7.81719689e-04,  1.53545977e-03,  4.93388064e-03]], dtype=float32)"
      ]
     },
     "execution_count": 8,
     "metadata": {},
     "output_type": "execute_result"
    }
   ],
   "source": [
    "words_vectors[words_vectors.index_to_key[:len(words_vectors)]]"
   ]
  },
  {
   "cell_type": "code",
   "execution_count": 18,
   "metadata": {},
   "outputs": [
    {
     "name": "stdout",
     "output_type": "stream",
     "text": [
      "[t-SNE] Computing 91 nearest neighbors...\n",
      "[t-SNE] Indexed 2924 samples in 0.002s...\n",
      "[t-SNE] Computed neighbors for 2924 samples in 0.267s...\n",
      "[t-SNE] Computed conditional probabilities for sample 1000 / 2924\n",
      "[t-SNE] Computed conditional probabilities for sample 2000 / 2924\n",
      "[t-SNE] Computed conditional probabilities for sample 2924 / 2924\n",
      "[t-SNE] Mean sigma: 0.008756\n",
      "[t-SNE] KL divergence after 250 iterations with early exaggeration: 81.476357\n",
      "[t-SNE] KL divergence after 900 iterations: 3.738301\n"
     ]
    },
    {
     "data": {
      "text/plain": [
       "array([[  7.9785223 , -13.49791   ,   1.2470512 ],\n",
       "       [-39.20902   ,  17.576405  ,  -7.868293  ],\n",
       "       [ 38.465553  ,  14.647138  ,   7.6627    ],\n",
       "       ...,\n",
       "       [ 27.366573  ,  -0.49108687,   0.6454885 ],\n",
       "       [-38.73966   ,   9.480808  ,  12.716627  ],\n",
       "       [-42.971085  ,  13.650212  , -10.092126  ]], dtype=float32)"
      ]
     },
     "execution_count": 18,
     "metadata": {},
     "output_type": "execute_result"
    }
   ],
   "source": [
    "#TSNE en 2D apres reduction svd en 50 dimensions\n",
    "from sklearn.manifold import TSNE\n",
    "\n",
    "tsne = TSNE(n_components=3, learning_rate='auto', init='random', perplexity=30, verbose=1)\n",
    "tsne_results = tsne.fit_transform(words_vectors_skip_gram[words_vectors_skip_gram.index_to_key[:len(words_vectors_skip_gram)]])\n",
    "tsne_results"
   ]
  },
  {
   "cell_type": "code",
   "execution_count": 152,
   "metadata": {},
   "outputs": [
    {
     "data": {
      "text/plain": [
       "(2924, 2)"
      ]
     },
     "execution_count": 152,
     "metadata": {},
     "output_type": "execute_result"
    }
   ],
   "source": [
    "tsne_results.shape\n",
    "# tsne_results[:,0].shape\n",
    "# tsne_results[:,1].shape"
   ]
  },
  {
   "cell_type": "code",
   "execution_count": 26,
   "metadata": {},
   "outputs": [
    {
     "data": {
      "application/vnd.plotly.v1+json": {
       "config": {
        "plotlyServerURL": "https://plot.ly"
       },
       "data": [
        {
         "hovertemplate": "x=%{x}<br>y=%{y}<br>z=%{z}<br>text=%{text}<extra></extra>",
         "legendgroup": "",
         "marker": {
          "color": "#636efa",
          "symbol": "circle"
         },
         "mode": "markers+text",
         "name": "",
         "scene": "scene",
         "showlegend": false,
         "text": [
          "dieu",
          "»",
          "«",
          "a",
          "baptême",
          "comme",
          "être",
          "plus",
          "alliance",
          "cette",
          "fait",
          "enfant",
          "si",
          "donc",
          "dit",
          "tout",
          "christ",
          "-",
          "–",
          "foi",
          "bien",
          "chose",
          "cela",
          "peut",
          "homme",
          "non",
          "van",
          "aussi",
          "til",
          "dire",
          "article",
          "…",
          "tous",
          "ainsi",
          "entre",
          "nature",
          "raison",
          "autre",
          "question",
          "parce",
          "car",
          "père",
          "circoncision",
          "faire",
          "personne",
          "sans",
          "grâce",
          "église",
          "baptisé",
          "deux",
          "the",
          "thomas",
          "toute",
          "famille",
          "quand",
          "promesse",
          "autres",
          "alors",
          "baptiste",
          "jésus",
          "théologie",
          "chrétien",
          "sens",
          "vie",
          "selon",
          "fil",
          "réformé",
          "cause",
          "of",
          "encore",
          "effet",
          "nouvelle",
          "acte",
          "testament",
          "ceux",
          "point",
          "où",
          "toutes",
          "ici",
          "avoir",
          "péché",
          "faut",
          "exemple",
          "signe",
          "façon",
          "lui-même",
          "ancien",
          "humaine",
          "après",
          "esprit",
          "volonté",
          "jean",
          "or",
          "doctrine",
          "celui",
          "nouveau",
          "voir",
          "p",
          "grand",
          "monde",
          "paul",
          "cas",
          "cet",
          "connaissance",
          "parole",
          "sujet",
          "seigneur",
          "bonne",
          "oui",
          "maison",
          "très",
          "corps",
          "avant",
          "certain",
          "divine",
          "pourquoi",
          "eau",
          "peuple",
          "régénération",
          "veut",
          "réponse",
          "argument",
          "déjà",
          "“",
          "écrit",
          "bible",
          "dont",
          "savoir",
          "ni",
          "”",
          "puisque",
          "rien",
          "comment",
          "seulement",
          "béatitude",
          "abraham",
          "quelque",
          "premier",
          "bon",
          "manière",
          "réformée",
          "partie",
          "leurs",
          "doit",
          "saint",
          "texte",
          "aquin",
          "temps",
          "croyant",
          "and"
         ],
         "type": "scatter3d",
         "x": [
          7.978522300720215,
          -39.20901870727539,
          38.465553283691406,
          -15.327183723449707,
          -29.269500732421875,
          32.25522232055664,
          39.17351531982422,
          -38.228729248046875,
          40.89070129394531,
          -32.52667999267578,
          -1.4385156631469727,
          -1.906917691230774,
          -10.251873970031738,
          18.360836029052734,
          -7.981463432312012,
          0.6733720898628235,
          -20.919397354125977,
          -40.29990768432617,
          0.03670349344611168,
          19.734210968017578,
          36.107139587402344,
          -46.64248275756836,
          32.700660705566406,
          -10.269644737243652,
          -19.725906372070312,
          14.667633056640625,
          -27.64412498474121,
          -23.1409969329834,
          -5.175853729248047,
          -17.30244255065918,
          37.49010467529297,
          8.137033462524414,
          -23.056541442871094,
          43.282466888427734,
          -39.713951110839844,
          -4.292976379394531,
          32.87449645996094,
          -24.48076820373535,
          -15.614166259765625,
          18.21152114868164,
          21.218425750732422,
          17.756019592285156,
          -36.206085205078125,
          -1.7534384727478027,
          28.109397888183594,
          -16.727012634277344,
          17.298782348632812,
          -1.993162751197815,
          -24.239038467407227,
          -3.1768040657043457,
          2.985046148300171,
          -20.38729476928711,
          29.00338363647461,
          9.73891544342041,
          -11.233120918273926,
          45.06377410888672,
          2.0996241569519043,
          5.285945892333984,
          -10.202128410339355,
          10.584752082824707,
          18.303693771362305,
          -31.946422576904297,
          10.378754615783691,
          14.718222618103027,
          16.010713577270508,
          6.7986226081848145,
          37.62190246582031,
          34.05196762084961,
          27.457040786743164,
          -11.859892845153809,
          30.13903045654297,
          14.312641143798828,
          1.2658966779708862,
          -3.4267776012420654,
          7.775981903076172,
          -38.71623611450195,
          0.9552257657051086,
          12.605131149291992,
          26.176025390625,
          6.401055335998535,
          0.30466073751449585,
          -23.649608612060547,
          -4.419864177703857,
          21.777910232543945,
          -2.8351552486419678,
          -31.369184494018555,
          -13.956744194030762,
          -34.73094177246094,
          -7.10091495513916,
          16.593942642211914,
          -20.375228881835938,
          -9.760129928588867,
          27.253631591796875,
          -8.293294906616211,
          14.477947235107422,
          -5.0477118492126465,
          13.937509536743164,
          -12.733750343322754,
          -34.50038528442383,
          35.974639892578125,
          20.954914093017578,
          -14.136296272277832,
          1.7554025650024414,
          -15.274762153625488,
          -22.903093338012695,
          -4.791770935058594,
          -6.768875598907471,
          -17.4257869720459,
          -30.594255447387695,
          -16.575637817382812,
          6.414228916168213,
          6.415223121643066,
          -12.153389930725098,
          11.3814697265625,
          9.885771751403809,
          33.19388961791992,
          -13.27492904663086,
          -11.255109786987305,
          -15.800877571105957,
          -2.0661709308624268,
          -12.784234046936035,
          -33.407752990722656,
          14.588004112243652,
          -23.650501251220703,
          7.899008274078369,
          -18.151512145996094,
          11.542387008666992,
          -19.865304946899414,
          5.059969902038574,
          -33.88076400756836,
          -24.88209342956543,
          -9.398728370666504,
          24.712039947509766,
          6.359619140625,
          11.293293952941895,
          29.290019989013672,
          22.02440643310547,
          22.535903930664062,
          -22.494544982910156,
          -22.75663185119629,
          -5.424701690673828,
          -17.209630966186523,
          -13.40782642364502,
          1.8158284425735474,
          1.321897029876709,
          -4.950276851654053,
          -30.188343048095703,
          -35.92557144165039,
          -16.738534927368164,
          24.317167282104492
         ],
         "y": [
          -13.497909545898438,
          17.576404571533203,
          14.647137641906738,
          12.56192684173584,
          9.577171325683594,
          -3.101292371749878,
          10.356629371643066,
          -11.630074501037598,
          25.2249813079834,
          -8.004919052124023,
          -19.924745559692383,
          37.45478057861328,
          45.77722930908203,
          1.4919331073760986,
          24.68354034423828,
          -10.867456436157227,
          22.671302795410156,
          -3.111003875732422,
          21.120697021484375,
          9.51284122467041,
          -28.882808685302734,
          -14.41600513458252,
          -3.037846803665161,
          14.045517921447754,
          -23.049945831298828,
          34.28398513793945,
          11.028183937072754,
          36.34778594970703,
          -7.843914031982422,
          -36.80601501464844,
          22.623544692993164,
          7.092927932739258,
          20.333173751831055,
          0.17048996686935425,
          19.376996994018555,
          24.898025512695312,
          9.077791213989258,
          -3.4029481410980225,
          14.311013221740723,
          8.597846031188965,
          25.45347023010254,
          -15.164841651916504,
          13.257695198059082,
          1.393102765083313,
          21.192588806152344,
          -14.47068977355957,
          39.06733322143555,
          -3.691467523574829,
          29.010770797729492,
          16.9747257232666,
          10.966065406799316,
          3.9381349086761475,
          19.293621063232422,
          -8.636474609375,
          44.773193359375,
          15.46143627166748,
          -14.112804412841797,
          -10.315359115600586,
          18.421327590942383,
          10.728958129882812,
          -12.104278564453125,
          17.70042610168457,
          -30.27100944519043,
          -14.512950897216797,
          -30.841785430908203,
          22.89222526550293,
          -21.418750762939453,
          3.671778678894043,
          -29.918062210083008,
          -5.756637096405029,
          16.331302642822266,
          -11.903685569763184,
          11.920963287353516,
          26.643016815185547,
          5.1686110496521,
          -13.141541481018066,
          27.599822998046875,
          -14.828323364257812,
          9.58658218383789,
          -32.50132369995117,
          -14.642943382263184,
          6.749239921569824,
          -34.34535598754883,
          -10.760947227478027,
          35.0372314453125,
          -13.334686279296875,
          -0.6257355809211731,
          22.587499618530273,
          16.96875762939453,
          27.120498657226562,
          -40.418556213378906,
          13.60703182220459,
          2.439649820327759,
          -42.40117263793945,
          -2.7346298694610596,
          -3.063263177871704,
          -28.776561737060547,
          -4.776031970977783,
          11.628829956054688,
          -29.640789031982422,
          -39.35891342163086,
          -7.158670902252197,
          -2.7586874961853027,
          11.783590316772461,
          -4.253843307495117,
          -0.5624184608459473,
          39.24503707885742,
          1.0475434064865112,
          -10.134588241577148,
          -5.257988452911377,
          5.287095546722412,
          9.357375144958496,
          -6.519868850708008,
          -44.23746109008789,
          -5.606597900390625,
          1.1263569593429565,
          -10.87012004852295,
          23.57111358642578,
          3.6949069499969482,
          -12.57334041595459,
          -36.09288787841797,
          13.804154396057129,
          6.1804070472717285,
          12.678824424743652,
          -40.2618522644043,
          17.288911819458008,
          -12.038601875305176,
          -8.260571479797363,
          -24.104780197143555,
          2.29233455657959,
          0.24579228460788727,
          8.912379264831543,
          -16.14080047607422,
          -21.22627067565918,
          28.308349609375,
          -12.440742492675781,
          -8.591253280639648,
          34.38908386230469,
          22.493141174316406,
          29.705106735229492,
          -21.86740493774414,
          20.178800582885742,
          -14.577991485595703,
          22.385028839111328,
          -4.341731071472168,
          16.850372314453125,
          -28.586776733398438,
          11.54814624786377,
          6.079189777374268,
          -13.84679889678955
         ],
         "z": [
          1.2470512390136719,
          -7.868292808532715,
          7.662700176239014,
          -18.595869064331055,
          32.46641159057617,
          2.2753608226776123,
          24.153827667236328,
          9.511052131652832,
          1.2972606420516968,
          -1.248979091644287,
          -10.524214744567871,
          -28.918407440185547,
          -11.091235160827637,
          27.60411262512207,
          39.73268508911133,
          -11.242058753967285,
          -22.753402709960938,
          -9.84843921661377,
          23.80791473388672,
          10.864837646484375,
          -2.995018720626831,
          -5.277129650115967,
          21.644418716430664,
          -13.794307708740234,
          16.640640258789062,
          3.3159847259521484,
          35.56034851074219,
          -17.703523635864258,
          -25.270774841308594,
          -2.254765748977661,
          20.333234786987305,
          10.315862655639648,
          3.382939338684082,
          23.965923309326172,
          -12.926197052001953,
          -17.99846076965332,
          -4.651739597320557,
          -6.068220138549805,
          8.850349426269531,
          29.10175132751465,
          20.684690475463867,
          -37.12991714477539,
          -2.721970319747925,
          -10.191751480102539,
          9.310248374938965,
          4.15969181060791,
          -19.642526626586914,
          -7.80769157409668,
          28.38207244873047,
          35.691688537597656,
          9.719365119934082,
          -32.81594467163086,
          30.916820526123047,
          -2.2539122104644775,
          9.872336387634277,
          1.5098788738250732,
          22.790390014648438,
          -32.26838684082031,
          37.86441421508789,
          -0.4820811450481415,
          34.304542541503906,
          -14.112082481384277,
          30.464208602905273,
          22.32364845275879,
          -12.320652961730957,
          7.225124835968018,
          -8.348477363586426,
          4.005123138427734,
          19.56649398803711,
          12.25786304473877,
          17.267864227294922,
          12.803165435791016,
          -9.496143341064453,
          25.342876434326172,
          -24.759387969970703,
          17.240201950073242,
          26.75556182861328,
          30.12528419494629,
          25.417566299438477,
          -20.740631103515625,
          -7.783267021179199,
          19.260141372680664,
          -21.719722747802734,
          -16.42141342163086,
          -25.7016544342041,
          -8.83809757232666,
          -38.11685562133789,
          10.41652774810791,
          -0.05424462631344795,
          31.069805145263672,
          -2.8922364711761475,
          -25.08634376525879,
          -33.32271957397461,
          20.061647415161133,
          9.974023818969727,
          -26.860393524169922,
          -7.8111701011657715,
          -13.7442626953125,
          -10.18738079071045,
          -5.416325092315674,
          -11.08454418182373,
          21.023950576782227,
          9.245417594909668,
          34.91063690185547,
          -24.76299476623535,
          30.69927406311035,
          16.503704071044922,
          -14.858078002929688,
          -17.168010711669922,
          -24.923952102661133,
          22.849777221679688,
          -17.000534057617188,
          46.34694290161133,
          -1.8145740032196045,
          -18.1477108001709,
          15.766999244689941,
          -20.325611114501953,
          -4.867179870605469,
          -0.734671950340271,
          -0.6385926008224487,
          -12.334592819213867,
          -8.170289039611816,
          6.765015602111816,
          19.9688663482666,
          -9.670058250427246,
          -0.922487199306488,
          -17.896041870117188,
          -32.778255462646484,
          24.729598999023438,
          21.57256317138672,
          -14.888019561767578,
          19.769546508789062,
          0.06841953843832016,
          -39.48275375366211,
          17.965919494628906,
          11.541703224182129,
          3.605656385421753,
          -26.336162567138672,
          17.975839614868164,
          -24.600717544555664,
          -30.824724197387695,
          -25.11415672302246,
          -44.98958206176758,
          21.921010971069336,
          -21.13021469116211,
          -32.326759338378906,
          10.153679847717285,
          3.786620855331421,
          -10.179301261901855,
          -23.01405906677246
         ]
        }
       ],
       "layout": {
        "legend": {
         "tracegroupgap": 0
        },
        "margin": {
         "t": 60
        },
        "scene": {
         "domain": {
          "x": [
           0,
           1
          ],
          "y": [
           0,
           1
          ]
         },
         "xaxis": {
          "title": {
           "text": "x"
          }
         },
         "yaxis": {
          "title": {
           "text": "y"
          }
         },
         "zaxis": {
          "title": {
           "text": "z"
          }
         }
        },
        "template": {
         "data": {
          "bar": [
           {
            "error_x": {
             "color": "#2a3f5f"
            },
            "error_y": {
             "color": "#2a3f5f"
            },
            "marker": {
             "line": {
              "color": "#E5ECF6",
              "width": 0.5
             },
             "pattern": {
              "fillmode": "overlay",
              "size": 10,
              "solidity": 0.2
             }
            },
            "type": "bar"
           }
          ],
          "barpolar": [
           {
            "marker": {
             "line": {
              "color": "#E5ECF6",
              "width": 0.5
             },
             "pattern": {
              "fillmode": "overlay",
              "size": 10,
              "solidity": 0.2
             }
            },
            "type": "barpolar"
           }
          ],
          "carpet": [
           {
            "aaxis": {
             "endlinecolor": "#2a3f5f",
             "gridcolor": "white",
             "linecolor": "white",
             "minorgridcolor": "white",
             "startlinecolor": "#2a3f5f"
            },
            "baxis": {
             "endlinecolor": "#2a3f5f",
             "gridcolor": "white",
             "linecolor": "white",
             "minorgridcolor": "white",
             "startlinecolor": "#2a3f5f"
            },
            "type": "carpet"
           }
          ],
          "choropleth": [
           {
            "colorbar": {
             "outlinewidth": 0,
             "ticks": ""
            },
            "type": "choropleth"
           }
          ],
          "contour": [
           {
            "colorbar": {
             "outlinewidth": 0,
             "ticks": ""
            },
            "colorscale": [
             [
              0,
              "#0d0887"
             ],
             [
              0.1111111111111111,
              "#46039f"
             ],
             [
              0.2222222222222222,
              "#7201a8"
             ],
             [
              0.3333333333333333,
              "#9c179e"
             ],
             [
              0.4444444444444444,
              "#bd3786"
             ],
             [
              0.5555555555555556,
              "#d8576b"
             ],
             [
              0.6666666666666666,
              "#ed7953"
             ],
             [
              0.7777777777777778,
              "#fb9f3a"
             ],
             [
              0.8888888888888888,
              "#fdca26"
             ],
             [
              1,
              "#f0f921"
             ]
            ],
            "type": "contour"
           }
          ],
          "contourcarpet": [
           {
            "colorbar": {
             "outlinewidth": 0,
             "ticks": ""
            },
            "type": "contourcarpet"
           }
          ],
          "heatmap": [
           {
            "colorbar": {
             "outlinewidth": 0,
             "ticks": ""
            },
            "colorscale": [
             [
              0,
              "#0d0887"
             ],
             [
              0.1111111111111111,
              "#46039f"
             ],
             [
              0.2222222222222222,
              "#7201a8"
             ],
             [
              0.3333333333333333,
              "#9c179e"
             ],
             [
              0.4444444444444444,
              "#bd3786"
             ],
             [
              0.5555555555555556,
              "#d8576b"
             ],
             [
              0.6666666666666666,
              "#ed7953"
             ],
             [
              0.7777777777777778,
              "#fb9f3a"
             ],
             [
              0.8888888888888888,
              "#fdca26"
             ],
             [
              1,
              "#f0f921"
             ]
            ],
            "type": "heatmap"
           }
          ],
          "heatmapgl": [
           {
            "colorbar": {
             "outlinewidth": 0,
             "ticks": ""
            },
            "colorscale": [
             [
              0,
              "#0d0887"
             ],
             [
              0.1111111111111111,
              "#46039f"
             ],
             [
              0.2222222222222222,
              "#7201a8"
             ],
             [
              0.3333333333333333,
              "#9c179e"
             ],
             [
              0.4444444444444444,
              "#bd3786"
             ],
             [
              0.5555555555555556,
              "#d8576b"
             ],
             [
              0.6666666666666666,
              "#ed7953"
             ],
             [
              0.7777777777777778,
              "#fb9f3a"
             ],
             [
              0.8888888888888888,
              "#fdca26"
             ],
             [
              1,
              "#f0f921"
             ]
            ],
            "type": "heatmapgl"
           }
          ],
          "histogram": [
           {
            "marker": {
             "pattern": {
              "fillmode": "overlay",
              "size": 10,
              "solidity": 0.2
             }
            },
            "type": "histogram"
           }
          ],
          "histogram2d": [
           {
            "colorbar": {
             "outlinewidth": 0,
             "ticks": ""
            },
            "colorscale": [
             [
              0,
              "#0d0887"
             ],
             [
              0.1111111111111111,
              "#46039f"
             ],
             [
              0.2222222222222222,
              "#7201a8"
             ],
             [
              0.3333333333333333,
              "#9c179e"
             ],
             [
              0.4444444444444444,
              "#bd3786"
             ],
             [
              0.5555555555555556,
              "#d8576b"
             ],
             [
              0.6666666666666666,
              "#ed7953"
             ],
             [
              0.7777777777777778,
              "#fb9f3a"
             ],
             [
              0.8888888888888888,
              "#fdca26"
             ],
             [
              1,
              "#f0f921"
             ]
            ],
            "type": "histogram2d"
           }
          ],
          "histogram2dcontour": [
           {
            "colorbar": {
             "outlinewidth": 0,
             "ticks": ""
            },
            "colorscale": [
             [
              0,
              "#0d0887"
             ],
             [
              0.1111111111111111,
              "#46039f"
             ],
             [
              0.2222222222222222,
              "#7201a8"
             ],
             [
              0.3333333333333333,
              "#9c179e"
             ],
             [
              0.4444444444444444,
              "#bd3786"
             ],
             [
              0.5555555555555556,
              "#d8576b"
             ],
             [
              0.6666666666666666,
              "#ed7953"
             ],
             [
              0.7777777777777778,
              "#fb9f3a"
             ],
             [
              0.8888888888888888,
              "#fdca26"
             ],
             [
              1,
              "#f0f921"
             ]
            ],
            "type": "histogram2dcontour"
           }
          ],
          "mesh3d": [
           {
            "colorbar": {
             "outlinewidth": 0,
             "ticks": ""
            },
            "type": "mesh3d"
           }
          ],
          "parcoords": [
           {
            "line": {
             "colorbar": {
              "outlinewidth": 0,
              "ticks": ""
             }
            },
            "type": "parcoords"
           }
          ],
          "pie": [
           {
            "automargin": true,
            "type": "pie"
           }
          ],
          "scatter": [
           {
            "fillpattern": {
             "fillmode": "overlay",
             "size": 10,
             "solidity": 0.2
            },
            "type": "scatter"
           }
          ],
          "scatter3d": [
           {
            "line": {
             "colorbar": {
              "outlinewidth": 0,
              "ticks": ""
             }
            },
            "marker": {
             "colorbar": {
              "outlinewidth": 0,
              "ticks": ""
             }
            },
            "type": "scatter3d"
           }
          ],
          "scattercarpet": [
           {
            "marker": {
             "colorbar": {
              "outlinewidth": 0,
              "ticks": ""
             }
            },
            "type": "scattercarpet"
           }
          ],
          "scattergeo": [
           {
            "marker": {
             "colorbar": {
              "outlinewidth": 0,
              "ticks": ""
             }
            },
            "type": "scattergeo"
           }
          ],
          "scattergl": [
           {
            "marker": {
             "colorbar": {
              "outlinewidth": 0,
              "ticks": ""
             }
            },
            "type": "scattergl"
           }
          ],
          "scattermapbox": [
           {
            "marker": {
             "colorbar": {
              "outlinewidth": 0,
              "ticks": ""
             }
            },
            "type": "scattermapbox"
           }
          ],
          "scatterpolar": [
           {
            "marker": {
             "colorbar": {
              "outlinewidth": 0,
              "ticks": ""
             }
            },
            "type": "scatterpolar"
           }
          ],
          "scatterpolargl": [
           {
            "marker": {
             "colorbar": {
              "outlinewidth": 0,
              "ticks": ""
             }
            },
            "type": "scatterpolargl"
           }
          ],
          "scatterternary": [
           {
            "marker": {
             "colorbar": {
              "outlinewidth": 0,
              "ticks": ""
             }
            },
            "type": "scatterternary"
           }
          ],
          "surface": [
           {
            "colorbar": {
             "outlinewidth": 0,
             "ticks": ""
            },
            "colorscale": [
             [
              0,
              "#0d0887"
             ],
             [
              0.1111111111111111,
              "#46039f"
             ],
             [
              0.2222222222222222,
              "#7201a8"
             ],
             [
              0.3333333333333333,
              "#9c179e"
             ],
             [
              0.4444444444444444,
              "#bd3786"
             ],
             [
              0.5555555555555556,
              "#d8576b"
             ],
             [
              0.6666666666666666,
              "#ed7953"
             ],
             [
              0.7777777777777778,
              "#fb9f3a"
             ],
             [
              0.8888888888888888,
              "#fdca26"
             ],
             [
              1,
              "#f0f921"
             ]
            ],
            "type": "surface"
           }
          ],
          "table": [
           {
            "cells": {
             "fill": {
              "color": "#EBF0F8"
             },
             "line": {
              "color": "white"
             }
            },
            "header": {
             "fill": {
              "color": "#C8D4E3"
             },
             "line": {
              "color": "white"
             }
            },
            "type": "table"
           }
          ]
         },
         "layout": {
          "annotationdefaults": {
           "arrowcolor": "#2a3f5f",
           "arrowhead": 0,
           "arrowwidth": 1
          },
          "autotypenumbers": "strict",
          "coloraxis": {
           "colorbar": {
            "outlinewidth": 0,
            "ticks": ""
           }
          },
          "colorscale": {
           "diverging": [
            [
             0,
             "#8e0152"
            ],
            [
             0.1,
             "#c51b7d"
            ],
            [
             0.2,
             "#de77ae"
            ],
            [
             0.3,
             "#f1b6da"
            ],
            [
             0.4,
             "#fde0ef"
            ],
            [
             0.5,
             "#f7f7f7"
            ],
            [
             0.6,
             "#e6f5d0"
            ],
            [
             0.7,
             "#b8e186"
            ],
            [
             0.8,
             "#7fbc41"
            ],
            [
             0.9,
             "#4d9221"
            ],
            [
             1,
             "#276419"
            ]
           ],
           "sequential": [
            [
             0,
             "#0d0887"
            ],
            [
             0.1111111111111111,
             "#46039f"
            ],
            [
             0.2222222222222222,
             "#7201a8"
            ],
            [
             0.3333333333333333,
             "#9c179e"
            ],
            [
             0.4444444444444444,
             "#bd3786"
            ],
            [
             0.5555555555555556,
             "#d8576b"
            ],
            [
             0.6666666666666666,
             "#ed7953"
            ],
            [
             0.7777777777777778,
             "#fb9f3a"
            ],
            [
             0.8888888888888888,
             "#fdca26"
            ],
            [
             1,
             "#f0f921"
            ]
           ],
           "sequentialminus": [
            [
             0,
             "#0d0887"
            ],
            [
             0.1111111111111111,
             "#46039f"
            ],
            [
             0.2222222222222222,
             "#7201a8"
            ],
            [
             0.3333333333333333,
             "#9c179e"
            ],
            [
             0.4444444444444444,
             "#bd3786"
            ],
            [
             0.5555555555555556,
             "#d8576b"
            ],
            [
             0.6666666666666666,
             "#ed7953"
            ],
            [
             0.7777777777777778,
             "#fb9f3a"
            ],
            [
             0.8888888888888888,
             "#fdca26"
            ],
            [
             1,
             "#f0f921"
            ]
           ]
          },
          "colorway": [
           "#636efa",
           "#EF553B",
           "#00cc96",
           "#ab63fa",
           "#FFA15A",
           "#19d3f3",
           "#FF6692",
           "#B6E880",
           "#FF97FF",
           "#FECB52"
          ],
          "font": {
           "color": "#2a3f5f"
          },
          "geo": {
           "bgcolor": "white",
           "lakecolor": "white",
           "landcolor": "#E5ECF6",
           "showlakes": true,
           "showland": true,
           "subunitcolor": "white"
          },
          "hoverlabel": {
           "align": "left"
          },
          "hovermode": "closest",
          "mapbox": {
           "style": "light"
          },
          "paper_bgcolor": "white",
          "plot_bgcolor": "#E5ECF6",
          "polar": {
           "angularaxis": {
            "gridcolor": "white",
            "linecolor": "white",
            "ticks": ""
           },
           "bgcolor": "#E5ECF6",
           "radialaxis": {
            "gridcolor": "white",
            "linecolor": "white",
            "ticks": ""
           }
          },
          "scene": {
           "xaxis": {
            "backgroundcolor": "#E5ECF6",
            "gridcolor": "white",
            "gridwidth": 2,
            "linecolor": "white",
            "showbackground": true,
            "ticks": "",
            "zerolinecolor": "white"
           },
           "yaxis": {
            "backgroundcolor": "#E5ECF6",
            "gridcolor": "white",
            "gridwidth": 2,
            "linecolor": "white",
            "showbackground": true,
            "ticks": "",
            "zerolinecolor": "white"
           },
           "zaxis": {
            "backgroundcolor": "#E5ECF6",
            "gridcolor": "white",
            "gridwidth": 2,
            "linecolor": "white",
            "showbackground": true,
            "ticks": "",
            "zerolinecolor": "white"
           }
          },
          "shapedefaults": {
           "line": {
            "color": "#2a3f5f"
           }
          },
          "ternary": {
           "aaxis": {
            "gridcolor": "white",
            "linecolor": "white",
            "ticks": ""
           },
           "baxis": {
            "gridcolor": "white",
            "linecolor": "white",
            "ticks": ""
           },
           "bgcolor": "#E5ECF6",
           "caxis": {
            "gridcolor": "white",
            "linecolor": "white",
            "ticks": ""
           }
          },
          "title": {
           "x": 0.05
          },
          "xaxis": {
           "automargin": true,
           "gridcolor": "white",
           "linecolor": "white",
           "ticks": "",
           "title": {
            "standoff": 15
           },
           "zerolinecolor": "white",
           "zerolinewidth": 2
          },
          "yaxis": {
           "automargin": true,
           "gridcolor": "white",
           "linecolor": "white",
           "ticks": "",
           "title": {
            "standoff": 15
           },
           "zerolinecolor": "white",
           "zerolinewidth": 2
          }
         }
        }
       }
      }
     },
     "metadata": {},
     "output_type": "display_data"
    }
   ],
   "source": [
    "#Plot 3D de certains mots (car impossible de tous les afficher sinon illisible)\n",
    "n_kept = 150\n",
    "import plotly.express as px\n",
    "fig = px.scatter_3d(corpus, x=tsne_results[0:n_kept,0], y=tsne_results[0:n_kept,1], z=tsne_results[0:n_kept,2],\n",
    "              text=words_vectors_skip_gram.index_to_key[0:n_kept])\n",
    "fig.show()"
   ]
  },
  {
   "cell_type": "code",
   "execution_count": 27,
   "metadata": {},
   "outputs": [
    {
     "data": {
      "image/png": "[encoded data removed]",
      "text/plain": [
       "<Figure size 864x504 with 1 Axes>"
      ]
     },
     "metadata": {
      "needs_background": "light"
     },
     "output_type": "display_data"
    }
   ],
   "source": [
    "# Sans label\n",
    "plt.figure(figsize=(12, 7))\n",
    "sb.scatterplot(\n",
    "    x=tsne_results[0:n_kept,0], y=tsne_results[0:n_kept,1],\n",
    "    legend=\"auto\",\n",
    "    alpha=0.3,\n",
    "    s=10\n",
    ")\n",
    "for i in range(n_kept):\n",
    "    plt.text(x=tsne_results[i,0], y=tsne_results[i,1], s=words_vectors.index_to_key[i])\n",
    "\n",
    "plt.xlabel(\"tsne_2d_x\", size=16)\n",
    "plt.ylabel(\"tsne_2d_y\", size=16)\n",
    "plt.title(\"Reduction tsne des dimensions en 2D\", size=17)\n",
    "plt.xticks(fontsize=15)\n",
    "plt.yticks(fontsize=15)\n",
    "plt.show()"
   ]
  },
  {
   "cell_type": "code",
   "execution_count": 16,
   "metadata": {},
   "outputs": [
    {
     "name": "stdout",
     "output_type": "stream",
     "text": [
      "[ 32.97364     27.86875      2.6578183   -6.156161    26.759222\n",
      "  26.850883    16.1331     -18.113335   -18.714615    22.738516\n",
      " -17.732666    30.788158   -21.100252    21.00191     40.18455\n",
      " -25.64658     11.441761    26.25866     -8.396498    24.155148\n",
      "   2.2062364  -35.837776   -31.808994    -3.1559381  -15.883595\n",
      "  11.889427     0.16937323 -17.269344    -4.664543     2.3588793\n",
      " -15.474083    14.938675    12.966424    36.691887    32.03494\n",
      " -28.764671    14.556421    -5.2187657  -16.172247    -2.6972094\n",
      " -24.54941     39.68088     -3.7747867   27.805323    16.432642\n",
      "  -5.650859    14.336708    -2.8012807   -1.4311023  -29.907084  ]\n"
     ]
    }
   ],
   "source": [
    "print(tsne_results[0:50:,0])"
   ]
  },
  {
   "cell_type": "markdown",
   "metadata": {},
   "source": [
    "Utilisation des features word2vec pour la classification"
   ]
  },
  {
   "cell_type": "code",
   "execution_count": null,
   "metadata": {},
   "outputs": [],
   "source": []
  },
  {
   "cell_type": "markdown",
   "metadata": {},
   "source": [
    "sources :\n",
    "http://ethen8181.github.io/machine-learning/keras/text_classification/word2vec_text_classification.html"
   ]
  }
 ],
 "metadata": {
  "kernelspec": {
   "display_name": "Python 3.9.7 ('base')",
   "language": "python",
   "name": "python3"
  },
  "language_info": {
   "codemirror_mode": {
    "name": "ipython",
    "version": 3
   },
   "file_extension": ".py",
   "mimetype": "text/x-python",
   "name": "python",
   "nbconvert_exporter": "python",
   "pygments_lexer": "ipython3",
   "version": "3.9.7"
  },
  "orig_nbformat": 4,
  "vscode": {
   "interpreter": {
    "hash": "3e7035cb009caaa59ad2cfefe05d6f0df614ee59b6f1c56d32ef92625aa3dec5"
   }
  }
 },
 "nbformat": 4,
 "nbformat_minor": 2
}
