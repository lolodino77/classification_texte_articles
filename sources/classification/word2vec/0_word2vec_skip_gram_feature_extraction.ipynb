{
 "cells": [
  {
   "cell_type": "code",
   "execution_count": 1,
   "metadata": {},
   "outputs": [
    {
     "name": "stdout",
     "output_type": "stream",
     "text": [
      "c:\\Users\\eupho\\OneDrive\\Documents\\perso\\projets\\classification_texte_bapteme_philo\n"
     ]
    }
   ],
   "source": [
    "import sys\n",
    "from pathlib import Path, PureWindowsPath\n",
    "current_folder = PureWindowsPath(globals()['_dh'][0]).as_posix()\n",
    "path_root = \"/\".join(current_folder.split(\"/\")[:-3]) #remonter au dossier root du projet\n",
    "os.chdir(path_root)\n",
    "print(os.getcwd())\n",
    "sys.path.append(os.getcwd() + \"/sources/classification/\")\n",
    "sys.path.append(os.getcwd() + \"/sources/classification/word2vec\")"
   ]
  },
  {
   "cell_type": "code",
   "execution_count": 2,
   "metadata": {},
   "outputs": [],
   "source": [
    "import os\n",
    "import numpy as np\n",
    "import pandas as pd\n",
    "import seaborn as sb\n",
    "import matplotlib.pyplot as plt\n",
    "from sklearn.pipeline import Pipeline\n",
    "from sklearn.model_selection import train_test_split\n",
    "from sklearn.metrics import classification_report, confusion_matrix\n",
    "from sklearn.naive_bayes import MultinomialNB\n",
    "from sklearn.linear_model import LogisticRegression, SGDClassifier\n",
    "from sklearn.ensemble import RandomForestClassifier, AdaBoostClassifier\n",
    "from sklearn.neighbors import KNeighborsClassifier\n",
    "from sklearn.neural_network import MLPClassifier\n",
    "from sklearn.svm import SVC\n",
    "from sklearn.tree import DecisionTreeClassifier\n",
    "from sklearn.model_selection import RepeatedStratifiedKFold\n",
    "from sklearn.model_selection import KFold, StratifiedKFold, cross_validate, cross_val_score \n",
    "from gensim.utils import tokenize\n",
    "from gensim.models import Word2Vec\n",
    "from nltk.tokenize import word_tokenize\n",
    "from pathlib import Path, PureWindowsPath\n",
    "from lib_classification import *\n",
    "from lib_word2vec import *\n",
    "pd.set_option('display.max_colwidth', 30)\n",
    "pd.set_option('display.min_rows', 5)\n",
    "pd.set_option('display.max_rows', 5)\n",
    "pd.set_option('display.max_colwidth', None) #afficher texte entier dans dataframe"
   ]
  },
  {
   "cell_type": "code",
   "execution_count": 3,
   "metadata": {},
   "outputs": [
    {
     "name": "stdout",
     "output_type": "stream",
     "text": [
      "0    1833\n",
      "1    1833\n",
      "Name: category_bin, dtype: int64\n",
      "presence de doublons ?\n",
      "False\n",
      "False\n"
     ]
    },
    {
     "data": {
      "text/html": [
       "<div>\n",
       "<style scoped>\n",
       "    .dataframe tbody tr th:only-of-type {\n",
       "        vertical-align: middle;\n",
       "    }\n",
       "\n",
       "    .dataframe tbody tr th {\n",
       "        vertical-align: top;\n",
       "    }\n",
       "\n",
       "    .dataframe thead th {\n",
       "        text-align: right;\n",
       "    }\n",
       "</style>\n",
       "<table border=\"1\" class=\"dataframe\">\n",
       "  <thead>\n",
       "    <tr style=\"text-align: right;\">\n",
       "      <th></th>\n",
       "      <th>id</th>\n",
       "      <th>message</th>\n",
       "      <th>message_preprocessed</th>\n",
       "      <th>category</th>\n",
       "      <th>length</th>\n",
       "      <th>category_bin</th>\n",
       "    </tr>\n",
       "  </thead>\n",
       "  <tbody>\n",
       "    <tr>\n",
       "      <th>0</th>\n",
       "      <td>0</td>\n",
       "      <td>Je précise ici la pensée que j’avais mentionnée entre parenthèses, c’est-à- dire que « nations » ne désignent pas dans la Bible les institutions politiques telles que la France ou l’Allemagne mais des communautés comme des familles. En réalité, le monde romain de l’époque était impérial et non pas national, ce n’est qu’à la fin du Moyen-Âge en Europe que le concept politique de nations-états est né. Nous voyons en effet que la Bible utilise « nations » pour désigner « toutes les familles de la terre » (Gen. 12 :3, 28 :14, Act. 3 :25 ; cf. Ps. 22 :14). Nous voyons de plus que les termes « nations », « famille », « maison », « maisonnée » sont explicitement et organiquement reliées dans la Bible (Gen 10 :5, 10 :32). Et les passages cités plus haut montrent que l’Ancien Testament utilise de façon interchangeable « nations » et « toutes les familles des nations ». Le livre de la Genèse ne nous révèle- t-il pas que toutes les nations ne sont en fait que des familles qui se sont répandues et multipliées sur la terre (Cf. les 70 nations-familles de Genèse 10) ? Ainsi, les nations sont des lignées de sang et non pas des nations-états au sens moderne du terme. Cela ne doit pas nous étonner. Le mot patrie a suivi la même évolution, alors qu’il est utilisé (en grec, _patria_ , dérivant de père, pater) pour désigner des familles dans le Nouveau Testament (Luc 2 :4, Actes 3 :25, Eph 2 :15[1]), il désigne aujourd’hui des entités plus larges.</td>\n",
       "      <td>précise ici pensée mentionnée entre parenthèse est-à- dire « nation » désignent bible institution politique telles france allemagne communauté comme famille réalité monde romain époque impérial non national fin moyen-âge europe concept politique nations-états né voyons effet bible utilise « nation » désigner « toutes famille terre » gen act cf ps voyons plus terme « nation » « famille » « maison » « maisonnée » explicitement organiquement reliées bible gen passage cité plus haut montrent ancien testament utilise façon interchangeable « nation » « toutes famille nation » livre genèse révèle- t-il toutes nation fait famille répandues multipliées terre cf nations-familles genèse ainsi nation lignée sang non nations-états sens moderne terme cela doit étonner mot patrie a suivi évolution alors utilisé grec patria dérivant père pater désigner famille nouveau testament luc acte eph désigne hui entité plus large</td>\n",
       "      <td>baptism</td>\n",
       "      <td>1451</td>\n",
       "      <td>0</td>\n",
       "    </tr>\n",
       "    <tr>\n",
       "      <th>1</th>\n",
       "      <td>1</td>\n",
       "      <td>Alors que ma compréhension des alliances s’est affinée, j’ai repéré plusieurs confusions systématiques faites par les baptistes. J’aimerai ici les mettre en lumière mais tout d’abord je dirai quelques mots sur la place de la théologie des alliances dans ce débat.</td>\n",
       "      <td>alors compréhension alliance affinée repéré plusieurs confusion systématique faites baptiste aimerai ici mettre lumière tout abord dirai quelques mot place théologie alliance débat</td>\n",
       "      <td>baptism</td>\n",
       "      <td>263</td>\n",
       "      <td>0</td>\n",
       "    </tr>\n",
       "    <tr>\n",
       "      <th>...</th>\n",
       "      <td>...</td>\n",
       "      <td>...</td>\n",
       "      <td>...</td>\n",
       "      <td>...</td>\n",
       "      <td>...</td>\n",
       "      <td>...</td>\n",
       "    </tr>\n",
       "    <tr>\n",
       "      <th>3664</th>\n",
       "      <td>3664</td>\n",
       "      <td>Au-delà de tout le débat ci-dessus sur la doctrine patristique de la régénération et du baptême, on peut souligner des continuités indéniables de doctrine entre les pères et les réformés quant au baptême.</td>\n",
       "      <td>au-delà tout débat ci-dessus doctrine patristique régénération baptême peut souligner continuité indéniables doctrine entre père réformé quant baptême</td>\n",
       "      <td>baptism</td>\n",
       "      <td>204</td>\n",
       "      <td>0</td>\n",
       "    </tr>\n",
       "    <tr>\n",
       "      <th>3665</th>\n",
       "      <td>3665</td>\n",
       "      <td>Ligon Duncan a fait sa thèse de doctorat sur la théologie des alliances chez les pères anté-nicéens, on peut [la lire gratuitement ici](https://rscottclark.org/wp-content/uploads/2019/09/Duncan1995.pdf).</td>\n",
       "      <td>ligon duncan a fait thèse doctorat théologie alliance chez père anté-nicéens peut lire gratuitement icihttpsrscottclarkorgwp-contentuploadsduncanpdf</td>\n",
       "      <td>baptism</td>\n",
       "      <td>203</td>\n",
       "      <td>0</td>\n",
       "    </tr>\n",
       "  </tbody>\n",
       "</table>\n",
       "<p>3666 rows × 6 columns</p>\n",
       "</div>"
      ],
      "text/plain": [
       "        id  \\\n",
       "0        0   \n",
       "1        1   \n",
       "...    ...   \n",
       "3664  3664   \n",
       "3665  3665   \n",
       "\n",
       "                                                                                                                                                                                                                                                                                                                                                                                                                                                                                                                                                                                                                                                                                                                                                                                                                                                                                                                                                                                                                                                                                                                                                                                                                                                                                                                                                                                                                                                                                                          message  \\\n",
       "0     Je précise ici la pensée que j’avais mentionnée entre parenthèses, c’est-à- dire que « nations » ne désignent pas dans la Bible les institutions politiques telles que la France ou l’Allemagne mais des communautés comme des familles. En réalité, le monde romain de l’époque était impérial et non pas national, ce n’est qu’à la fin du Moyen-Âge en Europe que le concept politique de nations-états est né. Nous voyons en effet que la Bible utilise « nations » pour désigner « toutes les familles de la terre » (Gen. 12 :3, 28 :14, Act. 3 :25 ; cf. Ps. 22 :14). Nous voyons de plus que les termes « nations », « famille », « maison », « maisonnée » sont explicitement et organiquement reliées dans la Bible (Gen 10 :5, 10 :32). Et les passages cités plus haut montrent que l’Ancien Testament utilise de façon interchangeable « nations » et « toutes les familles des nations ». Le livre de la Genèse ne nous révèle- t-il pas que toutes les nations ne sont en fait que des familles qui se sont répandues et multipliées sur la terre (Cf. les 70 nations-familles de Genèse 10) ? Ainsi, les nations sont des lignées de sang et non pas des nations-états au sens moderne du terme. Cela ne doit pas nous étonner. Le mot patrie a suivi la même évolution, alors qu’il est utilisé (en grec, _patria_ , dérivant de père, pater) pour désigner des familles dans le Nouveau Testament (Luc 2 :4, Actes 3 :25, Eph 2 :15[1]), il désigne aujourd’hui des entités plus larges.   \n",
       "1                                                                                                                                                                                                                                                                                                                                                                                                                                                                                                                                                                                                                                                                                                                                                                                                                                                                                                                                                                                                                                                                                                                                                                                                                                         Alors que ma compréhension des alliances s’est affinée, j’ai repéré plusieurs confusions systématiques faites par les baptistes. J’aimerai ici les mettre en lumière mais tout d’abord je dirai quelques mots sur la place de la théologie des alliances dans ce débat.   \n",
       "...                                                                                                                                                                                                                                                                                                                                                                                                                                                                                                                                                                                                                                                                                                                                                                                                                                                                                                                                                                                                                                                                                                                                                                                                                                                                                                                                                                                                                                                                                                           ...   \n",
       "3664                                                                                                                                                                                                                                                                                                                                                                                                                                                                                                                                                                                                                                                                                                                                                                                                                                                                                                                                                                                                                                                                                                                                                                                                                                                                                                 Au-delà de tout le débat ci-dessus sur la doctrine patristique de la régénération et du baptême, on peut souligner des continuités indéniables de doctrine entre les pères et les réformés quant au baptême.   \n",
       "3665                                                                                                                                                                                                                                                                                                                                                                                                                                                                                                                                                                                                                                                                                                                                                                                                                                                                                                                                                                                                                                                                                                                                                                                                                                                                                                  Ligon Duncan a fait sa thèse de doctorat sur la théologie des alliances chez les pères anté-nicéens, on peut [la lire gratuitement ici](https://rscottclark.org/wp-content/uploads/2019/09/Duncan1995.pdf).   \n",
       "\n",
       "                                                                                                                                                                                                                                                                                                                                                                                                                                                                                                                                                                                                                                                                                                                                                                                                                                                                                                                                       message_preprocessed  \\\n",
       "0     précise ici pensée mentionnée entre parenthèse est-à- dire « nation » désignent bible institution politique telles france allemagne communauté comme famille réalité monde romain époque impérial non national fin moyen-âge europe concept politique nations-états né voyons effet bible utilise « nation » désigner « toutes famille terre » gen act cf ps voyons plus terme « nation » « famille » « maison » « maisonnée » explicitement organiquement reliées bible gen passage cité plus haut montrent ancien testament utilise façon interchangeable « nation » « toutes famille nation » livre genèse révèle- t-il toutes nation fait famille répandues multipliées terre cf nations-familles genèse ainsi nation lignée sang non nations-états sens moderne terme cela doit étonner mot patrie a suivi évolution alors utilisé grec patria dérivant père pater désigner famille nouveau testament luc acte eph désigne hui entité plus large   \n",
       "1                                                                                                                                                                                                                                                                                                                                                                                                                                                                                                                                                                                                                                                                                                                                                                      alors compréhension alliance affinée repéré plusieurs confusion systématique faites baptiste aimerai ici mettre lumière tout abord dirai quelques mot place théologie alliance débat   \n",
       "...                                                                                                                                                                                                                                                                                                                                                                                                                                                                                                                                                                                                                                                                                                                                                                                                                                                                                                                                                     ...   \n",
       "3664                                                                                                                                                                                                                                                                                                                                                                                                                                                                                                                                                                                                                                                                                                                                                                                                 au-delà tout débat ci-dessus doctrine patristique régénération baptême peut souligner continuité indéniables doctrine entre père réformé quant baptême   \n",
       "3665                                                                                                                                                                                                                                                                                                                                                                                                                                                                                                                                                                                                                                                                                                                                                                                                   ligon duncan a fait thèse doctorat théologie alliance chez père anté-nicéens peut lire gratuitement icihttpsrscottclarkorgwp-contentuploadsduncanpdf   \n",
       "\n",
       "     category  length  category_bin  \n",
       "0     baptism    1451             0  \n",
       "1     baptism     263             0  \n",
       "...       ...     ...           ...  \n",
       "3664  baptism     204             0  \n",
       "3665  baptism     203             0  \n",
       "\n",
       "[3666 rows x 6 columns]"
      ]
     },
     "execution_count": 3,
     "metadata": {},
     "output_type": "execute_result"
    }
   ],
   "source": [
    "path = PureWindowsPath(os.getcwd() + \"/data/input/data_philosophy_baptism.parquet\")\n",
    "path = path.as_posix() #convertir en path linux (convertir les \\\\ en /)\n",
    "corpus = pd.read_parquet(path) #engine=\"fastparquet\"\n",
    "corpus = get_balanced_binary_dataset(corpus, class_col_name=\"category\")\n",
    "\n",
    "print(corpus[\"category_bin\"].value_counts())\n",
    "print(\"presence de doublons ?\")\n",
    "print(corpus.id.duplicated().any())\n",
    "print(corpus.index.duplicated().any())\n",
    "corpus"
   ]
  },
  {
   "cell_type": "code",
   "execution_count": 6,
   "metadata": {},
   "outputs": [],
   "source": [
    "tokens = corpus[\"message_preprocessed\"].apply(word_tokenize)\n",
    "model_skip_gram = Word2Vec(sentences=tokens, vector_size=200,workers=-1, sg=1) #modele skip-gram\n",
    "words_vectors_skip_gram = model_skip_gram.wv"
   ]
  },
  {
   "cell_type": "code",
   "execution_count": 7,
   "metadata": {},
   "outputs": [],
   "source": [
    "model = model_skip_gram"
   ]
  },
  {
   "cell_type": "code",
   "execution_count": 8,
   "metadata": {},
   "outputs": [
    {
     "data": {
      "text/plain": [
       "[('substance', 0.24546591937541962),\n",
       " ('darby', 0.23810958862304688),\n",
       " ('symbolisait', 0.21419447660446167),\n",
       " ('signifie-t-il', 0.20841050148010254),\n",
       " ('méthode', 0.20729325711727142),\n",
       " ('obj', 0.20486445724964142),\n",
       " ('chapitre', 0.20187431573867798),\n",
       " ('privation', 0.19997760653495789),\n",
       " ('apprendre', 0.1969289481639862),\n",
       " ('baptiser', 0.19689880311489105)]"
      ]
     },
     "execution_count": 8,
     "metadata": {},
     "output_type": "execute_result"
    }
   ],
   "source": [
    "model.wv.most_similar(\"maxime\", topn=10)"
   ]
  },
  {
   "cell_type": "code",
   "execution_count": 9,
   "metadata": {},
   "outputs": [
    {
     "name": "stdout",
     "output_type": "stream",
     "text": [
      "2924\n"
     ]
    }
   ],
   "source": [
    "vocab=list(model.wv.key_to_index.keys())\n",
    "print(len(vocab))"
   ]
  },
  {
   "cell_type": "code",
   "execution_count": 10,
   "metadata": {},
   "outputs": [
    {
     "data": {
      "text/plain": [
       "(200,)"
      ]
     },
     "execution_count": 10,
     "metadata": {},
     "output_type": "execute_result"
    }
   ],
   "source": [
    "type(model.wv)\n",
    "model.wv[0]\n",
    "model.wv[0].shape"
   ]
  },
  {
   "cell_type": "code",
   "execution_count": 11,
   "metadata": {},
   "outputs": [
    {
     "data": {
      "text/plain": [
       "'paul'"
      ]
     },
     "execution_count": 11,
     "metadata": {},
     "output_type": "execute_result"
    }
   ],
   "source": [
    "model.wv.key_to_index\n",
    "model.wv.index_to_key[100] #liste de mots\n",
    "# type(model.wv.index_to_key)"
   ]
  },
  {
   "cell_type": "code",
   "execution_count": 12,
   "metadata": {},
   "outputs": [
    {
     "data": {
      "text/plain": [
       "['dieu',\n",
       " '»',\n",
       " '«',\n",
       " 'a',\n",
       " 'baptême',\n",
       " 'comme',\n",
       " 'être',\n",
       " 'plus',\n",
       " 'alliance',\n",
       " 'cette',\n",
       " 'fait',\n",
       " 'enfant',\n",
       " 'si',\n",
       " 'donc',\n",
       " 'dit',\n",
       " 'tout',\n",
       " 'christ',\n",
       " '-',\n",
       " '–',\n",
       " 'foi',\n",
       " 'bien',\n",
       " 'chose',\n",
       " 'cela',\n",
       " 'peut',\n",
       " 'homme',\n",
       " 'non',\n",
       " 'van',\n",
       " 'aussi',\n",
       " 'til',\n",
       " 'dire',\n",
       " 'article',\n",
       " '…',\n",
       " 'tous',\n",
       " 'ainsi',\n",
       " 'entre',\n",
       " 'nature',\n",
       " 'raison',\n",
       " 'autre',\n",
       " 'parce',\n",
       " 'question',\n",
       " 'car',\n",
       " 'père',\n",
       " 'circoncision',\n",
       " 'faire',\n",
       " 'personne',\n",
       " 'grâce',\n",
       " 'sans',\n",
       " 'église',\n",
       " 'baptisé',\n",
       " 'deux',\n",
       " 'the',\n",
       " 'thomas',\n",
       " 'toute',\n",
       " 'famille',\n",
       " 'quand',\n",
       " 'promesse',\n",
       " 'autres',\n",
       " 'alors',\n",
       " 'baptiste',\n",
       " 'jésus',\n",
       " 'théologie',\n",
       " 'chrétien',\n",
       " 'sens',\n",
       " 'vie',\n",
       " 'selon',\n",
       " 'réformé',\n",
       " 'fil',\n",
       " 'cause',\n",
       " 'of',\n",
       " 'encore',\n",
       " 'effet',\n",
       " 'nouvelle',\n",
       " 'acte',\n",
       " 'testament',\n",
       " 'ceux',\n",
       " 'où',\n",
       " 'point',\n",
       " 'toutes',\n",
       " 'ici',\n",
       " 'avoir',\n",
       " 'péché',\n",
       " 'faut',\n",
       " 'exemple',\n",
       " 'façon',\n",
       " 'signe',\n",
       " 'lui-même',\n",
       " 'ancien',\n",
       " 'jean',\n",
       " 'esprit',\n",
       " 'volonté',\n",
       " 'après',\n",
       " 'humaine',\n",
       " 'or',\n",
       " 'doctrine',\n",
       " 'celui',\n",
       " 'nouveau',\n",
       " 'voir',\n",
       " 'p',\n",
       " 'grand',\n",
       " 'monde',\n",
       " 'paul',\n",
       " 'cas',\n",
       " 'cet',\n",
       " 'connaissance',\n",
       " 'parole',\n",
       " 'sujet',\n",
       " 'seigneur',\n",
       " 'bonne',\n",
       " 'oui',\n",
       " 'très',\n",
       " 'maison',\n",
       " 'avant',\n",
       " 'corps',\n",
       " 'certain',\n",
       " 'divine',\n",
       " 'eau',\n",
       " 'pourquoi',\n",
       " 'peuple',\n",
       " 'régénération',\n",
       " 'réponse',\n",
       " 'veut',\n",
       " 'argument',\n",
       " '“',\n",
       " 'déjà',\n",
       " 'bible',\n",
       " 'écrit',\n",
       " 'savoir',\n",
       " 'dont',\n",
       " 'ni',\n",
       " '”',\n",
       " 'rien',\n",
       " 'puisque',\n",
       " 'seulement',\n",
       " 'comment',\n",
       " 'béatitude',\n",
       " 'abraham',\n",
       " 'quelque',\n",
       " 'premier',\n",
       " 'manière',\n",
       " 'bon',\n",
       " 'partie',\n",
       " 'leurs',\n",
       " 'réformée',\n",
       " 'doit',\n",
       " 'texte',\n",
       " 'saint',\n",
       " 'aquin',\n",
       " 'temps',\n",
       " 'croyant',\n",
       " 'and',\n",
       " 'baptiser',\n",
       " 'sou',\n",
       " 'calvin',\n",
       " 'celle',\n",
       " 'chez',\n",
       " 'naturel',\n",
       " 'tant',\n",
       " 'nom',\n",
       " 'q',\n",
       " 'pratique',\n",
       " 'pédobaptême',\n",
       " 'mot',\n",
       " 'réalité',\n",
       " 'terme',\n",
       " 'mal',\n",
       " 'sacrement',\n",
       " 'existe',\n",
       " 'visible',\n",
       " 'livre',\n",
       " 'contre',\n",
       " 'agit',\n",
       " 'justice',\n",
       " 'propre',\n",
       " 'vrai',\n",
       " 'comprendre',\n",
       " 'seul',\n",
       " 'aucun',\n",
       " 'langage',\n",
       " 'part',\n",
       " 'augustin',\n",
       " 'débat',\n",
       " 'là',\n",
       " 'principe',\n",
       " 'âme',\n",
       " 'salut',\n",
       " 'forme',\n",
       " 'pensée',\n",
       " 'apôtre',\n",
       " 'vue',\n",
       " 'laquelle',\n",
       " 'pédobaptiste',\n",
       " 'ver',\n",
       " 'idée',\n",
       " 'siècle',\n",
       " 'pierre',\n",
       " 'nécessaire',\n",
       " 'créature',\n",
       " 'juif',\n",
       " 'reçu',\n",
       " 'jour',\n",
       " 'tête',\n",
       " 'jugement',\n",
       " 'seule',\n",
       " 'administration',\n",
       " 'ailleurs',\n",
       " 'toujours',\n",
       " 'souvent',\n",
       " 'semble',\n",
       " 'mort',\n",
       " 'première',\n",
       " 'position',\n",
       " 'rite',\n",
       " 'elles',\n",
       " 'immersion',\n",
       " 'beaucoup',\n",
       " 'définition',\n",
       " 'ia',\n",
       " 'plutôt',\n",
       " 'cène',\n",
       " 'femme',\n",
       " '↩',\n",
       " 'objet',\n",
       " 'distinction',\n",
       " 'puissance',\n",
       " 'eglise',\n",
       " 'donne',\n",
       " 'peuvent',\n",
       " 'traité',\n",
       " 'existence',\n",
       " 'moins',\n",
       " 'aucune',\n",
       " 'histoire',\n",
       " 'jamais',\n",
       " 'loi',\n",
       " 'vérité',\n",
       " 'maintenant',\n",
       " 'relation',\n",
       " 'pense',\n",
       " 'simplement',\n",
       " 'romain',\n",
       " 'membre',\n",
       " 'moyen',\n",
       " 'quoi',\n",
       " 'heure',\n",
       " 'possible',\n",
       " 'est-à-dire',\n",
       " 'contraire',\n",
       " 'theology',\n",
       " 'est-ce',\n",
       " 'juste',\n",
       " 'cœur',\n",
       " 'parle',\n",
       " 'est-il',\n",
       " 'union',\n",
       " 'hui',\n",
       " 'dernier',\n",
       " 'mise',\n",
       " 'problème',\n",
       " 'fin',\n",
       " 'e',\n",
       " 'jérémie',\n",
       " 'vient',\n",
       " 'parallèle',\n",
       " 'biblique',\n",
       " 'peu',\n",
       " 'puis',\n",
       " 'science',\n",
       " 'cf',\n",
       " 'genèse',\n",
       " 'saint-esprit',\n",
       " 'dès',\n",
       " 'autrement',\n",
       " 'conscience',\n",
       " 'épreuve',\n",
       " 'vraiment',\n",
       " 'in',\n",
       " 'élément',\n",
       " 'trouve',\n",
       " 'confession',\n",
       " 'parent',\n",
       " 'nation',\n",
       " 'hébreux',\n",
       " 'plusieurs',\n",
       " 'œuvres',\n",
       " 'critique',\n",
       " 'création',\n",
       " 'lien',\n",
       " 'telle',\n",
       " 'a-t-il',\n",
       " 'israël',\n",
       " 'min',\n",
       " 'baptismale',\n",
       " 'base',\n",
       " 'humain',\n",
       " 'simple',\n",
       " 'trois',\n",
       " 'pouvons',\n",
       " 'âge',\n",
       " 'covenant',\n",
       " 'cependant',\n",
       " 'moment',\n",
       " 'terre',\n",
       " 'spirituel',\n",
       " 'quel',\n",
       " 'mieux',\n",
       " 'appelle',\n",
       " 'particulier',\n",
       " 'amour',\n",
       " 'lumière',\n",
       " 'naissance',\n",
       " 'signifie',\n",
       " 'lorsque',\n",
       " 'tel',\n",
       " 'théologien',\n",
       " 'vu',\n",
       " 'compréhension',\n",
       " 'différence',\n",
       " 'passage',\n",
       " '--',\n",
       " 'etc',\n",
       " 'objection',\n",
       " 'to',\n",
       " 'nombre',\n",
       " 'substance',\n",
       " 'reste',\n",
       " 'connaître',\n",
       " 'tradition',\n",
       " 'culte',\n",
       " 'compris',\n",
       " 'lieu',\n",
       " 'circoncis',\n",
       " 'haut',\n",
       " 'changement',\n",
       " 'an',\n",
       " 'écriture',\n",
       " 'abord',\n",
       " 'unique',\n",
       " 'essence',\n",
       " 'contexte',\n",
       " 'parler',\n",
       " 'sorte',\n",
       " 'disciple',\n",
       " 'petit',\n",
       " 'donné',\n",
       " 'vision',\n",
       " 'éd',\n",
       " 'voici',\n",
       " 'suite',\n",
       " 'est-elle',\n",
       " 'concerne',\n",
       " 'moïse',\n",
       " 'pouvoir',\n",
       " 'partir',\n",
       " 'ordre',\n",
       " 'scolastique',\n",
       " 'connaît',\n",
       " 'corinthiens',\n",
       " 'chair',\n",
       " 'utilise',\n",
       " 'image',\n",
       " 'maxime',\n",
       " 'considérer',\n",
       " 'loin',\n",
       " 'quelques',\n",
       " 'croire',\n",
       " 'vivant',\n",
       " 'ensuite',\n",
       " 'sagesse',\n",
       " 'perfection',\n",
       " 'individu',\n",
       " 'depuis',\n",
       " 'pouvait',\n",
       " 'expression',\n",
       " 'voyons',\n",
       " 'païen',\n",
       " 'pourtant',\n",
       " 'adulte',\n",
       " 'john',\n",
       " 'matière',\n",
       " 'lors',\n",
       " 'roi',\n",
       " 'voit',\n",
       " 'pourrait',\n",
       " 'pu',\n",
       " 'kline',\n",
       " 'accord',\n",
       " 'élu',\n",
       " 'précisément',\n",
       " 'mauvais',\n",
       " 'but',\n",
       " 'devon',\n",
       " 'classique',\n",
       " 'commentaire',\n",
       " 'matthieu',\n",
       " 'étude',\n",
       " 'afin',\n",
       " 'bonté',\n",
       " 'communauté',\n",
       " 'évangélique',\n",
       " 'chaque',\n",
       " 'doivent',\n",
       " 'uniquement',\n",
       " 'faite',\n",
       " 'rapport',\n",
       " 'elle-même',\n",
       " 'clair',\n",
       " 'quelle',\n",
       " 'extérieur',\n",
       " 'luc',\n",
       " 'éternel',\n",
       " 'faux',\n",
       " 'parmi',\n",
       " 'impossible',\n",
       " 'certaine',\n",
       " 'penser',\n",
       " 'jésus-christ',\n",
       " 'œuvre',\n",
       " 'cest',\n",
       " 'sait',\n",
       " 'appelé',\n",
       " 'autorité',\n",
       " 'désigne',\n",
       " 'oeuvre',\n",
       " 'apologétique',\n",
       " 'quant',\n",
       " 'descendance',\n",
       " 'donner',\n",
       " 'autant',\n",
       " 'incroyant',\n",
       " 'donnée',\n",
       " 'recevoir',\n",
       " 'époque',\n",
       " 'mode',\n",
       " 'considère',\n",
       " 'côté',\n",
       " 'combat',\n",
       " 'ensemble',\n",
       " 'enseignement',\n",
       " 'introduction',\n",
       " 'toutefois',\n",
       " 'limite',\n",
       " 'présupposé',\n",
       " 'catholique',\n",
       " 'parfois',\n",
       " 'gloire',\n",
       " 'suivant',\n",
       " 'formule',\n",
       " 'capacité',\n",
       " 'nécessité',\n",
       " 'bienheureux',\n",
       " 'intellect',\n",
       " 'historique',\n",
       " 'assez',\n",
       " 'répondre',\n",
       " 'créé',\n",
       " 'coeur',\n",
       " 'véritable',\n",
       " 'grec',\n",
       " 'guillaume',\n",
       " 'affirme',\n",
       " 'incarnation',\n",
       " 'action',\n",
       " 'genre',\n",
       " 'consiste',\n",
       " 'philosophie',\n",
       " 'frère',\n",
       " 'ceci',\n",
       " 'certaines',\n",
       " 'système',\n",
       " 'verset',\n",
       " 'prière',\n",
       " 'mosaïque',\n",
       " 'explique',\n",
       " 'nécessairement',\n",
       " 'ça',\n",
       " 'montrer',\n",
       " 'théologique',\n",
       " 'montre',\n",
       " 'meredith',\n",
       " 'venir',\n",
       " 'logique',\n",
       " 'va',\n",
       " 'converti',\n",
       " 'conversion',\n",
       " 'repentance',\n",
       " 'lire',\n",
       " 'disant',\n",
       " 'directement',\n",
       " 'main',\n",
       " 'nourrisson',\n",
       " 'implique',\n",
       " 'sang',\n",
       " 'trinité',\n",
       " 'différent',\n",
       " 'unité',\n",
       " 'fort',\n",
       " 'font',\n",
       " 'divin',\n",
       " 'également',\n",
       " 'révélation',\n",
       " 'baptism',\n",
       " 'preuve',\n",
       " 'début',\n",
       " 'état',\n",
       " 'concernant',\n",
       " 'christian',\n",
       " 'religieux',\n",
       " 'pardon',\n",
       " 'parfaite',\n",
       " 'interprétation',\n",
       " 'tard',\n",
       " 'ange',\n",
       " 'série',\n",
       " 'méthode',\n",
       " 'devait',\n",
       " 'évangile',\n",
       " 'référence',\n",
       " 'lequel',\n",
       " 'lecture',\n",
       " 'place',\n",
       " 'pédobaptistes',\n",
       " 'footnote',\n",
       " 'cru',\n",
       " 'faites',\n",
       " 'demande',\n",
       " 'erreur',\n",
       " 'allons',\n",
       " 'présente',\n",
       " 'physique',\n",
       " 'prédestination',\n",
       " 'besoin',\n",
       " 'puisse',\n",
       " 'evangile',\n",
       " 'rendre',\n",
       " 'enseigne',\n",
       " 'connu',\n",
       " 'v',\n",
       " 'eternel',\n",
       " 'mère',\n",
       " 'cor',\n",
       " 'continuité',\n",
       " 'créateur',\n",
       " 'symbole',\n",
       " 'foihttpsparlafoiblogwordpresscom-bonnes-raisons-detre-pedobaptiste',\n",
       " 'auteur',\n",
       " 'ex',\n",
       " 'marie',\n",
       " 'sauvés',\n",
       " 'deuxième',\n",
       " 'don',\n",
       " 'dis',\n",
       " 'feu',\n",
       " 'surtout',\n",
       " 'éternelle',\n",
       " 'année',\n",
       " 'condition',\n",
       " 'sauvé',\n",
       " 'important',\n",
       " 'élection',\n",
       " 'premièrement',\n",
       " 'bibliques',\n",
       " 'pleinement',\n",
       " 'différentes',\n",
       " 'peut-être',\n",
       " 'partout',\n",
       " 'propriété',\n",
       " 'mouvement',\n",
       " 'pur',\n",
       " 'convient',\n",
       " 'probable',\n",
       " 'force',\n",
       " 'aristote',\n",
       " 'compte',\n",
       " 'prophète',\n",
       " 'systematic',\n",
       " 'détail',\n",
       " 'conclusion',\n",
       " 'traduction',\n",
       " 'psaume',\n",
       " 'mesure',\n",
       " 'antique',\n",
       " 'commun',\n",
       " 'certainement',\n",
       " 'différente',\n",
       " 'promis',\n",
       " 'infini',\n",
       " 'long',\n",
       " 'affirmation',\n",
       " 'samuel',\n",
       " 'chacun',\n",
       " 'néanmoins',\n",
       " 'répond',\n",
       " 'vierge',\n",
       " 'accomplissement',\n",
       " 'jeune',\n",
       " 'initiation',\n",
       " 'face',\n",
       " 'montré',\n",
       " 'tandis',\n",
       " 'disent',\n",
       " 'davantage',\n",
       " 'expérience',\n",
       " 'justification',\n",
       " 'bénéfice',\n",
       " '‘',\n",
       " 'malédiction',\n",
       " 'rend',\n",
       " 'yeux',\n",
       " 'prend',\n",
       " 'westminster',\n",
       " 'turretin',\n",
       " 'pris',\n",
       " 'profession',\n",
       " 'envers',\n",
       " 'passé',\n",
       " 'né',\n",
       " 'sanctification',\n",
       " 'mérite',\n",
       " 'pédobaptisme',\n",
       " 'sceau',\n",
       " 'traditionnelle',\n",
       " 'gen',\n",
       " 'miséricorde',\n",
       " 'engagement',\n",
       " 'dehors',\n",
       " 'témoignage',\n",
       " 'faveur',\n",
       " 'utilisé',\n",
       " 'présent',\n",
       " 'irrégénérés',\n",
       " 'réforme',\n",
       " 'raisonnement',\n",
       " 'période',\n",
       " 'verrons',\n",
       " 'notion',\n",
       " 'israélite',\n",
       " 'importe',\n",
       " 'joseph',\n",
       " 'décrit',\n",
       " 'pays',\n",
       " 'clause',\n",
       " 'lecteur',\n",
       " 'conception',\n",
       " 'faisant',\n",
       " 'enfin',\n",
       " 'type',\n",
       " 'explicitement',\n",
       " 'trop',\n",
       " 'adam',\n",
       " 'abrahamique',\n",
       " 'structure',\n",
       " 'autour',\n",
       " 'voilà',\n",
       " 'purification',\n",
       " 'capable',\n",
       " 'arbre',\n",
       " 'invisible',\n",
       " 'régénérés',\n",
       " 'manque',\n",
       " 'source',\n",
       " 'demander',\n",
       " 'religion',\n",
       " 'utiliser',\n",
       " 'adresse',\n",
       " 'opération',\n",
       " 'prédication',\n",
       " 'morale',\n",
       " 'entière',\n",
       " 'modèle',\n",
       " 'métaphysique',\n",
       " 'meilleur',\n",
       " 'verbe',\n",
       " 'defense',\n",
       " 'vertu',\n",
       " 'commencé',\n",
       " 'sacrifice',\n",
       " 'claire',\n",
       " 'mariage',\n",
       " 'prendre',\n",
       " 'sinon',\n",
       " 'cérémonie',\n",
       " 'david',\n",
       " 'parfait',\n",
       " 'droit',\n",
       " 'appel',\n",
       " 'milieu',\n",
       " 'baptisme',\n",
       " 'déclaration',\n",
       " 'croit',\n",
       " 'change',\n",
       " 'divinité',\n",
       " 'assurance',\n",
       " 'colossiens',\n",
       " 'matériel',\n",
       " 'sein',\n",
       " 'devant',\n",
       " 'comprend',\n",
       " 'conséquence',\n",
       " 'lit',\n",
       " 'attribut',\n",
       " 'chef',\n",
       " 'mis',\n",
       " 'humains',\n",
       " 'même',\n",
       " 'prouver',\n",
       " 'plénitude',\n",
       " 'déluge',\n",
       " 'vaudois',\n",
       " 'originel',\n",
       " 'épître',\n",
       " 'concept',\n",
       " 'proche',\n",
       " 'sauver',\n",
       " 'plan',\n",
       " 'génération',\n",
       " 'degré',\n",
       " 'situation',\n",
       " 'univers',\n",
       " 'aller',\n",
       " 'usage',\n",
       " 'ultime',\n",
       " 'influence',\n",
       " 'soi',\n",
       " 'expliquer',\n",
       " 'uni',\n",
       " 'lettre',\n",
       " 'sûr',\n",
       " 'absolument',\n",
       " 'pendant',\n",
       " 'caractère',\n",
       " 'libre',\n",
       " 'noé',\n",
       " 'analogie',\n",
       " 'réformées',\n",
       " 'permet',\n",
       " 'chaise',\n",
       " 'utile',\n",
       " 'statut',\n",
       " 'venu',\n",
       " 'pécheur',\n",
       " 'tôt',\n",
       " 'avertissement',\n",
       " 'remarque',\n",
       " 'fidèle',\n",
       " 'devrait',\n",
       " 'objectif',\n",
       " 'croix',\n",
       " 'éternité',\n",
       " 'lié',\n",
       " 'résurrection',\n",
       " 'verdict',\n",
       " 'suffit',\n",
       " 'considéré',\n",
       " 'peut-il',\n",
       " 'assemblée',\n",
       " 'conséquent',\n",
       " 'sert',\n",
       " 'prédestiné',\n",
       " 'réellement',\n",
       " 'bref',\n",
       " 'bonheur',\n",
       " 'opinion',\n",
       " 'précise',\n",
       " 'espérance',\n",
       " 'summa',\n",
       " 'parfaitement',\n",
       " 'plupart',\n",
       " 'inverse',\n",
       " 'prêtre',\n",
       " 'pain',\n",
       " 'merci',\n",
       " 'discussion',\n",
       " 'coupe',\n",
       " 'serviteur',\n",
       " 'pouvaient',\n",
       " 'vraie',\n",
       " 'moderne',\n",
       " 'seuls',\n",
       " 'politique',\n",
       " 'chapitre',\n",
       " 'ciel',\n",
       " 'confusion',\n",
       " 'reçoivent',\n",
       " 'doute',\n",
       " 'formulation',\n",
       " 'niveau',\n",
       " 'héritage',\n",
       " 'pleine',\n",
       " 'affirmer',\n",
       " 'catégorie',\n",
       " 'reformed',\n",
       " 'cadre',\n",
       " 'disons',\n",
       " 'technique',\n",
       " 'patristique',\n",
       " 'commence',\n",
       " 'supérieur',\n",
       " 'origine',\n",
       " 'parlent',\n",
       " 'accident',\n",
       " 'faith',\n",
       " 'manifeste',\n",
       " 'novembre',\n",
       " 'romaine',\n",
       " 'particulière',\n",
       " 'orthodoxe',\n",
       " 'clairement',\n",
       " 'deuxièmement',\n",
       " 'annonce',\n",
       " 'protestant',\n",
       " 'troisième',\n",
       " 'mer',\n",
       " 'porte',\n",
       " 'cour',\n",
       " 'entrée',\n",
       " 'accompli',\n",
       " 'celui-ci',\n",
       " 'serment',\n",
       " 'institution',\n",
       " 'utilisation',\n",
       " 'évident',\n",
       " 'thomiste',\n",
       " 'apologetics',\n",
       " 'reconnaître',\n",
       " 'reçoit',\n",
       " 'soumis',\n",
       " 'signification',\n",
       " 'passe',\n",
       " 'philosophique',\n",
       " 'aspect',\n",
       " 'lesquelles',\n",
       " 'b',\n",
       " 'rédemption',\n",
       " 'sauf',\n",
       " 'commune',\n",
       " 'liturgie',\n",
       " 'disait',\n",
       " 'particulièrement',\n",
       " 'simplicité',\n",
       " 'intelligence',\n",
       " 'évidemment',\n",
       " 'infant',\n",
       " 'soleil',\n",
       " 'ps',\n",
       " 'établi',\n",
       " 'certes',\n",
       " 'promet',\n",
       " 'efficacité',\n",
       " 'choix',\n",
       " 'james',\n",
       " 'lisez',\n",
       " 'new',\n",
       " 'défense',\n",
       " 'mettre',\n",
       " 'deutéronome',\n",
       " 'celles',\n",
       " 'anabaptiste',\n",
       " 'voie',\n",
       " 'rm',\n",
       " 'principale',\n",
       " 'crois',\n",
       " 'venue',\n",
       " 'royaume',\n",
       " 'vouloir',\n",
       " 'habituelle',\n",
       " 'trouver',\n",
       " 'occasion',\n",
       " 'joie',\n",
       " 'médiévale',\n",
       " 'possède',\n",
       " 'seconde',\n",
       " 'correspond',\n",
       " 'complètement',\n",
       " 'blog',\n",
       " 'nôtre',\n",
       " 'intellectuel',\n",
       " 'liée',\n",
       " 'agir',\n",
       " 'travail',\n",
       " 'procession',\n",
       " 'obéissance',\n",
       " 'origène',\n",
       " 'pourraient',\n",
       " 'fallait',\n",
       " 'orthodoxie',\n",
       " 'croient',\n",
       " 'véritablement',\n",
       " 'frame',\n",
       " 'cornelius',\n",
       " 'systématique',\n",
       " 'mentionné',\n",
       " 'vassal',\n",
       " 'adoration',\n",
       " 'rom',\n",
       " 'crispus',\n",
       " 'rendu',\n",
       " 'régénéré',\n",
       " 'travers',\n",
       " 'remarquer',\n",
       " 'allait',\n",
       " 'primitive',\n",
       " 'désormais',\n",
       " 'arrive',\n",
       " 'emphase',\n",
       " 'général',\n",
       " 'bibliographie',\n",
       " 'activité',\n",
       " 'jai',\n",
       " 'children',\n",
       " 'établit',\n",
       " 'damascène',\n",
       " 'malgré',\n",
       " 'bas',\n",
       " 'diverses',\n",
       " 'survey',\n",
       " 'antithèse',\n",
       " 'confiance',\n",
       " 'lc',\n",
       " 'descendant',\n",
       " 'choisi',\n",
       " 'mentionne',\n",
       " 'rappelle',\n",
       " 'baptisant',\n",
       " 'dessus',\n",
       " 'décrire',\n",
       " 'rome',\n",
       " 'hérétique',\n",
       " 'vais',\n",
       " 'aime',\n",
       " 'crée',\n",
       " 'français',\n",
       " 'extrait',\n",
       " 'désir',\n",
       " 'probablement',\n",
       " 'foihttpparlafoilocal-bonnes-raisons-detre-pedobaptiste',\n",
       " 'composé',\n",
       " 'explication',\n",
       " 'animal',\n",
       " 'discontinuité',\n",
       " 'mission',\n",
       " 'responsabilité',\n",
       " 'prosélyte',\n",
       " 'participer',\n",
       " 'propos',\n",
       " 'crainte',\n",
       " 'nouveauté',\n",
       " 'fais',\n",
       " 'pouvez',\n",
       " 'réformateur',\n",
       " 'divers',\n",
       " 'celle-ci',\n",
       " 'chauny',\n",
       " 'jérusalem',\n",
       " 'tellement',\n",
       " 'absence',\n",
       " 'y-a-t-il',\n",
       " 'temple',\n",
       " 'valide',\n",
       " 'procède',\n",
       " 'humanité',\n",
       " 'exister',\n",
       " 'fera',\n",
       " 'peux',\n",
       " 'faculté',\n",
       " 'poser',\n",
       " 'communion',\n",
       " 'pose',\n",
       " 'col',\n",
       " 'rôle',\n",
       " 'administré',\n",
       " 'charles',\n",
       " 'note',\n",
       " 'étudier',\n",
       " 'soutient',\n",
       " 'exception',\n",
       " 'pire',\n",
       " 'processus',\n",
       " 'epistemology',\n",
       " 'prier',\n",
       " 'bénédiction',\n",
       " 'publié',\n",
       " 'nombreuses',\n",
       " 'messie',\n",
       " 'fasse',\n",
       " 'entier',\n",
       " 'savent',\n",
       " 'cite',\n",
       " 'pasteur',\n",
       " 'grace',\n",
       " 'entendu',\n",
       " 'discipline',\n",
       " 'contient',\n",
       " 'gens',\n",
       " 'retour',\n",
       " 'parlant',\n",
       " 'assumer',\n",
       " 'clarté',\n",
       " 'semblable',\n",
       " 'suprême',\n",
       " 'contrôle',\n",
       " ...]"
      ]
     },
     "execution_count": 12,
     "metadata": {},
     "output_type": "execute_result"
    }
   ],
   "source": [
    "model.wv.index_to_key"
   ]
  },
  {
   "cell_type": "code",
   "execution_count": 13,
   "metadata": {},
   "outputs": [
    {
     "data": {
      "text/plain": [
       "2924"
      ]
     },
     "execution_count": 13,
     "metadata": {},
     "output_type": "execute_result"
    }
   ],
   "source": [
    "len(model.wv.index_to_key)"
   ]
  },
  {
   "cell_type": "code",
   "execution_count": 14,
   "metadata": {},
   "outputs": [
    {
     "data": {
      "text/plain": [
       "gensim.models.keyedvectors.KeyedVectors"
      ]
     },
     "execution_count": 14,
     "metadata": {},
     "output_type": "execute_result"
    }
   ],
   "source": [
    "type(model.wv)"
   ]
  },
  {
   "cell_type": "code",
   "execution_count": 15,
   "metadata": {},
   "outputs": [
    {
     "data": {
      "text/plain": [
       "(2924, 200)"
      ]
     },
     "execution_count": 15,
     "metadata": {},
     "output_type": "execute_result"
    }
   ],
   "source": [
    "len(words_vectors_skip_gram)\n",
    "len(words_vectors_skip_gram.index_to_key[:len(words_vectors_skip_gram)])\n",
    "type(words_vectors_skip_gram[words_vectors_skip_gram.index_to_key[:len(words_vectors_skip_gram)]])\n",
    "words_vectors_skip_gram[words_vectors_skip_gram.index_to_key[:len(words_vectors_skip_gram)]].shape"
   ]
  },
  {
   "cell_type": "code",
   "execution_count": 16,
   "metadata": {},
   "outputs": [
    {
     "data": {
      "text/plain": [
       "array([[-2.68113625e-04,  1.18215081e-04,  2.55167484e-03, ...,\n",
       "        -1.19575742e-03, -4.75504762e-03,  2.25293869e-03],\n",
       "       [ 4.72819811e-05,  1.53865933e-03, -3.40632326e-03, ...,\n",
       "        -3.72379413e-03, -1.25303748e-03, -2.77493242e-03],\n",
       "       [-3.56950751e-03,  6.20515319e-04, -3.58835817e-03, ...,\n",
       "        -4.34601074e-03,  1.48075819e-03, -3.33794951e-03],\n",
       "       ...,\n",
       "       [ 1.63632515e-03, -1.87310809e-03,  4.53326706e-04, ...,\n",
       "         5.80255990e-04, -2.01740023e-03,  1.26625178e-03],\n",
       "       [-4.64244140e-03, -1.38949152e-04, -2.22848775e-03, ...,\n",
       "         4.29207692e-03, -4.04914375e-03, -1.21603014e-04],\n",
       "       [-7.28440282e-05, -3.72289657e-03,  2.80575739e-04, ...,\n",
       "        -7.81719689e-04,  1.53545977e-03,  4.93388064e-03]], dtype=float32)"
      ]
     },
     "execution_count": 16,
     "metadata": {},
     "output_type": "execute_result"
    }
   ],
   "source": [
    "words_vectors_skip_gram[words_vectors_skip_gram.index_to_key[:len(words_vectors_skip_gram)]]"
   ]
  },
  {
   "cell_type": "code",
   "execution_count": 17,
   "metadata": {},
   "outputs": [
    {
     "name": "stdout",
     "output_type": "stream",
     "text": [
      "[t-SNE] Computing 91 nearest neighbors...\n",
      "[t-SNE] Indexed 2924 samples in 0.002s...\n",
      "[t-SNE] Computed neighbors for 2924 samples in 0.421s...\n",
      "[t-SNE] Computed conditional probabilities for sample 1000 / 2924\n",
      "[t-SNE] Computed conditional probabilities for sample 2000 / 2924\n",
      "[t-SNE] Computed conditional probabilities for sample 2924 / 2924\n",
      "[t-SNE] Mean sigma: 0.008756\n",
      "[t-SNE] KL divergence after 250 iterations with early exaggeration: 81.477661\n",
      "[t-SNE] KL divergence after 900 iterations: 3.723080\n"
     ]
    },
    {
     "data": {
      "text/plain": [
       "array([[-21.39143  ,  23.721922 ,   2.0978272],\n",
       "       [-29.40616  , -29.296444 , -12.498668 ],\n",
       "       [ 44.9346   ,  12.955481 ,   3.3724444],\n",
       "       ...,\n",
       "       [ 19.141834 ,  24.140238 , -12.324454 ],\n",
       "       [-21.254047 ,   5.1166415, -41.709118 ],\n",
       "       [  4.8263984,   5.273487 ,   3.0530896]], dtype=float32)"
      ]
     },
     "execution_count": 17,
     "metadata": {},
     "output_type": "execute_result"
    }
   ],
   "source": [
    "#TSNE en 2D apres reduction svd en 50 dimensions\n",
    "from sklearn.manifold import TSNE\n",
    "\n",
    "tsne = TSNE(n_components=3, learning_rate='auto', init='random', perplexity=30, verbose=1)\n",
    "tsne_results = tsne.fit_transform(words_vectors_skip_gram[words_vectors_skip_gram.index_to_key[:len(words_vectors_skip_gram)]])\n",
    "tsne_results"
   ]
  },
  {
   "cell_type": "code",
   "execution_count": 19,
   "metadata": {},
   "outputs": [
    {
     "data": {
      "application/vnd.plotly.v1+json": {
       "config": {
        "plotlyServerURL": "https://plot.ly"
       },
       "data": [
        {
         "hovertemplate": "x=%{x}<br>y=%{y}<br>z=%{z}<br>text=%{text}<extra></extra>",
         "legendgroup": "",
         "marker": {
          "color": "#636efa",
          "symbol": "circle"
         },
         "mode": "markers+text",
         "name": "",
         "scene": "scene",
         "showlegend": false,
         "text": [
          "dieu",
          "»",
          "«",
          "a",
          "baptême",
          "comme",
          "être",
          "plus",
          "alliance",
          "cette",
          "fait",
          "enfant",
          "si",
          "donc",
          "dit",
          "tout",
          "christ",
          "-",
          "–",
          "foi",
          "bien",
          "chose",
          "cela",
          "peut",
          "homme",
          "non",
          "van",
          "aussi",
          "til",
          "dire",
          "article",
          "…",
          "tous",
          "ainsi",
          "entre",
          "nature",
          "raison",
          "autre",
          "parce",
          "question",
          "car",
          "père",
          "circoncision",
          "faire",
          "personne",
          "grâce",
          "sans",
          "église",
          "baptisé",
          "deux",
          "the",
          "thomas",
          "toute",
          "famille",
          "quand",
          "promesse",
          "autres",
          "alors",
          "baptiste",
          "jésus",
          "théologie",
          "chrétien",
          "sens",
          "vie",
          "selon",
          "réformé",
          "fil",
          "cause",
          "of",
          "encore",
          "effet",
          "nouvelle",
          "acte",
          "testament",
          "ceux",
          "où",
          "point",
          "toutes",
          "ici",
          "avoir",
          "péché",
          "faut",
          "exemple",
          "façon",
          "signe",
          "lui-même",
          "ancien",
          "jean",
          "esprit",
          "volonté",
          "après",
          "humaine",
          "or",
          "doctrine",
          "celui",
          "nouveau",
          "voir",
          "p",
          "grand",
          "monde",
          "paul",
          "cas",
          "cet",
          "connaissance",
          "parole",
          "sujet",
          "seigneur",
          "bonne",
          "oui",
          "très",
          "maison",
          "avant",
          "corps",
          "certain",
          "divine",
          "eau",
          "pourquoi",
          "peuple",
          "régénération",
          "réponse",
          "veut",
          "argument",
          "“",
          "déjà",
          "bible",
          "écrit",
          "savoir",
          "dont",
          "ni",
          "”",
          "rien",
          "puisque",
          "seulement",
          "comment",
          "béatitude",
          "abraham",
          "quelque",
          "premier",
          "manière",
          "bon",
          "partie",
          "leurs",
          "réformée",
          "doit",
          "texte",
          "saint",
          "aquin",
          "temps",
          "croyant",
          "and"
         ],
         "type": "scatter3d",
         "x": [
          -21.391429901123047,
          -29.406160354614258,
          44.934600830078125,
          -3.2646102905273438,
          -12.872207641601562,
          24.98802375793457,
          4.21837854385376,
          -26.4114933013916,
          10.291422843933105,
          18.73052406311035,
          8.673070907592773,
          0.6947813034057617,
          -42.04497528076172,
          6.0948052406311035,
          -3.825469970703125,
          -3.479707717895508,
          -13.001946449279785,
          -20.85679817199707,
          -12.15988826751709,
          5.658048629760742,
          21.6208438873291,
          40.685386657714844,
          38.787105560302734,
          6.340078353881836,
          2.8769161701202393,
          12.281929969787598,
          -16.1553897857666,
          9.304281234741211,
          -22.542448043823242,
          34.9002685546875,
          1.8836981058120728,
          7.43162727355957,
          3.470245361328125,
          49.98773956298828,
          -12.017885208129883,
          -23.24716567993164,
          -17.25495719909668,
          12.840860366821289,
          27.68692970275879,
          6.6783952713012695,
          31.97999382019043,
          -34.07962417602539,
          -25.576879501342773,
          -17.198007583618164,
          -18.42107582092285,
          26.24590492248535,
          -12.057598114013672,
          -24.64580726623535,
          -46.077884674072266,
          -6.634680271148682,
          5.070897579193115,
          -33.92546844482422,
          23.29106903076172,
          8.017353057861328,
          33.099586486816406,
          -23.4440860748291,
          11.425934791564941,
          17.939016342163086,
          -6.236234664916992,
          24.01275634765625,
          29.08624839782715,
          -34.69111251831055,
          -32.726295471191406,
          12.728471755981445,
          6.703462600708008,
          13.74997615814209,
          -0.7962371706962585,
          1.0626384019851685,
          14.271502494812012,
          13.521313667297363,
          -6.829803466796875,
          1.1537842750549316,
          1.9736464023590088,
          22.04186248779297,
          -11.446853637695312,
          -6.831802845001221,
          -27.4343318939209,
          6.065178871154785,
          -12.483298301696777,
          -4.420211315155029,
          3.662004232406616,
          22.588712692260742,
          12.488823890686035,
          -12.82807731628418,
          -2.131878614425659,
          -22.259033203125,
          -14.703132629394531,
          33.88827896118164,
          41.05946350097656,
          6.682650566101074,
          4.882321834564209,
          -23.59905433654785,
          -8.151759147644043,
          3.711972951889038,
          -15.033666610717773,
          -14.484472274780273,
          4.456593036651611,
          23.64654541015625,
          -39.8756217956543,
          23.07023811340332,
          38.296512603759766,
          4.287792682647705,
          5.540273666381836,
          35.590797424316406,
          -34.54029846191406,
          20.917604446411133,
          2.948194742202759,
          8.745460510253906,
          -14.691147804260254,
          -10.619882583618164,
          -8.70958137512207,
          35.03763961791992,
          25.45271110534668,
          -16.328763961791992,
          -16.954313278198242,
          6.186519145965576,
          -29.598827362060547,
          -24.341426849365234,
          -2.1812856197357178,
          -16.49738121032715,
          22.73373031616211,
          -41.03354263305664,
          -1.4056293964385986,
          -4.756091117858887,
          24.95161247253418,
          16.8311824798584,
          -22.157127380371094,
          0.40167009830474854,
          -10.005497932434082,
          28.911090850830078,
          -5.898519992828369,
          18.48687171936035,
          -8.980205535888672,
          10.907039642333984,
          27.960905075073242,
          4.890649795532227,
          -1.100418210029602,
          -43.27552032470703,
          3.7893054485321045,
          -5.549307823181152,
          -26.596220016479492,
          -13.655424118041992,
          -7.031253814697266,
          -12.496452331542969,
          -4.322451114654541,
          -25.195999145507812,
          -11.461689949035645,
          -0.872490406036377,
          17.077741622924805,
          -36.2727165222168
         ],
         "y": [
          23.721921920776367,
          -29.296443939208984,
          12.955480575561523,
          28.885028839111328,
          -5.532871723175049,
          23.49224090576172,
          18.062450408935547,
          17.24028205871582,
          44.328582763671875,
          -19.800695419311523,
          -28.830900192260742,
          10.952008247375488,
          -9.281279563903809,
          31.413822174072266,
          38.37507247924805,
          -26.890962600708008,
          -13.101176261901855,
          37.47621154785156,
          -0.4667568802833557,
          -18.09397315979004,
          -37.902374267578125,
          0.9551740288734436,
          11.414728164672852,
          21.84071922302246,
          4.517759799957275,
          7.279955863952637,
          -6.796790599822998,
          -30.51830291748047,
          -6.533341884613037,
          -30.89168357849121,
          6.140164852142334,
          20.848657608032227,
          -18.854293823242188,
          -8.638774871826172,
          -42.09259033203125,
          -11.564282417297363,
          30.82579803466797,
          26.037818908691406,
          -2.7799642086029053,
          33.415740966796875,
          -15.009735107421875,
          5.8835015296936035,
          -0.5446743369102478,
          3.788346290588379,
          14.240259170532227,
          -12.889471054077148,
          -32.671390533447266,
          1.8393865823745728,
          12.189488410949707,
          -13.589765548706055,
          14.612271308898926,
          -13.114748001098633,
          37.88633728027344,
          3.628173351287842,
          1.8146734237670898,
          18.31924057006836,
          17.018779754638672,
          -5.7987871170043945,
          32.270668029785156,
          -17.569068908691406,
          3.0706942081451416,
          -21.619096755981445,
          30.959829330444336,
          33.331275939941406,
          36.44816207885742,
          -10.568999290466309,
          -33.550174713134766,
          26.847822189331055,
          35.69178771972656,
          11.72126579284668,
          -21.033203125,
          12.034473419189453,
          -26.5944881439209,
          -7.19362735748291,
          -14.030317306518555,
          22.634944915771484,
          20.983509063720703,
          6.523789405822754,
          14.528900146484375,
          -35.53992462158203,
          -26.218769073486328,
          6.37853479385376,
          -11.48523998260498,
          10.998674392700195,
          10.777748107910156,
          7.674961090087891,
          0.4518103301525116,
          10.527908325195312,
          -7.691209316253662,
          -15.419398307800293,
          45.74600601196289,
          -6.832399368286133,
          -38.41561508178711,
          28.10454559326172,
          9.413235664367676,
          -3.2705280780792236,
          32.300540924072266,
          -14.44437026977539,
          0.7787180542945862,
          -38.96849822998047,
          3.688960075378418,
          13.50644302368164,
          21.08059310913086,
          -3.3934743404388428,
          7.22745943069458,
          8.483345985412598,
          -27.9625301361084,
          -4.672127723693848,
          29.181732177734375,
          -26.876005172729492,
          -5.880217552185059,
          -19.826019287109375,
          25.917863845825195,
          -8.55923843383789,
          -19.6837158203125,
          22.861745834350586,
          -25.591310501098633,
          -14.11764907836914,
          -24.17089080810547,
          -9.343067169189453,
          -21.668291091918945,
          -0.6109949350357056,
          9.975079536437988,
          21.513254165649414,
          -25.0716552734375,
          -4.47238826751709,
          -17.234569549560547,
          -15.426717758178711,
          39.04724884033203,
          -8.0723295211792,
          15.242029190063477,
          17.180980682373047,
          13.379623413085938,
          39.31599044799805,
          18.149686813354492,
          0.8861042857170105,
          2.0648653507232666,
          -17.417186737060547,
          27.171545028686523,
          -41.896217346191406,
          -24.817235946655273,
          -19.065616607666016,
          -41.64556121826172,
          1.330356240272522,
          3.126690149307251,
          -2.83620548248291,
          39.34757614135742,
          38.56736373901367,
          7.63572883605957,
          16.23569107055664
         ],
         "z": [
          2.097827196121216,
          -12.49866771697998,
          3.3724443912506104,
          18.868419647216797,
          -33.08424377441406,
          -10.082377433776855,
          26.17891502380371,
          25.567787170410156,
          13.456086158752441,
          11.003993034362793,
          -16.427570343017578,
          43.819618225097656,
          -13.4015474319458,
          -19.218017578125,
          -28.221345901489258,
          -17.318763732910156,
          18.629650115966797,
          2.8139712810516357,
          -42.45876693725586,
          0.5749751329421997,
          0.8606720566749573,
          -5.400086402893066,
          -8.774333953857422,
          16.46259117126465,
          32.92581558227539,
          46.66551971435547,
          -32.87477493286133,
          35.25284957885742,
          -3.218878746032715,
          -10.543505668640137,
          36.62397003173828,
          5.8872199058532715,
          32.129844665527344,
          -1.227062463760376,
          15.254130363464355,
          -21.51682472229004,
          -11.364603042602539,
          12.316150665283203,
          12.953560829162598,
          -32.7436408996582,
          20.03445816040039,
          26.25706672668457,
          -2.0262234210968018,
          14.079453468322754,
          -18.897533416748047,
          -19.965343475341797,
          13.4746675491333,
          0.4470905363559723,
          8.32890796661377,
          -35.184085845947266,
          29.799758911132812,
          0.18252629041671753,
          5.157301902770996,
          24.79289436340332,
          35.31672668457031,
          7.2093729972839355,
          -20.988325119018555,
          -1.0103249549865723,
          -32.431034088134766,
          0.0387125127017498,
          -12.601080894470215,
          11.170815467834473,
          6.846421718597412,
          3.598747730255127,
          10.74855899810791,
          -9.067351341247559,
          19.64543914794922,
          13.949939727783203,
          -14.764275550842285,
          -14.044440269470215,
          -37.857093811035156,
          1.8202335834503174,
          13.893783569335938,
          37.52377700805664,
          24.055055618286133,
          5.280338764190674,
          2.07553768157959,
          -36.43593978881836,
          -16.847883224487305,
          5.607504844665527,
          -21.747541427612305,
          -11.046037673950195,
          -42.9270133972168,
          -5.998233318328857,
          40.795345306396484,
          -38.571720123291016,
          47.877716064453125,
          9.417665481567383,
          -8.073358535766602,
          -37.50447082519531,
          -20.070993423461914,
          20.08915138244629,
          10.827329635620117,
          8.218046188354492,
          -3.516636610031128,
          32.37443923950195,
          11.06707763671875,
          8.238286018371582,
          -10.754351615905762,
          2.6934590339660645,
          8.778125762939453,
          -14.711231231689453,
          -1.4916149377822876,
          -32.08842849731445,
          1.5988459587097168,
          -16.68131446838379,
          37.842811584472656,
          3.7667651176452637,
          23.846637725830078,
          16.36271095275879,
          -26.738740921020508,
          12.458643913269043,
          -25.72664451599121,
          22.837085723876953,
          -13.432901382446289,
          -10.094987869262695,
          5.305380344390869,
          -7.053694725036621,
          23.089242935180664,
          -0.7323908805847168,
          -10.47465705871582,
          -13.439242362976074,
          -6.911605358123779,
          -23.021211624145508,
          -17.527591705322266,
          24.3445987701416,
          -11.51239013671875,
          15.102877616882324,
          -0.02859915792942047,
          0.03810957446694374,
          19.834793090820312,
          -14.429369926452637,
          -13.884943962097168,
          20.935216903686523,
          15.48233413696289,
          6.923360347747803,
          8.900957107543945,
          14.354934692382812,
          -20.234111785888672,
          23.463581085205078,
          -7.315508842468262,
          20.652700424194336,
          -7.287839889526367,
          -44.77878189086914,
          22.702043533325195,
          27.434017181396484,
          -8.142499923706055,
          22.592350006103516,
          5.644560813903809,
          -9.858311653137207
         ]
        }
       ],
       "layout": {
        "legend": {
         "tracegroupgap": 0
        },
        "margin": {
         "t": 60
        },
        "scene": {
         "domain": {
          "x": [
           0,
           1
          ],
          "y": [
           0,
           1
          ]
         },
         "xaxis": {
          "title": {
           "text": "x"
          }
         },
         "yaxis": {
          "title": {
           "text": "y"
          }
         },
         "zaxis": {
          "title": {
           "text": "z"
          }
         }
        },
        "template": {
         "data": {
          "bar": [
           {
            "error_x": {
             "color": "#2a3f5f"
            },
            "error_y": {
             "color": "#2a3f5f"
            },
            "marker": {
             "line": {
              "color": "#E5ECF6",
              "width": 0.5
             },
             "pattern": {
              "fillmode": "overlay",
              "size": 10,
              "solidity": 0.2
             }
            },
            "type": "bar"
           }
          ],
          "barpolar": [
           {
            "marker": {
             "line": {
              "color": "#E5ECF6",
              "width": 0.5
             },
             "pattern": {
              "fillmode": "overlay",
              "size": 10,
              "solidity": 0.2
             }
            },
            "type": "barpolar"
           }
          ],
          "carpet": [
           {
            "aaxis": {
             "endlinecolor": "#2a3f5f",
             "gridcolor": "white",
             "linecolor": "white",
             "minorgridcolor": "white",
             "startlinecolor": "#2a3f5f"
            },
            "baxis": {
             "endlinecolor": "#2a3f5f",
             "gridcolor": "white",
             "linecolor": "white",
             "minorgridcolor": "white",
             "startlinecolor": "#2a3f5f"
            },
            "type": "carpet"
           }
          ],
          "choropleth": [
           {
            "colorbar": {
             "outlinewidth": 0,
             "ticks": ""
            },
            "type": "choropleth"
           }
          ],
          "contour": [
           {
            "colorbar": {
             "outlinewidth": 0,
             "ticks": ""
            },
            "colorscale": [
             [
              0,
              "#0d0887"
             ],
             [
              0.1111111111111111,
              "#46039f"
             ],
             [
              0.2222222222222222,
              "#7201a8"
             ],
             [
              0.3333333333333333,
              "#9c179e"
             ],
             [
              0.4444444444444444,
              "#bd3786"
             ],
             [
              0.5555555555555556,
              "#d8576b"
             ],
             [
              0.6666666666666666,
              "#ed7953"
             ],
             [
              0.7777777777777778,
              "#fb9f3a"
             ],
             [
              0.8888888888888888,
              "#fdca26"
             ],
             [
              1,
              "#f0f921"
             ]
            ],
            "type": "contour"
           }
          ],
          "contourcarpet": [
           {
            "colorbar": {
             "outlinewidth": 0,
             "ticks": ""
            },
            "type": "contourcarpet"
           }
          ],
          "heatmap": [
           {
            "colorbar": {
             "outlinewidth": 0,
             "ticks": ""
            },
            "colorscale": [
             [
              0,
              "#0d0887"
             ],
             [
              0.1111111111111111,
              "#46039f"
             ],
             [
              0.2222222222222222,
              "#7201a8"
             ],
             [
              0.3333333333333333,
              "#9c179e"
             ],
             [
              0.4444444444444444,
              "#bd3786"
             ],
             [
              0.5555555555555556,
              "#d8576b"
             ],
             [
              0.6666666666666666,
              "#ed7953"
             ],
             [
              0.7777777777777778,
              "#fb9f3a"
             ],
             [
              0.8888888888888888,
              "#fdca26"
             ],
             [
              1,
              "#f0f921"
             ]
            ],
            "type": "heatmap"
           }
          ],
          "heatmapgl": [
           {
            "colorbar": {
             "outlinewidth": 0,
             "ticks": ""
            },
            "colorscale": [
             [
              0,
              "#0d0887"
             ],
             [
              0.1111111111111111,
              "#46039f"
             ],
             [
              0.2222222222222222,
              "#7201a8"
             ],
             [
              0.3333333333333333,
              "#9c179e"
             ],
             [
              0.4444444444444444,
              "#bd3786"
             ],
             [
              0.5555555555555556,
              "#d8576b"
             ],
             [
              0.6666666666666666,
              "#ed7953"
             ],
             [
              0.7777777777777778,
              "#fb9f3a"
             ],
             [
              0.8888888888888888,
              "#fdca26"
             ],
             [
              1,
              "#f0f921"
             ]
            ],
            "type": "heatmapgl"
           }
          ],
          "histogram": [
           {
            "marker": {
             "pattern": {
              "fillmode": "overlay",
              "size": 10,
              "solidity": 0.2
             }
            },
            "type": "histogram"
           }
          ],
          "histogram2d": [
           {
            "colorbar": {
             "outlinewidth": 0,
             "ticks": ""
            },
            "colorscale": [
             [
              0,
              "#0d0887"
             ],
             [
              0.1111111111111111,
              "#46039f"
             ],
             [
              0.2222222222222222,
              "#7201a8"
             ],
             [
              0.3333333333333333,
              "#9c179e"
             ],
             [
              0.4444444444444444,
              "#bd3786"
             ],
             [
              0.5555555555555556,
              "#d8576b"
             ],
             [
              0.6666666666666666,
              "#ed7953"
             ],
             [
              0.7777777777777778,
              "#fb9f3a"
             ],
             [
              0.8888888888888888,
              "#fdca26"
             ],
             [
              1,
              "#f0f921"
             ]
            ],
            "type": "histogram2d"
           }
          ],
          "histogram2dcontour": [
           {
            "colorbar": {
             "outlinewidth": 0,
             "ticks": ""
            },
            "colorscale": [
             [
              0,
              "#0d0887"
             ],
             [
              0.1111111111111111,
              "#46039f"
             ],
             [
              0.2222222222222222,
              "#7201a8"
             ],
             [
              0.3333333333333333,
              "#9c179e"
             ],
             [
              0.4444444444444444,
              "#bd3786"
             ],
             [
              0.5555555555555556,
              "#d8576b"
             ],
             [
              0.6666666666666666,
              "#ed7953"
             ],
             [
              0.7777777777777778,
              "#fb9f3a"
             ],
             [
              0.8888888888888888,
              "#fdca26"
             ],
             [
              1,
              "#f0f921"
             ]
            ],
            "type": "histogram2dcontour"
           }
          ],
          "mesh3d": [
           {
            "colorbar": {
             "outlinewidth": 0,
             "ticks": ""
            },
            "type": "mesh3d"
           }
          ],
          "parcoords": [
           {
            "line": {
             "colorbar": {
              "outlinewidth": 0,
              "ticks": ""
             }
            },
            "type": "parcoords"
           }
          ],
          "pie": [
           {
            "automargin": true,
            "type": "pie"
           }
          ],
          "scatter": [
           {
            "fillpattern": {
             "fillmode": "overlay",
             "size": 10,
             "solidity": 0.2
            },
            "type": "scatter"
           }
          ],
          "scatter3d": [
           {
            "line": {
             "colorbar": {
              "outlinewidth": 0,
              "ticks": ""
             }
            },
            "marker": {
             "colorbar": {
              "outlinewidth": 0,
              "ticks": ""
             }
            },
            "type": "scatter3d"
           }
          ],
          "scattercarpet": [
           {
            "marker": {
             "colorbar": {
              "outlinewidth": 0,
              "ticks": ""
             }
            },
            "type": "scattercarpet"
           }
          ],
          "scattergeo": [
           {
            "marker": {
             "colorbar": {
              "outlinewidth": 0,
              "ticks": ""
             }
            },
            "type": "scattergeo"
           }
          ],
          "scattergl": [
           {
            "marker": {
             "colorbar": {
              "outlinewidth": 0,
              "ticks": ""
             }
            },
            "type": "scattergl"
           }
          ],
          "scattermapbox": [
           {
            "marker": {
             "colorbar": {
              "outlinewidth": 0,
              "ticks": ""
             }
            },
            "type": "scattermapbox"
           }
          ],
          "scatterpolar": [
           {
            "marker": {
             "colorbar": {
              "outlinewidth": 0,
              "ticks": ""
             }
            },
            "type": "scatterpolar"
           }
          ],
          "scatterpolargl": [
           {
            "marker": {
             "colorbar": {
              "outlinewidth": 0,
              "ticks": ""
             }
            },
            "type": "scatterpolargl"
           }
          ],
          "scatterternary": [
           {
            "marker": {
             "colorbar": {
              "outlinewidth": 0,
              "ticks": ""
             }
            },
            "type": "scatterternary"
           }
          ],
          "surface": [
           {
            "colorbar": {
             "outlinewidth": 0,
             "ticks": ""
            },
            "colorscale": [
             [
              0,
              "#0d0887"
             ],
             [
              0.1111111111111111,
              "#46039f"
             ],
             [
              0.2222222222222222,
              "#7201a8"
             ],
             [
              0.3333333333333333,
              "#9c179e"
             ],
             [
              0.4444444444444444,
              "#bd3786"
             ],
             [
              0.5555555555555556,
              "#d8576b"
             ],
             [
              0.6666666666666666,
              "#ed7953"
             ],
             [
              0.7777777777777778,
              "#fb9f3a"
             ],
             [
              0.8888888888888888,
              "#fdca26"
             ],
             [
              1,
              "#f0f921"
             ]
            ],
            "type": "surface"
           }
          ],
          "table": [
           {
            "cells": {
             "fill": {
              "color": "#EBF0F8"
             },
             "line": {
              "color": "white"
             }
            },
            "header": {
             "fill": {
              "color": "#C8D4E3"
             },
             "line": {
              "color": "white"
             }
            },
            "type": "table"
           }
          ]
         },
         "layout": {
          "annotationdefaults": {
           "arrowcolor": "#2a3f5f",
           "arrowhead": 0,
           "arrowwidth": 1
          },
          "autotypenumbers": "strict",
          "coloraxis": {
           "colorbar": {
            "outlinewidth": 0,
            "ticks": ""
           }
          },
          "colorscale": {
           "diverging": [
            [
             0,
             "#8e0152"
            ],
            [
             0.1,
             "#c51b7d"
            ],
            [
             0.2,
             "#de77ae"
            ],
            [
             0.3,
             "#f1b6da"
            ],
            [
             0.4,
             "#fde0ef"
            ],
            [
             0.5,
             "#f7f7f7"
            ],
            [
             0.6,
             "#e6f5d0"
            ],
            [
             0.7,
             "#b8e186"
            ],
            [
             0.8,
             "#7fbc41"
            ],
            [
             0.9,
             "#4d9221"
            ],
            [
             1,
             "#276419"
            ]
           ],
           "sequential": [
            [
             0,
             "#0d0887"
            ],
            [
             0.1111111111111111,
             "#46039f"
            ],
            [
             0.2222222222222222,
             "#7201a8"
            ],
            [
             0.3333333333333333,
             "#9c179e"
            ],
            [
             0.4444444444444444,
             "#bd3786"
            ],
            [
             0.5555555555555556,
             "#d8576b"
            ],
            [
             0.6666666666666666,
             "#ed7953"
            ],
            [
             0.7777777777777778,
             "#fb9f3a"
            ],
            [
             0.8888888888888888,
             "#fdca26"
            ],
            [
             1,
             "#f0f921"
            ]
           ],
           "sequentialminus": [
            [
             0,
             "#0d0887"
            ],
            [
             0.1111111111111111,
             "#46039f"
            ],
            [
             0.2222222222222222,
             "#7201a8"
            ],
            [
             0.3333333333333333,
             "#9c179e"
            ],
            [
             0.4444444444444444,
             "#bd3786"
            ],
            [
             0.5555555555555556,
             "#d8576b"
            ],
            [
             0.6666666666666666,
             "#ed7953"
            ],
            [
             0.7777777777777778,
             "#fb9f3a"
            ],
            [
             0.8888888888888888,
             "#fdca26"
            ],
            [
             1,
             "#f0f921"
            ]
           ]
          },
          "colorway": [
           "#636efa",
           "#EF553B",
           "#00cc96",
           "#ab63fa",
           "#FFA15A",
           "#19d3f3",
           "#FF6692",
           "#B6E880",
           "#FF97FF",
           "#FECB52"
          ],
          "font": {
           "color": "#2a3f5f"
          },
          "geo": {
           "bgcolor": "white",
           "lakecolor": "white",
           "landcolor": "#E5ECF6",
           "showlakes": true,
           "showland": true,
           "subunitcolor": "white"
          },
          "hoverlabel": {
           "align": "left"
          },
          "hovermode": "closest",
          "mapbox": {
           "style": "light"
          },
          "paper_bgcolor": "white",
          "plot_bgcolor": "#E5ECF6",
          "polar": {
           "angularaxis": {
            "gridcolor": "white",
            "linecolor": "white",
            "ticks": ""
           },
           "bgcolor": "#E5ECF6",
           "radialaxis": {
            "gridcolor": "white",
            "linecolor": "white",
            "ticks": ""
           }
          },
          "scene": {
           "xaxis": {
            "backgroundcolor": "#E5ECF6",
            "gridcolor": "white",
            "gridwidth": 2,
            "linecolor": "white",
            "showbackground": true,
            "ticks": "",
            "zerolinecolor": "white"
           },
           "yaxis": {
            "backgroundcolor": "#E5ECF6",
            "gridcolor": "white",
            "gridwidth": 2,
            "linecolor": "white",
            "showbackground": true,
            "ticks": "",
            "zerolinecolor": "white"
           },
           "zaxis": {
            "backgroundcolor": "#E5ECF6",
            "gridcolor": "white",
            "gridwidth": 2,
            "linecolor": "white",
            "showbackground": true,
            "ticks": "",
            "zerolinecolor": "white"
           }
          },
          "shapedefaults": {
           "line": {
            "color": "#2a3f5f"
           }
          },
          "ternary": {
           "aaxis": {
            "gridcolor": "white",
            "linecolor": "white",
            "ticks": ""
           },
           "baxis": {
            "gridcolor": "white",
            "linecolor": "white",
            "ticks": ""
           },
           "bgcolor": "#E5ECF6",
           "caxis": {
            "gridcolor": "white",
            "linecolor": "white",
            "ticks": ""
           }
          },
          "title": {
           "x": 0.05
          },
          "xaxis": {
           "automargin": true,
           "gridcolor": "white",
           "linecolor": "white",
           "ticks": "",
           "title": {
            "standoff": 15
           },
           "zerolinecolor": "white",
           "zerolinewidth": 2
          },
          "yaxis": {
           "automargin": true,
           "gridcolor": "white",
           "linecolor": "white",
           "ticks": "",
           "title": {
            "standoff": 15
           },
           "zerolinecolor": "white",
           "zerolinewidth": 2
          }
         }
        }
       }
      }
     },
     "metadata": {},
     "output_type": "display_data"
    }
   ],
   "source": [
    "#Plot 3D de certains mots (car impossible de tous les afficher sinon illisible)\n",
    "n_kept = 150\n",
    "plot_word_vectors_3d(tsne_results, words_vectors_skip_gram.index_to_key, n_kept)"
   ]
  },
  {
   "cell_type": "code",
   "execution_count": 20,
   "metadata": {},
   "outputs": [
    {
     "data": {
      "image/png": "[encoded data removed]",
      "text/plain": [
       "<Figure size 864x504 with 1 Axes>"
      ]
     },
     "metadata": {
      "needs_background": "light"
     },
     "output_type": "display_data"
    }
   ],
   "source": [
    "plot_word_vectors_2d(tsne_results, words_vectors_skip_gram.index_to_key, n_kept)"
   ]
  },
  {
   "cell_type": "code",
   "execution_count": null,
   "metadata": {},
   "outputs": [
    {
     "name": "stdout",
     "output_type": "stream",
     "text": [
      "[ 32.97364     27.86875      2.6578183   -6.156161    26.759222\n",
      "  26.850883    16.1331     -18.113335   -18.714615    22.738516\n",
      " -17.732666    30.788158   -21.100252    21.00191     40.18455\n",
      " -25.64658     11.441761    26.25866     -8.396498    24.155148\n",
      "   2.2062364  -35.837776   -31.808994    -3.1559381  -15.883595\n",
      "  11.889427     0.16937323 -17.269344    -4.664543     2.3588793\n",
      " -15.474083    14.938675    12.966424    36.691887    32.03494\n",
      " -28.764671    14.556421    -5.2187657  -16.172247    -2.6972094\n",
      " -24.54941     39.68088     -3.7747867   27.805323    16.432642\n",
      "  -5.650859    14.336708    -2.8012807   -1.4311023  -29.907084  ]\n"
     ]
    }
   ],
   "source": [
    "print(tsne_results[0:50:,0])"
   ]
  },
  {
   "cell_type": "markdown",
   "metadata": {},
   "source": [
    "Utilisation des features word2vec pour la classification"
   ]
  },
  {
   "cell_type": "markdown",
   "metadata": {},
   "source": [
    "Creation features du modele : moyenne des \"mots\" d'une phrase"
   ]
  },
  {
   "cell_type": "code",
   "execution_count": null,
   "metadata": {},
   "outputs": [
    {
     "data": {
      "text/plain": [
       "list"
      ]
     },
     "execution_count": 68,
     "metadata": {},
     "output_type": "execute_result"
    }
   ],
   "source": [
    "vocab = model.wv.index_to_key\n",
    "# len(vocab)\n",
    "# type(vocab)\n",
    "# print(vocab)\n",
    "vocab=list(model.wv.key_to_index.keys())\n",
    "# vocab\n",
    "type(vocab)"
   ]
  },
  {
   "cell_type": "code",
   "execution_count": null,
   "metadata": {},
   "outputs": [
    {
     "ename": "NameError",
     "evalue": "name 'words_vectors_skip_gram' is not defined",
     "output_type": "error",
     "traceback": [
      "\u001b[1;31m---------------------------------------------------------------------------\u001b[0m",
      "\u001b[1;31mNameError\u001b[0m                                 Traceback (most recent call last)",
      "\u001b[1;32m~\\AppData\\Local\\Temp/ipykernel_20596/2980421592.py\u001b[0m in \u001b[0;36m<module>\u001b[1;34m\u001b[0m\n\u001b[1;32m----> 1\u001b[1;33m \u001b[0mwords_vectors_skip_gram\u001b[0m\u001b[1;33m[\u001b[0m\u001b[1;34m\"alliance\"\u001b[0m\u001b[1;33m]\u001b[0m \u001b[1;31m# vecteur des mots, indice par mot (string)\u001b[0m\u001b[1;33m\u001b[0m\u001b[1;33m\u001b[0m\u001b[0m\n\u001b[0m",
      "\u001b[1;31mNameError\u001b[0m: name 'words_vectors_skip_gram' is not defined"
     ]
    }
   ],
   "source": [
    "words_vectors_skip_gram_skip_gram[\"alliance\"] # vecteur des mots, indice par mot (string)"
   ]
  },
  {
   "cell_type": "code",
   "execution_count": null,
   "metadata": {},
   "outputs": [
    {
     "name": "stdout",
     "output_type": "stream",
     "text": [
      "sentence = ['tortarolohttpssecuregravatarcomavatarbaddffbdfaefbsdmmrg']\n",
      "sentence_words = []\n"
     ]
    }
   ],
   "source": [
    "words_vectors_skip_gram_skip_gram = model_skip_gram.wv\n",
    "vocab = model_skip_gram.wv.index_to_key\n",
    "corpus_average_vectors = []\n",
    "sentence_average_vector = []\n",
    "sentence_vectors = []\n",
    "vector_space_dim = 200\n",
    "\n",
    "for i in range(len(tokens)):\n",
    "    sentence = tokens[i]\n",
    "    sentence_words = list(set(vocab) & set(sentence))\n",
    "    if(sentence_words != []):\n",
    "        sentence_average_vector = np.mean(words_vectors_skip_gram_skip_gram[sentence_words], axis=0)\n",
    "        # print(\"words_vectors_skip_gram_skip_gram[sentence_words] =\", words_vectors_skip_gram_skip_gram[sentence_words])\n",
    "    else:\n",
    "        print(\"sentence =\", sentence)\n",
    "        print(\"sentence_words =\", sentence_words)\n",
    "        sentence_average_vector = np.zeros(vector_space_dim)\n",
    "    corpus_average_vectors.append(sentence_average_vector)\n",
    "# print(\"len(sentence_vectors) =\", len(sentence_vectors))\n",
    "# print(\"sentence_vectors =\", sentence_vectors)\n",
    "# print(\"len(sentence_average_vector) =\", len(sentence_average_vector))\n",
    "# len(corpus_average_vectors)\n",
    "corpus_word2vec_sk = pd.DataFrame(corpus_average_vectors)\n",
    "corpus_word2vec_sk['id'] = corpus['id']\n",
    "corpus_word2vec_sk['message'] = corpus['message']\n",
    "corpus_word2vec_sk[\"category_bin\"] = corpus[\"category_bin\"]\n",
    "# corpus_word2vec_sk"
   ]
  }
 ],
 "metadata": {
  "kernelspec": {
   "display_name": "Python 3.9.7 ('base')",
   "language": "python",
   "name": "python3"
  },
  "language_info": {
   "codemirror_mode": {
    "name": "ipython",
    "version": 3
   },
   "file_extension": ".py",
   "mimetype": "text/x-python",
   "name": "python",
   "nbconvert_exporter": "python",
   "pygments_lexer": "ipython3",
   "version": "3.9.7"
  },
  "orig_nbformat": 4,
  "vscode": {
   "interpreter": {
    "hash": "3e7035cb009caaa59ad2cfefe05d6f0df614ee59b6f1c56d32ef92625aa3dec5"
   }
  }
 },
 "nbformat": 4,
 "nbformat_minor": 2
}
