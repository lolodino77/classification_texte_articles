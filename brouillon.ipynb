{
 "cells": [
  {
   "cell_type": "code",
   "execution_count": 2,
   "metadata": {},
   "outputs": [],
   "source": [
    "from pathlib import Path, PureWindowsPath"
   ]
  },
  {
   "cell_type": "code",
   "execution_count": 8,
   "metadata": {},
   "outputs": [
    {
     "data": {
      "text/plain": [
       "PureWindowsPath('/data/output/dataset_name/learning_curve_prout_recall')"
      ]
     },
     "execution_count": 8,
     "metadata": {},
     "output_type": "execute_result"
    }
   ],
   "source": [
    "\n",
    "path = \"/data/output/{}/learning_curve_{}_{}\".format(\"dataset_name\", \"prout\", \"recall\")\n",
    "PureWindowsPath(path)\n",
    "# \"./\" + PureWindowsPath(path)"
   ]
  },
  {
   "cell_type": "code",
   "execution_count": 29,
   "metadata": {},
   "outputs": [
    {
     "data": {
      "text/plain": [
       "'corpus_bapteme.txt'"
      ]
     },
     "execution_count": 29,
     "metadata": {},
     "output_type": "execute_result"
    }
   ],
   "source": [
    "filename = all_files[0]\n",
    "filename = filename.split(\"input\\\\\")[1]\n",
    "filename"
   ]
  },
  {
   "cell_type": "code",
   "execution_count": 30,
   "metadata": {},
   "outputs": [
    {
     "data": {
      "text/plain": [
       "['data_history_baptism.parquet',\n",
       " 'data_middle_age_epistemology.parquet',\n",
       " 'data_philosophy_baptism.parquet']"
      ]
     },
     "execution_count": 30,
     "metadata": {},
     "output_type": "execute_result"
    }
   ],
   "source": [
    "import glob\n",
    "all_files = glob.glob(os.path.join(os.getcwd() + \"\\\\data\\\\input\", \"*.parquet\"))\n",
    "all_files = [filename.split(\"input\\\\\")[1] for filename in all_files]\n",
    "all_files"
   ]
  },
  {
   "cell_type": "code",
   "execution_count": 22,
   "metadata": {},
   "outputs": [
    {
     "data": {
      "text/plain": [
       "'c:\\\\Users\\\\eupho\\\\OneDrive\\\\Documents\\\\perso\\\\projets\\\\classification_texte_bapteme_philo'"
      ]
     },
     "execution_count": 22,
     "metadata": {},
     "output_type": "execute_result"
    }
   ],
   "source": [
    "os.getcwd()"
   ]
  }
 ],
 "metadata": {
  "kernelspec": {
   "display_name": "Python 3.9.7 ('base')",
   "language": "python",
   "name": "python3"
  },
  "language_info": {
   "codemirror_mode": {
    "name": "ipython",
    "version": 3
   },
   "file_extension": ".py",
   "mimetype": "text/x-python",
   "name": "python",
   "nbconvert_exporter": "python",
   "pygments_lexer": "ipython3",
   "version": "3.9.7"
  },
  "orig_nbformat": 4,
  "vscode": {
   "interpreter": {
    "hash": "3e7035cb009caaa59ad2cfefe05d6f0df614ee59b6f1c56d32ef92625aa3dec5"
   }
  }
 },
 "nbformat": 4,
 "nbformat_minor": 2
}
