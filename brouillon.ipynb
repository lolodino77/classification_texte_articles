{
 "cells": [
  {
   "cell_type": "code",
   "execution_count": 2,
   "metadata": {},
   "outputs": [],
   "source": [
    "from pathlib import Path, PureWindowsPath"
   ]
  },
  {
   "cell_type": "code",
   "execution_count": 8,
   "metadata": {},
   "outputs": [
    {
     "data": {
      "text/plain": [
       "PureWindowsPath('/data/output/dataset_name/learning_curve_prout_recall')"
      ]
     },
     "execution_count": 8,
     "metadata": {},
     "output_type": "execute_result"
    }
   ],
   "source": [
    "\n",
    "path = \"/data/output/{}/learning_curve_{}_{}\".format(\"dataset_name\", \"prout\", \"recall\")\n",
    "PureWindowsPath(path)\n",
    "# \"./\" + PureWindowsPath(path)"
   ]
  },
  {
   "cell_type": "code",
   "execution_count": 29,
   "metadata": {},
   "outputs": [
    {
     "data": {
      "text/plain": [
       "'corpus_bapteme.txt'"
      ]
     },
     "execution_count": 29,
     "metadata": {},
     "output_type": "execute_result"
    }
   ],
   "source": [
    "filename = all_files[0]\n",
    "filename = filename.split(\"input\\\\\")[1]\n",
    "filename"
   ]
  },
  {
   "cell_type": "code",
   "execution_count": 25,
   "metadata": {},
   "outputs": [
    {
     "data": {
      "text/plain": [
       "['c:\\\\Users\\\\eupho\\\\OneDrive\\\\Documents\\\\perso\\\\projets\\\\classification_texte_bapteme_philo\\\\data\\\\input\\\\corpus_bapteme.txt',\n",
       " 'c:\\\\Users\\\\eupho\\\\OneDrive\\\\Documents\\\\perso\\\\projets\\\\classification_texte_bapteme_philo\\\\data\\\\input\\\\corpus_epistemology.txt',\n",
       " 'c:\\\\Users\\\\eupho\\\\OneDrive\\\\Documents\\\\perso\\\\projets\\\\classification_texte_bapteme_philo\\\\data\\\\input\\\\corpus_histoire.txt',\n",
       " 'c:\\\\Users\\\\eupho\\\\OneDrive\\\\Documents\\\\perso\\\\projets\\\\classification_texte_bapteme_philo\\\\data\\\\input\\\\corpus_moyen_age.txt',\n",
       " 'c:\\\\Users\\\\eupho\\\\OneDrive\\\\Documents\\\\perso\\\\projets\\\\classification_texte_bapteme_philo\\\\data\\\\input\\\\corpus_philosophy.txt',\n",
       " 'c:\\\\Users\\\\eupho\\\\OneDrive\\\\Documents\\\\perso\\\\projets\\\\classification_texte_bapteme_philo\\\\data\\\\input\\\\dataset_baptism.csv',\n",
       " 'c:\\\\Users\\\\eupho\\\\OneDrive\\\\Documents\\\\perso\\\\projets\\\\classification_texte_bapteme_philo\\\\data\\\\input\\\\dataset_epistemology.csv',\n",
       " 'c:\\\\Users\\\\eupho\\\\OneDrive\\\\Documents\\\\perso\\\\projets\\\\classification_texte_bapteme_philo\\\\data\\\\input\\\\dataset_histoire.csv',\n",
       " 'c:\\\\Users\\\\eupho\\\\OneDrive\\\\Documents\\\\perso\\\\projets\\\\classification_texte_bapteme_philo\\\\data\\\\input\\\\dataset_moyen_age.csv',\n",
       " 'c:\\\\Users\\\\eupho\\\\OneDrive\\\\Documents\\\\perso\\\\projets\\\\classification_texte_bapteme_philo\\\\data\\\\input\\\\dataset_philosophy.csv',\n",
       " 'c:\\\\Users\\\\eupho\\\\OneDrive\\\\Documents\\\\perso\\\\projets\\\\classification_texte_bapteme_philo\\\\data\\\\input\\\\data_history_baptism.parquet',\n",
       " 'c:\\\\Users\\\\eupho\\\\OneDrive\\\\Documents\\\\perso\\\\projets\\\\classification_texte_bapteme_philo\\\\data\\\\input\\\\data_middle_age_epistemology.parquet',\n",
       " 'c:\\\\Users\\\\eupho\\\\OneDrive\\\\Documents\\\\perso\\\\projets\\\\classification_texte_bapteme_philo\\\\data\\\\input\\\\data_philosophy_baptism.parquet',\n",
       " 'c:\\\\Users\\\\eupho\\\\OneDrive\\\\Documents\\\\perso\\\\projets\\\\classification_texte_bapteme_philo\\\\data\\\\input\\\\urls_bapteme_articles.txt',\n",
       " 'c:\\\\Users\\\\eupho\\\\OneDrive\\\\Documents\\\\perso\\\\projets\\\\classification_texte_bapteme_philo\\\\data\\\\input\\\\urls_epistemology_articles.txt',\n",
       " 'c:\\\\Users\\\\eupho\\\\OneDrive\\\\Documents\\\\perso\\\\projets\\\\classification_texte_bapteme_philo\\\\data\\\\input\\\\urls_histoire_articles.txt',\n",
       " 'c:\\\\Users\\\\eupho\\\\OneDrive\\\\Documents\\\\perso\\\\projets\\\\classification_texte_bapteme_philo\\\\data\\\\input\\\\urls_moyen_age_articles.txt',\n",
       " 'c:\\\\Users\\\\eupho\\\\OneDrive\\\\Documents\\\\perso\\\\projets\\\\classification_texte_bapteme_philo\\\\data\\\\input\\\\urls_philosophy_articles.txt']"
      ]
     },
     "execution_count": 25,
     "metadata": {},
     "output_type": "execute_result"
    }
   ],
   "source": [
    "import glob\n",
    "all_files = glob.glob(os.path.join(os.getcwd() + \"\\\\data\\\\input\", \"*.parquet\"))\n",
    "all_files = [filename.split(\"input\\\\\")[1] for filename in all_files]\n",
    "all_files"
   ]
  },
  {
   "cell_type": "code",
   "execution_count": 22,
   "metadata": {},
   "outputs": [
    {
     "data": {
      "text/plain": [
       "'c:\\\\Users\\\\eupho\\\\OneDrive\\\\Documents\\\\perso\\\\projets\\\\classification_texte_bapteme_philo'"
      ]
     },
     "execution_count": 22,
     "metadata": {},
     "output_type": "execute_result"
    }
   ],
   "source": [
    "os.getcwd()"
   ]
  }
 ],
 "metadata": {
  "kernelspec": {
   "display_name": "Python 3.9.7 ('base')",
   "language": "python",
   "name": "python3"
  },
  "language_info": {
   "codemirror_mode": {
    "name": "ipython",
    "version": 3
   },
   "file_extension": ".py",
   "mimetype": "text/x-python",
   "name": "python",
   "nbconvert_exporter": "python",
   "pygments_lexer": "ipython3",
   "version": "3.9.7"
  },
  "orig_nbformat": 4,
  "vscode": {
   "interpreter": {
    "hash": "3e7035cb009caaa59ad2cfefe05d6f0df614ee59b6f1c56d32ef92625aa3dec5"
   }
  }
 },
 "nbformat": 4,
 "nbformat_minor": 2
}
